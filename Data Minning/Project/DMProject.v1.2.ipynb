{
 "cells": [
  {
   "cell_type": "markdown",
   "metadata": {},
   "source": [
    "# Data Mining - Project\n",
    "## Group Members\n",
    "|Name|StudentID|\n",
    "|:-----------:|:--------:|\n",
    "|Fabio Lopes|20200597|\n",
    "|Filipe Costa|20201041|\n",
    "|Jorge Pereira|20201085|\n"
   ]
  },
  {
   "cell_type": "code",
   "execution_count": 1,
   "metadata": {},
   "outputs": [],
   "source": [
    "import pandas as pd\n",
    "from sklearn.decomposition import PCA\n",
    "import matplotlib.pyplot as plt\n",
    "import seaborn as sns\n",
    "import numpy as np\n",
    "from sklearn.cluster import KMeans\n",
    "from sklearn.impute import KNNImputer"
   ]
  },
  {
   "cell_type": "code",
   "execution_count": 2,
   "metadata": {},
   "outputs": [
    {
     "name": "stderr",
     "output_type": "stream",
     "text": [
      "C:\\Users\\Jorge\\anaconda3\\lib\\site-packages\\IPython\\core\\interactiveshell.py:3071: DtypeWarning: Columns (9,412) have mixed types.Specify dtype option on import or set low_memory=False.\n",
      "  has_raised = await self.run_ast_nodes(code_ast.body, cell_name,\n"
     ]
    }
   ],
   "source": [
    "df = pd.read_csv('donors.csv')"
   ]
  },
  {
   "cell_type": "code",
   "execution_count": 3,
   "metadata": {},
   "outputs": [
    {
     "data": {
      "text/html": [
       "<div>\n",
       "<style scoped>\n",
       "    .dataframe tbody tr th:only-of-type {\n",
       "        vertical-align: middle;\n",
       "    }\n",
       "\n",
       "    .dataframe tbody tr th {\n",
       "        vertical-align: top;\n",
       "    }\n",
       "\n",
       "    .dataframe thead th {\n",
       "        text-align: right;\n",
       "    }\n",
       "</style>\n",
       "<table border=\"1\" class=\"dataframe\">\n",
       "  <thead>\n",
       "    <tr style=\"text-align: right;\">\n",
       "      <th></th>\n",
       "      <th>Unnamed: 0</th>\n",
       "      <th>ODATEDW</th>\n",
       "      <th>OSOURCE</th>\n",
       "      <th>TCODE</th>\n",
       "      <th>STATE</th>\n",
       "      <th>ZIP</th>\n",
       "      <th>MAILCODE</th>\n",
       "      <th>PVASTATE</th>\n",
       "      <th>DOB</th>\n",
       "      <th>NOEXCH</th>\n",
       "      <th>...</th>\n",
       "      <th>AVGGIFT</th>\n",
       "      <th>CONTROLN</th>\n",
       "      <th>HPHONE_D</th>\n",
       "      <th>RFA_2R</th>\n",
       "      <th>RFA_2F</th>\n",
       "      <th>RFA_2A</th>\n",
       "      <th>MDMAUD_R</th>\n",
       "      <th>MDMAUD_F</th>\n",
       "      <th>MDMAUD_A</th>\n",
       "      <th>GEOCODE2</th>\n",
       "    </tr>\n",
       "  </thead>\n",
       "  <tbody>\n",
       "    <tr>\n",
       "      <th>0</th>\n",
       "      <td>0</td>\n",
       "      <td>2009-01-01</td>\n",
       "      <td>GRI</td>\n",
       "      <td>0</td>\n",
       "      <td>IL</td>\n",
       "      <td>61081</td>\n",
       "      <td></td>\n",
       "      <td></td>\n",
       "      <td>1957-12-01</td>\n",
       "      <td>0</td>\n",
       "      <td>...</td>\n",
       "      <td>7.741935</td>\n",
       "      <td>95515</td>\n",
       "      <td>0</td>\n",
       "      <td>L</td>\n",
       "      <td>4</td>\n",
       "      <td>E</td>\n",
       "      <td>X</td>\n",
       "      <td>X</td>\n",
       "      <td>X</td>\n",
       "      <td>C</td>\n",
       "    </tr>\n",
       "    <tr>\n",
       "      <th>1</th>\n",
       "      <td>1</td>\n",
       "      <td>2014-01-01</td>\n",
       "      <td>BOA</td>\n",
       "      <td>1</td>\n",
       "      <td>CA</td>\n",
       "      <td>91326</td>\n",
       "      <td></td>\n",
       "      <td></td>\n",
       "      <td>1972-02-01</td>\n",
       "      <td>0</td>\n",
       "      <td>...</td>\n",
       "      <td>15.666667</td>\n",
       "      <td>148535</td>\n",
       "      <td>0</td>\n",
       "      <td>L</td>\n",
       "      <td>2</td>\n",
       "      <td>G</td>\n",
       "      <td>X</td>\n",
       "      <td>X</td>\n",
       "      <td>X</td>\n",
       "      <td>A</td>\n",
       "    </tr>\n",
       "    <tr>\n",
       "      <th>2</th>\n",
       "      <td>2</td>\n",
       "      <td>2010-01-01</td>\n",
       "      <td>AMH</td>\n",
       "      <td>1</td>\n",
       "      <td>NC</td>\n",
       "      <td>27017</td>\n",
       "      <td></td>\n",
       "      <td></td>\n",
       "      <td>NaN</td>\n",
       "      <td>0</td>\n",
       "      <td>...</td>\n",
       "      <td>7.481481</td>\n",
       "      <td>15078</td>\n",
       "      <td>1</td>\n",
       "      <td>L</td>\n",
       "      <td>4</td>\n",
       "      <td>E</td>\n",
       "      <td>X</td>\n",
       "      <td>X</td>\n",
       "      <td>X</td>\n",
       "      <td>C</td>\n",
       "    </tr>\n",
       "    <tr>\n",
       "      <th>3</th>\n",
       "      <td>3</td>\n",
       "      <td>2007-01-01</td>\n",
       "      <td>BRY</td>\n",
       "      <td>0</td>\n",
       "      <td>CA</td>\n",
       "      <td>95953</td>\n",
       "      <td></td>\n",
       "      <td></td>\n",
       "      <td>1948-01-01</td>\n",
       "      <td>0</td>\n",
       "      <td>...</td>\n",
       "      <td>6.812500</td>\n",
       "      <td>172556</td>\n",
       "      <td>1</td>\n",
       "      <td>L</td>\n",
       "      <td>4</td>\n",
       "      <td>E</td>\n",
       "      <td>X</td>\n",
       "      <td>X</td>\n",
       "      <td>X</td>\n",
       "      <td>C</td>\n",
       "    </tr>\n",
       "    <tr>\n",
       "      <th>4</th>\n",
       "      <td>4</td>\n",
       "      <td>2006-01-01</td>\n",
       "      <td></td>\n",
       "      <td>0</td>\n",
       "      <td>FL</td>\n",
       "      <td>33176</td>\n",
       "      <td></td>\n",
       "      <td></td>\n",
       "      <td>1940-01-01</td>\n",
       "      <td>0</td>\n",
       "      <td>...</td>\n",
       "      <td>6.864865</td>\n",
       "      <td>7112</td>\n",
       "      <td>1</td>\n",
       "      <td>L</td>\n",
       "      <td>2</td>\n",
       "      <td>F</td>\n",
       "      <td>X</td>\n",
       "      <td>X</td>\n",
       "      <td>X</td>\n",
       "      <td>A</td>\n",
       "    </tr>\n",
       "    <tr>\n",
       "      <th>...</th>\n",
       "      <td>...</td>\n",
       "      <td>...</td>\n",
       "      <td>...</td>\n",
       "      <td>...</td>\n",
       "      <td>...</td>\n",
       "      <td>...</td>\n",
       "      <td>...</td>\n",
       "      <td>...</td>\n",
       "      <td>...</td>\n",
       "      <td>...</td>\n",
       "      <td>...</td>\n",
       "      <td>...</td>\n",
       "      <td>...</td>\n",
       "      <td>...</td>\n",
       "      <td>...</td>\n",
       "      <td>...</td>\n",
       "      <td>...</td>\n",
       "      <td>...</td>\n",
       "      <td>...</td>\n",
       "      <td>...</td>\n",
       "      <td>...</td>\n",
       "    </tr>\n",
       "    <tr>\n",
       "      <th>95407</th>\n",
       "      <td>95407</td>\n",
       "      <td>2016-01-01</td>\n",
       "      <td>ASE</td>\n",
       "      <td>1</td>\n",
       "      <td>AK</td>\n",
       "      <td>99504</td>\n",
       "      <td></td>\n",
       "      <td></td>\n",
       "      <td>NaN</td>\n",
       "      <td>0</td>\n",
       "      <td>...</td>\n",
       "      <td>25.000000</td>\n",
       "      <td>184568</td>\n",
       "      <td>0</td>\n",
       "      <td>L</td>\n",
       "      <td>1</td>\n",
       "      <td>G</td>\n",
       "      <td>X</td>\n",
       "      <td>X</td>\n",
       "      <td>X</td>\n",
       "      <td>C</td>\n",
       "    </tr>\n",
       "    <tr>\n",
       "      <th>95408</th>\n",
       "      <td>95408</td>\n",
       "      <td>2016-01-01</td>\n",
       "      <td>DCD</td>\n",
       "      <td>1</td>\n",
       "      <td>TX</td>\n",
       "      <td>77379</td>\n",
       "      <td></td>\n",
       "      <td></td>\n",
       "      <td>1970-01-01</td>\n",
       "      <td>0</td>\n",
       "      <td>...</td>\n",
       "      <td>20.000000</td>\n",
       "      <td>122706</td>\n",
       "      <td>1</td>\n",
       "      <td>L</td>\n",
       "      <td>1</td>\n",
       "      <td>F</td>\n",
       "      <td>X</td>\n",
       "      <td>X</td>\n",
       "      <td>X</td>\n",
       "      <td>A</td>\n",
       "    </tr>\n",
       "    <tr>\n",
       "      <th>95409</th>\n",
       "      <td>95409</td>\n",
       "      <td>2015-01-01</td>\n",
       "      <td>MBC</td>\n",
       "      <td>1</td>\n",
       "      <td>MI</td>\n",
       "      <td>48910</td>\n",
       "      <td></td>\n",
       "      <td></td>\n",
       "      <td>1958-01-01</td>\n",
       "      <td>0</td>\n",
       "      <td>...</td>\n",
       "      <td>8.285714</td>\n",
       "      <td>189641</td>\n",
       "      <td>1</td>\n",
       "      <td>L</td>\n",
       "      <td>3</td>\n",
       "      <td>E</td>\n",
       "      <td>X</td>\n",
       "      <td>X</td>\n",
       "      <td>X</td>\n",
       "      <td>B</td>\n",
       "    </tr>\n",
       "    <tr>\n",
       "      <th>95410</th>\n",
       "      <td>95410</td>\n",
       "      <td>2006-01-01</td>\n",
       "      <td>PRV</td>\n",
       "      <td>0</td>\n",
       "      <td>CA</td>\n",
       "      <td>91320</td>\n",
       "      <td></td>\n",
       "      <td></td>\n",
       "      <td>1960-05-01</td>\n",
       "      <td>0</td>\n",
       "      <td>...</td>\n",
       "      <td>12.146341</td>\n",
       "      <td>4693</td>\n",
       "      <td>1</td>\n",
       "      <td>L</td>\n",
       "      <td>4</td>\n",
       "      <td>F</td>\n",
       "      <td>X</td>\n",
       "      <td>X</td>\n",
       "      <td>X</td>\n",
       "      <td>A</td>\n",
       "    </tr>\n",
       "    <tr>\n",
       "      <th>95411</th>\n",
       "      <td>95411</td>\n",
       "      <td>2008-01-01</td>\n",
       "      <td>MCC</td>\n",
       "      <td>2</td>\n",
       "      <td>NC</td>\n",
       "      <td>28409</td>\n",
       "      <td></td>\n",
       "      <td></td>\n",
       "      <td>1938-01-01</td>\n",
       "      <td>0</td>\n",
       "      <td>...</td>\n",
       "      <td>96.794872</td>\n",
       "      <td>185114</td>\n",
       "      <td>1</td>\n",
       "      <td>L</td>\n",
       "      <td>1</td>\n",
       "      <td>G</td>\n",
       "      <td>C</td>\n",
       "      <td>1</td>\n",
       "      <td>C</td>\n",
       "      <td>C</td>\n",
       "    </tr>\n",
       "  </tbody>\n",
       "</table>\n",
       "<p>95412 rows × 476 columns</p>\n",
       "</div>"
      ],
      "text/plain": [
       "       Unnamed: 0     ODATEDW OSOURCE  TCODE STATE    ZIP MAILCODE PVASTATE  \\\n",
       "0               0  2009-01-01     GRI      0    IL  61081                     \n",
       "1               1  2014-01-01     BOA      1    CA  91326                     \n",
       "2               2  2010-01-01     AMH      1    NC  27017                     \n",
       "3               3  2007-01-01     BRY      0    CA  95953                     \n",
       "4               4  2006-01-01              0    FL  33176                     \n",
       "...           ...         ...     ...    ...   ...    ...      ...      ...   \n",
       "95407       95407  2016-01-01     ASE      1    AK  99504                     \n",
       "95408       95408  2016-01-01     DCD      1    TX  77379                     \n",
       "95409       95409  2015-01-01     MBC      1    MI  48910                     \n",
       "95410       95410  2006-01-01     PRV      0    CA  91320                     \n",
       "95411       95411  2008-01-01     MCC      2    NC  28409                     \n",
       "\n",
       "              DOB NOEXCH  ...    AVGGIFT CONTROLN HPHONE_D RFA_2R RFA_2F  \\\n",
       "0      1957-12-01      0  ...   7.741935    95515        0      L      4   \n",
       "1      1972-02-01      0  ...  15.666667   148535        0      L      2   \n",
       "2             NaN      0  ...   7.481481    15078        1      L      4   \n",
       "3      1948-01-01      0  ...   6.812500   172556        1      L      4   \n",
       "4      1940-01-01      0  ...   6.864865     7112        1      L      2   \n",
       "...           ...    ...  ...        ...      ...      ...    ...    ...   \n",
       "95407         NaN      0  ...  25.000000   184568        0      L      1   \n",
       "95408  1970-01-01      0  ...  20.000000   122706        1      L      1   \n",
       "95409  1958-01-01      0  ...   8.285714   189641        1      L      3   \n",
       "95410  1960-05-01      0  ...  12.146341     4693        1      L      4   \n",
       "95411  1938-01-01      0  ...  96.794872   185114        1      L      1   \n",
       "\n",
       "      RFA_2A MDMAUD_R MDMAUD_F MDMAUD_A GEOCODE2  \n",
       "0          E        X        X        X        C  \n",
       "1          G        X        X        X        A  \n",
       "2          E        X        X        X        C  \n",
       "3          E        X        X        X        C  \n",
       "4          F        X        X        X        A  \n",
       "...      ...      ...      ...      ...      ...  \n",
       "95407      G        X        X        X        C  \n",
       "95408      F        X        X        X        A  \n",
       "95409      E        X        X        X        B  \n",
       "95410      F        X        X        X        A  \n",
       "95411      G        C        1        C        C  \n",
       "\n",
       "[95412 rows x 476 columns]"
      ]
     },
     "execution_count": 3,
     "metadata": {},
     "output_type": "execute_result"
    }
   ],
   "source": [
    "df"
   ]
  },
  {
   "cell_type": "code",
   "execution_count": 4,
   "metadata": {},
   "outputs": [
    {
     "name": "stdout",
     "output_type": "stream",
     "text": [
      "Numerical columns: 351\n",
      "Categorical columns: 125\n"
     ]
    }
   ],
   "source": [
    "numericDf = df._get_numeric_data()\n",
    "categoricalDF = df.drop(numericDf.columns, axis = 1)\n",
    "print('Numerical columns: ' + str(len(numericDf.columns)) +  '\\nCategorical columns: ' + str(len(categoricalDF.columns)))"
   ]
  },
  {
   "cell_type": "markdown",
   "metadata": {},
   "source": [
    "# Categorical Data Preparation"
   ]
  },
  {
   "cell_type": "code",
   "execution_count": 5,
   "metadata": {},
   "outputs": [],
   "source": [
    "df.drop('Unnamed: 0', axis = 1, inplace = True)"
   ]
  },
  {
   "cell_type": "code",
   "execution_count": 6,
   "metadata": {},
   "outputs": [],
   "source": [
    "ColumnsToPassOver = ['ODATEDW',\n",
    "                    'OSOURCE',\n",
    "                    'TCODE',\n",
    "                    'STATE',\n",
    "                    'CHILD03',\n",
    "                    'CHILD07',\n",
    "                    'CHILD12',\n",
    "                    'CHILD18',\n",
    "                    'NUMCHLD',\n",
    "                    'INCOME',\n",
    "                    'GENDER',\n",
    "                    'WEALTH1',\n",
    "                    'HIT',\n",
    "                    'MBCRAFT',\n",
    "                    'MBGARDEN',\n",
    "                    'MBBOOKS',\n",
    "                    'MBCOLECT',\n",
    "                    'MAGFAML',\n",
    "                    'MAGFEM',\n",
    "                    'MAGMALE',\n",
    "                    'PUBGARDN',\n",
    "                    'PUBCULIN',\n",
    "                    'PUBHLTH',\n",
    "                    'PUBDOITY',\n",
    "                    'PUBNEWFN',\n",
    "                    'PUBPHOTO',\n",
    "                    'PUBOPP',\n",
    "                    'DATASRCE',\n",
    "                    'MALEMILI',\n",
    "                    'MALEVET',\n",
    "                    'VIETVETS',\n",
    "                    'WWIIVETS',\n",
    "                    'LOCALGOV',\n",
    "                    'STATEGOV',\n",
    "                    'FEDGOV',\n",
    "                    'WEALTH2',\n",
    "                    'LIFESRC',\n",
    "                    'CARDPROM',\n",
    "                    'NUMPROM',\n",
    "                    'CARDPM12',\n",
    "                    'NUMPRM12',\n",
    "                    'RAMNTALL',\n",
    "                    'NGIFTALL',\n",
    "                    'CARDGIFT',\n",
    "                    'MINRAMNT',\n",
    "                    'MAXRAMNT',\n",
    "                    'LASTGIFT',\n",
    "                    'TIMELAG',\n",
    "                    'AVGGIFT',\n",
    "                    'HPHONE_D',\n",
    "                    'GEOCODE2'\n",
    "                    ]"
   ]
  },
  {
   "cell_type": "code",
   "execution_count": 7,
   "metadata": {},
   "outputs": [],
   "source": [
    "dataprep = pd.DataFrame(df[ColumnsToPassOver])"
   ]
  },
  {
   "cell_type": "code",
   "execution_count": 8,
   "metadata": {},
   "outputs": [],
   "source": [
    "# MAILCODE variable indicates if the address is ok or not, transforming in Boolean.\n",
    "def prepMAILCODE(Code):\n",
    "    if Code == 'B':\n",
    "        return 0 #Bad Address\n",
    "    else:\n",
    "        return 1 #Address is OK\n",
    "\n",
    "dataprep['MAILCODE'] = df['MAILCODE'].apply(prepMAILCODE)"
   ]
  },
  {
   "cell_type": "code",
   "execution_count": 9,
   "metadata": {},
   "outputs": [],
   "source": [
    "# ZIP has some incorrect characters. Cleaning that up.\n",
    "def prepZIP(ZIP):\n",
    "    return ZIP.replace('-','')\n",
    "\n",
    "dataprep['ZIP'] = df['ZIP'].apply(prepZIP)"
   ]
  },
  {
   "cell_type": "code",
   "execution_count": 10,
   "metadata": {},
   "outputs": [],
   "source": [
    "# PVASTATE indicates if the donor lives in a state served by the EPVA. Transforming to Bool\n",
    "def prepPVASTATE(Code):\n",
    "    if Code == 'P':\n",
    "        return 1 #PVA State\n",
    "    else:\n",
    "        return 0 #EPVA State (Northeastern US)\n",
    "\n",
    "dataprep['PVASTATE'] = df['PVASTATE'].apply(prepPVASTATE)"
   ]
  },
  {
   "cell_type": "code",
   "execution_count": 11,
   "metadata": {},
   "outputs": [],
   "source": [
    "# NOEXCH indicates the exchange flag. Transforming to Bool\n",
    "def prepNOEXCH(Code):\n",
    "    if Code == 'X':\n",
    "        return 0 #Can't be exchanged\n",
    "    else:\n",
    "        return 1 #Can be exchanged\n",
    "\n",
    "dataprep['NOEXCH'] = df['NOEXCH'].apply(prepNOEXCH)"
   ]
  },
  {
   "cell_type": "code",
   "execution_count": 12,
   "metadata": {},
   "outputs": [],
   "source": [
    "# NOEXCH indicates the inhouse flag. Transforming to Bool\n",
    "def prepRECINHSE(Code):\n",
    "    if Code == 'X':\n",
    "        return 1 #Donor has given to PVA's In House program\n",
    "    else:\n",
    "        return 0 #Not an In House Record\n",
    "\n",
    "dataprep['RECINHSE'] = df['RECINHSE'].apply(prepRECINHSE)"
   ]
  },
  {
   "cell_type": "code",
   "execution_count": 13,
   "metadata": {},
   "outputs": [],
   "source": [
    "# RECP3 indicates the p3 flag. Transforming to Bool\n",
    "def prepRECP3(Code):\n",
    "    if Code == 'X':\n",
    "        return 1 #Donor has given to PVA's P3 program\n",
    "    else:\n",
    "        return 0 #Not a P3 Record\n",
    "\n",
    "dataprep['RECP3'] = df['RECP3'].apply(prepRECP3)"
   ]
  },
  {
   "cell_type": "code",
   "execution_count": 14,
   "metadata": {},
   "outputs": [],
   "source": [
    "# RECPGVG indicates the planned giving flag. Transforming to Bool\n",
    "def prepRECPGVG(Code):\n",
    "    if Code == 'X':\n",
    "        return 1 #Planned Giving Record\n",
    "    else:\n",
    "        return 0 #Not a Planned Giving Record\n",
    "\n",
    "dataprep['RECPGVG'] = df['RECPGVG'].apply(prepRECPGVG)"
   ]
  },
  {
   "cell_type": "code",
   "execution_count": 15,
   "metadata": {},
   "outputs": [],
   "source": [
    "# RECSWEEP indicates the sweepstakes flag. Transforming to Bool\n",
    "def prepRECSWEEP(Code):\n",
    "    if Code == 'X':\n",
    "        return 1 #Sweepstakes Record\n",
    "    else:\n",
    "        return 0 #Not a Sweepstakes Record\n",
    "\n",
    "dataprep['RECSWEEP'] = df['RECSWEEP'].apply(prepRECSWEEP)"
   ]
  },
  {
   "cell_type": "code",
   "execution_count": 16,
   "metadata": {},
   "outputs": [],
   "source": [
    "# MDMAUD handling\n",
    "# If X, it is not a major donor\n",
    "# First byte: Recency of Giving\n",
    "#     C=Current Donor\n",
    "#     L=Lapsed Donor\n",
    "#     I=Inactive Donor\n",
    "#     D=Dormant Donor\n",
    "\n",
    "# 2nd byte: Frequency of Giving\n",
    "#     1=One gift in the period of recency\n",
    "#     2=Two-Four gifts in the period of recency\n",
    "#     5=Five+ gifts in the period of recency\n",
    "\n",
    "# 3rd byte: Amount of Giving\n",
    "#     L=Less than $100(Low Dollar)\n",
    "#     C=$100-499(Core)\n",
    "#     M=$500-999(Major)\n",
    "#     T=$1,000+(Top)\n",
    "\n",
    "def prepMAJORDONOR(Code):\n",
    "    if Code[0] == 'X':\n",
    "        return 0\n",
    "    else:\n",
    "        return 1\n",
    "    \n",
    "dataprep['MAJORDONOR'] = df['MDMAUD'].apply(prepMAJORDONOR)\n",
    "dataprep['GIVING_FREQUENCY'] = df['MDMAUD'].apply(lambda x: x[1] if x[0] != 'X' else 0)\n",
    "dataprep['GIVING_AMOUNT'] = df['MDMAUD'].apply(lambda x: x[2] if x[0] != 'X' else 0)"
   ]
  },
  {
   "cell_type": "code",
   "execution_count": 17,
   "metadata": {},
   "outputs": [],
   "source": [
    "# DOMAIN handling\n",
    "# 1st byte = Urbanicity level of the donor's neighborhood\n",
    "#     U=Urban\n",
    "#     C=City\n",
    "#     S=Suburban\n",
    "#     T=Town\n",
    "#     R=Rural\n",
    "\n",
    "# 2nd byte = Socio-Economic status of the neighborhood\n",
    "#     1 = Highest SES\n",
    "#     2 = Average SES\n",
    "#     3 = Lowest SES \n",
    "#     (except for Urban communities, where\n",
    "#       1 = Highest SES, \n",
    "#       2 = Above average SES,\n",
    "#       3 = Below average SES, \n",
    "#       4 = Lowest SES.)\n",
    "\n",
    "def prepDONORURBANICITY(Code):\n",
    "    if Code == ' ':\n",
    "        return 0 #Empty\n",
    "    elif Code != 'U2' and Code != 'U3':\n",
    "        if Code[1] == '1':\n",
    "            return 1 #Highest SES\n",
    "        elif Code[1] == '2':\n",
    "            return 3 #Average SES\n",
    "        else:\n",
    "            return 5 #Lowest SES\n",
    "    else:\n",
    "        if Code[1] == '2':\n",
    "            return 2 #Above average SES\n",
    "        else:\n",
    "            return 4 #Below average SES\n",
    "\n",
    "dataprep['DONOR_URBANICITY'] = df['DOMAIN'].apply(prepDONORURBANICITY)"
   ]
  },
  {
   "cell_type": "code",
   "execution_count": 18,
   "metadata": {},
   "outputs": [],
   "source": [
    "# HOMEOWNR handling\n",
    "def prepHOMEOWNR(Code):\n",
    "    if Code[0] == 'H':\n",
    "        return 1 #Home owner\n",
    "    else:\n",
    "        return 0 #Unknown\n",
    "    \n",
    "dataprep['HOMEOWNR'] = df['HOMEOWNR'].apply(prepHOMEOWNR)"
   ]
  },
  {
   "cell_type": "code",
   "execution_count": 19,
   "metadata": {},
   "outputs": [],
   "source": [
    "# CHILDXX handling\n",
    "def prepCHILD(Code):\n",
    "    if Code[0] == 'F':\n",
    "        return 1 #Female\n",
    "    elif Code[0] == 'M':\n",
    "        return 2 #Male\n",
    "    elif Code[0] == 'M':\n",
    "        return 3 #Both\n",
    "    else:\n",
    "        return 0 #Empty\n",
    "    \n",
    "dataprep['CHILD03'] = df['CHILD03'].apply(prepCHILD)\n",
    "dataprep['CHILD07'] = df['CHILD07'].apply(prepCHILD)\n",
    "dataprep['CHILD12'] = df['CHILD12'].apply(prepCHILD)\n",
    "dataprep['CHILD18'] = df['CHILD18'].apply(prepCHILD)"
   ]
  },
  {
   "cell_type": "code",
   "execution_count": 20,
   "metadata": {},
   "outputs": [],
   "source": [
    "# SOLP3 handling\n",
    "def prepSOLP3(Code):\n",
    "    if Code == '00':\n",
    "        return -1 #Do Not Solicit or Mail\n",
    "    elif Code == ' ':\n",
    "        return 0 #Can be mailed\n",
    "    else:\n",
    "        return int(Code) #Number of solicitations\n",
    "    \n",
    "dataprep['MAIL_SOLICITATION'] = df['SOLP3'].apply(prepSOLP3)"
   ]
  },
  {
   "cell_type": "code",
   "execution_count": 21,
   "metadata": {},
   "outputs": [],
   "source": [
    "# SOLIH handling\n",
    "def prepSOLIH(Code):\n",
    "    if Code == '00':\n",
    "        return -1 #Do Not Solicit or Mail\n",
    "    elif Code == ' ':\n",
    "        return 0 #Can be mailed\n",
    "    else:\n",
    "        return int(Code) #Number of solicitations\n",
    "    \n",
    "dataprep['INHOUSE_SOLICITATION'] = df['SOLIH'].apply(prepSOLP3)"
   ]
  },
  {
   "cell_type": "code",
   "execution_count": 22,
   "metadata": {},
   "outputs": [],
   "source": [
    "# PEPSTRFL\n",
    "def prepPEPSTRFL(Code):\n",
    "    if Code[0] == 'X':\n",
    "        return 1 #Has PEP Star RFA Status\n",
    "    else:\n",
    "        return 0 #Not considered to be a PEP Star\n",
    "    \n",
    "dataprep['PEPSTRFL'] = df['PEPSTRFL'].apply(prepPEPSTRFL)"
   ]
  },
  {
   "cell_type": "code",
   "execution_count": 23,
   "metadata": {},
   "outputs": [],
   "source": [
    "# handling Interests by donor\n",
    "\n",
    "dataprep['COLLECT1'] = df['COLLECT1'].apply(lambda x: 1 if x.lower() == 'y' else 0)\n",
    "dataprep['VETERANS'] = df['VETERANS'].apply(lambda x: 1 if x.lower() == 'y' else 0)\n",
    "dataprep['BIBLE'   ] = df['BIBLE'   ].apply(lambda x: 1 if x.lower() == 'y' else 0)\n",
    "dataprep['CATLG'   ] = df['CATLG'   ].apply(lambda x: 1 if x.lower() == 'y' else 0)\n",
    "dataprep['HOMEE'   ] = df['HOMEE'   ].apply(lambda x: 1 if x.lower() == 'y' else 0)\n",
    "dataprep['PETS'    ] = df['PETS'    ].apply(lambda x: 1 if x.lower() == 'y' else 0)\n",
    "dataprep['CDPLAY'  ] = df['CDPLAY'  ].apply(lambda x: 1 if x.lower() == 'y' else 0)\n",
    "dataprep['STEREO'  ] = df['STEREO'  ].apply(lambda x: 1 if x.lower() == 'y' else 0)\n",
    "dataprep['PCOWNERS'] = df['PCOWNERS'].apply(lambda x: 1 if x.lower() == 'y' else 0)\n",
    "dataprep['PHOTO'   ] = df['PHOTO'   ].apply(lambda x: 1 if x.lower() == 'y' else 0)\n",
    "dataprep['CRAFTS'  ] = df['CRAFTS'  ].apply(lambda x: 1 if x.lower() == 'y' else 0)\n",
    "dataprep['FISHER'  ] = df['FISHER'  ].apply(lambda x: 1 if x.lower() == 'y' else 0)\n",
    "dataprep['GARDENIN'] = df['GARDENIN'].apply(lambda x: 1 if x.lower() == 'y' else 0)\n",
    "dataprep['BOATS'   ] = df['BOATS'   ].apply(lambda x: 1 if x.lower() == 'y' else 0)\n",
    "dataprep['WALKER'  ] = df['WALKER'  ].apply(lambda x: 1 if x.lower() == 'y' else 0)\n",
    "dataprep['KIDSTUFF'] = df['KIDSTUFF'].apply(lambda x: 1 if x.lower() == 'y' else 0)\n",
    "dataprep['CARDS'   ] = df['CARDS'   ].apply(lambda x: 1 if x.lower() == 'y' else 0)\n",
    "dataprep['PLATES'  ] = df['PLATES'  ].apply(lambda x: 1 if x.lower() == 'y' else 0)"
   ]
  },
  {
   "cell_type": "code",
   "execution_count": 24,
   "metadata": {},
   "outputs": [],
   "source": [
    "# Converting DOB to datetime object\n",
    "dataprep['MAXADATE'] = pd.to_datetime(df['MAXADATE'])\n",
    "dataprep['MINRDATE'] = pd.to_datetime(df['MINRDATE'])\n",
    "dataprep['MAXRDATE'] = pd.to_datetime(df['MAXRDATE'])\n",
    "dataprep['LASTDATE'] = pd.to_datetime(df['LASTDATE'])\n",
    "dataprep['FISTDATE'] = pd.to_datetime(df['FISTDATE'])\n",
    "dataprep['NEXTDATE'] = pd.to_datetime(df['NEXTDATE'])\n",
    "dataprep['DOB'     ] = pd.to_datetime(df['DOB'     ])"
   ]
  },
  {
   "cell_type": "code",
   "execution_count": 25,
   "metadata": {},
   "outputs": [],
   "source": [
    "# Computing AGE from DOB\n",
    "dataprep['AGE'] = (pd.Timestamp('now') - pd.to_datetime(df['DOB'])).astype('<m8[Y]')"
   ]
  },
  {
   "cell_type": "code",
   "execution_count": 26,
   "metadata": {},
   "outputs": [],
   "source": [
    "#Chaning the categorical values in dataframe\n",
    "df[ColumnsToPassOver] = dataprep[ColumnsToPassOver]"
   ]
  },
  {
   "cell_type": "markdown",
   "metadata": {},
   "source": [
    "# Missing Values"
   ]
  },
  {
   "cell_type": "code",
   "execution_count": 27,
   "metadata": {},
   "outputs": [
    {
     "name": "stdout",
     "output_type": "stream",
     "text": [
      "Numerical columns: 354\n",
      "Categorical columns: 121\n"
     ]
    }
   ],
   "source": [
    "numericDf = df._get_numeric_data()\n",
    "categoricalDF = df.drop(numericDf.columns, axis = 1)\n",
    "print('Numerical columns: ' + str(len(numericDf.columns)) +  '\\nCategorical columns: ' + str(len(categoricalDF.columns)))"
   ]
  },
  {
   "cell_type": "code",
   "execution_count": 29,
   "metadata": {},
   "outputs": [
    {
     "ename": "KeyboardInterrupt",
     "evalue": "",
     "output_type": "error",
     "traceback": [
      "\u001b[1;31m---------------------------------------------------------------------------\u001b[0m",
      "\u001b[1;31mKeyboardInterrupt\u001b[0m                         Traceback (most recent call last)",
      "\u001b[1;32m<ipython-input-29-2dbc5e0de19a>\u001b[0m in \u001b[0;36m<module>\u001b[1;34m\u001b[0m\n\u001b[0;32m      1\u001b[0m \u001b[0mimputer\u001b[0m \u001b[1;33m=\u001b[0m \u001b[0mKNNImputer\u001b[0m\u001b[1;33m(\u001b[0m\u001b[0mn_neighbors\u001b[0m \u001b[1;33m=\u001b[0m \u001b[1;36m5\u001b[0m\u001b[1;33m,\u001b[0m \u001b[0mweights\u001b[0m \u001b[1;33m=\u001b[0m \u001b[1;34m'uniform'\u001b[0m\u001b[1;33m)\u001b[0m\u001b[1;33m\u001b[0m\u001b[1;33m\u001b[0m\u001b[0m\n\u001b[0;32m      2\u001b[0m \u001b[1;33m\u001b[0m\u001b[0m\n\u001b[1;32m----> 3\u001b[1;33m \u001b[0mpd\u001b[0m\u001b[1;33m.\u001b[0m\u001b[0mDataFrame\u001b[0m\u001b[1;33m(\u001b[0m\u001b[0mimputer\u001b[0m\u001b[1;33m.\u001b[0m\u001b[0mfit_transform\u001b[0m\u001b[1;33m(\u001b[0m\u001b[0mdf\u001b[0m\u001b[1;33m[\u001b[0m\u001b[0mnumericDf\u001b[0m\u001b[1;33m.\u001b[0m\u001b[0mcolumns\u001b[0m\u001b[1;33m]\u001b[0m\u001b[1;33m)\u001b[0m\u001b[1;33m)\u001b[0m\u001b[1;33m\u001b[0m\u001b[1;33m\u001b[0m\u001b[0m\n\u001b[0m",
      "\u001b[1;32m~\\anaconda3\\lib\\site-packages\\sklearn\\base.py\u001b[0m in \u001b[0;36mfit_transform\u001b[1;34m(self, X, y, **fit_params)\u001b[0m\n\u001b[0;32m    688\u001b[0m         \u001b[1;32mif\u001b[0m \u001b[0my\u001b[0m \u001b[1;32mis\u001b[0m \u001b[1;32mNone\u001b[0m\u001b[1;33m:\u001b[0m\u001b[1;33m\u001b[0m\u001b[1;33m\u001b[0m\u001b[0m\n\u001b[0;32m    689\u001b[0m             \u001b[1;31m# fit method of arity 1 (unsupervised transformation)\u001b[0m\u001b[1;33m\u001b[0m\u001b[1;33m\u001b[0m\u001b[1;33m\u001b[0m\u001b[0m\n\u001b[1;32m--> 690\u001b[1;33m             \u001b[1;32mreturn\u001b[0m \u001b[0mself\u001b[0m\u001b[1;33m.\u001b[0m\u001b[0mfit\u001b[0m\u001b[1;33m(\u001b[0m\u001b[0mX\u001b[0m\u001b[1;33m,\u001b[0m \u001b[1;33m**\u001b[0m\u001b[0mfit_params\u001b[0m\u001b[1;33m)\u001b[0m\u001b[1;33m.\u001b[0m\u001b[0mtransform\u001b[0m\u001b[1;33m(\u001b[0m\u001b[0mX\u001b[0m\u001b[1;33m)\u001b[0m\u001b[1;33m\u001b[0m\u001b[1;33m\u001b[0m\u001b[0m\n\u001b[0m\u001b[0;32m    691\u001b[0m         \u001b[1;32melse\u001b[0m\u001b[1;33m:\u001b[0m\u001b[1;33m\u001b[0m\u001b[1;33m\u001b[0m\u001b[0m\n\u001b[0;32m    692\u001b[0m             \u001b[1;31m# fit method of arity 2 (supervised transformation)\u001b[0m\u001b[1;33m\u001b[0m\u001b[1;33m\u001b[0m\u001b[1;33m\u001b[0m\u001b[0m\n",
      "\u001b[1;32m~\\anaconda3\\lib\\site-packages\\sklearn\\impute\\_knn.py\u001b[0m in \u001b[0;36mtransform\u001b[1;34m(self, X)\u001b[0m\n\u001b[0;32m    295\u001b[0m             \u001b[0mforce_all_finite\u001b[0m\u001b[1;33m=\u001b[0m\u001b[0mforce_all_finite\u001b[0m\u001b[1;33m,\u001b[0m\u001b[1;33m\u001b[0m\u001b[1;33m\u001b[0m\u001b[0m\n\u001b[0;32m    296\u001b[0m             reduce_func=process_chunk)\n\u001b[1;32m--> 297\u001b[1;33m         \u001b[1;32mfor\u001b[0m \u001b[0mchunk\u001b[0m \u001b[1;32min\u001b[0m \u001b[0mgen\u001b[0m\u001b[1;33m:\u001b[0m\u001b[1;33m\u001b[0m\u001b[1;33m\u001b[0m\u001b[0m\n\u001b[0m\u001b[0;32m    298\u001b[0m             \u001b[1;31m# process_chunk modifies X in place. No return value.\u001b[0m\u001b[1;33m\u001b[0m\u001b[1;33m\u001b[0m\u001b[1;33m\u001b[0m\u001b[0m\n\u001b[0;32m    299\u001b[0m             \u001b[1;32mpass\u001b[0m\u001b[1;33m\u001b[0m\u001b[1;33m\u001b[0m\u001b[0m\n",
      "\u001b[1;32m~\\anaconda3\\lib\\site-packages\\sklearn\\metrics\\pairwise.py\u001b[0m in \u001b[0;36mpairwise_distances_chunked\u001b[1;34m(X, Y, reduce_func, metric, n_jobs, working_memory, **kwds)\u001b[0m\n\u001b[0;32m   1620\u001b[0m         \u001b[1;32mif\u001b[0m \u001b[0mreduce_func\u001b[0m \u001b[1;32mis\u001b[0m \u001b[1;32mnot\u001b[0m \u001b[1;32mNone\u001b[0m\u001b[1;33m:\u001b[0m\u001b[1;33m\u001b[0m\u001b[1;33m\u001b[0m\u001b[0m\n\u001b[0;32m   1621\u001b[0m             \u001b[0mchunk_size\u001b[0m \u001b[1;33m=\u001b[0m \u001b[0mD_chunk\u001b[0m\u001b[1;33m.\u001b[0m\u001b[0mshape\u001b[0m\u001b[1;33m[\u001b[0m\u001b[1;36m0\u001b[0m\u001b[1;33m]\u001b[0m\u001b[1;33m\u001b[0m\u001b[1;33m\u001b[0m\u001b[0m\n\u001b[1;32m-> 1622\u001b[1;33m             \u001b[0mD_chunk\u001b[0m \u001b[1;33m=\u001b[0m \u001b[0mreduce_func\u001b[0m\u001b[1;33m(\u001b[0m\u001b[0mD_chunk\u001b[0m\u001b[1;33m,\u001b[0m \u001b[0msl\u001b[0m\u001b[1;33m.\u001b[0m\u001b[0mstart\u001b[0m\u001b[1;33m)\u001b[0m\u001b[1;33m\u001b[0m\u001b[1;33m\u001b[0m\u001b[0m\n\u001b[0m\u001b[0;32m   1623\u001b[0m             \u001b[0m_check_chunk_size\u001b[0m\u001b[1;33m(\u001b[0m\u001b[0mD_chunk\u001b[0m\u001b[1;33m,\u001b[0m \u001b[0mchunk_size\u001b[0m\u001b[1;33m)\u001b[0m\u001b[1;33m\u001b[0m\u001b[1;33m\u001b[0m\u001b[0m\n\u001b[0;32m   1624\u001b[0m         \u001b[1;32myield\u001b[0m \u001b[0mD_chunk\u001b[0m\u001b[1;33m\u001b[0m\u001b[1;33m\u001b[0m\u001b[0m\n",
      "\u001b[1;32m~\\anaconda3\\lib\\site-packages\\sklearn\\impute\\_knn.py\u001b[0m in \u001b[0;36mprocess_chunk\u001b[1;34m(dist_chunk, start)\u001b[0m\n\u001b[0;32m    261\u001b[0m \u001b[1;33m\u001b[0m\u001b[0m\n\u001b[0;32m    262\u001b[0m                 \u001b[1;31m# receivers with all nan distances impute with mean\u001b[0m\u001b[1;33m\u001b[0m\u001b[1;33m\u001b[0m\u001b[1;33m\u001b[0m\u001b[0m\n\u001b[1;32m--> 263\u001b[1;33m                 \u001b[0mall_nan_dist_mask\u001b[0m \u001b[1;33m=\u001b[0m \u001b[0mnp\u001b[0m\u001b[1;33m.\u001b[0m\u001b[0misnan\u001b[0m\u001b[1;33m(\u001b[0m\u001b[0mdist_subset\u001b[0m\u001b[1;33m)\u001b[0m\u001b[1;33m.\u001b[0m\u001b[0mall\u001b[0m\u001b[1;33m(\u001b[0m\u001b[0maxis\u001b[0m\u001b[1;33m=\u001b[0m\u001b[1;36m1\u001b[0m\u001b[1;33m)\u001b[0m\u001b[1;33m\u001b[0m\u001b[1;33m\u001b[0m\u001b[0m\n\u001b[0m\u001b[0;32m    264\u001b[0m                 \u001b[0mall_nan_receivers_idx\u001b[0m \u001b[1;33m=\u001b[0m \u001b[0mreceivers_idx\u001b[0m\u001b[1;33m[\u001b[0m\u001b[0mall_nan_dist_mask\u001b[0m\u001b[1;33m]\u001b[0m\u001b[1;33m\u001b[0m\u001b[1;33m\u001b[0m\u001b[0m\n\u001b[0;32m    265\u001b[0m \u001b[1;33m\u001b[0m\u001b[0m\n",
      "\u001b[1;32m~\\anaconda3\\lib\\site-packages\\numpy\\core\\_methods.py\u001b[0m in \u001b[0;36m_all\u001b[1;34m(a, axis, dtype, out, keepdims)\u001b[0m\n\u001b[0;32m     46\u001b[0m \u001b[1;33m\u001b[0m\u001b[0m\n\u001b[0;32m     47\u001b[0m \u001b[1;32mdef\u001b[0m \u001b[0m_all\u001b[0m\u001b[1;33m(\u001b[0m\u001b[0ma\u001b[0m\u001b[1;33m,\u001b[0m \u001b[0maxis\u001b[0m\u001b[1;33m=\u001b[0m\u001b[1;32mNone\u001b[0m\u001b[1;33m,\u001b[0m \u001b[0mdtype\u001b[0m\u001b[1;33m=\u001b[0m\u001b[1;32mNone\u001b[0m\u001b[1;33m,\u001b[0m \u001b[0mout\u001b[0m\u001b[1;33m=\u001b[0m\u001b[1;32mNone\u001b[0m\u001b[1;33m,\u001b[0m \u001b[0mkeepdims\u001b[0m\u001b[1;33m=\u001b[0m\u001b[1;32mFalse\u001b[0m\u001b[1;33m)\u001b[0m\u001b[1;33m:\u001b[0m\u001b[1;33m\u001b[0m\u001b[1;33m\u001b[0m\u001b[0m\n\u001b[1;32m---> 48\u001b[1;33m     \u001b[1;32mreturn\u001b[0m \u001b[0mumr_all\u001b[0m\u001b[1;33m(\u001b[0m\u001b[0ma\u001b[0m\u001b[1;33m,\u001b[0m \u001b[0maxis\u001b[0m\u001b[1;33m,\u001b[0m \u001b[0mdtype\u001b[0m\u001b[1;33m,\u001b[0m \u001b[0mout\u001b[0m\u001b[1;33m,\u001b[0m \u001b[0mkeepdims\u001b[0m\u001b[1;33m)\u001b[0m\u001b[1;33m\u001b[0m\u001b[1;33m\u001b[0m\u001b[0m\n\u001b[0m\u001b[0;32m     49\u001b[0m \u001b[1;33m\u001b[0m\u001b[0m\n\u001b[0;32m     50\u001b[0m \u001b[1;32mdef\u001b[0m \u001b[0m_count_reduce_items\u001b[0m\u001b[1;33m(\u001b[0m\u001b[0marr\u001b[0m\u001b[1;33m,\u001b[0m \u001b[0maxis\u001b[0m\u001b[1;33m)\u001b[0m\u001b[1;33m:\u001b[0m\u001b[1;33m\u001b[0m\u001b[1;33m\u001b[0m\u001b[0m\n",
      "\u001b[1;31mKeyboardInterrupt\u001b[0m: "
     ]
    }
   ],
   "source": [
    "imputer = KNNImputer(n_neighbors = 5, weights = 'uniform')\n",
    "\n",
    "pd.DataFrame(imputer.fit_transform(df[numericDf.columns]))"
   ]
  },
  {
   "cell_type": "code",
   "execution_count": null,
   "metadata": {},
   "outputs": [],
   "source": []
  },
  {
   "cell_type": "code",
   "execution_count": null,
   "metadata": {},
   "outputs": [],
   "source": []
  },
  {
   "cell_type": "code",
   "execution_count": null,
   "metadata": {},
   "outputs": [],
   "source": []
  },
  {
   "cell_type": "code",
   "execution_count": null,
   "metadata": {},
   "outputs": [],
   "source": []
  },
  {
   "cell_type": "code",
   "execution_count": null,
   "metadata": {},
   "outputs": [],
   "source": []
  },
  {
   "cell_type": "code",
   "execution_count": null,
   "metadata": {},
   "outputs": [],
   "source": []
  },
  {
   "cell_type": "code",
   "execution_count": null,
   "metadata": {},
   "outputs": [],
   "source": []
  },
  {
   "cell_type": "code",
   "execution_count": null,
   "metadata": {},
   "outputs": [],
   "source": []
  },
  {
   "cell_type": "code",
   "execution_count": null,
   "metadata": {},
   "outputs": [],
   "source": [
    "dfState = pd.DataFrame(df.groupby('STATE')['STATE'].agg({'count'})).sort_values(by=['count'], ascending=False).reset_index()\n",
    "dfState.head(10)"
   ]
  },
  {
   "cell_type": "code",
   "execution_count": null,
   "metadata": {},
   "outputs": [],
   "source": [
    "#pd.DataFrame(df.groupby('TCODE')['TCODE'].agg({'count'})).sort_values(by=['count'], ascending=False).reset_index()\n",
    "#pd.DataFrame(df.groupby(['STATE', df.DOMAIN.str[:1]]).size())"
   ]
  },
  {
   "cell_type": "code",
   "execution_count": null,
   "metadata": {},
   "outputs": [],
   "source": [
    "dfDomain = df.groupby(df.DOMAIN.str[:1], as_index=False)['DOMAIN'].agg(['count']).sort_values(by=['count'], ascending=False).reset_index()\n",
    "dfDomain\n",
    "\n",
    "#U=Urban\n",
    "#C=City\n",
    "#S=Suburban\n",
    "#T=Town\n",
    "#R=Rural"
   ]
  },
  {
   "cell_type": "code",
   "execution_count": null,
   "metadata": {},
   "outputs": [],
   "source": [
    "df.groupby(df.DOMAIN, as_index=False)['DOMAIN'].agg(['count']).sort_values(by=['count'], ascending=False)\n",
    "\n",
    "#See exception in 2nd byte - value 3 is different in Urban communities"
   ]
  },
  {
   "cell_type": "code",
   "execution_count": null,
   "metadata": {},
   "outputs": [],
   "source": [
    "df.groupby(df['WEALTH2'], as_index=False)['WEALTH2'].agg(['count']).sort_values(by=['count'], ascending=False).reset_index()"
   ]
  },
  {
   "cell_type": "code",
   "execution_count": null,
   "metadata": {},
   "outputs": [],
   "source": [
    "def corHeatmap(cor):\n",
    "    plt.figure(figsize=(12,10))\n",
    "    sns.heatmap(data = cor, annot = True, cmap = plt.cm.Greens, fmt='.1')\n",
    "    plt.show()"
   ]
  },
  {
   "cell_type": "code",
   "execution_count": null,
   "metadata": {},
   "outputs": [],
   "source": [
    "selectedColumns = ['POP901', 'WEALTH2', 'AGE901', 'MARR1', 'MARR2', 'MARR3','IC3', 'IC5' , 'HHAS1', 'AC1', 'AC2', 'POP90C4', 'POP90C5', 'HHAGE1', 'HHAGE2', 'MALEVET', 'VIETVETS', 'WWIIVETS']\n",
    "\n",
    "#POP901          Number of Persons\n",
    "#WEALTH2         Wealth Rating\n",
    "#AGE901          Median Age of Population\n",
    "#MARR1           Percent Married\n",
    "#MARR2           Percent Separated or Divorced\n",
    "#MARR3           Percent Widowed\n",
    "#IC3             Average Household Income in hundreds\n",
    "#IC5             Per Capita Income\n",
    "#HHAS1           Percent Households on Social Security\n",
    "#AC1             Percent Adults Age 55-59\n",
    "#AC2             Percent Adults Age 60-64\n",
    "#POP90C4         Percent Male\n",
    "#POP90C5         Percent Female\n",
    "#HHAGE1          Percent Households w/ Person 65+\n",
    "#HHAGE2          Percent Households w/ Person 65+ Living Alone\n",
    "#MALEVET         % Males Veterans\n",
    "#VIETVETS        % Vietnam Vets\n",
    "#WWIIVETS        % WWII Vets"
   ]
  },
  {
   "cell_type": "code",
   "execution_count": null,
   "metadata": {},
   "outputs": [],
   "source": [
    "dfCorrelation = df[selectedColumns]\n",
    "\n",
    "corPearson = dfCorrelation.corr()\n",
    "corHeatmap(corPearson)"
   ]
  },
  {
   "cell_type": "code",
   "execution_count": null,
   "metadata": {},
   "outputs": [],
   "source": [
    "filterDf = df[df['MDMAUD'] != 'XXXX']\n",
    "filterDf"
   ]
  },
  {
   "cell_type": "code",
   "execution_count": null,
   "metadata": {},
   "outputs": [],
   "source": [
    "filterDfCorrelation = filterDf[selectedColumns]\n",
    "\n",
    "corPearson = filterDfCorrelation.corr()\n",
    "corHeatmap(corPearson)"
   ]
  },
  {
   "cell_type": "code",
   "execution_count": null,
   "metadata": {},
   "outputs": [],
   "source": [
    "dfNaNIgnore = df[selectedColumns].copy().dropna()\n",
    "dfNaNMean = df[selectedColumns].copy().fillna(df.mean())"
   ]
  },
  {
   "cell_type": "code",
   "execution_count": null,
   "metadata": {},
   "outputs": [],
   "source": [
    "def inertiaCalculation(df):   \n",
    "    numberClusters = range(1, 11)\n",
    "    inertiaResults = []\n",
    "    for n_clus in numberClusters:\n",
    "        kmclust = KMeans(n_clusters = n_clus, init = 'k-means++', n_init = 15, random_state=1)\n",
    "        kmclust.fit(df)\n",
    "        inertiaResults.append(kmclust.inertia_)\n",
    "    return inertiaResults"
   ]
  },
  {
   "cell_type": "code",
   "execution_count": null,
   "metadata": {},
   "outputs": [],
   "source": [
    "inertiaDfIgnore = inertiaCalculation(dfNaNIgnore)\n",
    "inertiaDfMean = inertiaCalculation(dfNaNMean)"
   ]
  },
  {
   "cell_type": "code",
   "execution_count": null,
   "metadata": {},
   "outputs": [],
   "source": [
    "plt.figure(figsize=(9,5))\n",
    "plt.plot(inertiaDfIgnore, color = 'g')\n",
    "plt.plot(inertiaDfMean, color = 'y')\n",
    "plt.ylabel(\"Inertia\")\n",
    "plt.xlabel(\"Number of clusters\")\n",
    "plt.title(\"Inertia per clusters\")\n",
    "plt.show()"
   ]
  },
  {
   "cell_type": "code",
   "execution_count": null,
   "metadata": {},
   "outputs": [],
   "source": []
  },
  {
   "cell_type": "markdown",
   "metadata": {},
   "source": [
    "#  ============ Testes para estudo dos dados ============ "
   ]
  },
  {
   "cell_type": "code",
   "execution_count": null,
   "metadata": {},
   "outputs": [],
   "source": [
    "#Lapsed Donors\n",
    "df[df['MDMAUD'].str[0] == 'L']"
   ]
  },
  {
   "cell_type": "code",
   "execution_count": null,
   "metadata": {},
   "outputs": [],
   "source": [
    "#Different types of donors\n",
    "dfMDMAUD = df.groupby(['MDMAUD'], as_index=False)['MDMAUD'].agg(['count'])\n",
    "dfMDMAUD"
   ]
  },
  {
   "cell_type": "code",
   "execution_count": null,
   "metadata": {},
   "outputs": [],
   "source": [
    "#Different types of lapsed donors\n",
    "dfMDMAUD_L = df[df['MDMAUD'].str[0] == 'L'].groupby(['MDMAUD'], as_index=False)['MDMAUD'].agg(['count'])\n",
    "dfMDMAUD_L"
   ]
  },
  {
   "cell_type": "code",
   "execution_count": null,
   "metadata": {},
   "outputs": [],
   "source": [
    "#Count of the different types of donors (1st byte)\n",
    "df.groupby(df.MDMAUD.str[:1], as_index=False)['MDMAUD'].agg(['count'])"
   ]
  },
  {
   "cell_type": "code",
   "execution_count": null,
   "metadata": {},
   "outputs": [],
   "source": [
    "#Count on the frequency of giving (2nd byte)\n",
    "df.groupby(df.MDMAUD.str[2:3], as_index=False)['MDMAUD'].agg(['count'])"
   ]
  },
  {
   "cell_type": "code",
   "execution_count": null,
   "metadata": {},
   "outputs": [],
   "source": [
    "#% Males active in the Military\n",
    "df['MALEMILI']"
   ]
  },
  {
   "cell_type": "code",
   "execution_count": null,
   "metadata": {},
   "outputs": [],
   "source": [
    "#4th byte: Blank/meaningless/filler - 'X' indicates that the donor is not a major donor.\n",
    "df.groupby(df.MDMAUD.str[3:4], as_index=False)['MDMAUD'].agg(['count'])"
   ]
  },
  {
   "cell_type": "code",
   "execution_count": null,
   "metadata": {},
   "outputs": [],
   "source": [
    "df['LASTDATE']"
   ]
  }
 ],
 "metadata": {
  "kernelspec": {
   "display_name": "Python 3",
   "language": "python",
   "name": "python3"
  },
  "language_info": {
   "codemirror_mode": {
    "name": "ipython",
    "version": 3
   },
   "file_extension": ".py",
   "mimetype": "text/x-python",
   "name": "python",
   "nbconvert_exporter": "python",
   "pygments_lexer": "ipython3",
   "version": "3.8.3"
  }
 },
 "nbformat": 4,
 "nbformat_minor": 4
}
