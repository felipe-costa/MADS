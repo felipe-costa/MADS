{
 "cells": [
  {
   "cell_type": "markdown",
   "metadata": {},
   "source": [
    "# Data Mining - Project\n",
    "## Group Members\n",
    "|Name|StudentID|\n",
    "|:-----------:|:--------:|\n",
    "|Fabio Lopes|20200597|\n",
    "|Filipe Costa|20201041|\n",
    "|Jorge Pereira|20201085|\n"
   ]
  },
  {
   "cell_type": "code",
   "execution_count": 1,
   "metadata": {},
   "outputs": [],
   "source": [
    "import pandas as pd\n",
    "from sklearn.decomposition import PCA\n",
    "import matplotlib.pyplot as plt\n",
    "import seaborn as sns\n",
    "import numpy as np\n",
    "from sklearn.cluster import KMeans\n",
    "from sklearn.impute import KNNImputer"
   ]
  },
  {
   "cell_type": "code",
   "execution_count": 2,
   "metadata": {},
   "outputs": [
    {
     "name": "stderr",
     "output_type": "stream",
     "text": [
      "C:\\Users\\Jorge\\anaconda3\\lib\\site-packages\\IPython\\core\\interactiveshell.py:3071: DtypeWarning: Columns (9,412) have mixed types.Specify dtype option on import or set low_memory=False.\n",
      "  has_raised = await self.run_ast_nodes(code_ast.body, cell_name,\n"
     ]
    }
   ],
   "source": [
    "df = pd.read_csv('donors.csv')"
   ]
  },
  {
   "cell_type": "code",
   "execution_count": 3,
   "metadata": {},
   "outputs": [
    {
     "data": {
      "text/html": [
       "<div>\n",
       "<style scoped>\n",
       "    .dataframe tbody tr th:only-of-type {\n",
       "        vertical-align: middle;\n",
       "    }\n",
       "\n",
       "    .dataframe tbody tr th {\n",
       "        vertical-align: top;\n",
       "    }\n",
       "\n",
       "    .dataframe thead th {\n",
       "        text-align: right;\n",
       "    }\n",
       "</style>\n",
       "<table border=\"1\" class=\"dataframe\">\n",
       "  <thead>\n",
       "    <tr style=\"text-align: right;\">\n",
       "      <th></th>\n",
       "      <th>Unnamed: 0</th>\n",
       "      <th>ODATEDW</th>\n",
       "      <th>OSOURCE</th>\n",
       "      <th>TCODE</th>\n",
       "      <th>STATE</th>\n",
       "      <th>ZIP</th>\n",
       "      <th>MAILCODE</th>\n",
       "      <th>PVASTATE</th>\n",
       "      <th>DOB</th>\n",
       "      <th>NOEXCH</th>\n",
       "      <th>...</th>\n",
       "      <th>AVGGIFT</th>\n",
       "      <th>CONTROLN</th>\n",
       "      <th>HPHONE_D</th>\n",
       "      <th>RFA_2R</th>\n",
       "      <th>RFA_2F</th>\n",
       "      <th>RFA_2A</th>\n",
       "      <th>MDMAUD_R</th>\n",
       "      <th>MDMAUD_F</th>\n",
       "      <th>MDMAUD_A</th>\n",
       "      <th>GEOCODE2</th>\n",
       "    </tr>\n",
       "  </thead>\n",
       "  <tbody>\n",
       "    <tr>\n",
       "      <th>0</th>\n",
       "      <td>0</td>\n",
       "      <td>2009-01-01</td>\n",
       "      <td>GRI</td>\n",
       "      <td>0</td>\n",
       "      <td>IL</td>\n",
       "      <td>61081</td>\n",
       "      <td></td>\n",
       "      <td></td>\n",
       "      <td>1957-12-01</td>\n",
       "      <td>0</td>\n",
       "      <td>...</td>\n",
       "      <td>7.741935</td>\n",
       "      <td>95515</td>\n",
       "      <td>0</td>\n",
       "      <td>L</td>\n",
       "      <td>4</td>\n",
       "      <td>E</td>\n",
       "      <td>X</td>\n",
       "      <td>X</td>\n",
       "      <td>X</td>\n",
       "      <td>C</td>\n",
       "    </tr>\n",
       "    <tr>\n",
       "      <th>1</th>\n",
       "      <td>1</td>\n",
       "      <td>2014-01-01</td>\n",
       "      <td>BOA</td>\n",
       "      <td>1</td>\n",
       "      <td>CA</td>\n",
       "      <td>91326</td>\n",
       "      <td></td>\n",
       "      <td></td>\n",
       "      <td>1972-02-01</td>\n",
       "      <td>0</td>\n",
       "      <td>...</td>\n",
       "      <td>15.666667</td>\n",
       "      <td>148535</td>\n",
       "      <td>0</td>\n",
       "      <td>L</td>\n",
       "      <td>2</td>\n",
       "      <td>G</td>\n",
       "      <td>X</td>\n",
       "      <td>X</td>\n",
       "      <td>X</td>\n",
       "      <td>A</td>\n",
       "    </tr>\n",
       "    <tr>\n",
       "      <th>2</th>\n",
       "      <td>2</td>\n",
       "      <td>2010-01-01</td>\n",
       "      <td>AMH</td>\n",
       "      <td>1</td>\n",
       "      <td>NC</td>\n",
       "      <td>27017</td>\n",
       "      <td></td>\n",
       "      <td></td>\n",
       "      <td>NaN</td>\n",
       "      <td>0</td>\n",
       "      <td>...</td>\n",
       "      <td>7.481481</td>\n",
       "      <td>15078</td>\n",
       "      <td>1</td>\n",
       "      <td>L</td>\n",
       "      <td>4</td>\n",
       "      <td>E</td>\n",
       "      <td>X</td>\n",
       "      <td>X</td>\n",
       "      <td>X</td>\n",
       "      <td>C</td>\n",
       "    </tr>\n",
       "    <tr>\n",
       "      <th>3</th>\n",
       "      <td>3</td>\n",
       "      <td>2007-01-01</td>\n",
       "      <td>BRY</td>\n",
       "      <td>0</td>\n",
       "      <td>CA</td>\n",
       "      <td>95953</td>\n",
       "      <td></td>\n",
       "      <td></td>\n",
       "      <td>1948-01-01</td>\n",
       "      <td>0</td>\n",
       "      <td>...</td>\n",
       "      <td>6.812500</td>\n",
       "      <td>172556</td>\n",
       "      <td>1</td>\n",
       "      <td>L</td>\n",
       "      <td>4</td>\n",
       "      <td>E</td>\n",
       "      <td>X</td>\n",
       "      <td>X</td>\n",
       "      <td>X</td>\n",
       "      <td>C</td>\n",
       "    </tr>\n",
       "    <tr>\n",
       "      <th>4</th>\n",
       "      <td>4</td>\n",
       "      <td>2006-01-01</td>\n",
       "      <td></td>\n",
       "      <td>0</td>\n",
       "      <td>FL</td>\n",
       "      <td>33176</td>\n",
       "      <td></td>\n",
       "      <td></td>\n",
       "      <td>1940-01-01</td>\n",
       "      <td>0</td>\n",
       "      <td>...</td>\n",
       "      <td>6.864865</td>\n",
       "      <td>7112</td>\n",
       "      <td>1</td>\n",
       "      <td>L</td>\n",
       "      <td>2</td>\n",
       "      <td>F</td>\n",
       "      <td>X</td>\n",
       "      <td>X</td>\n",
       "      <td>X</td>\n",
       "      <td>A</td>\n",
       "    </tr>\n",
       "    <tr>\n",
       "      <th>...</th>\n",
       "      <td>...</td>\n",
       "      <td>...</td>\n",
       "      <td>...</td>\n",
       "      <td>...</td>\n",
       "      <td>...</td>\n",
       "      <td>...</td>\n",
       "      <td>...</td>\n",
       "      <td>...</td>\n",
       "      <td>...</td>\n",
       "      <td>...</td>\n",
       "      <td>...</td>\n",
       "      <td>...</td>\n",
       "      <td>...</td>\n",
       "      <td>...</td>\n",
       "      <td>...</td>\n",
       "      <td>...</td>\n",
       "      <td>...</td>\n",
       "      <td>...</td>\n",
       "      <td>...</td>\n",
       "      <td>...</td>\n",
       "      <td>...</td>\n",
       "    </tr>\n",
       "    <tr>\n",
       "      <th>95407</th>\n",
       "      <td>95407</td>\n",
       "      <td>2016-01-01</td>\n",
       "      <td>ASE</td>\n",
       "      <td>1</td>\n",
       "      <td>AK</td>\n",
       "      <td>99504</td>\n",
       "      <td></td>\n",
       "      <td></td>\n",
       "      <td>NaN</td>\n",
       "      <td>0</td>\n",
       "      <td>...</td>\n",
       "      <td>25.000000</td>\n",
       "      <td>184568</td>\n",
       "      <td>0</td>\n",
       "      <td>L</td>\n",
       "      <td>1</td>\n",
       "      <td>G</td>\n",
       "      <td>X</td>\n",
       "      <td>X</td>\n",
       "      <td>X</td>\n",
       "      <td>C</td>\n",
       "    </tr>\n",
       "    <tr>\n",
       "      <th>95408</th>\n",
       "      <td>95408</td>\n",
       "      <td>2016-01-01</td>\n",
       "      <td>DCD</td>\n",
       "      <td>1</td>\n",
       "      <td>TX</td>\n",
       "      <td>77379</td>\n",
       "      <td></td>\n",
       "      <td></td>\n",
       "      <td>1970-01-01</td>\n",
       "      <td>0</td>\n",
       "      <td>...</td>\n",
       "      <td>20.000000</td>\n",
       "      <td>122706</td>\n",
       "      <td>1</td>\n",
       "      <td>L</td>\n",
       "      <td>1</td>\n",
       "      <td>F</td>\n",
       "      <td>X</td>\n",
       "      <td>X</td>\n",
       "      <td>X</td>\n",
       "      <td>A</td>\n",
       "    </tr>\n",
       "    <tr>\n",
       "      <th>95409</th>\n",
       "      <td>95409</td>\n",
       "      <td>2015-01-01</td>\n",
       "      <td>MBC</td>\n",
       "      <td>1</td>\n",
       "      <td>MI</td>\n",
       "      <td>48910</td>\n",
       "      <td></td>\n",
       "      <td></td>\n",
       "      <td>1958-01-01</td>\n",
       "      <td>0</td>\n",
       "      <td>...</td>\n",
       "      <td>8.285714</td>\n",
       "      <td>189641</td>\n",
       "      <td>1</td>\n",
       "      <td>L</td>\n",
       "      <td>3</td>\n",
       "      <td>E</td>\n",
       "      <td>X</td>\n",
       "      <td>X</td>\n",
       "      <td>X</td>\n",
       "      <td>B</td>\n",
       "    </tr>\n",
       "    <tr>\n",
       "      <th>95410</th>\n",
       "      <td>95410</td>\n",
       "      <td>2006-01-01</td>\n",
       "      <td>PRV</td>\n",
       "      <td>0</td>\n",
       "      <td>CA</td>\n",
       "      <td>91320</td>\n",
       "      <td></td>\n",
       "      <td></td>\n",
       "      <td>1960-05-01</td>\n",
       "      <td>0</td>\n",
       "      <td>...</td>\n",
       "      <td>12.146341</td>\n",
       "      <td>4693</td>\n",
       "      <td>1</td>\n",
       "      <td>L</td>\n",
       "      <td>4</td>\n",
       "      <td>F</td>\n",
       "      <td>X</td>\n",
       "      <td>X</td>\n",
       "      <td>X</td>\n",
       "      <td>A</td>\n",
       "    </tr>\n",
       "    <tr>\n",
       "      <th>95411</th>\n",
       "      <td>95411</td>\n",
       "      <td>2008-01-01</td>\n",
       "      <td>MCC</td>\n",
       "      <td>2</td>\n",
       "      <td>NC</td>\n",
       "      <td>28409</td>\n",
       "      <td></td>\n",
       "      <td></td>\n",
       "      <td>1938-01-01</td>\n",
       "      <td>0</td>\n",
       "      <td>...</td>\n",
       "      <td>96.794872</td>\n",
       "      <td>185114</td>\n",
       "      <td>1</td>\n",
       "      <td>L</td>\n",
       "      <td>1</td>\n",
       "      <td>G</td>\n",
       "      <td>C</td>\n",
       "      <td>1</td>\n",
       "      <td>C</td>\n",
       "      <td>C</td>\n",
       "    </tr>\n",
       "  </tbody>\n",
       "</table>\n",
       "<p>95412 rows × 476 columns</p>\n",
       "</div>"
      ],
      "text/plain": [
       "       Unnamed: 0     ODATEDW OSOURCE  TCODE STATE    ZIP MAILCODE PVASTATE  \\\n",
       "0               0  2009-01-01     GRI      0    IL  61081                     \n",
       "1               1  2014-01-01     BOA      1    CA  91326                     \n",
       "2               2  2010-01-01     AMH      1    NC  27017                     \n",
       "3               3  2007-01-01     BRY      0    CA  95953                     \n",
       "4               4  2006-01-01              0    FL  33176                     \n",
       "...           ...         ...     ...    ...   ...    ...      ...      ...   \n",
       "95407       95407  2016-01-01     ASE      1    AK  99504                     \n",
       "95408       95408  2016-01-01     DCD      1    TX  77379                     \n",
       "95409       95409  2015-01-01     MBC      1    MI  48910                     \n",
       "95410       95410  2006-01-01     PRV      0    CA  91320                     \n",
       "95411       95411  2008-01-01     MCC      2    NC  28409                     \n",
       "\n",
       "              DOB NOEXCH  ...    AVGGIFT CONTROLN HPHONE_D RFA_2R RFA_2F  \\\n",
       "0      1957-12-01      0  ...   7.741935    95515        0      L      4   \n",
       "1      1972-02-01      0  ...  15.666667   148535        0      L      2   \n",
       "2             NaN      0  ...   7.481481    15078        1      L      4   \n",
       "3      1948-01-01      0  ...   6.812500   172556        1      L      4   \n",
       "4      1940-01-01      0  ...   6.864865     7112        1      L      2   \n",
       "...           ...    ...  ...        ...      ...      ...    ...    ...   \n",
       "95407         NaN      0  ...  25.000000   184568        0      L      1   \n",
       "95408  1970-01-01      0  ...  20.000000   122706        1      L      1   \n",
       "95409  1958-01-01      0  ...   8.285714   189641        1      L      3   \n",
       "95410  1960-05-01      0  ...  12.146341     4693        1      L      4   \n",
       "95411  1938-01-01      0  ...  96.794872   185114        1      L      1   \n",
       "\n",
       "      RFA_2A MDMAUD_R MDMAUD_F MDMAUD_A GEOCODE2  \n",
       "0          E        X        X        X        C  \n",
       "1          G        X        X        X        A  \n",
       "2          E        X        X        X        C  \n",
       "3          E        X        X        X        C  \n",
       "4          F        X        X        X        A  \n",
       "...      ...      ...      ...      ...      ...  \n",
       "95407      G        X        X        X        C  \n",
       "95408      F        X        X        X        A  \n",
       "95409      E        X        X        X        B  \n",
       "95410      F        X        X        X        A  \n",
       "95411      G        C        1        C        C  \n",
       "\n",
       "[95412 rows x 476 columns]"
      ]
     },
     "execution_count": 3,
     "metadata": {},
     "output_type": "execute_result"
    }
   ],
   "source": [
    "df"
   ]
  },
  {
   "cell_type": "code",
   "execution_count": 4,
   "metadata": {},
   "outputs": [
    {
     "name": "stdout",
     "output_type": "stream",
     "text": [
      "Numerical columns: 351\n",
      "Categorical columns: 125\n"
     ]
    }
   ],
   "source": [
    "numericDf = df._get_numeric_data()\n",
    "categoricalDF = df.drop(numericDf.columns, axis = 1)\n",
    "print('Numerical columns: ' + str(len(numericDf.columns)) +  '\\nCategorical columns: ' + str(len(categoricalDF.columns)))"
   ]
  },
  {
   "cell_type": "markdown",
   "metadata": {},
   "source": [
    "# Categorical Data Preparation"
   ]
  },
  {
   "cell_type": "code",
   "execution_count": 5,
   "metadata": {},
   "outputs": [],
   "source": [
    "df.drop('Unnamed: 0', axis = 1, inplace = True)"
   ]
  },
  {
   "cell_type": "code",
   "execution_count": 6,
   "metadata": {},
   "outputs": [],
   "source": [
    "ColumnsToPassOver = ['ODATEDW',\n",
    "                    'OSOURCE',\n",
    "                    'TCODE',\n",
    "                    'STATE',\n",
    "                    'CHILD03',\n",
    "                    'CHILD07',\n",
    "                    'CHILD12',\n",
    "                    'CHILD18',\n",
    "                    'NUMCHLD',\n",
    "                    'INCOME',\n",
    "                    'GENDER',\n",
    "                    'WEALTH1',\n",
    "                    'HIT',\n",
    "                    'MBCRAFT',\n",
    "                    'MBGARDEN',\n",
    "                    'MBBOOKS',\n",
    "                    'MBCOLECT',\n",
    "                    'MAGFAML',\n",
    "                    'MAGFEM',\n",
    "                    'MAGMALE',\n",
    "                    'PUBGARDN',\n",
    "                    'PUBCULIN',\n",
    "                    'PUBHLTH',\n",
    "                    'PUBDOITY',\n",
    "                    'PUBNEWFN',\n",
    "                    'PUBPHOTO',\n",
    "                    'PUBOPP',\n",
    "                    'DATASRCE',\n",
    "                    'MALEMILI',\n",
    "                    'MALEVET',\n",
    "                    'VIETVETS',\n",
    "                    'WWIIVETS',\n",
    "                    'LOCALGOV',\n",
    "                    'STATEGOV',\n",
    "                    'FEDGOV',\n",
    "                    'WEALTH2',\n",
    "                    'LIFESRC',\n",
    "                    'CARDPROM',\n",
    "                    'NUMPROM',\n",
    "                    'CARDPM12',\n",
    "                    'NUMPRM12',\n",
    "                    'RAMNTALL',\n",
    "                    'NGIFTALL',\n",
    "                    'CARDGIFT',\n",
    "                    'MINRAMNT',\n",
    "                    'MAXRAMNT',\n",
    "                    'LASTGIFT',\n",
    "                    'TIMELAG',\n",
    "                    'AVGGIFT',\n",
    "                    'HPHONE_D',\n",
    "                    'GEOCODE2'\n",
    "                    ]"
   ]
  },
  {
   "cell_type": "code",
   "execution_count": 7,
   "metadata": {},
   "outputs": [],
   "source": [
    "dataprep = pd.DataFrame(df[ColumnsToPassOver])"
   ]
  },
  {
   "cell_type": "code",
   "execution_count": 8,
   "metadata": {},
   "outputs": [],
   "source": [
    "# MAILCODE variable indicates if the address is ok or not, transforming in Boolean.\n",
    "def prepMAILCODE(Code):\n",
    "    if Code == 'B':\n",
    "        return 0 #Bad Address\n",
    "    else:\n",
    "        return 1 #Address is OK\n",
    "\n",
    "dataprep['MAILCODE'] = df['MAILCODE'].apply(prepMAILCODE)"
   ]
  },
  {
   "cell_type": "code",
   "execution_count": 9,
   "metadata": {},
   "outputs": [],
   "source": [
    "# ZIP has some incorrect characters. Cleaning that up.\n",
    "def prepZIP(ZIP):\n",
    "    return ZIP.replace('-','')\n",
    "\n",
    "dataprep['ZIP'] = df['ZIP'].apply(prepZIP)"
   ]
  },
  {
   "cell_type": "code",
   "execution_count": 10,
   "metadata": {},
   "outputs": [],
   "source": [
    "# PVASTATE indicates if the donor lives in a state served by the EPVA. Transforming to Bool\n",
    "def prepPVASTATE(Code):\n",
    "    if Code == 'P':\n",
    "        return 1 #PVA State\n",
    "    else:\n",
    "        return 0 #EPVA State (Northeastern US)\n",
    "\n",
    "dataprep['PVASTATE'] = df['PVASTATE'].apply(prepPVASTATE)"
   ]
  },
  {
   "cell_type": "code",
   "execution_count": 11,
   "metadata": {},
   "outputs": [],
   "source": [
    "# NOEXCH indicates the exchange flag. Transforming to Bool\n",
    "def prepNOEXCH(Code):\n",
    "    if Code == 'X':\n",
    "        return 0 #Can't be exchanged\n",
    "    else:\n",
    "        return 1 #Can be exchanged\n",
    "\n",
    "dataprep['NOEXCH'] = df['NOEXCH'].apply(prepNOEXCH)"
   ]
  },
  {
   "cell_type": "code",
   "execution_count": 12,
   "metadata": {},
   "outputs": [],
   "source": [
    "# NOEXCH indicates the inhouse flag. Transforming to Bool\n",
    "def prepRECINHSE(Code):\n",
    "    if Code == 'X':\n",
    "        return 1 #Donor has given to PVA's In House program\n",
    "    else:\n",
    "        return 0 #Not an In House Record\n",
    "\n",
    "dataprep['RECINHSE'] = df['RECINHSE'].apply(prepRECINHSE)"
   ]
  },
  {
   "cell_type": "code",
   "execution_count": 13,
   "metadata": {},
   "outputs": [],
   "source": [
    "# RECP3 indicates the p3 flag. Transforming to Bool\n",
    "def prepRECP3(Code):\n",
    "    if Code == 'X':\n",
    "        return 1 #Donor has given to PVA's P3 program\n",
    "    else:\n",
    "        return 0 #Not a P3 Record\n",
    "\n",
    "dataprep['RECP3'] = df['RECP3'].apply(prepRECP3)"
   ]
  },
  {
   "cell_type": "code",
   "execution_count": 14,
   "metadata": {},
   "outputs": [],
   "source": [
    "# RECPGVG indicates the planned giving flag. Transforming to Bool\n",
    "def prepRECPGVG(Code):\n",
    "    if Code == 'X':\n",
    "        return 1 #Planned Giving Record\n",
    "    else:\n",
    "        return 0 #Not a Planned Giving Record\n",
    "\n",
    "dataprep['RECPGVG'] = df['RECPGVG'].apply(prepRECPGVG)"
   ]
  },
  {
   "cell_type": "code",
   "execution_count": 15,
   "metadata": {},
   "outputs": [],
   "source": [
    "# RECSWEEP indicates the sweepstakes flag. Transforming to Bool\n",
    "def prepRECSWEEP(Code):\n",
    "    if Code == 'X':\n",
    "        return 1 #Sweepstakes Record\n",
    "    else:\n",
    "        return 0 #Not a Sweepstakes Record\n",
    "\n",
    "dataprep['RECSWEEP'] = df['RECSWEEP'].apply(prepRECSWEEP)"
   ]
  },
  {
   "cell_type": "code",
   "execution_count": 16,
   "metadata": {},
   "outputs": [],
   "source": [
    "# MDMAUD handling\n",
    "# If X, it is not a major donor\n",
    "# First byte: Recency of Giving\n",
    "#     C=Current Donor\n",
    "#     L=Lapsed Donor\n",
    "#     I=Inactive Donor\n",
    "#     D=Dormant Donor\n",
    "\n",
    "# 2nd byte: Frequency of Giving\n",
    "#     1=One gift in the period of recency\n",
    "#     2=Two-Four gifts in the period of recency\n",
    "#     5=Five+ gifts in the period of recency\n",
    "\n",
    "# 3rd byte: Amount of Giving\n",
    "#     L=Less than $100(Low Dollar)\n",
    "#     C=$100-499(Core)\n",
    "#     M=$500-999(Major)\n",
    "#     T=$1,000+(Top)\n",
    "\n",
    "def prepMAJORDONOR(Code):\n",
    "    if Code[0] == 'X':\n",
    "        return 0\n",
    "    else:\n",
    "        return 1\n",
    "    \n",
    "dataprep['MAJORDONOR'] = df['MDMAUD'].apply(prepMAJORDONOR)\n",
    "dataprep['GIVING_FREQUENCY'] = df['MDMAUD'].apply(lambda x: x[1] if x[0] != 'X' else 0)\n",
    "dataprep['GIVING_AMOUNT'] = df['MDMAUD'].apply(lambda x: x[2] if x[0] != 'X' else 0)"
   ]
  },
  {
   "cell_type": "code",
   "execution_count": 17,
   "metadata": {},
   "outputs": [],
   "source": [
    "# DOMAIN handling\n",
    "# 1st byte = Urbanicity level of the donor's neighborhood\n",
    "#     U=Urban\n",
    "#     C=City\n",
    "#     S=Suburban\n",
    "#     T=Town\n",
    "#     R=Rural\n",
    "\n",
    "# 2nd byte = Socio-Economic status of the neighborhood\n",
    "#     1 = Highest SES\n",
    "#     2 = Average SES\n",
    "#     3 = Lowest SES \n",
    "#     (except for Urban communities, where\n",
    "#       1 = Highest SES, \n",
    "#       2 = Above average SES,\n",
    "#       3 = Below average SES, \n",
    "#       4 = Lowest SES.)\n",
    "\n",
    "def prepDONORURBANICITY(Code):\n",
    "    if Code == ' ':\n",
    "        return 0 #Empty\n",
    "    elif Code != 'U2' and Code != 'U3':\n",
    "        if Code[1] == '1':\n",
    "            return 1 #Highest SES\n",
    "        elif Code[1] == '2':\n",
    "            return 3 #Average SES\n",
    "        else:\n",
    "            return 5 #Lowest SES\n",
    "    else:\n",
    "        if Code[1] == '2':\n",
    "            return 2 #Above average SES\n",
    "        else:\n",
    "            return 4 #Below average SES\n",
    "\n",
    "dataprep['DONOR_URBANICITY'] = df['DOMAIN'].apply(prepDONORURBANICITY)"
   ]
  },
  {
   "cell_type": "code",
   "execution_count": 18,
   "metadata": {},
   "outputs": [],
   "source": [
    "# HOMEOWNR handling\n",
    "def prepHOMEOWNR(Code):\n",
    "    if Code[0] == 'H':\n",
    "        return 1 #Home owner\n",
    "    else:\n",
    "        return 0 #Unknown\n",
    "    \n",
    "dataprep['HOMEOWNR'] = df['HOMEOWNR'].apply(prepHOMEOWNR)"
   ]
  },
  {
   "cell_type": "code",
   "execution_count": 19,
   "metadata": {},
   "outputs": [],
   "source": [
    "# CHILDXX handling\n",
    "def prepCHILD(Code):\n",
    "    if Code[0] == 'F':\n",
    "        return 1 #Female\n",
    "    elif Code[0] == 'M':\n",
    "        return 2 #Male\n",
    "    elif Code[0] == 'M':\n",
    "        return 3 #Both\n",
    "    else:\n",
    "        return 0 #Empty\n",
    "    \n",
    "dataprep['CHILD03'] = df['CHILD03'].apply(prepCHILD)\n",
    "dataprep['CHILD07'] = df['CHILD07'].apply(prepCHILD)\n",
    "dataprep['CHILD12'] = df['CHILD12'].apply(prepCHILD)\n",
    "dataprep['CHILD18'] = df['CHILD18'].apply(prepCHILD)"
   ]
  },
  {
   "cell_type": "code",
   "execution_count": 20,
   "metadata": {},
   "outputs": [],
   "source": [
    "# SOLP3 handling\n",
    "def prepSOLP3(Code):\n",
    "    if Code == '00':\n",
    "        return -1 #Do Not Solicit or Mail\n",
    "    elif Code == ' ':\n",
    "        return 0 #Can be mailed\n",
    "    else:\n",
    "        return int(Code) #Number of solicitations\n",
    "    \n",
    "dataprep['MAIL_SOLICITATION'] = df['SOLP3'].apply(prepSOLP3)"
   ]
  },
  {
   "cell_type": "code",
   "execution_count": 21,
   "metadata": {},
   "outputs": [],
   "source": [
    "# SOLIH handling\n",
    "def prepSOLIH(Code):\n",
    "    if Code == '00':\n",
    "        return -1 #Do Not Solicit or Mail\n",
    "    elif Code == ' ':\n",
    "        return 0 #Can be mailed\n",
    "    else:\n",
    "        return int(Code) #Number of solicitations\n",
    "    \n",
    "dataprep['INHOUSE_SOLICITATION'] = df['SOLIH'].apply(prepSOLP3)"
   ]
  },
  {
   "cell_type": "code",
   "execution_count": 22,
   "metadata": {},
   "outputs": [],
   "source": [
    "# PEPSTRFL\n",
    "def prepPEPSTRFL(Code):\n",
    "    if Code[0] == 'X':\n",
    "        return 1 #Has PEP Star RFA Status\n",
    "    else:\n",
    "        return 0 #Not considered to be a PEP Star\n",
    "    \n",
    "dataprep['PEPSTRFL'] = df['PEPSTRFL'].apply(prepPEPSTRFL)"
   ]
  },
  {
   "cell_type": "code",
   "execution_count": 23,
   "metadata": {},
   "outputs": [],
   "source": [
    "# handling Interests by donor\n",
    "\n",
    "dataprep['COLLECT1'] = df['COLLECT1'].apply(lambda x: 1 if x.lower() == 'y' else 0)\n",
    "dataprep['VETERANS'] = df['VETERANS'].apply(lambda x: 1 if x.lower() == 'y' else 0)\n",
    "dataprep['BIBLE'   ] = df['BIBLE'   ].apply(lambda x: 1 if x.lower() == 'y' else 0)\n",
    "dataprep['CATLG'   ] = df['CATLG'   ].apply(lambda x: 1 if x.lower() == 'y' else 0)\n",
    "dataprep['HOMEE'   ] = df['HOMEE'   ].apply(lambda x: 1 if x.lower() == 'y' else 0)\n",
    "dataprep['PETS'    ] = df['PETS'    ].apply(lambda x: 1 if x.lower() == 'y' else 0)\n",
    "dataprep['CDPLAY'  ] = df['CDPLAY'  ].apply(lambda x: 1 if x.lower() == 'y' else 0)\n",
    "dataprep['STEREO'  ] = df['STEREO'  ].apply(lambda x: 1 if x.lower() == 'y' else 0)\n",
    "dataprep['PCOWNERS'] = df['PCOWNERS'].apply(lambda x: 1 if x.lower() == 'y' else 0)\n",
    "dataprep['PHOTO'   ] = df['PHOTO'   ].apply(lambda x: 1 if x.lower() == 'y' else 0)\n",
    "dataprep['CRAFTS'  ] = df['CRAFTS'  ].apply(lambda x: 1 if x.lower() == 'y' else 0)\n",
    "dataprep['FISHER'  ] = df['FISHER'  ].apply(lambda x: 1 if x.lower() == 'y' else 0)\n",
    "dataprep['GARDENIN'] = df['GARDENIN'].apply(lambda x: 1 if x.lower() == 'y' else 0)\n",
    "dataprep['BOATS'   ] = df['BOATS'   ].apply(lambda x: 1 if x.lower() == 'y' else 0)\n",
    "dataprep['WALKER'  ] = df['WALKER'  ].apply(lambda x: 1 if x.lower() == 'y' else 0)\n",
    "dataprep['KIDSTUFF'] = df['KIDSTUFF'].apply(lambda x: 1 if x.lower() == 'y' else 0)\n",
    "dataprep['CARDS'   ] = df['CARDS'   ].apply(lambda x: 1 if x.lower() == 'y' else 0)\n",
    "dataprep['PLATES'  ] = df['PLATES'  ].apply(lambda x: 1 if x.lower() == 'y' else 0)"
   ]
  },
  {
   "cell_type": "code",
   "execution_count": 24,
   "metadata": {},
   "outputs": [],
   "source": [
    "# Converting DOB to datetime object\n",
    "dataprep['MAXADATE'] = pd.to_datetime(df['MAXADATE'])\n",
    "dataprep['MINRDATE'] = pd.to_datetime(df['MINRDATE'])\n",
    "dataprep['MAXRDATE'] = pd.to_datetime(df['MAXRDATE'])\n",
    "dataprep['LASTDATE'] = pd.to_datetime(df['LASTDATE'])\n",
    "dataprep['FISTDATE'] = pd.to_datetime(df['FISTDATE'])\n",
    "dataprep['NEXTDATE'] = pd.to_datetime(df['NEXTDATE'])\n",
    "dataprep['DOB'     ] = pd.to_datetime(df['DOB'     ])"
   ]
  },
  {
   "cell_type": "code",
   "execution_count": 25,
   "metadata": {},
   "outputs": [],
   "source": [
    "# Computing AGE from DOB\n",
    "dataprep['AGE'] = (pd.Timestamp('now') - pd.to_datetime(df['DOB'])).astype('<m8[Y]')"
   ]
  },
  {
   "cell_type": "code",
   "execution_count": 26,
   "metadata": {},
   "outputs": [],
   "source": [
    "for column in df.columns:\n",
    "    if column not in dataprep.columns:\n",
    "        dataprep[column] = df[column]"
   ]
  },
  {
   "cell_type": "code",
   "execution_count": 27,
   "metadata": {},
   "outputs": [
    {
     "name": "stdout",
     "output_type": "stream",
     "text": [
      "Numerical columns: 386\n",
      "Categorical columns: 96\n",
      "Total Columns: 482\n"
     ]
    }
   ],
   "source": [
    "numericDf = dataprep._get_numeric_data()\n",
    "categoricalDF = dataprep.drop(numericDf.columns, axis = 1)\n",
    "print('Numerical columns: ' + str(len(numericDf.columns)) +  '\\nCategorical columns: ' + str(len(categoricalDF.columns)))\n",
    "print('Total Columns: ' + str(len(dataprep.columns)))"
   ]
  },
  {
   "cell_type": "code",
   "execution_count": 28,
   "metadata": {},
   "outputs": [
    {
     "data": {
      "text/html": [
       "<div>\n",
       "<style scoped>\n",
       "    .dataframe tbody tr th:only-of-type {\n",
       "        vertical-align: middle;\n",
       "    }\n",
       "\n",
       "    .dataframe tbody tr th {\n",
       "        vertical-align: top;\n",
       "    }\n",
       "\n",
       "    .dataframe thead th {\n",
       "        text-align: right;\n",
       "    }\n",
       "</style>\n",
       "<table border=\"1\" class=\"dataframe\">\n",
       "  <thead>\n",
       "    <tr style=\"text-align: right;\">\n",
       "      <th></th>\n",
       "      <th>ODATEDW</th>\n",
       "      <th>OSOURCE</th>\n",
       "      <th>TCODE</th>\n",
       "      <th>STATE</th>\n",
       "      <th>CHILD03</th>\n",
       "      <th>CHILD07</th>\n",
       "      <th>CHILD12</th>\n",
       "      <th>CHILD18</th>\n",
       "      <th>NUMCHLD</th>\n",
       "      <th>INCOME</th>\n",
       "      <th>...</th>\n",
       "      <th>RAMNT_22</th>\n",
       "      <th>RAMNT_23</th>\n",
       "      <th>RAMNT_24</th>\n",
       "      <th>CONTROLN</th>\n",
       "      <th>RFA_2R</th>\n",
       "      <th>RFA_2F</th>\n",
       "      <th>RFA_2A</th>\n",
       "      <th>MDMAUD_R</th>\n",
       "      <th>MDMAUD_F</th>\n",
       "      <th>MDMAUD_A</th>\n",
       "    </tr>\n",
       "  </thead>\n",
       "  <tbody>\n",
       "    <tr>\n",
       "      <th>0</th>\n",
       "      <td>2009-01-01</td>\n",
       "      <td>GRI</td>\n",
       "      <td>0</td>\n",
       "      <td>IL</td>\n",
       "      <td>0</td>\n",
       "      <td>0</td>\n",
       "      <td>0</td>\n",
       "      <td>0</td>\n",
       "      <td>NaN</td>\n",
       "      <td>NaN</td>\n",
       "      <td>...</td>\n",
       "      <td>NaN</td>\n",
       "      <td>11.0</td>\n",
       "      <td>9.0</td>\n",
       "      <td>95515</td>\n",
       "      <td>L</td>\n",
       "      <td>4</td>\n",
       "      <td>E</td>\n",
       "      <td>X</td>\n",
       "      <td>X</td>\n",
       "      <td>X</td>\n",
       "    </tr>\n",
       "    <tr>\n",
       "      <th>1</th>\n",
       "      <td>2014-01-01</td>\n",
       "      <td>BOA</td>\n",
       "      <td>1</td>\n",
       "      <td>CA</td>\n",
       "      <td>0</td>\n",
       "      <td>0</td>\n",
       "      <td>0</td>\n",
       "      <td>2</td>\n",
       "      <td>1.0</td>\n",
       "      <td>6.0</td>\n",
       "      <td>...</td>\n",
       "      <td>NaN</td>\n",
       "      <td>NaN</td>\n",
       "      <td>NaN</td>\n",
       "      <td>148535</td>\n",
       "      <td>L</td>\n",
       "      <td>2</td>\n",
       "      <td>G</td>\n",
       "      <td>X</td>\n",
       "      <td>X</td>\n",
       "      <td>X</td>\n",
       "    </tr>\n",
       "    <tr>\n",
       "      <th>2</th>\n",
       "      <td>2010-01-01</td>\n",
       "      <td>AMH</td>\n",
       "      <td>1</td>\n",
       "      <td>NC</td>\n",
       "      <td>0</td>\n",
       "      <td>0</td>\n",
       "      <td>0</td>\n",
       "      <td>0</td>\n",
       "      <td>NaN</td>\n",
       "      <td>3.0</td>\n",
       "      <td>...</td>\n",
       "      <td>8.0</td>\n",
       "      <td>7.0</td>\n",
       "      <td>6.0</td>\n",
       "      <td>15078</td>\n",
       "      <td>L</td>\n",
       "      <td>4</td>\n",
       "      <td>E</td>\n",
       "      <td>X</td>\n",
       "      <td>X</td>\n",
       "      <td>X</td>\n",
       "    </tr>\n",
       "    <tr>\n",
       "      <th>3</th>\n",
       "      <td>2007-01-01</td>\n",
       "      <td>BRY</td>\n",
       "      <td>0</td>\n",
       "      <td>CA</td>\n",
       "      <td>0</td>\n",
       "      <td>0</td>\n",
       "      <td>0</td>\n",
       "      <td>0</td>\n",
       "      <td>NaN</td>\n",
       "      <td>1.0</td>\n",
       "      <td>...</td>\n",
       "      <td>NaN</td>\n",
       "      <td>NaN</td>\n",
       "      <td>NaN</td>\n",
       "      <td>172556</td>\n",
       "      <td>L</td>\n",
       "      <td>4</td>\n",
       "      <td>E</td>\n",
       "      <td>X</td>\n",
       "      <td>X</td>\n",
       "      <td>X</td>\n",
       "    </tr>\n",
       "    <tr>\n",
       "      <th>4</th>\n",
       "      <td>2006-01-01</td>\n",
       "      <td></td>\n",
       "      <td>0</td>\n",
       "      <td>FL</td>\n",
       "      <td>0</td>\n",
       "      <td>0</td>\n",
       "      <td>0</td>\n",
       "      <td>0</td>\n",
       "      <td>1.0</td>\n",
       "      <td>3.0</td>\n",
       "      <td>...</td>\n",
       "      <td>NaN</td>\n",
       "      <td>NaN</td>\n",
       "      <td>NaN</td>\n",
       "      <td>7112</td>\n",
       "      <td>L</td>\n",
       "      <td>2</td>\n",
       "      <td>F</td>\n",
       "      <td>X</td>\n",
       "      <td>X</td>\n",
       "      <td>X</td>\n",
       "    </tr>\n",
       "  </tbody>\n",
       "</table>\n",
       "<p>5 rows × 482 columns</p>\n",
       "</div>"
      ],
      "text/plain": [
       "      ODATEDW OSOURCE  TCODE STATE  CHILD03  CHILD07  CHILD12  CHILD18  \\\n",
       "0  2009-01-01     GRI      0    IL        0        0        0        0   \n",
       "1  2014-01-01     BOA      1    CA        0        0        0        2   \n",
       "2  2010-01-01     AMH      1    NC        0        0        0        0   \n",
       "3  2007-01-01     BRY      0    CA        0        0        0        0   \n",
       "4  2006-01-01              0    FL        0        0        0        0   \n",
       "\n",
       "   NUMCHLD  INCOME  ... RAMNT_22  RAMNT_23  RAMNT_24  CONTROLN  RFA_2R  \\\n",
       "0      NaN     NaN  ...      NaN      11.0       9.0     95515       L   \n",
       "1      1.0     6.0  ...      NaN       NaN       NaN    148535       L   \n",
       "2      NaN     3.0  ...      8.0       7.0       6.0     15078       L   \n",
       "3      NaN     1.0  ...      NaN       NaN       NaN    172556       L   \n",
       "4      1.0     3.0  ...      NaN       NaN       NaN      7112       L   \n",
       "\n",
       "   RFA_2F  RFA_2A  MDMAUD_R  MDMAUD_F  MDMAUD_A  \n",
       "0       4       E         X         X         X  \n",
       "1       2       G         X         X         X  \n",
       "2       4       E         X         X         X  \n",
       "3       4       E         X         X         X  \n",
       "4       2       F         X         X         X  \n",
       "\n",
       "[5 rows x 482 columns]"
      ]
     },
     "execution_count": 28,
     "metadata": {},
     "output_type": "execute_result"
    }
   ],
   "source": [
    "dataprep.head()"
   ]
  },
  {
   "cell_type": "markdown",
   "metadata": {},
   "source": [
    "# Drop columns based on Valid Observations"
   ]
  },
  {
   "cell_type": "code",
   "execution_count": 29,
   "metadata": {},
   "outputs": [],
   "source": [
    "# https://www.kdnuggets.com/2015/05/7-methods-data-dimensionality-reduction.html"
   ]
  },
  {
   "cell_type": "code",
   "execution_count": 30,
   "metadata": {},
   "outputs": [],
   "source": [
    "data_FeatElimination = dataprep.copy()"
   ]
  },
  {
   "cell_type": "code",
   "execution_count": 31,
   "metadata": {},
   "outputs": [
    {
     "name": "stdout",
     "output_type": "stream",
     "text": [
      "Numerical columns: 386\n",
      "Categorical columns: 96\n",
      "Total Columns: 482\n"
     ]
    }
   ],
   "source": [
    "numericDf = data_FeatElimination._get_numeric_data()\n",
    "categoricalDF = data_FeatElimination.drop(numericDf.columns, axis = 1)\n",
    "print('Numerical columns: ' + str(len(numericDf.columns)) +  '\\nCategorical columns: ' + str(len(categoricalDF.columns)))\n",
    "print('Total Columns: ' + str(len(data_FeatElimination.columns)))"
   ]
  },
  {
   "cell_type": "code",
   "execution_count": 32,
   "metadata": {},
   "outputs": [],
   "source": [
    "import math\n",
    "\n",
    "ThresholdToIgnore = 0.4\n",
    "\n",
    "MinimumValidSamples = math.floor(data_FeatElimination.shape[0] * ThresholdToIgnore)\n",
    "for column in data_FeatElimination:\n",
    "    count = data_FeatElimination[column].count()\n",
    "    if count < MinimumValidSamples:\n",
    "        #print(f\"{column} , Valid Observations: {count}\")\n",
    "        data_FeatElimination.drop(column,axis=1, inplace=True)"
   ]
  },
  {
   "cell_type": "code",
   "execution_count": 33,
   "metadata": {},
   "outputs": [
    {
     "name": "stdout",
     "output_type": "stream",
     "text": [
      "Numerical columns: 363\n",
      "Categorical columns: 73\n",
      "Total Columns: 436\n"
     ]
    }
   ],
   "source": [
    "numericDf = data_FeatElimination._get_numeric_data()\n",
    "categoricalDF = data_FeatElimination.drop(numericDf.columns, axis = 1)\n",
    "print('Numerical columns: ' + str(len(numericDf.columns)) +  '\\nCategorical columns: ' + str(len(categoricalDF.columns)))\n",
    "print('Total Columns: ' + str(len(data_FeatElimination.columns)))"
   ]
  },
  {
   "cell_type": "markdown",
   "metadata": {},
   "source": [
    "# Scaling the data"
   ]
  },
  {
   "cell_type": "code",
   "execution_count": 34,
   "metadata": {},
   "outputs": [],
   "source": [
    "from sklearn.preprocessing import MinMaxScaler\n",
    "scaler = MinMaxScaler(feature_range=(-1, 1))\n",
    "data_FeatElimination[numericDf.columns] = scaler.fit_transform(numericDf)"
   ]
  },
  {
   "cell_type": "code",
   "execution_count": 35,
   "metadata": {},
   "outputs": [
    {
     "name": "stdout",
     "output_type": "stream",
     "text": [
      "Numerical columns: 363\n",
      "Categorical columns: 73\n",
      "Total Columns: 436\n"
     ]
    }
   ],
   "source": [
    "numericDf = data_FeatElimination._get_numeric_data()\n",
    "categoricalDF = data_FeatElimination.drop(numericDf.columns, axis = 1)\n",
    "print('Numerical columns: ' + str(len(numericDf.columns)) +  '\\nCategorical columns: ' + str(len(categoricalDF.columns)))\n",
    "print('Total Columns: ' + str(len(data_FeatElimination.columns)))"
   ]
  },
  {
   "cell_type": "markdown",
   "metadata": {},
   "source": [
    "# Correlation"
   ]
  },
  {
   "cell_type": "code",
   "execution_count": 36,
   "metadata": {},
   "outputs": [],
   "source": [
    "corPearson = numericDf.corr().abs()\n",
    "\n",
    "# Select upper triangle of correlation matrix\n",
    "upper = corPearson.where(np.triu(np.ones(corPearson.shape), k=1).astype(np.bool))\n",
    "\n",
    "# Find features with correlation greater than 0.90 and lower than 0.3\n",
    "HighCorrelation = [column for column in upper.columns if any(upper[column] > 0.90)]\n",
    "LowCorrelation = [column for column in upper.columns if max(upper[column]) < 0.30]\n",
    "\n",
    "# Drop features \n",
    "data_FeatElimination.drop(HighCorrelation, axis=1, inplace=True)\n",
    "data_FeatElimination.drop(LowCorrelation, axis=1, inplace=True)"
   ]
  },
  {
   "cell_type": "code",
   "execution_count": 37,
   "metadata": {},
   "outputs": [
    {
     "name": "stdout",
     "output_type": "stream",
     "text": [
      "Numerical columns: 234\n",
      "Categorical columns: 73\n",
      "Total Columns: 307\n"
     ]
    }
   ],
   "source": [
    "numericDf = data_FeatElimination._get_numeric_data()\n",
    "categoricalDF = data_FeatElimination.drop(numericDf.columns, axis = 1)\n",
    "print('Numerical columns: ' + str(len(numericDf.columns)) +  '\\nCategorical columns: ' + str(len(categoricalDF.columns)))\n",
    "print('Total Columns: ' + str(len(data_FeatElimination.columns)))"
   ]
  },
  {
   "cell_type": "markdown",
   "metadata": {},
   "source": [
    "# Variance"
   ]
  },
  {
   "cell_type": "code",
   "execution_count": 38,
   "metadata": {},
   "outputs": [],
   "source": [
    "VarianceThreshold = 0.01\n",
    "\n",
    "for column in numericDf:\n",
    "    if VarianceThreshold > data_FeatElimination[column].var():\n",
    "        data_FeatElimination.drop(column,axis=1,inplace=True)"
   ]
  },
  {
   "cell_type": "code",
   "execution_count": 39,
   "metadata": {},
   "outputs": [
    {
     "name": "stdout",
     "output_type": "stream",
     "text": [
      "Numerical columns: 178\n",
      "Categorical columns: 73\n",
      "Total Columns: 251\n"
     ]
    }
   ],
   "source": [
    "numericDf = data_FeatElimination._get_numeric_data()\n",
    "categoricalDF = data_FeatElimination.drop(numericDf.columns, axis = 1)\n",
    "print('Numerical columns: ' + str(len(numericDf.columns)) +  '\\nCategorical columns: ' + str(len(categoricalDF.columns)))\n",
    "print('Total Columns: ' + str(len(data_FeatElimination.columns)))"
   ]
  },
  {
   "cell_type": "code",
   "execution_count": 40,
   "metadata": {},
   "outputs": [
    {
     "data": {
      "text/html": [
       "<div>\n",
       "<style scoped>\n",
       "    .dataframe tbody tr th:only-of-type {\n",
       "        vertical-align: middle;\n",
       "    }\n",
       "\n",
       "    .dataframe tbody tr th {\n",
       "        vertical-align: top;\n",
       "    }\n",
       "\n",
       "    .dataframe thead th {\n",
       "        text-align: right;\n",
       "    }\n",
       "</style>\n",
       "<table border=\"1\" class=\"dataframe\">\n",
       "  <thead>\n",
       "    <tr style=\"text-align: right;\">\n",
       "      <th></th>\n",
       "      <th>ODATEDW</th>\n",
       "      <th>OSOURCE</th>\n",
       "      <th>STATE</th>\n",
       "      <th>GENDER</th>\n",
       "      <th>WEALTH1</th>\n",
       "      <th>MBBOOKS</th>\n",
       "      <th>MAGFAML</th>\n",
       "      <th>MAGFEM</th>\n",
       "      <th>PUBGARDN</th>\n",
       "      <th>PUBCULIN</th>\n",
       "      <th>...</th>\n",
       "      <th>RFA_22</th>\n",
       "      <th>RFA_23</th>\n",
       "      <th>RFA_24</th>\n",
       "      <th>CONTROLN</th>\n",
       "      <th>RFA_2R</th>\n",
       "      <th>RFA_2F</th>\n",
       "      <th>RFA_2A</th>\n",
       "      <th>MDMAUD_R</th>\n",
       "      <th>MDMAUD_F</th>\n",
       "      <th>MDMAUD_A</th>\n",
       "    </tr>\n",
       "  </thead>\n",
       "  <tbody>\n",
       "    <tr>\n",
       "      <th>0</th>\n",
       "      <td>2009-01-01</td>\n",
       "      <td>GRI</td>\n",
       "      <td>IL</td>\n",
       "      <td>F</td>\n",
       "      <td>NaN</td>\n",
       "      <td>NaN</td>\n",
       "      <td>NaN</td>\n",
       "      <td>NaN</td>\n",
       "      <td>NaN</td>\n",
       "      <td>NaN</td>\n",
       "      <td>...</td>\n",
       "      <td>S4E</td>\n",
       "      <td>S4E</td>\n",
       "      <td>S4E</td>\n",
       "      <td>-0.003911</td>\n",
       "      <td>L</td>\n",
       "      <td>1.000000</td>\n",
       "      <td>E</td>\n",
       "      <td>X</td>\n",
       "      <td>X</td>\n",
       "      <td>X</td>\n",
       "    </tr>\n",
       "    <tr>\n",
       "      <th>1</th>\n",
       "      <td>2014-01-01</td>\n",
       "      <td>BOA</td>\n",
       "      <td>CA</td>\n",
       "      <td>M</td>\n",
       "      <td>1.000000</td>\n",
       "      <td>-0.333333</td>\n",
       "      <td>-0.777778</td>\n",
       "      <td>-0.6</td>\n",
       "      <td>-1.0</td>\n",
       "      <td>-1.0</td>\n",
       "      <td>...</td>\n",
       "      <td>N1E</td>\n",
       "      <td></td>\n",
       "      <td>F1E</td>\n",
       "      <td>0.549020</td>\n",
       "      <td>L</td>\n",
       "      <td>-0.333333</td>\n",
       "      <td>G</td>\n",
       "      <td>X</td>\n",
       "      <td>X</td>\n",
       "      <td>X</td>\n",
       "    </tr>\n",
       "    <tr>\n",
       "      <th>2</th>\n",
       "      <td>2010-01-01</td>\n",
       "      <td>AMH</td>\n",
       "      <td>NC</td>\n",
       "      <td>M</td>\n",
       "      <td>-0.777778</td>\n",
       "      <td>-0.777778</td>\n",
       "      <td>-1.000000</td>\n",
       "      <td>-1.0</td>\n",
       "      <td>-1.0</td>\n",
       "      <td>-1.0</td>\n",
       "      <td>...</td>\n",
       "      <td>S4D</td>\n",
       "      <td>S4D</td>\n",
       "      <td>S3D</td>\n",
       "      <td>-0.842766</td>\n",
       "      <td>L</td>\n",
       "      <td>1.000000</td>\n",
       "      <td>E</td>\n",
       "      <td>X</td>\n",
       "      <td>X</td>\n",
       "      <td>X</td>\n",
       "    </tr>\n",
       "    <tr>\n",
       "      <th>3</th>\n",
       "      <td>2007-01-01</td>\n",
       "      <td>BRY</td>\n",
       "      <td>CA</td>\n",
       "      <td>F</td>\n",
       "      <td>-0.111111</td>\n",
       "      <td>-1.000000</td>\n",
       "      <td>-1.000000</td>\n",
       "      <td>-1.0</td>\n",
       "      <td>-1.0</td>\n",
       "      <td>-1.0</td>\n",
       "      <td>...</td>\n",
       "      <td>A1D</td>\n",
       "      <td></td>\n",
       "      <td></td>\n",
       "      <td>0.799529</td>\n",
       "      <td>L</td>\n",
       "      <td>1.000000</td>\n",
       "      <td>E</td>\n",
       "      <td>X</td>\n",
       "      <td>X</td>\n",
       "      <td>X</td>\n",
       "    </tr>\n",
       "    <tr>\n",
       "      <th>4</th>\n",
       "      <td>2006-01-01</td>\n",
       "      <td></td>\n",
       "      <td>FL</td>\n",
       "      <td>F</td>\n",
       "      <td>-0.555556</td>\n",
       "      <td>1.000000</td>\n",
       "      <td>-0.111111</td>\n",
       "      <td>-0.6</td>\n",
       "      <td>-1.0</td>\n",
       "      <td>-1.0</td>\n",
       "      <td>...</td>\n",
       "      <td>I4E</td>\n",
       "      <td>A3D</td>\n",
       "      <td>A3D</td>\n",
       "      <td>-0.925841</td>\n",
       "      <td>L</td>\n",
       "      <td>-0.333333</td>\n",
       "      <td>F</td>\n",
       "      <td>X</td>\n",
       "      <td>X</td>\n",
       "      <td>X</td>\n",
       "    </tr>\n",
       "  </tbody>\n",
       "</table>\n",
       "<p>5 rows × 251 columns</p>\n",
       "</div>"
      ],
      "text/plain": [
       "      ODATEDW OSOURCE STATE GENDER   WEALTH1   MBBOOKS   MAGFAML  MAGFEM  \\\n",
       "0  2009-01-01     GRI    IL      F       NaN       NaN       NaN     NaN   \n",
       "1  2014-01-01     BOA    CA      M  1.000000 -0.333333 -0.777778    -0.6   \n",
       "2  2010-01-01     AMH    NC      M -0.777778 -0.777778 -1.000000    -1.0   \n",
       "3  2007-01-01     BRY    CA      F -0.111111 -1.000000 -1.000000    -1.0   \n",
       "4  2006-01-01            FL      F -0.555556  1.000000 -0.111111    -0.6   \n",
       "\n",
       "   PUBGARDN  PUBCULIN  ...  RFA_22  RFA_23  RFA_24  CONTROLN  RFA_2R  \\\n",
       "0       NaN       NaN  ...     S4E     S4E     S4E -0.003911       L   \n",
       "1      -1.0      -1.0  ...     N1E             F1E  0.549020       L   \n",
       "2      -1.0      -1.0  ...     S4D     S4D     S3D -0.842766       L   \n",
       "3      -1.0      -1.0  ...     A1D                  0.799529       L   \n",
       "4      -1.0      -1.0  ...     I4E     A3D     A3D -0.925841       L   \n",
       "\n",
       "     RFA_2F RFA_2A  MDMAUD_R  MDMAUD_F MDMAUD_A  \n",
       "0  1.000000      E         X         X        X  \n",
       "1 -0.333333      G         X         X        X  \n",
       "2  1.000000      E         X         X        X  \n",
       "3  1.000000      E         X         X        X  \n",
       "4 -0.333333      F         X         X        X  \n",
       "\n",
       "[5 rows x 251 columns]"
      ]
     },
     "execution_count": 40,
     "metadata": {},
     "output_type": "execute_result"
    }
   ],
   "source": [
    "data_FeatElimination.head()"
   ]
  },
  {
   "cell_type": "markdown",
   "metadata": {},
   "source": [
    "# Missing Values"
   ]
  },
  {
   "cell_type": "code",
   "execution_count": 41,
   "metadata": {},
   "outputs": [],
   "source": [
    "df_MissingValues = data_FeatElimination.copy()"
   ]
  },
  {
   "cell_type": "code",
   "execution_count": 42,
   "metadata": {},
   "outputs": [
    {
     "name": "stdout",
     "output_type": "stream",
     "text": [
      "Numerical columns: 178\n",
      "Categorical columns: 73\n",
      "Total Columns: 251\n"
     ]
    }
   ],
   "source": [
    "numericDf = df_MissingValues._get_numeric_data()\n",
    "categoricalDF = df_MissingValues.drop(numericDf.columns, axis = 1)\n",
    "print('Numerical columns: ' + str(len(numericDf.columns)) +  '\\nCategorical columns: ' + str(len(categoricalDF.columns)))\n",
    "print('Total Columns: ' + str(len(df_MissingValues.columns)))"
   ]
  },
  {
   "cell_type": "code",
   "execution_count": 43,
   "metadata": {},
   "outputs": [],
   "source": [
    "Machine = 'StupidSlow'\n",
    "\n",
    "if Machine == 'StupidSlow':\n",
    "    for column in numericDf:\n",
    "        df_MissingValues.fillna(numericDf[column].mean(),inplace=True)\n",
    "else:\n",
    "    imputer = KNNImputer(n_neighbors = 5, weights = 'uniform')\n",
    "    df_MissingValues[numericDf.columns] = pd.DataFrame(imputer.fit_transform(numericDf))"
   ]
  },
  {
   "cell_type": "code",
   "execution_count": 44,
   "metadata": {},
   "outputs": [
    {
     "data": {
      "text/html": [
       "<div>\n",
       "<style scoped>\n",
       "    .dataframe tbody tr th:only-of-type {\n",
       "        vertical-align: middle;\n",
       "    }\n",
       "\n",
       "    .dataframe tbody tr th {\n",
       "        vertical-align: top;\n",
       "    }\n",
       "\n",
       "    .dataframe thead th {\n",
       "        text-align: right;\n",
       "    }\n",
       "</style>\n",
       "<table border=\"1\" class=\"dataframe\">\n",
       "  <thead>\n",
       "    <tr style=\"text-align: right;\">\n",
       "      <th></th>\n",
       "      <th>ODATEDW</th>\n",
       "      <th>OSOURCE</th>\n",
       "      <th>STATE</th>\n",
       "      <th>GENDER</th>\n",
       "      <th>WEALTH1</th>\n",
       "      <th>MBBOOKS</th>\n",
       "      <th>MAGFAML</th>\n",
       "      <th>MAGFEM</th>\n",
       "      <th>PUBGARDN</th>\n",
       "      <th>PUBCULIN</th>\n",
       "      <th>...</th>\n",
       "      <th>RFA_22</th>\n",
       "      <th>RFA_23</th>\n",
       "      <th>RFA_24</th>\n",
       "      <th>CONTROLN</th>\n",
       "      <th>RFA_2R</th>\n",
       "      <th>RFA_2F</th>\n",
       "      <th>RFA_2A</th>\n",
       "      <th>MDMAUD_R</th>\n",
       "      <th>MDMAUD_F</th>\n",
       "      <th>MDMAUD_A</th>\n",
       "    </tr>\n",
       "  </thead>\n",
       "  <tbody>\n",
       "    <tr>\n",
       "      <th>0</th>\n",
       "      <td>2009-01-01</td>\n",
       "      <td>GRI</td>\n",
       "      <td>IL</td>\n",
       "      <td>F</td>\n",
       "      <td>0.187933</td>\n",
       "      <td>0.187933</td>\n",
       "      <td>0.187933</td>\n",
       "      <td>0.187933</td>\n",
       "      <td>0.187933</td>\n",
       "      <td>0.187933</td>\n",
       "      <td>...</td>\n",
       "      <td>S4E</td>\n",
       "      <td>S4E</td>\n",
       "      <td>S4E</td>\n",
       "      <td>-0.003911</td>\n",
       "      <td>L</td>\n",
       "      <td>1.000000</td>\n",
       "      <td>E</td>\n",
       "      <td>X</td>\n",
       "      <td>X</td>\n",
       "      <td>X</td>\n",
       "    </tr>\n",
       "    <tr>\n",
       "      <th>1</th>\n",
       "      <td>2014-01-01</td>\n",
       "      <td>BOA</td>\n",
       "      <td>CA</td>\n",
       "      <td>M</td>\n",
       "      <td>1.000000</td>\n",
       "      <td>-0.333333</td>\n",
       "      <td>-0.777778</td>\n",
       "      <td>-0.600000</td>\n",
       "      <td>-1.000000</td>\n",
       "      <td>-1.000000</td>\n",
       "      <td>...</td>\n",
       "      <td>N1E</td>\n",
       "      <td></td>\n",
       "      <td>F1E</td>\n",
       "      <td>0.549020</td>\n",
       "      <td>L</td>\n",
       "      <td>-0.333333</td>\n",
       "      <td>G</td>\n",
       "      <td>X</td>\n",
       "      <td>X</td>\n",
       "      <td>X</td>\n",
       "    </tr>\n",
       "    <tr>\n",
       "      <th>2</th>\n",
       "      <td>2010-01-01</td>\n",
       "      <td>AMH</td>\n",
       "      <td>NC</td>\n",
       "      <td>M</td>\n",
       "      <td>-0.777778</td>\n",
       "      <td>-0.777778</td>\n",
       "      <td>-1.000000</td>\n",
       "      <td>-1.000000</td>\n",
       "      <td>-1.000000</td>\n",
       "      <td>-1.000000</td>\n",
       "      <td>...</td>\n",
       "      <td>S4D</td>\n",
       "      <td>S4D</td>\n",
       "      <td>S3D</td>\n",
       "      <td>-0.842766</td>\n",
       "      <td>L</td>\n",
       "      <td>1.000000</td>\n",
       "      <td>E</td>\n",
       "      <td>X</td>\n",
       "      <td>X</td>\n",
       "      <td>X</td>\n",
       "    </tr>\n",
       "    <tr>\n",
       "      <th>3</th>\n",
       "      <td>2007-01-01</td>\n",
       "      <td>BRY</td>\n",
       "      <td>CA</td>\n",
       "      <td>F</td>\n",
       "      <td>-0.111111</td>\n",
       "      <td>-1.000000</td>\n",
       "      <td>-1.000000</td>\n",
       "      <td>-1.000000</td>\n",
       "      <td>-1.000000</td>\n",
       "      <td>-1.000000</td>\n",
       "      <td>...</td>\n",
       "      <td>A1D</td>\n",
       "      <td></td>\n",
       "      <td></td>\n",
       "      <td>0.799529</td>\n",
       "      <td>L</td>\n",
       "      <td>1.000000</td>\n",
       "      <td>E</td>\n",
       "      <td>X</td>\n",
       "      <td>X</td>\n",
       "      <td>X</td>\n",
       "    </tr>\n",
       "    <tr>\n",
       "      <th>4</th>\n",
       "      <td>2006-01-01</td>\n",
       "      <td></td>\n",
       "      <td>FL</td>\n",
       "      <td>F</td>\n",
       "      <td>-0.555556</td>\n",
       "      <td>1.000000</td>\n",
       "      <td>-0.111111</td>\n",
       "      <td>-0.600000</td>\n",
       "      <td>-1.000000</td>\n",
       "      <td>-1.000000</td>\n",
       "      <td>...</td>\n",
       "      <td>I4E</td>\n",
       "      <td>A3D</td>\n",
       "      <td>A3D</td>\n",
       "      <td>-0.925841</td>\n",
       "      <td>L</td>\n",
       "      <td>-0.333333</td>\n",
       "      <td>F</td>\n",
       "      <td>X</td>\n",
       "      <td>X</td>\n",
       "      <td>X</td>\n",
       "    </tr>\n",
       "  </tbody>\n",
       "</table>\n",
       "<p>5 rows × 251 columns</p>\n",
       "</div>"
      ],
      "text/plain": [
       "      ODATEDW OSOURCE STATE GENDER   WEALTH1   MBBOOKS   MAGFAML    MAGFEM  \\\n",
       "0  2009-01-01     GRI    IL      F  0.187933  0.187933  0.187933  0.187933   \n",
       "1  2014-01-01     BOA    CA      M  1.000000 -0.333333 -0.777778 -0.600000   \n",
       "2  2010-01-01     AMH    NC      M -0.777778 -0.777778 -1.000000 -1.000000   \n",
       "3  2007-01-01     BRY    CA      F -0.111111 -1.000000 -1.000000 -1.000000   \n",
       "4  2006-01-01            FL      F -0.555556  1.000000 -0.111111 -0.600000   \n",
       "\n",
       "   PUBGARDN  PUBCULIN  ...  RFA_22  RFA_23  RFA_24  CONTROLN  RFA_2R  \\\n",
       "0  0.187933  0.187933  ...     S4E     S4E     S4E -0.003911       L   \n",
       "1 -1.000000 -1.000000  ...     N1E             F1E  0.549020       L   \n",
       "2 -1.000000 -1.000000  ...     S4D     S4D     S3D -0.842766       L   \n",
       "3 -1.000000 -1.000000  ...     A1D                  0.799529       L   \n",
       "4 -1.000000 -1.000000  ...     I4E     A3D     A3D -0.925841       L   \n",
       "\n",
       "     RFA_2F RFA_2A  MDMAUD_R  MDMAUD_F MDMAUD_A  \n",
       "0  1.000000      E         X         X        X  \n",
       "1 -0.333333      G         X         X        X  \n",
       "2  1.000000      E         X         X        X  \n",
       "3  1.000000      E         X         X        X  \n",
       "4 -0.333333      F         X         X        X  \n",
       "\n",
       "[5 rows x 251 columns]"
      ]
     },
     "execution_count": 44,
     "metadata": {},
     "output_type": "execute_result"
    }
   ],
   "source": [
    "df_MissingValues.head()"
   ]
  },
  {
   "cell_type": "markdown",
   "metadata": {},
   "source": [
    "# Outliers -- with IQR"
   ]
  },
  {
   "cell_type": "code",
   "execution_count": 45,
   "metadata": {},
   "outputs": [],
   "source": [
    "# q25 = df.quantile(.25)\n",
    "# q75 = df.quantile(.75)\n",
    "# iqr = (q75 - q25)\n",
    "\n",
    "# val = 20\n",
    "\n",
    "# upperLim = q75 + val * iqr\n",
    "# lowerLim = q25 - val * iqr\n",
    "\n",
    "# filters = []\n",
    "# for column in numericDf.columns:\n",
    "#     llim = lowerLim[column]\n",
    "#     ulim = upperLim[column]\n",
    "#     filters.append(df[column].between(llim, ulim, inclusive=True))\n",
    "\n",
    "# dfFilter = df[np.all(filters, 0)]\n",
    "# print('Percentage of data kept after removing outliers:', np.round(dfFilter.shape[0] / df.shape[0], 4))"
   ]
  },
  {
   "cell_type": "code",
   "execution_count": 46,
   "metadata": {},
   "outputs": [],
   "source": [
    "# dfFilter"
   ]
  },
  {
   "cell_type": "markdown",
   "metadata": {},
   "source": [
    "# Outliers -- with Isolation Forest"
   ]
  },
  {
   "cell_type": "code",
   "execution_count": 47,
   "metadata": {},
   "outputs": [],
   "source": [
    "df_Outliers = df_MissingValues.copy()"
   ]
  },
  {
   "cell_type": "code",
   "execution_count": 48,
   "metadata": {},
   "outputs": [
    {
     "name": "stdout",
     "output_type": "stream",
     "text": [
      "Numerical columns: 178\n",
      "Categorical columns: 73\n",
      "Total Columns: 251\n"
     ]
    }
   ],
   "source": [
    "numericDf = df_Outliers._get_numeric_data()\n",
    "categoricalDF = df_Outliers.drop(numericDf.columns, axis = 1)\n",
    "print('Numerical columns: ' + str(len(numericDf.columns)) +  '\\nCategorical columns: ' + str(len(categoricalDF.columns)))\n",
    "print('Total Columns: ' + str(len(df_Outliers.columns)))"
   ]
  },
  {
   "cell_type": "code",
   "execution_count": 49,
   "metadata": {},
   "outputs": [],
   "source": [
    "from sklearn.ensemble import IsolationForest\n",
    "\n",
    "IsoForest = IsolationForest(contamination=0.1)\n",
    "\n",
    "Labeling = IsoForest.fit_predict(numericDf)\n",
    "\n",
    "Labeling_bool = [True if x == 1 else False for x in Labeling]\n",
    "\n",
    "df_Outliers = df_Outliers.loc[Labeling_bool]"
   ]
  },
  {
   "cell_type": "code",
   "execution_count": 50,
   "metadata": {},
   "outputs": [
    {
     "data": {
      "text/html": [
       "<div>\n",
       "<style scoped>\n",
       "    .dataframe tbody tr th:only-of-type {\n",
       "        vertical-align: middle;\n",
       "    }\n",
       "\n",
       "    .dataframe tbody tr th {\n",
       "        vertical-align: top;\n",
       "    }\n",
       "\n",
       "    .dataframe thead th {\n",
       "        text-align: right;\n",
       "    }\n",
       "</style>\n",
       "<table border=\"1\" class=\"dataframe\">\n",
       "  <thead>\n",
       "    <tr style=\"text-align: right;\">\n",
       "      <th></th>\n",
       "      <th>ODATEDW</th>\n",
       "      <th>OSOURCE</th>\n",
       "      <th>STATE</th>\n",
       "      <th>GENDER</th>\n",
       "      <th>WEALTH1</th>\n",
       "      <th>MBBOOKS</th>\n",
       "      <th>MAGFAML</th>\n",
       "      <th>MAGFEM</th>\n",
       "      <th>PUBGARDN</th>\n",
       "      <th>PUBCULIN</th>\n",
       "      <th>...</th>\n",
       "      <th>RFA_22</th>\n",
       "      <th>RFA_23</th>\n",
       "      <th>RFA_24</th>\n",
       "      <th>CONTROLN</th>\n",
       "      <th>RFA_2R</th>\n",
       "      <th>RFA_2F</th>\n",
       "      <th>RFA_2A</th>\n",
       "      <th>MDMAUD_R</th>\n",
       "      <th>MDMAUD_F</th>\n",
       "      <th>MDMAUD_A</th>\n",
       "    </tr>\n",
       "  </thead>\n",
       "  <tbody>\n",
       "    <tr>\n",
       "      <th>0</th>\n",
       "      <td>2009-01-01</td>\n",
       "      <td>GRI</td>\n",
       "      <td>IL</td>\n",
       "      <td>F</td>\n",
       "      <td>0.187933</td>\n",
       "      <td>0.187933</td>\n",
       "      <td>0.187933</td>\n",
       "      <td>0.187933</td>\n",
       "      <td>0.187933</td>\n",
       "      <td>0.187933</td>\n",
       "      <td>...</td>\n",
       "      <td>S4E</td>\n",
       "      <td>S4E</td>\n",
       "      <td>S4E</td>\n",
       "      <td>-0.003911</td>\n",
       "      <td>L</td>\n",
       "      <td>1.000000</td>\n",
       "      <td>E</td>\n",
       "      <td>X</td>\n",
       "      <td>X</td>\n",
       "      <td>X</td>\n",
       "    </tr>\n",
       "    <tr>\n",
       "      <th>1</th>\n",
       "      <td>2014-01-01</td>\n",
       "      <td>BOA</td>\n",
       "      <td>CA</td>\n",
       "      <td>M</td>\n",
       "      <td>1.000000</td>\n",
       "      <td>-0.333333</td>\n",
       "      <td>-0.777778</td>\n",
       "      <td>-0.600000</td>\n",
       "      <td>-1.000000</td>\n",
       "      <td>-1.000000</td>\n",
       "      <td>...</td>\n",
       "      <td>N1E</td>\n",
       "      <td></td>\n",
       "      <td>F1E</td>\n",
       "      <td>0.549020</td>\n",
       "      <td>L</td>\n",
       "      <td>-0.333333</td>\n",
       "      <td>G</td>\n",
       "      <td>X</td>\n",
       "      <td>X</td>\n",
       "      <td>X</td>\n",
       "    </tr>\n",
       "    <tr>\n",
       "      <th>2</th>\n",
       "      <td>2010-01-01</td>\n",
       "      <td>AMH</td>\n",
       "      <td>NC</td>\n",
       "      <td>M</td>\n",
       "      <td>-0.777778</td>\n",
       "      <td>-0.777778</td>\n",
       "      <td>-1.000000</td>\n",
       "      <td>-1.000000</td>\n",
       "      <td>-1.000000</td>\n",
       "      <td>-1.000000</td>\n",
       "      <td>...</td>\n",
       "      <td>S4D</td>\n",
       "      <td>S4D</td>\n",
       "      <td>S3D</td>\n",
       "      <td>-0.842766</td>\n",
       "      <td>L</td>\n",
       "      <td>1.000000</td>\n",
       "      <td>E</td>\n",
       "      <td>X</td>\n",
       "      <td>X</td>\n",
       "      <td>X</td>\n",
       "    </tr>\n",
       "    <tr>\n",
       "      <th>3</th>\n",
       "      <td>2007-01-01</td>\n",
       "      <td>BRY</td>\n",
       "      <td>CA</td>\n",
       "      <td>F</td>\n",
       "      <td>-0.111111</td>\n",
       "      <td>-1.000000</td>\n",
       "      <td>-1.000000</td>\n",
       "      <td>-1.000000</td>\n",
       "      <td>-1.000000</td>\n",
       "      <td>-1.000000</td>\n",
       "      <td>...</td>\n",
       "      <td>A1D</td>\n",
       "      <td></td>\n",
       "      <td></td>\n",
       "      <td>0.799529</td>\n",
       "      <td>L</td>\n",
       "      <td>1.000000</td>\n",
       "      <td>E</td>\n",
       "      <td>X</td>\n",
       "      <td>X</td>\n",
       "      <td>X</td>\n",
       "    </tr>\n",
       "    <tr>\n",
       "      <th>5</th>\n",
       "      <td>2014-01-01</td>\n",
       "      <td>CWR</td>\n",
       "      <td>AL</td>\n",
       "      <td></td>\n",
       "      <td>0.187933</td>\n",
       "      <td>0.187933</td>\n",
       "      <td>0.187933</td>\n",
       "      <td>0.187933</td>\n",
       "      <td>0.187933</td>\n",
       "      <td>0.187933</td>\n",
       "      <td>...</td>\n",
       "      <td>N2E</td>\n",
       "      <td></td>\n",
       "      <td>F1E</td>\n",
       "      <td>-0.501684</td>\n",
       "      <td>L</td>\n",
       "      <td>-1.000000</td>\n",
       "      <td>F</td>\n",
       "      <td>X</td>\n",
       "      <td>X</td>\n",
       "      <td>X</td>\n",
       "    </tr>\n",
       "  </tbody>\n",
       "</table>\n",
       "<p>5 rows × 251 columns</p>\n",
       "</div>"
      ],
      "text/plain": [
       "      ODATEDW OSOURCE STATE GENDER   WEALTH1   MBBOOKS   MAGFAML    MAGFEM  \\\n",
       "0  2009-01-01     GRI    IL      F  0.187933  0.187933  0.187933  0.187933   \n",
       "1  2014-01-01     BOA    CA      M  1.000000 -0.333333 -0.777778 -0.600000   \n",
       "2  2010-01-01     AMH    NC      M -0.777778 -0.777778 -1.000000 -1.000000   \n",
       "3  2007-01-01     BRY    CA      F -0.111111 -1.000000 -1.000000 -1.000000   \n",
       "5  2014-01-01     CWR    AL         0.187933  0.187933  0.187933  0.187933   \n",
       "\n",
       "   PUBGARDN  PUBCULIN  ...  RFA_22  RFA_23  RFA_24  CONTROLN  RFA_2R  \\\n",
       "0  0.187933  0.187933  ...     S4E     S4E     S4E -0.003911       L   \n",
       "1 -1.000000 -1.000000  ...     N1E             F1E  0.549020       L   \n",
       "2 -1.000000 -1.000000  ...     S4D     S4D     S3D -0.842766       L   \n",
       "3 -1.000000 -1.000000  ...     A1D                  0.799529       L   \n",
       "5  0.187933  0.187933  ...     N2E             F1E -0.501684       L   \n",
       "\n",
       "     RFA_2F RFA_2A  MDMAUD_R  MDMAUD_F MDMAUD_A  \n",
       "0  1.000000      E         X         X        X  \n",
       "1 -0.333333      G         X         X        X  \n",
       "2  1.000000      E         X         X        X  \n",
       "3  1.000000      E         X         X        X  \n",
       "5 -1.000000      F         X         X        X  \n",
       "\n",
       "[5 rows x 251 columns]"
      ]
     },
     "execution_count": 50,
     "metadata": {},
     "output_type": "execute_result"
    }
   ],
   "source": [
    "df_Outliers.head()"
   ]
  },
  {
   "cell_type": "markdown",
   "metadata": {},
   "source": [
    "# PCA"
   ]
  },
  {
   "cell_type": "code",
   "execution_count": 51,
   "metadata": {},
   "outputs": [],
   "source": [
    "# https://jakevdp.github.io/PythonDataScienceHandbook/05.09-principal-component-analysis.html"
   ]
  },
  {
   "cell_type": "code",
   "execution_count": 52,
   "metadata": {},
   "outputs": [],
   "source": [
    "df_PCA = df_Outliers.copy()"
   ]
  },
  {
   "cell_type": "code",
   "execution_count": 53,
   "metadata": {},
   "outputs": [
    {
     "name": "stdout",
     "output_type": "stream",
     "text": [
      "Numerical columns: 178\n",
      "Categorical columns: 73\n",
      "Total Columns: 251\n"
     ]
    }
   ],
   "source": [
    "numericDf = df_PCA._get_numeric_data()\n",
    "categoricalDF = df_PCA.drop(numericDf.columns, axis = 1)\n",
    "print('Numerical columns: ' + str(len(numericDf.columns)) +  '\\nCategorical columns: ' + str(len(categoricalDF.columns)))\n",
    "print('Total Columns: ' + str(len(df_PCA.columns)))"
   ]
  },
  {
   "cell_type": "code",
   "execution_count": 54,
   "metadata": {},
   "outputs": [
    {
     "data": {
      "text/plain": [
       "PCA()"
      ]
     },
     "execution_count": 54,
     "metadata": {},
     "output_type": "execute_result"
    }
   ],
   "source": [
    "pca = PCA(n_components=None)\n",
    "pca.fit(numericDf)"
   ]
  },
  {
   "cell_type": "code",
   "execution_count": 123,
   "metadata": {},
   "outputs": [
    {
     "data": {
      "text/plain": [
       "array([0.1451277 , 0.11438121, 0.09348961])"
      ]
     },
     "execution_count": 123,
     "metadata": {},
     "output_type": "execute_result"
    }
   ],
   "source": [
    "pca.explained_variance_ratio_[0:3]"
   ]
  },
  {
   "cell_type": "code",
   "execution_count": 55,
   "metadata": {},
   "outputs": [
    {
     "data": {
      "image/png": "[encoded data removed]",
      "text/plain": [
       "<Figure size 432x288 with 1 Axes>"
      ]
     },
     "metadata": {
      "needs_background": "light"
     },
     "output_type": "display_data"
    }
   ],
   "source": [
    "plt.plot(np.cumsum(pca.explained_variance_ratio_))\n",
    "plt.xlabel('number of components')\n",
    "plt.ylabel('cumulative explained variance');"
   ]
  },
  {
   "cell_type": "code",
   "execution_count": 102,
   "metadata": {},
   "outputs": [],
   "source": [
    "pca = PCA(n_components=10)\n",
    "pca.fit(numericDf)\n",
    "numericDf_pca = pca.transform(numericDf)"
   ]
  },
  {
   "cell_type": "code",
   "execution_count": 103,
   "metadata": {},
   "outputs": [
    {
     "data": {
      "text/plain": [
       "(85870, 10)"
      ]
     },
     "execution_count": 103,
     "metadata": {},
     "output_type": "execute_result"
    }
   ],
   "source": [
    "numericDf_pca.shape"
   ]
  },
  {
   "cell_type": "markdown",
   "metadata": {},
   "source": [
    "# Clustering"
   ]
  },
  {
   "cell_type": "code",
   "execution_count": 78,
   "metadata": {},
   "outputs": [],
   "source": [
    "def ClusterMetrics(df,labels):\n",
    "    from sklearn.metrics import silhouette_score, calinski_harabasz_score, davies_bouldin_score\n",
    "    \n",
    "    Silhouette = silhouette_score(df, labels, metric='euclidean')\n",
    "    print(f\"Silhouette : {Silhouette}\")\n",
    "    CalinskiHarabasz = calinski_harabasz_score(df, labels)\n",
    "    print(f\"CalinskiHarabasz : {CalinskiHarabasz}\")\n",
    "    DaviesBouldin = davies_bouldin_score(df, labels)\n",
    "    print(f\"DaviesBouldin : {DaviesBouldin}\")\n",
    "    return [Silhouette, CalinskiHarabasz, DaviesBouldin]"
   ]
  },
  {
   "cell_type": "markdown",
   "metadata": {},
   "source": [
    "## K Means"
   ]
  },
  {
   "cell_type": "code",
   "execution_count": 104,
   "metadata": {},
   "outputs": [],
   "source": [
    "df_clustering = numericDf_pca.copy()"
   ]
  },
  {
   "cell_type": "code",
   "execution_count": 105,
   "metadata": {},
   "outputs": [],
   "source": [
    "def inertiaCalculationKmeans(df):   \n",
    "    numberClusters = range(1, 11)\n",
    "    inertiaResults = []\n",
    "    for n_clus in numberClusters:\n",
    "        kmclust = KMeans(n_clusters = n_clus, init = 'k-means++', n_init = 15, random_state=1)\n",
    "        kmclust.fit(df)\n",
    "        inertiaResults.append(kmclust.inertia_)\n",
    "    return inertiaResults"
   ]
  },
  {
   "cell_type": "code",
   "execution_count": 106,
   "metadata": {},
   "outputs": [],
   "source": [
    "Inertia = inertiaCalculationKmeans(df_clustering)"
   ]
  },
  {
   "cell_type": "code",
   "execution_count": 107,
   "metadata": {},
   "outputs": [
    {
     "data": {
      "image/png": "[encoded data removed]",
      "text/plain": [
       "<Figure size 648x360 with 1 Axes>"
      ]
     },
     "metadata": {
      "needs_background": "light"
     },
     "output_type": "display_data"
    }
   ],
   "source": [
    "plt.figure(figsize=(9,5))\n",
    "plt.plot(Inertia, color = 'g')\n",
    "plt.ylabel(\"Inertia\")\n",
    "plt.xlabel(\"Number of clusters\")\n",
    "plt.title(\"Inertia per clusters\")\n",
    "plt.show()"
   ]
  },
  {
   "cell_type": "code",
   "execution_count": 63,
   "metadata": {},
   "outputs": [],
   "source": [
    "KMeansAlgorithm = KMeans(n_clusters = 3, init = 'k-means++', n_init = 15, random_state=1).fit(df_clustering)"
   ]
  },
  {
   "cell_type": "code",
   "execution_count": 64,
   "metadata": {
    "scrolled": true
   },
   "outputs": [],
   "source": [
    "#pd.DataFrame(KMeansAlgorithm.labels_).value_counts()"
   ]
  },
  {
   "cell_type": "code",
   "execution_count": 101,
   "metadata": {},
   "outputs": [
    {
     "name": "stdout",
     "output_type": "stream",
     "text": [
      "Silhouette : 0.12793159198276444\n",
      "CalinskiHarabasz : 11653.271592778732\n",
      "DaviesBouldin : 2.2786673573612943\n"
     ]
    },
    {
     "data": {
      "text/plain": [
       "(0.12793159198276444, 11653.271592778732, 2.2786673573612943)"
      ]
     },
     "execution_count": 101,
     "metadata": {},
     "output_type": "execute_result"
    }
   ],
   "source": [
    "ClusterMetrics(df_clustering,KMeansAlgorithm.labels_)"
   ]
  },
  {
   "cell_type": "markdown",
   "metadata": {},
   "source": [
    "## Mean Shift"
   ]
  },
  {
   "cell_type": "code",
   "execution_count": 66,
   "metadata": {},
   "outputs": [],
   "source": [
    "#from sklearn.cluster import MeanShift"
   ]
  },
  {
   "cell_type": "code",
   "execution_count": 67,
   "metadata": {},
   "outputs": [],
   "source": [
    "# To slow now, skipping\n",
    "#MeanShiftClustering = MeanShift().fit(df_clustering)"
   ]
  },
  {
   "cell_type": "markdown",
   "metadata": {},
   "source": [
    "## DBSCAN"
   ]
  },
  {
   "cell_type": "code",
   "execution_count": 108,
   "metadata": {},
   "outputs": [],
   "source": [
    "from sklearn.cluster import DBSCAN\n",
    "\n",
    "#DBSCANClustering = DBSCAN(eps=3, min_samples=2).fit(df_clustering)"
   ]
  },
  {
   "cell_type": "code",
   "execution_count": 126,
   "metadata": {},
   "outputs": [
    {
     "data": {
      "text/plain": [
       "0    85870\n",
       "Name: 0, dtype: int64"
      ]
     },
     "execution_count": 126,
     "metadata": {},
     "output_type": "execute_result"
    }
   ],
   "source": [
    "pd.DataFrame(DBSCANClustering.labels_)[0].value_counts()"
   ]
  },
  {
   "cell_type": "code",
   "execution_count": 124,
   "metadata": {},
   "outputs": [],
   "source": [
    "#ClusterMetrics(df_clustering,DBSCANClustering.labels_)"
   ]
  },
  {
   "cell_type": "markdown",
   "metadata": {},
   "source": [
    "## Agglomerative"
   ]
  },
  {
   "cell_type": "code",
   "execution_count": 71,
   "metadata": {},
   "outputs": [],
   "source": [
    "from sklearn.cluster import AgglomerativeClustering\n",
    "\n",
    "#HierarchicalClustering = AgglomerativeClustering().fit(df_clustering)"
   ]
  },
  {
   "cell_type": "code",
   "execution_count": 79,
   "metadata": {},
   "outputs": [],
   "source": [
    "def inertiaCalculationAgglomerative(df):   \n",
    "    numberClusters = range(2, 11)\n",
    "    agglomerativeResults = []\n",
    "    for n_clus in numberClusters:\n",
    "        agglomerativeClust = AgglomerativeClustering(n_clusters = n_clus).fit(df)\n",
    "        print(n_clus)\n",
    "        resultMetrics = ClusterMetrics(df, agglomerativeClust.labels_)\n",
    "        agglomerativeResults[0].append(resultMetrics[0])\n",
    "        agglomerativeResults[1].append(resultMetrics[1])\n",
    "        agglomerativeResults[2].append(resultMetrics[2])\n",
    "    return agglomerativeResults"
   ]
  },
  {
   "cell_type": "code",
   "execution_count": 77,
   "metadata": {},
   "outputs": [
    {
     "name": "stdout",
     "output_type": "stream",
     "text": [
      "2\n",
      "Silhouette : 0.11462583955306191\n",
      "CalinskiHarabasz : 10172.555058289914\n",
      "DaviesBouldin : 2.6543198650154203\n",
      "3\n",
      "Silhouette : 0.11084099946349057\n",
      "CalinskiHarabasz : 9808.287494525528\n",
      "DaviesBouldin : 2.48870836603973\n",
      "4\n",
      "Silhouette : 0.09254948576918719\n",
      "CalinskiHarabasz : 7937.445351399831\n",
      "DaviesBouldin : 2.4671098589633464\n",
      "5\n",
      "Silhouette : 0.10087451355982366\n",
      "CalinskiHarabasz : 6783.566421265421\n",
      "DaviesBouldin : 2.443892055541185\n",
      "6\n",
      "Silhouette : 0.09992450374101547\n",
      "CalinskiHarabasz : 6085.514730511847\n",
      "DaviesBouldin : 2.654916439084595\n",
      "7\n",
      "Silhouette : 0.08041957639542653\n",
      "CalinskiHarabasz : 5611.113040837711\n",
      "DaviesBouldin : 2.8619898573616127\n",
      "8\n",
      "Silhouette : 0.07727507156976272\n",
      "CalinskiHarabasz : 5193.4946840467255\n",
      "DaviesBouldin : 2.7542932243871925\n",
      "9\n",
      "Silhouette : 0.06271889137999903\n",
      "CalinskiHarabasz : 4874.837308657915\n",
      "DaviesBouldin : 2.690345992435427\n",
      "10\n",
      "Silhouette : 0.05970944453025301\n",
      "CalinskiHarabasz : 4592.24379150064\n",
      "DaviesBouldin : 2.705231802550415\n"
     ]
    }
   ],
   "source": [
    "#aggloResults = inertiaCalculationAgglomerative(df_clustering)"
   ]
  },
  {
   "cell_type": "code",
   "execution_count": null,
   "metadata": {},
   "outputs": [],
   "source": [
    "#2\n",
    "#Silhouette : 0.11462583955306191\n",
    "#CalinskiHarabasz : 10172.555058289914\n",
    "#DaviesBouldin : 2.6543198650154203\n",
    "#3\n",
    "#Silhouette : 0.11084099946349057\n",
    "#CalinskiHarabasz : 9808.287494525528\n",
    "#DaviesBouldin : 2.48870836603973\n",
    "#4\n",
    "#Silhouette : 0.09254948576918719\n",
    "#CalinskiHarabasz : 7937.445351399831\n",
    "#DaviesBouldin : 2.4671098589633464\n",
    "#5\n",
    "#Silhouette : 0.10087451355982366\n",
    "#CalinskiHarabasz : 6783.566421265421\n",
    "#DaviesBouldin : 2.443892055541185\n",
    "#6\n",
    "#Silhouette : 0.09992450374101547\n",
    "#CalinskiHarabasz : 6085.514730511847\n",
    "#DaviesBouldin : 2.654916439084595\n",
    "#7\n",
    "#Silhouette : 0.08041957639542653\n",
    "#CalinskiHarabasz : 5611.113040837711\n",
    "#DaviesBouldin : 2.8619898573616127\n",
    "#8\n",
    "#Silhouette : 0.07727507156976272\n",
    "#CalinskiHarabasz : 5193.4946840467255\n",
    "#DaviesBouldin : 2.7542932243871925\n",
    "#9\n",
    "#Silhouette : 0.06271889137999903\n",
    "#CalinskiHarabasz : 4874.837308657915\n",
    "#DaviesBouldin : 2.690345992435427\n",
    "#10\n",
    "#Silhouette : 0.05970944453025301\n",
    "#CalinskiHarabasz : 4592.24379150064\n",
    "#DaviesBouldin : 2.705231802550415"
   ]
  },
  {
   "cell_type": "code",
   "execution_count": 94,
   "metadata": {},
   "outputs": [
    {
     "data": {
      "image/png": "[encoded data removed]",
      "text/plain": [
       "<Figure size 648x360 with 1 Axes>"
      ]
     },
     "metadata": {
      "needs_background": "light"
     },
     "output_type": "display_data"
    }
   ],
   "source": [
    "#silhouette = [0.11462583955306191, 0.11084099946349057, 0.09254948576918719, 0.10087451355982366, 0.09992450374101547, 0.08041957639542653, 0.07727507156976272, 0.06271889137999903, 0.05970944453025301]\n",
    "silhouette = aggloResults[0]\n",
    "\n",
    "plt.figure(figsize=(9,5))\n",
    "plt.plot(silhouette, color = 'g')\n",
    "plt.xlabel(\"Number of Clusters\")\n",
    "plt.title(\"Silhouette\")\n",
    "plt.show()"
   ]
  },
  {
   "cell_type": "code",
   "execution_count": 95,
   "metadata": {},
   "outputs": [
    {
     "data": {
      "image/png": "[encoded data removed]",
      "text/plain": [
       "<Figure size 648x360 with 1 Axes>"
      ]
     },
     "metadata": {
      "needs_background": "light"
     },
     "output_type": "display_data"
    }
   ],
   "source": [
    "#calinskiHarabasz = [10172.555058289914, 9808.287494525528, 7937.445351399831, 6783.566421265421, 6085.514730511847, 5611.113040837711, 5193.4946840467255, 4874.837308657915, 4592.24379150064]\n",
    "calinskiHarabasz = aggloResults[1]\n",
    "\n",
    "plt.figure(figsize=(9,5))\n",
    "plt.plot(calinskiHarabasz, color = 'g')\n",
    "plt.xlabel(\"Number of Clusters\")\n",
    "plt.title(\"Calinski Harabasz\")\n",
    "plt.show()"
   ]
  },
  {
   "cell_type": "code",
   "execution_count": 96,
   "metadata": {},
   "outputs": [
    {
     "data": {
      "image/png": "[encoded data removed]",
      "text/plain": [
       "<Figure size 648x360 with 1 Axes>"
      ]
     },
     "metadata": {
      "needs_background": "light"
     },
     "output_type": "display_data"
    }
   ],
   "source": [
    "#daviesBouldin = [2.6543198650154203, 2.48870836603973, 2.4671098589633464, 2.443892055541185, 2.654916439084595, 2.8619898573616127, 2.7542932243871925, 2.690345992435427, 2.705231802550415]\n",
    "daviesBouldin = aggloResults[2]\n",
    "\n",
    "plt.figure(figsize=(9,5))\n",
    "plt.plot(daviesBouldin, color = 'g')\n",
    "plt.xlabel(\"Number of clusters\")\n",
    "plt.title(\"Inertia per clusters\")\n",
    "plt.show()"
   ]
  },
  {
   "cell_type": "code",
   "execution_count": null,
   "metadata": {},
   "outputs": [],
   "source": [
    "#ClusterMetrics(df_clustering,HierarchicalClustering.labels_)"
   ]
  },
  {
   "cell_type": "markdown",
   "metadata": {},
   "source": [
    "#  ============ Testes para estudo dos dados ============ "
   ]
  },
  {
   "cell_type": "code",
   "execution_count": null,
   "metadata": {},
   "outputs": [],
   "source": [
    "dfState = pd.DataFrame(df.groupby('STATE')['STATE'].agg({'count'})).sort_values(by=['count'], ascending=False).reset_index()\n",
    "dfState.head(10)"
   ]
  },
  {
   "cell_type": "code",
   "execution_count": null,
   "metadata": {},
   "outputs": [],
   "source": [
    "#pd.DataFrame(df.groupby('TCODE')['TCODE'].agg({'count'})).sort_values(by=['count'], ascending=False).reset_index()\n",
    "#pd.DataFrame(df.groupby(['STATE', df.DOMAIN.str[:1]]).size())"
   ]
  },
  {
   "cell_type": "code",
   "execution_count": null,
   "metadata": {},
   "outputs": [],
   "source": [
    "dfDomain = df.groupby(df.DOMAIN.str[:1], as_index=False)['DOMAIN'].agg(['count']).sort_values(by=['count'], ascending=False).reset_index()\n",
    "dfDomain\n",
    "\n",
    "#U=Urban\n",
    "#C=City\n",
    "#S=Suburban\n",
    "#T=Town\n",
    "#R=Rural"
   ]
  },
  {
   "cell_type": "code",
   "execution_count": null,
   "metadata": {},
   "outputs": [],
   "source": [
    "df.groupby(df.DOMAIN, as_index=False)['DOMAIN'].agg(['count']).sort_values(by=['count'], ascending=False)\n",
    "\n",
    "#See exception in 2nd byte - value 3 is different in Urban communities"
   ]
  },
  {
   "cell_type": "code",
   "execution_count": null,
   "metadata": {},
   "outputs": [],
   "source": [
    "df.groupby(df['WEALTH2'], as_index=False)['WEALTH2'].agg(['count']).sort_values(by=['count'], ascending=False).reset_index()"
   ]
  },
  {
   "cell_type": "code",
   "execution_count": null,
   "metadata": {},
   "outputs": [],
   "source": [
    "selectedColumns = ['POP901', 'WEALTH2', 'AGE901', 'MARR1', 'MARR2', 'MARR3','IC3', 'IC5' , 'HHAS1', 'AC1', 'AC2', 'POP90C4', 'POP90C5', 'HHAGE1', 'HHAGE2', 'MALEVET', 'VIETVETS', 'WWIIVETS']\n",
    "\n",
    "#POP901          Number of Persons\n",
    "#WEALTH2         Wealth Rating\n",
    "#AGE901          Median Age of Population\n",
    "#MARR1           Percent Married\n",
    "#MARR2           Percent Separated or Divorced\n",
    "#MARR3           Percent Widowed\n",
    "#IC3             Average Household Income in hundreds\n",
    "#IC5             Per Capita Income\n",
    "#HHAS1           Percent Households on Social Security\n",
    "#AC1             Percent Adults Age 55-59\n",
    "#AC2             Percent Adults Age 60-64\n",
    "#POP90C4         Percent Male\n",
    "#POP90C5         Percent Female\n",
    "#HHAGE1          Percent Households w/ Person 65+\n",
    "#HHAGE2          Percent Households w/ Person 65+ Living Alone\n",
    "#MALEVET         % Males Veterans\n",
    "#VIETVETS        % Vietnam Vets\n",
    "#WWIIVETS        % WWII Vets"
   ]
  },
  {
   "cell_type": "code",
   "execution_count": null,
   "metadata": {},
   "outputs": [],
   "source": [
    "dfCorrelation = df[selectedColumns]\n",
    "\n",
    "corPearson = dfCorrelation.corr()\n",
    "corHeatmap(corPearson)"
   ]
  },
  {
   "cell_type": "code",
   "execution_count": null,
   "metadata": {},
   "outputs": [],
   "source": [
    "filterDf = df[df['MDMAUD'] != 'XXXX']\n",
    "filterDf"
   ]
  },
  {
   "cell_type": "code",
   "execution_count": null,
   "metadata": {},
   "outputs": [],
   "source": [
    "filterDfCorrelation = filterDf[selectedColumns]\n",
    "\n",
    "corPearson = filterDfCorrelation.corr()\n",
    "corHeatmap(corPearson)"
   ]
  },
  {
   "cell_type": "code",
   "execution_count": null,
   "metadata": {},
   "outputs": [],
   "source": [
    "dfNaNIgnore = df[selectedColumns].copy().dropna()\n",
    "dfNaNMean = df[selectedColumns].copy().fillna(df.mean())"
   ]
  },
  {
   "cell_type": "code",
   "execution_count": null,
   "metadata": {},
   "outputs": [],
   "source": [
    "def inertiaCalculation(df):   \n",
    "    numberClusters = range(1, 11)\n",
    "    inertiaResults = []\n",
    "    for n_clus in numberClusters:\n",
    "        kmclust = KMeans(n_clusters = n_clus, init = 'k-means++', n_init = 15, random_state=1)\n",
    "        kmclust.fit(df)\n",
    "        inertiaResults.append(kmclust.inertia_)\n",
    "    return inertiaResults"
   ]
  },
  {
   "cell_type": "code",
   "execution_count": null,
   "metadata": {},
   "outputs": [],
   "source": [
    "inertiaDfIgnore = inertiaCalculation(dfNaNIgnore)\n",
    "inertiaDfMean = inertiaCalculation(dfNaNMean)"
   ]
  },
  {
   "cell_type": "code",
   "execution_count": null,
   "metadata": {},
   "outputs": [],
   "source": [
    "plt.figure(figsize=(9,5))\n",
    "plt.plot(inertiaDfIgnore, color = 'g')\n",
    "plt.plot(inertiaDfMean, color = 'y')\n",
    "plt.ylabel(\"Inertia\")\n",
    "plt.xlabel(\"Number of clusters\")\n",
    "plt.title(\"Inertia per clusters\")\n",
    "plt.show()"
   ]
  },
  {
   "cell_type": "code",
   "execution_count": null,
   "metadata": {},
   "outputs": [],
   "source": []
  },
  {
   "cell_type": "code",
   "execution_count": null,
   "metadata": {},
   "outputs": [],
   "source": [
    "#Lapsed Donors\n",
    "df[df['MDMAUD'].str[0] == 'L']"
   ]
  },
  {
   "cell_type": "code",
   "execution_count": null,
   "metadata": {},
   "outputs": [],
   "source": [
    "#Different types of donors\n",
    "dfMDMAUD = df.groupby(['MDMAUD'], as_index=False)['MDMAUD'].agg(['count'])\n",
    "dfMDMAUD"
   ]
  },
  {
   "cell_type": "code",
   "execution_count": null,
   "metadata": {},
   "outputs": [],
   "source": [
    "#Different types of lapsed donors\n",
    "dfMDMAUD_L = df[df['MDMAUD'].str[0] == 'L'].groupby(['MDMAUD'], as_index=False)['MDMAUD'].agg(['count'])\n",
    "dfMDMAUD_L"
   ]
  },
  {
   "cell_type": "code",
   "execution_count": null,
   "metadata": {},
   "outputs": [],
   "source": [
    "#Count of the different types of donors (1st byte)\n",
    "df.groupby(df.MDMAUD.str[:1], as_index=False)['MDMAUD'].agg(['count'])"
   ]
  },
  {
   "cell_type": "code",
   "execution_count": null,
   "metadata": {},
   "outputs": [],
   "source": [
    "#Count on the frequency of giving (2nd byte)\n",
    "df.groupby(df.MDMAUD.str[2:3], as_index=False)['MDMAUD'].agg(['count'])"
   ]
  },
  {
   "cell_type": "code",
   "execution_count": null,
   "metadata": {},
   "outputs": [],
   "source": [
    "#% Males active in the Military\n",
    "df['MALEMILI']"
   ]
  },
  {
   "cell_type": "code",
   "execution_count": null,
   "metadata": {},
   "outputs": [],
   "source": [
    "#4th byte: Blank/meaningless/filler - 'X' indicates that the donor is not a major donor.\n",
    "df.groupby(df.MDMAUD.str[3:4], as_index=False)['MDMAUD'].agg(['count'])"
   ]
  },
  {
   "cell_type": "code",
   "execution_count": null,
   "metadata": {},
   "outputs": [],
   "source": [
    "df['LASTDATE']"
   ]
  }
 ],
 "metadata": {
  "kernelspec": {
   "display_name": "Python 3",
   "language": "python",
   "name": "python3"
  },
  "language_info": {
   "codemirror_mode": {
    "name": "ipython",
    "version": 3
   },
   "file_extension": ".py",
   "mimetype": "text/x-python",
   "name": "python",
   "nbconvert_exporter": "python",
   "pygments_lexer": "ipython3",
   "version": "3.8.3"
  }
 },
 "nbformat": 4,
 "nbformat_minor": 4
}
