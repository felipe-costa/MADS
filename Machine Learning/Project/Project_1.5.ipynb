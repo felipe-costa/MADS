{
 "cells": [
  {
   "cell_type": "markdown",
   "metadata": {},
   "source": [
    "# Machine Learning - Project - Group MAA_202021_10\n",
    "## Group Members\n",
    "|Name|StudentID|\n",
    "|:-----------:|:--------:|\n",
    "|Fabio Lopes|20200597|\n",
    "|Filipe Costa||\n",
    "|Jorge Pereira||\n",
    "\n",
    "## Introduction \n",
    "Put some introduction here"
   ]
  },
  {
   "cell_type": "markdown",
   "metadata": {},
   "source": [
    "## Package Instalation and Importing"
   ]
  },
  {
   "cell_type": "code",
   "execution_count": 103,
   "metadata": {},
   "outputs": [],
   "source": [
    "#!{sys.executable} -m pip install -U xlrd\n",
    "#!{sys.executable} -m pip install -U xgboost\n",
    "#!{sys.executable} -m pip install -U hyperopt\n",
    "#!{sys.executable} -m pip install -U mlflow\n",
    "#!{sys.executable} -m pip install -U imbalanced-learn\n",
    "#!{sys.executable} -m pip install -f http://h2o-release.s3.amazonaws.com/h2o/latest_stable_Py.html h2o"
   ]
  },
  {
   "cell_type": "code",
   "execution_count": 104,
   "metadata": {},
   "outputs": [],
   "source": [
    "import pandas as pd\n",
    "import numpy as np\n",
    "import seaborn as sns\n",
    "from datetime import datetime\n",
    "import time\n",
    "\n",
    "from sklearn.model_selection import train_test_split, cross_val_score\n",
    "from sklearn.preprocessing import MinMaxScaler\n",
    "from sklearn.linear_model import LogisticRegression\n",
    "from sklearn.neighbors import KNeighborsClassifier\n",
    "from sklearn.naive_bayes import GaussianNB\n",
    "from sklearn.metrics import f1_score, roc_curve, roc_auc_score, auc, classification_report, confusion_matrix\n",
    "from sklearn.feature_selection import SelectFromModel\n",
    "\n",
    "import xgboost as xgb\n",
    "\n",
    "from imblearn.over_sampling import SMOTE\n",
    "\n",
    "from hyperopt import STATUS_OK, fmin, hp, tpe, Trials"
   ]
  },
  {
   "cell_type": "code",
   "execution_count": 105,
   "metadata": {},
   "outputs": [],
   "source": [
    "data = pd.read_excel('Train.xlsx')\n",
    "data_test = pd.read_excel(\"Test.xlsx\")"
   ]
  },
  {
   "cell_type": "code",
   "execution_count": 106,
   "metadata": {},
   "outputs": [
    {
     "name": "stdout",
     "output_type": "stream",
     "text": [
      "Training data has 15 columns and 22400 rows.\n"
     ]
    }
   ],
   "source": [
    "print(f\"Training data has {data.shape[1]} columns and {data.shape[0]} rows.\")"
   ]
  },
  {
   "cell_type": "markdown",
   "metadata": {},
   "source": [
    "## Data Cleansing & Feature Engineering Functions\n",
    "In this section, we will define the Cleansing functions"
   ]
  },
  {
   "cell_type": "code",
   "execution_count": 107,
   "metadata": {},
   "outputs": [],
   "source": [
    "def strip_lower(df):\n",
    "    \"\"\"Detects the String columns and converts all the records to lowercase.\"\"\"\n",
    "    for column in df.columns:\n",
    "        if df[column].dtype == 'object':\n",
    "            df[column] = df[column].apply(str.strip).apply(str.lower)\n",
    "    return df"
   ]
  },
  {
   "cell_type": "code",
   "execution_count": 108,
   "metadata": {},
   "outputs": [],
   "source": [
    "def fill_missing_values(df,ColumnswithMissingValues):\n",
    "    for column in ColumnswithMissingValues:\n",
    "        ColumnMode = df[column].mode()[0]\n",
    "        df[column] = df[column].str.replace('?',ColumnMode, regex=False)\n",
    "    return df"
   ]
  },
  {
   "cell_type": "code",
   "execution_count": 109,
   "metadata": {},
   "outputs": [],
   "source": [
    "def ComputeAgeAt2048(Birthday):\n",
    "    CurrentYear=datetime(2048,1,1)\n",
    "    \n",
    "    s_YearOfBirth = Birthday.split(\",\")[1]\n",
    "    YearOfBirth = datetime(int(s_YearOfBirth),1,1)\n",
    "        \n",
    "    return CurrentYear.year - YearOfBirth.year"
   ]
  },
  {
   "cell_type": "code",
   "execution_count": 110,
   "metadata": {},
   "outputs": [],
   "source": [
    "def ClassifyCitizen(Difference):\n",
    "    if Difference == 0:\n",
    "        return 'A' # Chosen carefully from volunteers\n",
    "    elif Difference > 0:\n",
    "        return 'B' # Invited\n",
    "    elif Difference < 0:\n",
    "        return 'C' # Paid"
   ]
  },
  {
   "cell_type": "code",
   "execution_count": 111,
   "metadata": {},
   "outputs": [],
   "source": [
    "def encode_data(data, nominal_variables):\n",
    "    data_Encoded = data.copy()\n",
    "    dummies = pd.get_dummies(data_Encoded[nominal_variables], prefix=nominal_variables)\n",
    "    data_Encoded = pd.concat([data_Encoded,dummies],axis=1)\n",
    "    data_Encoded = data_Encoded.drop(nominal_variables, axis =1)\n",
    "    return data_Encoded"
   ]
  },
  {
   "cell_type": "code",
   "execution_count": 112,
   "metadata": {},
   "outputs": [],
   "source": [
    "def MinMaxScaler_df(df,features):\n",
    "    scaler = MinMaxScaler(feature_range=(-1, 1))\n",
    "    df_standard = df.copy()\n",
    "    scaled_feat = scaler.fit_transform(df_standard[features])\n",
    "    df_standard[features] = scaled_feat\n",
    "    return df_standard"
   ]
  },
  {
   "cell_type": "code",
   "execution_count": 113,
   "metadata": {},
   "outputs": [],
   "source": [
    "def AlignDataframe(ColumnsInModel,df):\n",
    "    dummy_df = pd.DataFrame(columns=ColumnsInModel)\n",
    "    dummy_df, aligned_df = dummy_df.align(df,fill_value=0,join='left',axis=1)\n",
    "    return aligned_df"
   ]
  },
  {
   "cell_type": "code",
   "execution_count": 114,
   "metadata": {},
   "outputs": [],
   "source": [
    "def MaritalStatusNormalization(Mstatus):\n",
    "    if Mstatus == 'married':\n",
    "        return 'married'\n",
    "    elif Mstatus == 'single':\n",
    "        return 'not_married'\n",
    "    elif Mstatus == 'divorced':\n",
    "        return 'not_married'\n",
    "    elif Mstatus == 'separated':\n",
    "        return 'not_married'\n",
    "    elif Mstatus == 'widow':\n",
    "        return 'not_married'\n",
    "    elif Mstatus == 'married - spouse missing':\n",
    "        return 'married'\n",
    "    elif Mstatus == 'married - spouse in the army':\n",
    "        return 'married'\n",
    "    else:\n",
    "        return 'NA'"
   ]
  },
  {
   "cell_type": "code",
   "execution_count": 115,
   "metadata": {},
   "outputs": [],
   "source": [
    "def LivesWithNormalization(Lwith):\n",
    "    if Lwith == 'wife':\n",
    "        return 'spouse'\n",
    "    elif Lwith == 'other family':\n",
    "        return 'other'\n",
    "    elif Lwith == 'children':\n",
    "        return 'children'\n",
    "    elif Lwith == 'alone':\n",
    "        return 'alone'\n",
    "    elif Lwith == 'husband':\n",
    "        return 'spouse'\n",
    "    elif Lwith == 'other relatives':\n",
    "        return 'other'\n",
    "    else:\n",
    "        return 'NA'"
   ]
  },
  {
   "cell_type": "code",
   "execution_count": 116,
   "metadata": {},
   "outputs": [],
   "source": [
    "def Sector(S):\n",
    "    if S == 'private sector - services':\n",
    "        return 'private'\n",
    "    elif S == 'self-employed (individual)':\n",
    "        return 'self'\n",
    "    elif S == 'public sector - others':\n",
    "        return 'public'\n",
    "    elif S == 'private sector - others':\n",
    "        return 'private'\n",
    "    elif S == 'self-employed (company)':\n",
    "        return 'self'\n",
    "    elif S == 'public sector - government':\n",
    "        return 'public'\n",
    "    elif S == 'unemployed':\n",
    "        return 'None'\n",
    "    elif S == 'never worked':\n",
    "        return 'None'\n",
    "    else:\n",
    "        return 'NA'"
   ]
  },
  {
   "cell_type": "code",
   "execution_count": 117,
   "metadata": {},
   "outputs": [],
   "source": [
    "def DataPreProcessing(data):\n",
    "    # Lowers all case in string variables\n",
    "    new_df = data.copy()\n",
    "\n",
    "    new_df = strip_lower(new_df)\n",
    "\n",
    "    # Deals with missing values\n",
    "    ColumnswithMissingValues = ['Role','Employment Sector','Base Area']\n",
    "    new_df = fill_missing_values(new_df,ColumnswithMissingValues)\n",
    "\n",
    "    # Computes Age\n",
    "    new_df['Age'] = new_df['Birthday'].apply(ComputeAgeAt2048)\n",
    "    new_df.drop('Birthday', axis=1, inplace=True)\n",
    "\n",
    "    # Classifies Citizen\n",
    "    new_df['Group'] = (new_df['Money Received'] - new_df['Ticket Price']).apply(ClassifyCitizen)\n",
    "\n",
    "    # Marital Status Normalization\n",
    "    new_df['MStatus'] = new_df['Marital Status'].apply(MaritalStatusNormalization)\n",
    "    new_df.drop('Marital Status', axis=1, inplace=True)\n",
    "\n",
    "    # Lives With Normalization\n",
    "    new_df['Lwith'] = new_df['Lives with'].apply(LivesWithNormalization)\n",
    "    new_df.drop('Lives with', axis=1, inplace=True)\n",
    "\n",
    "    # Employment Sector Normalization\n",
    "    new_df['Sector'] = new_df['Employment Sector'].apply(Sector)\n",
    "    new_df.drop('Employment Sector', axis=1, inplace=True)\n",
    "\n",
    "    # Creates Ordinal Variable from Education\n",
    "    EducationClassification = {\n",
    "                            \"phd\" : 16,\n",
    "                            \"masters + postgraduation\" : 15,\n",
    "                            \"masters\" : 14,\n",
    "                            \"bachelors + postgraduation\" : 13,\n",
    "                            \"bachelors\" : 12,\n",
    "                            \"professional school + postgraduation\" : 11,\n",
    "                            \"high school + postgraduation\" : 10,\n",
    "                            \"professional school\" : 9,\n",
    "                            \"high school complete\" : 8,\n",
    "                            \"high school - 2nd cycle\" : 7,\n",
    "                            \"high school - 1st cycle\" : 6,\n",
    "                            \"middle school complete\" : 5,\n",
    "                            \"middle school - 2nd cycle\" : 4,\n",
    "                            \"middle school - 1st cycle\" : 3,\n",
    "                            \"primary school\" : 2,\n",
    "                            \"preschool\" : 1\n",
    "                            }\n",
    "    new_df['Education_Class'] = new_df['Education Level'].map(EducationClassification)\n",
    "    new_df.drop('Education Level', axis=1, inplace=True)\n",
    "\n",
    "    # Performs one hot encoding in nominal variables\n",
    "    NominalVariables = ['Native Continent', \n",
    "                        'Role', \n",
    "                        'MStatus', \n",
    "                        'Lwith', \n",
    "                        'Sector', \n",
    "                        'Group']\n",
    "\n",
    "    new_df = encode_data(new_df, NominalVariables)\n",
    "\n",
    "    # Drops the Name column and selects Citizen ID as the index\n",
    "    new_df = new_df.drop(['Name'], axis =1)\n",
    "    new_df = new_df.drop(['Base Area'], axis =1)\n",
    "    new_df.set_index([\"CITIZEN_ID\"],inplace=True)\n",
    "\n",
    "    # Scale Data\n",
    "    if 'Income' in new_df.columns:\n",
    "        featuresToScale = new_df.columns.drop('Income')\n",
    "    else:\n",
    "        featuresToScale = new_df.columns\n",
    "    new_df = MinMaxScaler_df(new_df,featuresToScale)\n",
    "\n",
    "    return new_df.copy()"
   ]
  },
  {
   "cell_type": "code",
   "execution_count": 118,
   "metadata": {},
   "outputs": [],
   "source": [
    "processedTrainingData = DataPreProcessing(data)\n",
    "processedTestingData = DataPreProcessing(data_test)"
   ]
  },
  {
   "cell_type": "code",
   "execution_count": 119,
   "metadata": {},
   "outputs": [
    {
     "data": {
      "text/html": [
       "<div>\n",
       "<style scoped>\n",
       "    .dataframe tbody tr th:only-of-type {\n",
       "        vertical-align: middle;\n",
       "    }\n",
       "\n",
       "    .dataframe tbody tr th {\n",
       "        vertical-align: top;\n",
       "    }\n",
       "\n",
       "    .dataframe thead th {\n",
       "        text-align: right;\n",
       "    }\n",
       "</style>\n",
       "<table border=\"1\" class=\"dataframe\">\n",
       "  <thead>\n",
       "    <tr style=\"text-align: right;\">\n",
       "      <th></th>\n",
       "      <th>Years of Education</th>\n",
       "      <th>Working Hours per week</th>\n",
       "      <th>Money Received</th>\n",
       "      <th>Ticket Price</th>\n",
       "      <th>Income</th>\n",
       "      <th>Age</th>\n",
       "      <th>Education_Class</th>\n",
       "      <th>Native Continent_africa</th>\n",
       "      <th>Native Continent_america</th>\n",
       "      <th>Native Continent_asia</th>\n",
       "      <th>...</th>\n",
       "      <th>Lwith_children</th>\n",
       "      <th>Lwith_other</th>\n",
       "      <th>Lwith_spouse</th>\n",
       "      <th>Sector_None</th>\n",
       "      <th>Sector_private</th>\n",
       "      <th>Sector_public</th>\n",
       "      <th>Sector_self</th>\n",
       "      <th>Group_A</th>\n",
       "      <th>Group_B</th>\n",
       "      <th>Group_C</th>\n",
       "    </tr>\n",
       "    <tr>\n",
       "      <th>CITIZEN_ID</th>\n",
       "      <th></th>\n",
       "      <th></th>\n",
       "      <th></th>\n",
       "      <th></th>\n",
       "      <th></th>\n",
       "      <th></th>\n",
       "      <th></th>\n",
       "      <th></th>\n",
       "      <th></th>\n",
       "      <th></th>\n",
       "      <th></th>\n",
       "      <th></th>\n",
       "      <th></th>\n",
       "      <th></th>\n",
       "      <th></th>\n",
       "      <th></th>\n",
       "      <th></th>\n",
       "      <th></th>\n",
       "      <th></th>\n",
       "      <th></th>\n",
       "      <th></th>\n",
       "    </tr>\n",
       "  </thead>\n",
       "  <tbody>\n",
       "    <tr>\n",
       "      <th>12486</th>\n",
       "      <td>0.157895</td>\n",
       "      <td>-0.204082</td>\n",
       "      <td>-1.000000</td>\n",
       "      <td>-0.151549</td>\n",
       "      <td>1</td>\n",
       "      <td>-0.232877</td>\n",
       "      <td>0.200000</td>\n",
       "      <td>-1.0</td>\n",
       "      <td>-1.0</td>\n",
       "      <td>-1.0</td>\n",
       "      <td>...</td>\n",
       "      <td>-1.0</td>\n",
       "      <td>-1.0</td>\n",
       "      <td>1.0</td>\n",
       "      <td>-1.0</td>\n",
       "      <td>1.0</td>\n",
       "      <td>-1.0</td>\n",
       "      <td>-1.0</td>\n",
       "      <td>-1.0</td>\n",
       "      <td>-1.0</td>\n",
       "      <td>1.0</td>\n",
       "    </tr>\n",
       "    <tr>\n",
       "      <th>12487</th>\n",
       "      <td>0.052632</td>\n",
       "      <td>-0.204082</td>\n",
       "      <td>-1.000000</td>\n",
       "      <td>-1.000000</td>\n",
       "      <td>1</td>\n",
       "      <td>-0.315068</td>\n",
       "      <td>0.066667</td>\n",
       "      <td>-1.0</td>\n",
       "      <td>-1.0</td>\n",
       "      <td>-1.0</td>\n",
       "      <td>...</td>\n",
       "      <td>-1.0</td>\n",
       "      <td>-1.0</td>\n",
       "      <td>1.0</td>\n",
       "      <td>-1.0</td>\n",
       "      <td>-1.0</td>\n",
       "      <td>1.0</td>\n",
       "      <td>-1.0</td>\n",
       "      <td>1.0</td>\n",
       "      <td>-1.0</td>\n",
       "      <td>-1.0</td>\n",
       "    </tr>\n",
       "    <tr>\n",
       "      <th>12488</th>\n",
       "      <td>0.052632</td>\n",
       "      <td>-0.081633</td>\n",
       "      <td>-1.000000</td>\n",
       "      <td>-0.133632</td>\n",
       "      <td>1</td>\n",
       "      <td>-0.397260</td>\n",
       "      <td>0.066667</td>\n",
       "      <td>-1.0</td>\n",
       "      <td>-1.0</td>\n",
       "      <td>-1.0</td>\n",
       "      <td>...</td>\n",
       "      <td>-1.0</td>\n",
       "      <td>-1.0</td>\n",
       "      <td>1.0</td>\n",
       "      <td>-1.0</td>\n",
       "      <td>1.0</td>\n",
       "      <td>-1.0</td>\n",
       "      <td>-1.0</td>\n",
       "      <td>-1.0</td>\n",
       "      <td>-1.0</td>\n",
       "      <td>1.0</td>\n",
       "    </tr>\n",
       "    <tr>\n",
       "      <th>12489</th>\n",
       "      <td>-0.052632</td>\n",
       "      <td>-0.265306</td>\n",
       "      <td>-0.912276</td>\n",
       "      <td>-1.000000</td>\n",
       "      <td>1</td>\n",
       "      <td>0.260274</td>\n",
       "      <td>-0.200000</td>\n",
       "      <td>-1.0</td>\n",
       "      <td>-1.0</td>\n",
       "      <td>-1.0</td>\n",
       "      <td>...</td>\n",
       "      <td>-1.0</td>\n",
       "      <td>-1.0</td>\n",
       "      <td>1.0</td>\n",
       "      <td>-1.0</td>\n",
       "      <td>1.0</td>\n",
       "      <td>-1.0</td>\n",
       "      <td>-1.0</td>\n",
       "      <td>-1.0</td>\n",
       "      <td>1.0</td>\n",
       "      <td>-1.0</td>\n",
       "    </tr>\n",
       "    <tr>\n",
       "      <th>12490</th>\n",
       "      <td>1.000000</td>\n",
       "      <td>-0.102041</td>\n",
       "      <td>-1.000000</td>\n",
       "      <td>-1.000000</td>\n",
       "      <td>1</td>\n",
       "      <td>-0.561644</td>\n",
       "      <td>1.000000</td>\n",
       "      <td>-1.0</td>\n",
       "      <td>-1.0</td>\n",
       "      <td>-1.0</td>\n",
       "      <td>...</td>\n",
       "      <td>-1.0</td>\n",
       "      <td>1.0</td>\n",
       "      <td>-1.0</td>\n",
       "      <td>-1.0</td>\n",
       "      <td>-1.0</td>\n",
       "      <td>-1.0</td>\n",
       "      <td>1.0</td>\n",
       "      <td>1.0</td>\n",
       "      <td>-1.0</td>\n",
       "      <td>-1.0</td>\n",
       "    </tr>\n",
       "  </tbody>\n",
       "</table>\n",
       "<p>5 rows × 39 columns</p>\n",
       "</div>"
      ],
      "text/plain": [
       "            Years of Education  Working Hours per week  Money Received  \\\n",
       "CITIZEN_ID                                                               \n",
       "12486                 0.157895               -0.204082       -1.000000   \n",
       "12487                 0.052632               -0.204082       -1.000000   \n",
       "12488                 0.052632               -0.081633       -1.000000   \n",
       "12489                -0.052632               -0.265306       -0.912276   \n",
       "12490                 1.000000               -0.102041       -1.000000   \n",
       "\n",
       "            Ticket Price  Income       Age  Education_Class  \\\n",
       "CITIZEN_ID                                                    \n",
       "12486          -0.151549       1 -0.232877         0.200000   \n",
       "12487          -1.000000       1 -0.315068         0.066667   \n",
       "12488          -0.133632       1 -0.397260         0.066667   \n",
       "12489          -1.000000       1  0.260274        -0.200000   \n",
       "12490          -1.000000       1 -0.561644         1.000000   \n",
       "\n",
       "            Native Continent_africa  Native Continent_america  \\\n",
       "CITIZEN_ID                                                      \n",
       "12486                          -1.0                      -1.0   \n",
       "12487                          -1.0                      -1.0   \n",
       "12488                          -1.0                      -1.0   \n",
       "12489                          -1.0                      -1.0   \n",
       "12490                          -1.0                      -1.0   \n",
       "\n",
       "            Native Continent_asia  ...  Lwith_children  Lwith_other  \\\n",
       "CITIZEN_ID                         ...                                \n",
       "12486                        -1.0  ...            -1.0         -1.0   \n",
       "12487                        -1.0  ...            -1.0         -1.0   \n",
       "12488                        -1.0  ...            -1.0         -1.0   \n",
       "12489                        -1.0  ...            -1.0         -1.0   \n",
       "12490                        -1.0  ...            -1.0          1.0   \n",
       "\n",
       "            Lwith_spouse  Sector_None  Sector_private  Sector_public  \\\n",
       "CITIZEN_ID                                                             \n",
       "12486                1.0         -1.0             1.0           -1.0   \n",
       "12487                1.0         -1.0            -1.0            1.0   \n",
       "12488                1.0         -1.0             1.0           -1.0   \n",
       "12489                1.0         -1.0             1.0           -1.0   \n",
       "12490               -1.0         -1.0            -1.0           -1.0   \n",
       "\n",
       "            Sector_self  Group_A  Group_B  Group_C  \n",
       "CITIZEN_ID                                          \n",
       "12486              -1.0     -1.0     -1.0      1.0  \n",
       "12487              -1.0      1.0     -1.0     -1.0  \n",
       "12488              -1.0     -1.0     -1.0      1.0  \n",
       "12489              -1.0     -1.0      1.0     -1.0  \n",
       "12490               1.0      1.0     -1.0     -1.0  \n",
       "\n",
       "[5 rows x 39 columns]"
      ]
     },
     "execution_count": 119,
     "metadata": {},
     "output_type": "execute_result"
    }
   ],
   "source": [
    "processedTrainingData.head(5)"
   ]
  },
  {
   "cell_type": "markdown",
   "metadata": {},
   "source": [
    "## Model Creation\n",
    "In this section, we will create the models."
   ]
  },
  {
   "cell_type": "code",
   "execution_count": 120,
   "metadata": {},
   "outputs": [],
   "source": [
    "def plot_cf(y, y_pred):\n",
    "    cf_matrix = confusion_matrix(y_test, y_pred)\n",
    "    group_names = ['True Neg','False Pos','False Neg','True Pos']\n",
    "    group_counts = [\"{0:0.0f}\".format(value) for value in\n",
    "                cf_matrix.flatten()]\n",
    "    group_percentages = [\"{0:.2%}\".format(value) for value in\n",
    "                     cf_matrix.flatten()/np.sum(cf_matrix)]\n",
    "    labels = [f\"{v1}\\n{v2}\\n{v3}\" for v1, v2, v3 in\n",
    "          zip(group_names,group_counts,group_percentages)]\n",
    "    labels = np.asarray(labels).reshape(2,2)\n",
    "    sns.heatmap(cf_matrix, annot=labels, fmt='', cmap='Blues')"
   ]
  },
  {
   "cell_type": "code",
   "execution_count": 121,
   "metadata": {},
   "outputs": [],
   "source": [
    "def metrics(y_train, pred_train , y_val, pred_val):\n",
    "    print('___________________________________________________________________________________________________________')\n",
    "    print('                                                     TRAIN                                                 ')\n",
    "    print('-----------------------------------------------------------------------------------------------------------')\n",
    "    print(classification_report(y_train, pred_train))\n",
    "    cf_matrix = confusion_matrix(y_train, pred_train)\n",
    "    print(cf_matrix)\n",
    "    print(\"F1: {}\".format(f1_score(y_train, pred_train, average='macro')))\n",
    "    print(\"ROC_AUC: {}\".format(roc_auc_score(y_train, pred_train)))\n",
    "\n",
    "\n",
    "\n",
    "    print('___________________________________________________________________________________________________________')\n",
    "    print('                                                VALIDATION                                                 ')\n",
    "    print('-----------------------------------------------------------------------------------------------------------')\n",
    "    print(classification_report(y_val, pred_val))\n",
    "    cf_matrix = confusion_matrix(y_val, pred_val)\n",
    "    print(cf_matrix)\n",
    "    print(\"F1: {}\".format(f1_score(y_val, pred_val, average='macro')))\n",
    "    print(\"ROC_AUC: {}\".format(roc_auc_score(y_val, pred_val)))\n",
    "    \n",
    "    fpr, tpr, thresholds = roc_curve(y_val, pred_val)"
   ]
  },
  {
   "cell_type": "code",
   "execution_count": 122,
   "metadata": {},
   "outputs": [],
   "source": [
    "def run_model(model,X_train, X_test, y_train, y_test):\n",
    "    model.fit(X_train,y_train)\n",
    "    labels_train = model.predict(X_train)\n",
    "    labels_val = model.predict(X_test)\n",
    "    metrics(y_train, labels_train, y_test, labels_val)\n",
    "    plot_cf(y_test,labels_val)"
   ]
  },
  {
   "cell_type": "code",
   "execution_count": 123,
   "metadata": {},
   "outputs": [],
   "source": [
    "def objective(space):\n",
    "    classifier = xgb.XGBClassifier(n_estimators = space['n_estimators']\n",
    "                                 , max_depth = int(space['max_depth'])\n",
    "                                 , learning_rate = space['learning_rate']\n",
    "                                 , gamma = space['gamma']\n",
    "                                 , min_child_weight = space['min_child_weight']\n",
    "                                 , subsample = space['subsample']\n",
    "                                 , colsample_bytree = space['colsample_bytree'])\n",
    "  \n",
    "    classifier.fit(optimizer_X_train, optimizer_y_train)\n",
    "    accuracies = cross_val_score(estimator = classifier, X = optimizer_X_train, y = optimizer_y_train, cv = 5, scoring = 'roc_auc')\n",
    "    CrossValMean = accuracies.mean()\n",
    "  \n",
    "    return{'loss':1-CrossValMean, 'status': STATUS_OK }"
   ]
  },
  {
   "cell_type": "markdown",
   "metadata": {},
   "source": [
    "### Split Training Data"
   ]
  },
  {
   "cell_type": "code",
   "execution_count": 124,
   "metadata": {},
   "outputs": [],
   "source": [
    "target = 'Income'\n",
    "\n",
    "X = processedTrainingData[[x for x in processedTrainingData.columns if x != target]]\n",
    "y = processedTrainingData[[x for x in processedTrainingData.columns if x == target]]\n",
    "\n",
    "X_train, X_test, y_train, y_test = train_test_split(X,y, test_size=0.2, stratify=y)\n",
    "\n",
    "y_train = y_train.values.ravel()\n",
    "y_test = y_test.values.ravel()"
   ]
  },
  {
   "cell_type": "markdown",
   "metadata": {},
   "source": [
    "### Using SMOTE to rebalance dataset"
   ]
  },
  {
   "cell_type": "code",
   "execution_count": 125,
   "metadata": {},
   "outputs": [],
   "source": [
    "oversample = SMOTE()\n",
    "sampled_X_train, sampled_y_train = oversample.fit_resample(X_train, y_train)"
   ]
  },
  {
   "cell_type": "code",
   "execution_count": 92,
   "metadata": {},
   "outputs": [
    {
     "name": "stdout",
     "output_type": "stream",
     "text": [
      "___________________________________________________________________________________________________________\n",
      "                                                     TRAIN                                                 \n",
      "-----------------------------------------------------------------------------------------------------------\n",
      "              precision    recall  f1-score   support\n",
      "\n",
      "           0       0.84      0.79      0.81     13671\n",
      "           1       0.80      0.85      0.82     13671\n",
      "\n",
      "    accuracy                           0.82     27342\n",
      "   macro avg       0.82      0.82      0.82     27342\n",
      "weighted avg       0.82      0.82      0.82     27342\n",
      "\n",
      "[[10831  2840]\n",
      " [ 2117 11554]]\n",
      "F1: 0.818576970364457\n",
      "ROC_AUC: 0.818703825616268\n",
      "___________________________________________________________________________________________________________\n",
      "                                                VALIDATION                                                 \n",
      "-----------------------------------------------------------------------------------------------------------\n",
      "              precision    recall  f1-score   support\n",
      "\n",
      "           0       0.94      0.80      0.86      3418\n",
      "           1       0.56      0.83      0.67      1062\n",
      "\n",
      "    accuracy                           0.80      4480\n",
      "   macro avg       0.75      0.81      0.77      4480\n",
      "weighted avg       0.85      0.80      0.82      4480\n",
      "\n",
      "[[2721  697]\n",
      " [ 177  885]]\n",
      "F1: 0.7655307606740895\n",
      "ROC_AUC: 0.8147064560171641\n"
     ]
    },
    {
     "data": {
      "image/png": "[encoded data removed]",
      "text/plain": [
       "<Figure size 432x288 with 2 Axes>"
      ]
     },
     "metadata": {
      "needs_background": "light"
     },
     "output_type": "display_data"
    }
   ],
   "source": [
    "log_model = LogisticRegression(max_iter=1000000)\n",
    "run_model(log_model,sampled_X_train, X_test, sampled_y_train, y_test)"
   ]
  },
  {
   "cell_type": "markdown",
   "metadata": {},
   "source": [
    "### K Nearest Neighbours"
   ]
  },
  {
   "cell_type": "code",
   "execution_count": 93,
   "metadata": {},
   "outputs": [
    {
     "name": "stdout",
     "output_type": "stream",
     "text": [
      "___________________________________________________________________________________________________________\n",
      "                                                     TRAIN                                                 \n",
      "-----------------------------------------------------------------------------------------------------------\n",
      "              precision    recall  f1-score   support\n",
      "\n",
      "           0       0.93      0.84      0.89     13671\n",
      "           1       0.86      0.94      0.90     13671\n",
      "\n",
      "    accuracy                           0.89     27342\n",
      "   macro avg       0.90      0.89      0.89     27342\n",
      "weighted avg       0.90      0.89      0.89     27342\n",
      "\n",
      "[[11535  2136]\n",
      " [  803 12868]]\n",
      "F1: 0.8922535962083811\n",
      "ROC_AUC: 0.8925096920488625\n",
      "___________________________________________________________________________________________________________\n",
      "                                                VALIDATION                                                 \n",
      "-----------------------------------------------------------------------------------------------------------\n",
      "              precision    recall  f1-score   support\n",
      "\n",
      "           0       0.91      0.80      0.85      3418\n",
      "           1       0.53      0.75      0.62      1062\n",
      "\n",
      "    accuracy                           0.78      4480\n",
      "   macro avg       0.72      0.77      0.74      4480\n",
      "weighted avg       0.82      0.78      0.80      4480\n",
      "\n",
      "[[2724  694]\n",
      " [ 270  792]]\n",
      "F1: 0.7356604717802473\n",
      "ROC_AUC: 0.7713599984131865\n"
     ]
    },
    {
     "data": {
      "image/png": "[encoded data removed]",
      "text/plain": [
       "<Figure size 432x288 with 2 Axes>"
      ]
     },
     "metadata": {
      "needs_background": "light"
     },
     "output_type": "display_data"
    }
   ],
   "source": [
    "modelKNN = KNeighborsClassifier()\n",
    "run_model(modelKNN,sampled_X_train, X_test, sampled_y_train, y_test)"
   ]
  },
  {
   "cell_type": "markdown",
   "metadata": {},
   "source": [
    "### Naive Bayes"
   ]
  },
  {
   "cell_type": "code",
   "execution_count": 94,
   "metadata": {},
   "outputs": [
    {
     "name": "stdout",
     "output_type": "stream",
     "text": [
      "___________________________________________________________________________________________________________\n",
      "                                                     TRAIN                                                 \n",
      "-----------------------------------------------------------------------------------------------------------\n",
      "              precision    recall  f1-score   support\n",
      "\n",
      "           0       0.92      0.48      0.63     13671\n",
      "           1       0.65      0.96      0.77     13671\n",
      "\n",
      "    accuracy                           0.72     27342\n",
      "   macro avg       0.78      0.72      0.70     27342\n",
      "weighted avg       0.78      0.72      0.70     27342\n",
      "\n",
      "[[ 6594  7077]\n",
      " [  588 13083]]\n",
      "F1: 0.7029298197250398\n",
      "ROC_AUC: 0.7196620583717358\n",
      "___________________________________________________________________________________________________________\n",
      "                                                VALIDATION                                                 \n",
      "-----------------------------------------------------------------------------------------------------------\n",
      "              precision    recall  f1-score   support\n",
      "\n",
      "           0       0.97      0.48      0.64      3418\n",
      "           1       0.36      0.95      0.52      1062\n",
      "\n",
      "    accuracy                           0.59      4480\n",
      "   macro avg       0.67      0.71      0.58      4480\n",
      "weighted avg       0.83      0.59      0.61      4480\n",
      "\n",
      "[[1630 1788]\n",
      " [  51 1011]]\n",
      "F1: 0.5815197854813465\n",
      "ROC_AUC: 0.7144322347955159\n"
     ]
    },
    {
     "data": {
      "image/png": "[encoded data removed]",
      "text/plain": [
       "<Figure size 432x288 with 2 Axes>"
      ]
     },
     "metadata": {
      "needs_background": "light"
     },
     "output_type": "display_data"
    }
   ],
   "source": [
    "modelNAB = GaussianNB()\n",
    "run_model(modelNAB,sampled_X_train, X_test, sampled_y_train, y_test)"
   ]
  },
  {
   "cell_type": "markdown",
   "metadata": {},
   "source": [
    "### XGBoost"
   ]
  },
  {
   "cell_type": "code",
   "execution_count": 126,
   "metadata": {},
   "outputs": [
    {
     "name": "stdout",
     "output_type": "stream",
     "text": [
      "___________________________________________________________________________________________________________\n",
      "                                                     TRAIN                                                 \n",
      "-----------------------------------------------------------------------------------------------------------\n",
      "              precision    recall  f1-score   support\n",
      "\n",
      "           0       0.92      0.93      0.92     13671\n",
      "           1       0.93      0.92      0.92     13671\n",
      "\n",
      "    accuracy                           0.92     27342\n",
      "   macro avg       0.92      0.92      0.92     27342\n",
      "weighted avg       0.92      0.92      0.92     27342\n",
      "\n",
      "[[12649  1022]\n",
      " [ 1031 12640]]\n",
      "F1: 0.9249140435066823\n",
      "ROC_AUC: 0.9249140516421623\n",
      "___________________________________________________________________________________________________________\n",
      "                                                VALIDATION                                                 \n",
      "-----------------------------------------------------------------------------------------------------------\n",
      "              precision    recall  f1-score   support\n",
      "\n",
      "           0       0.92      0.90      0.91      3418\n",
      "           1       0.70      0.73      0.71      1062\n",
      "\n",
      "    accuracy                           0.86      4480\n",
      "   macro avg       0.81      0.82      0.81      4480\n",
      "weighted avg       0.86      0.86      0.86      4480\n",
      "\n",
      "[[3079  339]\n",
      " [ 285  777]]\n",
      "F1: 0.8107451827191244\n",
      "ROC_AUC: 0.8162288052946679\n"
     ]
    },
    {
     "data": {
      "image/png": "[encoded data removed]",
      "text/plain": [
       "<Figure size 432x288 with 2 Axes>"
      ]
     },
     "metadata": {
      "needs_background": "light"
     },
     "output_type": "display_data"
    }
   ],
   "source": [
    "modelXGB = xgb.XGBClassifier()\n",
    "run_model(modelXGB,sampled_X_train, X_test, sampled_y_train, y_test)"
   ]
  },
  {
   "cell_type": "markdown",
   "metadata": {},
   "source": [
    "## Feature Selection\n",
    "In this section, we will eliminate noise from the model."
   ]
  },
  {
   "cell_type": "code",
   "execution_count": 127,
   "metadata": {},
   "outputs": [
    {
     "data": {
      "text/plain": [
       "<matplotlib.axes._subplots.AxesSubplot at 0x1f3218adbb0>"
      ]
     },
     "execution_count": 127,
     "metadata": {},
     "output_type": "execute_result"
    },
    {
     "data": {
      "image/png": "[encoded data removed]",
      "text/plain": [
       "<Figure size 432x288 with 1 Axes>"
      ]
     },
     "metadata": {
      "needs_background": "light"
     },
     "output_type": "display_data"
    }
   ],
   "source": [
    "xgb.plot_importance(modelXGB)"
   ]
  },
  {
   "cell_type": "code",
   "execution_count": 128,
   "metadata": {},
   "outputs": [
    {
     "name": "stdout",
     "output_type": "stream",
     "text": [
      "Thresh=0.000000000, nFeatures=38, auc: 81.62%\n",
      "Thresh=0.000000000, nFeatures=38, auc: 81.62%\n",
      "Thresh=0.000000000, nFeatures=38, auc: 81.62%\n",
      "Thresh=0.000000000, nFeatures=38, auc: 81.62%\n",
      "Thresh=0.003017367, nFeatures=34, auc: 81.62%\n",
      "Thresh=0.003419919, nFeatures=33, auc: 81.60%\n",
      "Thresh=0.004213297, nFeatures=32, auc: 81.46%\n",
      "Thresh=0.004814375, nFeatures=31, auc: 81.85%\n",
      "Thresh=0.004885243, nFeatures=30, auc: 82.06%\n",
      "Thresh=0.005017536, nFeatures=29, auc: 81.61%\n",
      "Thresh=0.005057052, nFeatures=28, auc: 81.89%\n",
      "Thresh=0.005244754, nFeatures=27, auc: 81.57%\n",
      "Thresh=0.005246541, nFeatures=26, auc: 81.54%\n",
      "Thresh=0.005264810, nFeatures=25, auc: 81.46%\n",
      "Thresh=0.006586012, nFeatures=24, auc: 81.62%\n",
      "Thresh=0.006591879, nFeatures=23, auc: 81.74%\n",
      "Thresh=0.006885780, nFeatures=22, auc: 81.91%\n",
      "Thresh=0.007076622, nFeatures=21, auc: 81.33%\n",
      "Thresh=0.007136249, nFeatures=20, auc: 81.15%\n",
      "Thresh=0.007203378, nFeatures=19, auc: 81.80%\n",
      "Thresh=0.007215912, nFeatures=18, auc: 81.64%\n",
      "Thresh=0.008877571, nFeatures=17, auc: 81.29%\n",
      "Thresh=0.011140827, nFeatures=16, auc: 81.11%\n",
      "Thresh=0.012370515, nFeatures=15, auc: 81.61%\n",
      "Thresh=0.012586075, nFeatures=14, auc: 81.60%\n",
      "Thresh=0.013293631, nFeatures=13, auc: 81.05%\n",
      "Thresh=0.014419843, nFeatures=12, auc: 79.95%\n",
      "Thresh=0.016123148, nFeatures=11, auc: 80.17%\n",
      "Thresh=0.017843541, nFeatures=10, auc: 79.55%\n",
      "Thresh=0.019547364, nFeatures=9, auc: 80.64%\n",
      "Thresh=0.021487728, nFeatures=8, auc: 81.70%\n",
      "Thresh=0.022172460, nFeatures=7, auc: 81.72%\n",
      "Thresh=0.025191577, nFeatures=6, auc: 81.53%\n",
      "Thresh=0.034250792, nFeatures=5, auc: 81.46%\n",
      "Thresh=0.034773961, nFeatures=4, auc: 80.73%\n",
      "Thresh=0.039084643, nFeatures=3, auc: 80.73%\n",
      "Thresh=0.046255134, nFeatures=2, auc: 79.09%\n",
      "Thresh=0.555704474, nFeatures=1, auc: 75.65%\n"
     ]
    }
   ],
   "source": [
    "# Fit model using each importance as a threshold\n",
    "thresholds = np.sort(modelXGB.feature_importances_)\n",
    "\n",
    "for thresh in thresholds:\n",
    "    # select features using threshold\n",
    "    selection = SelectFromModel(modelXGB, threshold=thresh, prefit=True)\n",
    "    select_X_train = selection.transform(sampled_X_train)\n",
    "    # train model\n",
    "    selection_model = xgb.XGBClassifier()\n",
    "    selection_model.fit(select_X_train, sampled_y_train)\n",
    "    # eval model\n",
    "    select_X_test = selection.transform(X_test)\n",
    "    y_pred = selection_model.predict(select_X_test)\n",
    "    auc = roc_auc_score(y_test, y_pred)\n",
    "    print(\"Thresh=%.9f, nFeatures=%d, auc: %.2f%%\" % (thresh, select_X_train.shape[1], auc*100.0))"
   ]
  },
  {
   "cell_type": "code",
   "execution_count": 129,
   "metadata": {},
   "outputs": [
    {
     "name": "stdout",
     "output_type": "stream",
     "text": [
      "___________________________________________________________________________________________________________\n",
      "                                                     TRAIN                                                 \n",
      "-----------------------------------------------------------------------------------------------------------\n",
      "              precision    recall  f1-score   support\n",
      "\n",
      "           0       0.92      0.92      0.92     13671\n",
      "           1       0.92      0.92      0.92     13671\n",
      "\n",
      "    accuracy                           0.92     27342\n",
      "   macro avg       0.92      0.92      0.92     27342\n",
      "weighted avg       0.92      0.92      0.92     27342\n",
      "\n",
      "[[12568  1103]\n",
      " [ 1132 12539]]\n",
      "F1: 0.9182575336742405\n",
      "ROC_AUC: 0.9182576256308975\n",
      "___________________________________________________________________________________________________________\n",
      "                                                VALIDATION                                                 \n",
      "-----------------------------------------------------------------------------------------------------------\n",
      "              precision    recall  f1-score   support\n",
      "\n",
      "           0       0.91      0.90      0.91      3418\n",
      "           1       0.69      0.72      0.71      1062\n",
      "\n",
      "    accuracy                           0.86      4480\n",
      "   macro avg       0.80      0.81      0.81      4480\n",
      "weighted avg       0.86      0.86      0.86      4480\n",
      "\n",
      "[[3082  336]\n",
      " [ 298  764]]\n",
      "F1: 0.8067451410724\n",
      "ROC_AUC: 0.8105471311181857\n"
     ]
    },
    {
     "data": {
      "image/png": "[encoded data removed]",
      "text/plain": [
       "<Figure size 432x288 with 2 Axes>"
      ]
     },
     "metadata": {
      "needs_background": "light"
     },
     "output_type": "display_data"
    }
   ],
   "source": [
    "# I choose Threshold 0.013293631\n",
    "VariableSelector = SelectFromModel(modelXGB, threshold=0.013293631, prefit=True)\n",
    "\n",
    "cols = VariableSelector.get_support(indices=True)\n",
    "selected_X_train = sampled_X_train.iloc[:,cols]\n",
    "selected_X_test = X_test.iloc[:,cols]\n",
    "modelXGB = xgb.XGBClassifier()\n",
    "run_model(modelXGB,selected_X_train, selected_X_test, sampled_y_train, y_test)"
   ]
  },
  {
   "cell_type": "code",
   "execution_count": 99,
   "metadata": {},
   "outputs": [
    {
     "data": {
      "text/plain": [
       "<matplotlib.axes._subplots.AxesSubplot at 0x1f321a816d0>"
      ]
     },
     "execution_count": 99,
     "metadata": {},
     "output_type": "execute_result"
    },
    {
     "data": {
      "image/png": "[encoded data removed]",
      "text/plain": [
       "<Figure size 432x288 with 1 Axes>"
      ]
     },
     "metadata": {
      "needs_background": "light"
     },
     "output_type": "display_data"
    }
   ],
   "source": [
    "xgb.plot_importance(modelXGB)"
   ]
  },
  {
   "cell_type": "markdown",
   "metadata": {},
   "source": [
    "### Hyperpatameterization of XGBoost"
   ]
  },
  {
   "cell_type": "code",
   "execution_count": 100,
   "metadata": {},
   "outputs": [],
   "source": [
    "space = {'max_depth' : hp.choice('max_depth', range(2, 50, 1))\n",
    "         , 'learning_rate' : hp.quniform('learning_rate', 0.01, 0.5, 0.01)\n",
    "         , 'n_estimators' : hp.choice('n_estimators', range(10, 200, 5))\n",
    "         , 'gamma' : hp.quniform('gamma', 0, 0.50, 0.01)\n",
    "         , 'min_child_weight' : hp.quniform('min_child_weight', 1, 10, 1)\n",
    "         , 'subsample' : hp.quniform('subsample', 0.1, 1, 0.01)\n",
    "         , 'colsample_bytree' : hp.quniform('colsample_bytree', 0.1, 1, 0.01)}"
   ]
  },
  {
   "cell_type": "code",
   "execution_count": 131,
   "metadata": {},
   "outputs": [],
   "source": [
    "optimizer_X_train = selected_X_train\n",
    "optimizer_y_train = sampled_y_train\n",
    "\n",
    "start_time = time.time()\n",
    "\n",
    "best = fmin(fn=objective\n",
    "          , space=space\n",
    "          , algo=tpe.suggest\n",
    "          , max_evals=25\n",
    "          , trials=Trials()\n",
    "          , verbose = True)\n",
    "print(\"Best: \", best)\n",
    "print(\"--- %s seconds ---\" % (time.time() - start_time))"
   ]
  },
  {
   "cell_type": "code",
   "execution_count": 51,
   "metadata": {},
   "outputs": [
    {
     "name": "stdout",
     "output_type": "stream",
     "text": [
      "___________________________________________________________________________________________________________\n",
      "                                                     TRAIN                                                 \n",
      "-----------------------------------------------------------------------------------------------------------\n",
      "              precision    recall  f1-score   support\n",
      "\n",
      "           0       0.84      0.93      0.88     13671\n",
      "           1       0.92      0.82      0.86     13671\n",
      "\n",
      "    accuracy                           0.87     27342\n",
      "   macro avg       0.88      0.87      0.87     27342\n",
      "weighted avg       0.88      0.87      0.87     27342\n",
      "\n",
      "[[12657  1014]\n",
      " [ 2495 11176]]\n",
      "F1: 0.8712850029248317\n",
      "ROC_AUC: 0.8716626435520445\n",
      "___________________________________________________________________________________________________________\n",
      "                                                VALIDATION                                                 \n",
      "-----------------------------------------------------------------------------------------------------------\n",
      "              precision    recall  f1-score   support\n",
      "\n",
      "           0       0.88      0.92      0.90      3418\n",
      "           1       0.71      0.59      0.65      1062\n",
      "\n",
      "    accuracy                           0.85      4480\n",
      "   macro avg       0.79      0.76      0.77      4480\n",
      "weighted avg       0.84      0.85      0.84      4480\n",
      "\n",
      "[[3158  260]\n",
      " [ 432  630]]\n",
      "F1: 0.7733737555206228\n",
      "ROC_AUC: 0.7585762315161012\n"
     ]
    },
    {
     "data": {
      "image/png": "[encoded data removed]",
      "text/plain": [
       "<Figure size 432x288 with 2 Axes>"
      ]
     },
     "metadata": {
      "needs_background": "light"
     },
     "output_type": "display_data"
    }
   ],
   "source": [
    "#######\n",
    "\n",
    "\n",
    "modelXGB_HYPER = xgb.XGBClassifier(n_estimators = best['n_estimators']\n",
    "                                 , max_depth = int(best['max_depth'])\n",
    "                                 , learning_rate = best['learning_rate']\n",
    "                                 , gamma = best['gamma']\n",
    "                                 , min_child_weight = best['min_child_weight']\n",
    "                                 , subsample = best['subsample']\n",
    "                                 , colsample_bytree = best['colsample_bytree'])\n",
    "\n",
    "run_model(modelXGB_HYPER,optimizer_X_train, selected_X_test, optimizer_y_train, y_test)"
   ]
  },
  {
   "cell_type": "markdown",
   "metadata": {},
   "source": [
    "### H2O"
   ]
  },
  {
   "cell_type": "code",
   "execution_count": 52,
   "metadata": {},
   "outputs": [],
   "source": [
    "import h2o\n",
    "from h2o.automl import H2OAutoML"
   ]
  },
  {
   "cell_type": "code",
   "execution_count": 53,
   "metadata": {},
   "outputs": [],
   "source": [
    "import os\n",
    "MAXCORES = int(os.environ['NUMBER_OF_PROCESSORS']) - 2"
   ]
  },
  {
   "cell_type": "code",
   "execution_count": 54,
   "metadata": {},
   "outputs": [
    {
     "name": "stdout",
     "output_type": "stream",
     "text": [
      "Checking whether there is an H2O instance running at http://localhost:54321 ..... not found.\n",
      "Attempting to start a local H2O server...\n",
      "; OpenJDK 64-Bit Server VM AdoptOpenJDK (build 14+36, mixed mode, sharing)\n",
      "  Starting server from C:\\anaconda3\\Lib\\site-packages\\h2o\\backend\\bin\\h2o.jar\n",
      "  Ice root: C:\\Users\\FABIOL~1\\AppData\\Local\\Temp\\tmpoc44yc8k\n",
      "  JVM stdout: C:\\Users\\FABIOL~1\\AppData\\Local\\Temp\\tmpoc44yc8k\\h2o_Fabio_Lopes_started_from_python.out\n",
      "  JVM stderr: C:\\Users\\FABIOL~1\\AppData\\Local\\Temp\\tmpoc44yc8k\\h2o_Fabio_Lopes_started_from_python.err\n",
      "  Server is running at http://127.0.0.1:54321\n",
      "Connecting to H2O server at http://127.0.0.1:54321 ... successful.\n"
     ]
    },
    {
     "data": {
      "text/html": [
       "<div style=\"overflow:auto\"><table style=\"width:50%\"><tr><td>H2O_cluster_uptime:</td>\n",
       "<td>01 secs</td></tr>\n",
       "<tr><td>H2O_cluster_timezone:</td>\n",
       "<td>Europe/Lisbon</td></tr>\n",
       "<tr><td>H2O_data_parsing_timezone:</td>\n",
       "<td>UTC</td></tr>\n",
       "<tr><td>H2O_cluster_version:</td>\n",
       "<td>3.32.0.1</td></tr>\n",
       "<tr><td>H2O_cluster_version_age:</td>\n",
       "<td>1 month and 15 days </td></tr>\n",
       "<tr><td>H2O_cluster_name:</td>\n",
       "<td>H2O_from_python_Fabio_Lopes_ly4j0r</td></tr>\n",
       "<tr><td>H2O_cluster_total_nodes:</td>\n",
       "<td>1</td></tr>\n",
       "<tr><td>H2O_cluster_free_memory:</td>\n",
       "<td>3.963 Gb</td></tr>\n",
       "<tr><td>H2O_cluster_total_cores:</td>\n",
       "<td>12</td></tr>\n",
       "<tr><td>H2O_cluster_allowed_cores:</td>\n",
       "<td>10</td></tr>\n",
       "<tr><td>H2O_cluster_status:</td>\n",
       "<td>accepting new members, healthy</td></tr>\n",
       "<tr><td>H2O_connection_url:</td>\n",
       "<td>http://127.0.0.1:54321</td></tr>\n",
       "<tr><td>H2O_connection_proxy:</td>\n",
       "<td>{\"http\": null, \"https\": null}</td></tr>\n",
       "<tr><td>H2O_internal_security:</td>\n",
       "<td>False</td></tr>\n",
       "<tr><td>H2O_API_Extensions:</td>\n",
       "<td>Amazon S3, Algos, AutoML, Core V3, TargetEncoder, Core V4</td></tr>\n",
       "<tr><td>Python_version:</td>\n",
       "<td>3.8.3 final</td></tr></table></div>"
      ],
      "text/plain": [
       "--------------------------  ---------------------------------------------------------\n",
       "H2O_cluster_uptime:         01 secs\n",
       "H2O_cluster_timezone:       Europe/Lisbon\n",
       "H2O_data_parsing_timezone:  UTC\n",
       "H2O_cluster_version:        3.32.0.1\n",
       "H2O_cluster_version_age:    1 month and 15 days\n",
       "H2O_cluster_name:           H2O_from_python_Fabio_Lopes_ly4j0r\n",
       "H2O_cluster_total_nodes:    1\n",
       "H2O_cluster_free_memory:    3.963 Gb\n",
       "H2O_cluster_total_cores:    12\n",
       "H2O_cluster_allowed_cores:  10\n",
       "H2O_cluster_status:         accepting new members, healthy\n",
       "H2O_connection_url:         http://127.0.0.1:54321\n",
       "H2O_connection_proxy:       {\"http\": null, \"https\": null}\n",
       "H2O_internal_security:      False\n",
       "H2O_API_Extensions:         Amazon S3, Algos, AutoML, Core V3, TargetEncoder, Core V4\n",
       "Python_version:             3.8.3 final\n",
       "--------------------------  ---------------------------------------------------------"
      ]
     },
     "metadata": {},
     "output_type": "display_data"
    }
   ],
   "source": [
    "h2o.init(nthreads=MAXCORES)"
   ]
  },
  {
   "cell_type": "code",
   "execution_count": 59,
   "metadata": {},
   "outputs": [],
   "source": [
    "h2ofeed = optimizer_X_train.copy()\n",
    "h2ofeed['Income'] = optimizer_y_train"
   ]
  },
  {
   "cell_type": "code",
   "execution_count": 60,
   "metadata": {},
   "outputs": [
    {
     "name": "stdout",
     "output_type": "stream",
     "text": [
      "Parse progress: |█████████████████████████████████████████████████████████| 100%\n"
     ]
    }
   ],
   "source": [
    "train = h2o.H2OFrame(h2ofeed)"
   ]
  },
  {
   "cell_type": "code",
   "execution_count": 61,
   "metadata": {},
   "outputs": [],
   "source": [
    "# Identify predictors and response\n",
    "x = train.columns\n",
    "y = \"Income\"\n",
    "x.remove(y)"
   ]
  },
  {
   "cell_type": "code",
   "execution_count": 62,
   "metadata": {},
   "outputs": [],
   "source": [
    "train[y] = train[y].asfactor()"
   ]
  },
  {
   "cell_type": "code",
   "execution_count": 63,
   "metadata": {},
   "outputs": [
    {
     "name": "stdout",
     "output_type": "stream",
     "text": [
      "AutoML progress: |\n",
      "22:19:15.132: AutoML: XGBoost is not available; skipping it.\n",
      "\n",
      "████████████████████████████████████████████████████████| 100%\n"
     ]
    }
   ],
   "source": [
    "aml = H2OAutoML(max_runtime_secs=1800)\n",
    "aml.train(x=x, y=y, training_frame=train)"
   ]
  },
  {
   "cell_type": "code",
   "execution_count": 64,
   "metadata": {},
   "outputs": [
    {
     "data": {
      "text/html": [
       "<table>\n",
       "<thead>\n",
       "<tr><th>model_id                                           </th><th style=\"text-align: right;\">     auc</th><th style=\"text-align: right;\">  logloss</th><th style=\"text-align: right;\">   aucpr</th><th style=\"text-align: right;\">  mean_per_class_error</th><th style=\"text-align: right;\">    rmse</th><th style=\"text-align: right;\">      mse</th></tr>\n",
       "</thead>\n",
       "<tbody>\n",
       "<tr><td>StackedEnsemble_AllModels_AutoML_20201123_221915   </td><td style=\"text-align: right;\">0.970255</td><td style=\"text-align: right;\"> 0.234972</td><td style=\"text-align: right;\">0.973192</td><td style=\"text-align: right;\">             0.0979811</td><td style=\"text-align: right;\">0.266014</td><td style=\"text-align: right;\">0.0707634</td></tr>\n",
       "<tr><td>GBM_grid__1_AutoML_20201123_221915_model_44        </td><td style=\"text-align: right;\">0.969351</td><td style=\"text-align: right;\"> 0.224957</td><td style=\"text-align: right;\">0.972425</td><td style=\"text-align: right;\">             0.0995172</td><td style=\"text-align: right;\">0.264214</td><td style=\"text-align: right;\">0.0698093</td></tr>\n",
       "<tr><td>GBM_grid__1_AutoML_20201123_221915_model_58        </td><td style=\"text-align: right;\">0.969349</td><td style=\"text-align: right;\"> 0.222839</td><td style=\"text-align: right;\">0.972672</td><td style=\"text-align: right;\">             0.100505 </td><td style=\"text-align: right;\">0.263675</td><td style=\"text-align: right;\">0.0695246</td></tr>\n",
       "<tr><td>GBM_grid__1_AutoML_20201123_221915_model_57        </td><td style=\"text-align: right;\">0.969171</td><td style=\"text-align: right;\"> 0.223995</td><td style=\"text-align: right;\">0.972446</td><td style=\"text-align: right;\">             0.100797 </td><td style=\"text-align: right;\">0.264012</td><td style=\"text-align: right;\">0.0697021</td></tr>\n",
       "<tr><td>StackedEnsemble_BestOfFamily_AutoML_20201123_221915</td><td style=\"text-align: right;\">0.969103</td><td style=\"text-align: right;\"> 0.239147</td><td style=\"text-align: right;\">0.971897</td><td style=\"text-align: right;\">             0.0992612</td><td style=\"text-align: right;\">0.268142</td><td style=\"text-align: right;\">0.0719002</td></tr>\n",
       "<tr><td>GBM_grid__1_AutoML_20201123_221915_model_32        </td><td style=\"text-align: right;\">0.968689</td><td style=\"text-align: right;\"> 0.228726</td><td style=\"text-align: right;\">0.971488</td><td style=\"text-align: right;\">             0.100724 </td><td style=\"text-align: right;\">0.265505</td><td style=\"text-align: right;\">0.0704929</td></tr>\n",
       "<tr><td>GBM_grid__1_AutoML_20201123_221915_model_37        </td><td style=\"text-align: right;\">0.968363</td><td style=\"text-align: right;\"> 0.228935</td><td style=\"text-align: right;\">0.971466</td><td style=\"text-align: right;\">             0.100468 </td><td style=\"text-align: right;\">0.266629</td><td style=\"text-align: right;\">0.0710912</td></tr>\n",
       "<tr><td>GBM_grid__1_AutoML_20201123_221915_model_26        </td><td style=\"text-align: right;\">0.96793 </td><td style=\"text-align: right;\"> 0.230518</td><td style=\"text-align: right;\">0.970711</td><td style=\"text-align: right;\">             0.101639 </td><td style=\"text-align: right;\">0.267135</td><td style=\"text-align: right;\">0.0713614</td></tr>\n",
       "<tr><td>GBM_grid__1_AutoML_20201123_221915_model_46        </td><td style=\"text-align: right;\">0.967873</td><td style=\"text-align: right;\"> 0.23271 </td><td style=\"text-align: right;\">0.97099 </td><td style=\"text-align: right;\">             0.102224 </td><td style=\"text-align: right;\">0.267921</td><td style=\"text-align: right;\">0.0717817</td></tr>\n",
       "<tr><td>GBM_3_AutoML_20201123_221915                       </td><td style=\"text-align: right;\">0.967863</td><td style=\"text-align: right;\"> 0.230517</td><td style=\"text-align: right;\">0.970715</td><td style=\"text-align: right;\">             0.100212 </td><td style=\"text-align: right;\">0.267264</td><td style=\"text-align: right;\">0.0714302</td></tr>\n",
       "<tr><td>GBM_grid__1_AutoML_20201123_221915_model_62        </td><td style=\"text-align: right;\">0.967791</td><td style=\"text-align: right;\"> 0.23013 </td><td style=\"text-align: right;\">0.970686</td><td style=\"text-align: right;\">             0.10109  </td><td style=\"text-align: right;\">0.267494</td><td style=\"text-align: right;\">0.0715533</td></tr>\n",
       "<tr><td>GBM_1_AutoML_20201123_221915                       </td><td style=\"text-align: right;\">0.967748</td><td style=\"text-align: right;\"> 0.231776</td><td style=\"text-align: right;\">0.970515</td><td style=\"text-align: right;\">             0.101858 </td><td style=\"text-align: right;\">0.267816</td><td style=\"text-align: right;\">0.0717255</td></tr>\n",
       "<tr><td>GBM_2_AutoML_20201123_221915                       </td><td style=\"text-align: right;\">0.967635</td><td style=\"text-align: right;\"> 0.231528</td><td style=\"text-align: right;\">0.970467</td><td style=\"text-align: right;\">             0.102151 </td><td style=\"text-align: right;\">0.267868</td><td style=\"text-align: right;\">0.0717533</td></tr>\n",
       "<tr><td>GBM_grid__1_AutoML_20201123_221915_model_52        </td><td style=\"text-align: right;\">0.967602</td><td style=\"text-align: right;\"> 0.229655</td><td style=\"text-align: right;\">0.970863</td><td style=\"text-align: right;\">             0.103687 </td><td style=\"text-align: right;\">0.267426</td><td style=\"text-align: right;\">0.0715167</td></tr>\n",
       "<tr><td>GBM_grid__1_AutoML_20201123_221915_model_8         </td><td style=\"text-align: right;\">0.967585</td><td style=\"text-align: right;\"> 0.229825</td><td style=\"text-align: right;\">0.970797</td><td style=\"text-align: right;\">             0.101126 </td><td style=\"text-align: right;\">0.266924</td><td style=\"text-align: right;\">0.0712486</td></tr>\n",
       "<tr><td>GBM_4_AutoML_20201123_221915                       </td><td style=\"text-align: right;\">0.967555</td><td style=\"text-align: right;\"> 0.230946</td><td style=\"text-align: right;\">0.97027 </td><td style=\"text-align: right;\">             0.101529 </td><td style=\"text-align: right;\">0.2679  </td><td style=\"text-align: right;\">0.0717704</td></tr>\n",
       "<tr><td>GBM_grid__1_AutoML_20201123_221915_model_60        </td><td style=\"text-align: right;\">0.966854</td><td style=\"text-align: right;\"> 0.234718</td><td style=\"text-align: right;\">0.969694</td><td style=\"text-align: right;\">             0.10365  </td><td style=\"text-align: right;\">0.269516</td><td style=\"text-align: right;\">0.0726388</td></tr>\n",
       "<tr><td>GBM_grid__1_AutoML_20201123_221915_model_18        </td><td style=\"text-align: right;\">0.966819</td><td style=\"text-align: right;\"> 0.235556</td><td style=\"text-align: right;\">0.969327</td><td style=\"text-align: right;\">             0.102114 </td><td style=\"text-align: right;\">0.269717</td><td style=\"text-align: right;\">0.072747 </td></tr>\n",
       "<tr><td>GBM_grid__1_AutoML_20201123_221915_model_49        </td><td style=\"text-align: right;\">0.966815</td><td style=\"text-align: right;\"> 0.234518</td><td style=\"text-align: right;\">0.969565</td><td style=\"text-align: right;\">             0.104089 </td><td style=\"text-align: right;\">0.269569</td><td style=\"text-align: right;\">0.0726673</td></tr>\n",
       "<tr><td>GBM_grid__1_AutoML_20201123_221915_model_48        </td><td style=\"text-align: right;\">0.966457</td><td style=\"text-align: right;\"> 0.238502</td><td style=\"text-align: right;\">0.969205</td><td style=\"text-align: right;\">             0.103943 </td><td style=\"text-align: right;\">0.271292</td><td style=\"text-align: right;\">0.0735995</td></tr>\n",
       "<tr><td>GBM_grid__1_AutoML_20201123_221915_model_30        </td><td style=\"text-align: right;\">0.966454</td><td style=\"text-align: right;\"> 0.234747</td><td style=\"text-align: right;\">0.969483</td><td style=\"text-align: right;\">             0.102589 </td><td style=\"text-align: right;\">0.269986</td><td style=\"text-align: right;\">0.0728924</td></tr>\n",
       "<tr><td>GBM_grid__1_AutoML_20201123_221915_model_54        </td><td style=\"text-align: right;\">0.966177</td><td style=\"text-align: right;\"> 0.236255</td><td style=\"text-align: right;\">0.968709</td><td style=\"text-align: right;\">             0.102626 </td><td style=\"text-align: right;\">0.270503</td><td style=\"text-align: right;\">0.0731719</td></tr>\n",
       "<tr><td>GBM_5_AutoML_20201123_221915                       </td><td style=\"text-align: right;\">0.965845</td><td style=\"text-align: right;\"> 0.236304</td><td style=\"text-align: right;\">0.968604</td><td style=\"text-align: right;\">             0.105223 </td><td style=\"text-align: right;\">0.271942</td><td style=\"text-align: right;\">0.0739525</td></tr>\n",
       "<tr><td>GBM_grid__1_AutoML_20201123_221915_model_1         </td><td style=\"text-align: right;\">0.965752</td><td style=\"text-align: right;\"> 0.239361</td><td style=\"text-align: right;\">0.968176</td><td style=\"text-align: right;\">             0.103321 </td><td style=\"text-align: right;\">0.272178</td><td style=\"text-align: right;\">0.074081 </td></tr>\n",
       "<tr><td>GBM_grid__1_AutoML_20201123_221915_model_10        </td><td style=\"text-align: right;\">0.965565</td><td style=\"text-align: right;\"> 0.240549</td><td style=\"text-align: right;\">0.968488</td><td style=\"text-align: right;\">             0.103687 </td><td style=\"text-align: right;\">0.272641</td><td style=\"text-align: right;\">0.0743333</td></tr>\n",
       "<tr><td>GBM_grid__1_AutoML_20201123_221915_model_65        </td><td style=\"text-align: right;\">0.965199</td><td style=\"text-align: right;\"> 0.242931</td><td style=\"text-align: right;\">0.96761 </td><td style=\"text-align: right;\">             0.10482  </td><td style=\"text-align: right;\">0.273084</td><td style=\"text-align: right;\">0.0745751</td></tr>\n",
       "<tr><td>GBM_grid__1_AutoML_20201123_221915_model_59        </td><td style=\"text-align: right;\">0.96425 </td><td style=\"text-align: right;\"> 0.243052</td><td style=\"text-align: right;\">0.966969</td><td style=\"text-align: right;\">             0.107307 </td><td style=\"text-align: right;\">0.275493</td><td style=\"text-align: right;\">0.0758963</td></tr>\n",
       "<tr><td>GBM_grid__1_AutoML_20201123_221915_model_55        </td><td style=\"text-align: right;\">0.964242</td><td style=\"text-align: right;\"> 0.24304 </td><td style=\"text-align: right;\">0.966332</td><td style=\"text-align: right;\">             0.107637 </td><td style=\"text-align: right;\">0.274983</td><td style=\"text-align: right;\">0.0756156</td></tr>\n",
       "<tr><td>GBM_grid__1_AutoML_20201123_221915_model_29        </td><td style=\"text-align: right;\">0.963853</td><td style=\"text-align: right;\"> 0.244404</td><td style=\"text-align: right;\">0.965704</td><td style=\"text-align: right;\">             0.107344 </td><td style=\"text-align: right;\">0.275569</td><td style=\"text-align: right;\">0.0759383</td></tr>\n",
       "<tr><td>GBM_grid__1_AutoML_20201123_221915_model_39        </td><td style=\"text-align: right;\">0.963104</td><td style=\"text-align: right;\"> 0.250596</td><td style=\"text-align: right;\">0.965408</td><td style=\"text-align: right;\">             0.108953 </td><td style=\"text-align: right;\">0.278284</td><td style=\"text-align: right;\">0.0774419</td></tr>\n",
       "<tr><td>GBM_grid__1_AutoML_20201123_221915_model_5         </td><td style=\"text-align: right;\">0.963014</td><td style=\"text-align: right;\"> 0.250804</td><td style=\"text-align: right;\">0.964604</td><td style=\"text-align: right;\">             0.106393 </td><td style=\"text-align: right;\">0.277579</td><td style=\"text-align: right;\">0.0770502</td></tr>\n",
       "<tr><td>GBM_grid__1_AutoML_20201123_221915_model_9         </td><td style=\"text-align: right;\">0.96297 </td><td style=\"text-align: right;\"> 0.24716 </td><td style=\"text-align: right;\">0.964993</td><td style=\"text-align: right;\">             0.108624 </td><td style=\"text-align: right;\">0.277871</td><td style=\"text-align: right;\">0.0772123</td></tr>\n",
       "<tr><td>GBM_grid__1_AutoML_20201123_221915_model_11        </td><td style=\"text-align: right;\">0.962849</td><td style=\"text-align: right;\"> 0.25185 </td><td style=\"text-align: right;\">0.96484 </td><td style=\"text-align: right;\">             0.11016  </td><td style=\"text-align: right;\">0.278724</td><td style=\"text-align: right;\">0.0776868</td></tr>\n",
       "<tr><td>GBM_grid__1_AutoML_20201123_221915_model_20        </td><td style=\"text-align: right;\">0.962596</td><td style=\"text-align: right;\"> 0.248626</td><td style=\"text-align: right;\">0.964333</td><td style=\"text-align: right;\">             0.108075 </td><td style=\"text-align: right;\">0.277377</td><td style=\"text-align: right;\">0.0769378</td></tr>\n",
       "<tr><td>GBM_grid__1_AutoML_20201123_221915_model_28        </td><td style=\"text-align: right;\">0.961521</td><td style=\"text-align: right;\"> 0.253642</td><td style=\"text-align: right;\">0.96299 </td><td style=\"text-align: right;\">             0.108185 </td><td style=\"text-align: right;\">0.27902 </td><td style=\"text-align: right;\">0.0778522</td></tr>\n",
       "<tr><td>GBM_grid__1_AutoML_20201123_221915_model_61        </td><td style=\"text-align: right;\">0.96148 </td><td style=\"text-align: right;\"> 0.257037</td><td style=\"text-align: right;\">0.962797</td><td style=\"text-align: right;\">             0.10877  </td><td style=\"text-align: right;\">0.280607</td><td style=\"text-align: right;\">0.0787403</td></tr>\n",
       "<tr><td>GBM_grid__1_AutoML_20201123_221915_model_15        </td><td style=\"text-align: right;\">0.961357</td><td style=\"text-align: right;\"> 0.256463</td><td style=\"text-align: right;\">0.9636  </td><td style=\"text-align: right;\">             0.11155  </td><td style=\"text-align: right;\">0.28182 </td><td style=\"text-align: right;\">0.0794227</td></tr>\n",
       "<tr><td>GBM_grid__1_AutoML_20201123_221915_model_56        </td><td style=\"text-align: right;\">0.96104 </td><td style=\"text-align: right;\"> 0.257012</td><td style=\"text-align: right;\">0.962476</td><td style=\"text-align: right;\">             0.110599 </td><td style=\"text-align: right;\">0.28136 </td><td style=\"text-align: right;\">0.0791634</td></tr>\n",
       "<tr><td>GBM_grid__1_AutoML_20201123_221915_model_64        </td><td style=\"text-align: right;\">0.960874</td><td style=\"text-align: right;\"> 0.254514</td><td style=\"text-align: right;\">0.962464</td><td style=\"text-align: right;\">             0.110745 </td><td style=\"text-align: right;\">0.280751</td><td style=\"text-align: right;\">0.0788212</td></tr>\n",
       "<tr><td>GBM_grid__1_AutoML_20201123_221915_model_7         </td><td style=\"text-align: right;\">0.960271</td><td style=\"text-align: right;\"> 0.256885</td><td style=\"text-align: right;\">0.961664</td><td style=\"text-align: right;\">             0.110014 </td><td style=\"text-align: right;\">0.281943</td><td style=\"text-align: right;\">0.0794919</td></tr>\n",
       "<tr><td>GBM_grid__1_AutoML_20201123_221915_model_63        </td><td style=\"text-align: right;\">0.960252</td><td style=\"text-align: right;\"> 0.257067</td><td style=\"text-align: right;\">0.961682</td><td style=\"text-align: right;\">             0.108953 </td><td style=\"text-align: right;\">0.281843</td><td style=\"text-align: right;\">0.0794356</td></tr>\n",
       "<tr><td>GBM_grid__1_AutoML_20201123_221915_model_50        </td><td style=\"text-align: right;\">0.960226</td><td style=\"text-align: right;\"> 0.256323</td><td style=\"text-align: right;\">0.9615  </td><td style=\"text-align: right;\">             0.11016  </td><td style=\"text-align: right;\">0.28177 </td><td style=\"text-align: right;\">0.0793942</td></tr>\n",
       "<tr><td>GBM_grid__1_AutoML_20201123_221915_model_6         </td><td style=\"text-align: right;\">0.959517</td><td style=\"text-align: right;\"> 0.260024</td><td style=\"text-align: right;\">0.961439</td><td style=\"text-align: right;\">             0.117365 </td><td style=\"text-align: right;\">0.284936</td><td style=\"text-align: right;\">0.0811886</td></tr>\n",
       "<tr><td>GBM_grid__1_AutoML_20201123_221915_model_33        </td><td style=\"text-align: right;\">0.959487</td><td style=\"text-align: right;\"> 0.259755</td><td style=\"text-align: right;\">0.961534</td><td style=\"text-align: right;\">             0.114951 </td><td style=\"text-align: right;\">0.284619</td><td style=\"text-align: right;\">0.0810078</td></tr>\n",
       "<tr><td>GBM_grid__1_AutoML_20201123_221915_model_31        </td><td style=\"text-align: right;\">0.959343</td><td style=\"text-align: right;\"> 0.260965</td><td style=\"text-align: right;\">0.960383</td><td style=\"text-align: right;\">             0.111769 </td><td style=\"text-align: right;\">0.284001</td><td style=\"text-align: right;\">0.0806563</td></tr>\n",
       "<tr><td>GBM_grid__1_AutoML_20201123_221915_model_25        </td><td style=\"text-align: right;\">0.959247</td><td style=\"text-align: right;\"> 0.259353</td><td style=\"text-align: right;\">0.960898</td><td style=\"text-align: right;\">             0.117073 </td><td style=\"text-align: right;\">0.284564</td><td style=\"text-align: right;\">0.0809767</td></tr>\n",
       "<tr><td>GBM_grid__1_AutoML_20201123_221915_model_21        </td><td style=\"text-align: right;\">0.958824</td><td style=\"text-align: right;\"> 0.261555</td><td style=\"text-align: right;\">0.959831</td><td style=\"text-align: right;\">             0.112245 </td><td style=\"text-align: right;\">0.284026</td><td style=\"text-align: right;\">0.0806706</td></tr>\n",
       "<tr><td>GBM_grid__1_AutoML_20201123_221915_model_42        </td><td style=\"text-align: right;\">0.958682</td><td style=\"text-align: right;\"> 0.262497</td><td style=\"text-align: right;\">0.959867</td><td style=\"text-align: right;\">             0.113342 </td><td style=\"text-align: right;\">0.285329</td><td style=\"text-align: right;\">0.0814125</td></tr>\n",
       "<tr><td>GBM_grid__1_AutoML_20201123_221915_model_16        </td><td style=\"text-align: right;\">0.95853 </td><td style=\"text-align: right;\"> 0.264014</td><td style=\"text-align: right;\">0.959603</td><td style=\"text-align: right;\">             0.114695 </td><td style=\"text-align: right;\">0.286035</td><td style=\"text-align: right;\">0.0818159</td></tr>\n",
       "<tr><td>GBM_grid__1_AutoML_20201123_221915_model_53        </td><td style=\"text-align: right;\">0.958441</td><td style=\"text-align: right;\"> 0.265252</td><td style=\"text-align: right;\">0.959528</td><td style=\"text-align: right;\">             0.113854 </td><td style=\"text-align: right;\">0.286308</td><td style=\"text-align: right;\">0.0819721</td></tr>\n",
       "<tr><td>GBM_grid__1_AutoML_20201123_221915_model_24        </td><td style=\"text-align: right;\">0.958143</td><td style=\"text-align: right;\"> 0.267458</td><td style=\"text-align: right;\">0.959512</td><td style=\"text-align: right;\">             0.116524 </td><td style=\"text-align: right;\">0.287541</td><td style=\"text-align: right;\">0.0826799</td></tr>\n",
       "<tr><td>GBM_grid__1_AutoML_20201123_221915_model_12        </td><td style=\"text-align: right;\">0.957465</td><td style=\"text-align: right;\"> 0.265505</td><td style=\"text-align: right;\">0.959125</td><td style=\"text-align: right;\">             0.118024 </td><td style=\"text-align: right;\">0.288167</td><td style=\"text-align: right;\">0.0830401</td></tr>\n",
       "<tr><td>GBM_grid__1_AutoML_20201123_221915_model_40        </td><td style=\"text-align: right;\">0.956773</td><td style=\"text-align: right;\"> 0.269281</td><td style=\"text-align: right;\">0.958825</td><td style=\"text-align: right;\">             0.12223  </td><td style=\"text-align: right;\">0.290052</td><td style=\"text-align: right;\">0.0841303</td></tr>\n",
       "<tr><td>GBM_grid__1_AutoML_20201123_221915_model_17        </td><td style=\"text-align: right;\">0.956724</td><td style=\"text-align: right;\"> 0.269609</td><td style=\"text-align: right;\">0.958461</td><td style=\"text-align: right;\">             0.117731 </td><td style=\"text-align: right;\">0.289759</td><td style=\"text-align: right;\">0.0839602</td></tr>\n",
       "<tr><td>GBM_grid__1_AutoML_20201123_221915_model_35        </td><td style=\"text-align: right;\">0.956664</td><td style=\"text-align: right;\"> 0.272422</td><td style=\"text-align: right;\">0.958125</td><td style=\"text-align: right;\">             0.117731 </td><td style=\"text-align: right;\">0.290292</td><td style=\"text-align: right;\">0.0842693</td></tr>\n",
       "<tr><td>GBM_grid__1_AutoML_20201123_221915_model_36        </td><td style=\"text-align: right;\">0.956442</td><td style=\"text-align: right;\"> 0.272413</td><td style=\"text-align: right;\">0.957798</td><td style=\"text-align: right;\">             0.118609 </td><td style=\"text-align: right;\">0.290465</td><td style=\"text-align: right;\">0.0843697</td></tr>\n",
       "<tr><td>GBM_grid__1_AutoML_20201123_221915_model_23        </td><td style=\"text-align: right;\">0.955583</td><td style=\"text-align: right;\"> 0.273672</td><td style=\"text-align: right;\">0.9566  </td><td style=\"text-align: right;\">             0.121498 </td><td style=\"text-align: right;\">0.291284</td><td style=\"text-align: right;\">0.0848463</td></tr>\n",
       "<tr><td>GBM_grid__1_AutoML_20201123_221915_model_38        </td><td style=\"text-align: right;\">0.954685</td><td style=\"text-align: right;\"> 0.276089</td><td style=\"text-align: right;\">0.955758</td><td style=\"text-align: right;\">             0.122339 </td><td style=\"text-align: right;\">0.292985</td><td style=\"text-align: right;\">0.0858402</td></tr>\n",
       "<tr><td>GBM_grid__1_AutoML_20201123_221915_model_22        </td><td style=\"text-align: right;\">0.954642</td><td style=\"text-align: right;\"> 0.275804</td><td style=\"text-align: right;\">0.955344</td><td style=\"text-align: right;\">             0.122595 </td><td style=\"text-align: right;\">0.292616</td><td style=\"text-align: right;\">0.0856244</td></tr>\n",
       "<tr><td>GBM_grid__1_AutoML_20201123_221915_model_41        </td><td style=\"text-align: right;\">0.954615</td><td style=\"text-align: right;\"> 0.276008</td><td style=\"text-align: right;\">0.95527 </td><td style=\"text-align: right;\">             0.11923  </td><td style=\"text-align: right;\">0.292985</td><td style=\"text-align: right;\">0.0858403</td></tr>\n",
       "<tr><td>GBM_grid__1_AutoML_20201123_221915_model_13        </td><td style=\"text-align: right;\">0.954529</td><td style=\"text-align: right;\"> 0.277343</td><td style=\"text-align: right;\">0.955562</td><td style=\"text-align: right;\">             0.120364 </td><td style=\"text-align: right;\">0.293425</td><td style=\"text-align: right;\">0.0860981</td></tr>\n",
       "<tr><td>GBM_grid__1_AutoML_20201123_221915_model_14        </td><td style=\"text-align: right;\">0.954075</td><td style=\"text-align: right;\"> 0.276067</td><td style=\"text-align: right;\">0.955172</td><td style=\"text-align: right;\">             0.123144 </td><td style=\"text-align: right;\">0.293847</td><td style=\"text-align: right;\">0.0863461</td></tr>\n",
       "<tr><td>GBM_grid__1_AutoML_20201123_221915_model_2         </td><td style=\"text-align: right;\">0.953848</td><td style=\"text-align: right;\"> 0.29132 </td><td style=\"text-align: right;\">0.953827</td><td style=\"text-align: right;\">             0.117329 </td><td style=\"text-align: right;\">0.29508 </td><td style=\"text-align: right;\">0.0870719</td></tr>\n",
       "<tr><td>GBM_grid__1_AutoML_20201123_221915_model_3         </td><td style=\"text-align: right;\">0.953103</td><td style=\"text-align: right;\"> 0.277659</td><td style=\"text-align: right;\">0.954399</td><td style=\"text-align: right;\">             0.125631 </td><td style=\"text-align: right;\">0.295666</td><td style=\"text-align: right;\">0.0874183</td></tr>\n",
       "<tr><td>GBM_grid__1_AutoML_20201123_221915_model_51        </td><td style=\"text-align: right;\">0.952909</td><td style=\"text-align: right;\"> 0.280834</td><td style=\"text-align: right;\">0.953713</td><td style=\"text-align: right;\">             0.124278 </td><td style=\"text-align: right;\">0.295983</td><td style=\"text-align: right;\">0.0876062</td></tr>\n",
       "<tr><td>GBM_grid__1_AutoML_20201123_221915_model_43        </td><td style=\"text-align: right;\">0.952334</td><td style=\"text-align: right;\"> 0.282713</td><td style=\"text-align: right;\">0.953609</td><td style=\"text-align: right;\">             0.125229 </td><td style=\"text-align: right;\">0.296951</td><td style=\"text-align: right;\">0.0881798</td></tr>\n",
       "<tr><td>GBM_grid__1_AutoML_20201123_221915_model_19        </td><td style=\"text-align: right;\">0.951719</td><td style=\"text-align: right;\"> 0.28435 </td><td style=\"text-align: right;\">0.952809</td><td style=\"text-align: right;\">             0.128703 </td><td style=\"text-align: right;\">0.297927</td><td style=\"text-align: right;\">0.0887603</td></tr>\n",
       "<tr><td>XRT_1_AutoML_20201123_221915                       </td><td style=\"text-align: right;\">0.949555</td><td style=\"text-align: right;\"> 0.288554</td><td style=\"text-align: right;\">0.947984</td><td style=\"text-align: right;\">             0.12724  </td><td style=\"text-align: right;\">0.299316</td><td style=\"text-align: right;\">0.0895902</td></tr>\n",
       "<tr><td>GBM_grid__1_AutoML_20201123_221915_model_47        </td><td style=\"text-align: right;\">0.949201</td><td style=\"text-align: right;\"> 0.28803 </td><td style=\"text-align: right;\">0.949913</td><td style=\"text-align: right;\">             0.13503  </td><td style=\"text-align: right;\">0.30138 </td><td style=\"text-align: right;\">0.0908299</td></tr>\n",
       "<tr><td>GBM_grid__1_AutoML_20201123_221915_model_34        </td><td style=\"text-align: right;\">0.948852</td><td style=\"text-align: right;\"> 0.291936</td><td style=\"text-align: right;\">0.94932 </td><td style=\"text-align: right;\">             0.130715 </td><td style=\"text-align: right;\">0.30219 </td><td style=\"text-align: right;\">0.091319 </td></tr>\n",
       "<tr><td>DRF_1_AutoML_20201123_221915                       </td><td style=\"text-align: right;\">0.948765</td><td style=\"text-align: right;\"> 0.290527</td><td style=\"text-align: right;\">0.947579</td><td style=\"text-align: right;\">             0.12735  </td><td style=\"text-align: right;\">0.300603</td><td style=\"text-align: right;\">0.0903622</td></tr>\n",
       "<tr><td>GBM_grid__1_AutoML_20201123_221915_model_27        </td><td style=\"text-align: right;\">0.948556</td><td style=\"text-align: right;\"> 0.292465</td><td style=\"text-align: right;\">0.949142</td><td style=\"text-align: right;\">             0.130715 </td><td style=\"text-align: right;\">0.302699</td><td style=\"text-align: right;\">0.0916269</td></tr>\n",
       "<tr><td>GBM_grid__1_AutoML_20201123_221915_model_4         </td><td style=\"text-align: right;\">0.948432</td><td style=\"text-align: right;\"> 0.292618</td><td style=\"text-align: right;\">0.949106</td><td style=\"text-align: right;\">             0.134116 </td><td style=\"text-align: right;\">0.302804</td><td style=\"text-align: right;\">0.0916902</td></tr>\n",
       "<tr><td>GBM_grid__1_AutoML_20201123_221915_model_45        </td><td style=\"text-align: right;\">0.947011</td><td style=\"text-align: right;\"> 0.294937</td><td style=\"text-align: right;\">0.947408</td><td style=\"text-align: right;\">             0.132287 </td><td style=\"text-align: right;\">0.304735</td><td style=\"text-align: right;\">0.0928631</td></tr>\n",
       "<tr><td>DeepLearning_1_AutoML_20201123_221915              </td><td style=\"text-align: right;\">0.906196</td><td style=\"text-align: right;\"> 0.448752</td><td style=\"text-align: right;\">0.89899 </td><td style=\"text-align: right;\">             0.178005 </td><td style=\"text-align: right;\">0.384829</td><td style=\"text-align: right;\">0.148093 </td></tr>\n",
       "<tr><td>GLM_1_AutoML_20201123_221915                       </td><td style=\"text-align: right;\">0.905165</td><td style=\"text-align: right;\"> 0.386697</td><td style=\"text-align: right;\">0.898653</td><td style=\"text-align: right;\">             0.179943 </td><td style=\"text-align: right;\">0.352111</td><td style=\"text-align: right;\">0.123982 </td></tr>\n",
       "<tr><td>DeepLearning_grid__3_AutoML_20201123_221915_model_1</td><td style=\"text-align: right;\">0.896527</td><td style=\"text-align: right;\"> 0.482134</td><td style=\"text-align: right;\">0.88749 </td><td style=\"text-align: right;\">             0.186929 </td><td style=\"text-align: right;\">0.396813</td><td style=\"text-align: right;\">0.157461 </td></tr>\n",
       "<tr><td>DeepLearning_grid__1_AutoML_20201123_221915_model_3</td><td style=\"text-align: right;\">0.894402</td><td style=\"text-align: right;\"> 0.503904</td><td style=\"text-align: right;\">0.884504</td><td style=\"text-align: right;\">             0.182028 </td><td style=\"text-align: right;\">0.386679</td><td style=\"text-align: right;\">0.149521 </td></tr>\n",
       "<tr><td>DeepLearning_grid__2_AutoML_20201123_221915_model_1</td><td style=\"text-align: right;\">0.885144</td><td style=\"text-align: right;\"> 0.475734</td><td style=\"text-align: right;\">0.872479</td><td style=\"text-align: right;\">             0.190622 </td><td style=\"text-align: right;\">0.38648 </td><td style=\"text-align: right;\">0.149367 </td></tr>\n",
       "<tr><td>DeepLearning_grid__1_AutoML_20201123_221915_model_1</td><td style=\"text-align: right;\">0.869428</td><td style=\"text-align: right;\"> 0.532445</td><td style=\"text-align: right;\">0.855806</td><td style=\"text-align: right;\">             0.203643 </td><td style=\"text-align: right;\">0.402558</td><td style=\"text-align: right;\">0.162053 </td></tr>\n",
       "<tr><td>DeepLearning_grid__1_AutoML_20201123_221915_model_2</td><td style=\"text-align: right;\">0.806721</td><td style=\"text-align: right;\"> 0.8859  </td><td style=\"text-align: right;\">0.750694</td><td style=\"text-align: right;\">             0.236449 </td><td style=\"text-align: right;\">0.446093</td><td style=\"text-align: right;\">0.198999 </td></tr>\n",
       "</tbody>\n",
       "</table>"
      ]
     },
     "metadata": {},
     "output_type": "display_data"
    },
    {
     "data": {
      "text/plain": []
     },
     "execution_count": 64,
     "metadata": {},
     "output_type": "execute_result"
    }
   ],
   "source": [
    "# View the AutoML Leaderboard\n",
    "lb = aml.leaderboard\n",
    "lb.head(rows=lb.nrows)  # Print all rows instead of default (10 rows)"
   ]
  },
  {
   "cell_type": "markdown",
   "metadata": {},
   "source": [
    "## Produce File for Submission"
   ]
  },
  {
   "cell_type": "code",
   "execution_count": 132,
   "metadata": {},
   "outputs": [],
   "source": [
    "prepped_data_test = DataPreProcessing(data_test)\n",
    "prepped_data_test = AlignDataframe(optimizer_X_train.columns,prepped_data_test)"
   ]
  },
  {
   "cell_type": "code",
   "execution_count": 133,
   "metadata": {},
   "outputs": [],
   "source": [
    "predictions = modelXGB.predict(prepped_data_test)\n",
    "prepped_data_test['Income'] = predictions\n",
    "prepped_data_test[['Income']].to_csv('Submission_1.csv')"
   ]
  },
  {
   "cell_type": "code",
   "execution_count": 68,
   "metadata": {},
   "outputs": [
    {
     "name": "stdout",
     "output_type": "stream",
     "text": [
      "Parse progress: |█████████████████████████████████████████████████████████| 100%\n",
      "stackedensemble prediction progress: |████████████████████████████████████| 100%\n"
     ]
    }
   ],
   "source": [
    "# Predict Using H2O\n",
    "hf2 = h2o.H2OFrame(prepped_data_test)\n",
    "preds = aml.predict(hf2)\n",
    "predictions = preds.as_data_frame()\n",
    "prepped_data_test['Income'] = predictions[['predict']]\n",
    "final = prepped_data_test.copy()\n",
    "final.reset_index(inplace=True)\n",
    "final['Income'] = predictions[['predict']]\n",
    "final.head()\n",
    "final[['CITIZEN_ID','Income']].to_csv('Submission_2.csv', index=False)"
   ]
  }
 ],
 "metadata": {
  "kernelspec": {
   "display_name": "Python 3",
   "language": "python",
   "name": "python3"
  },
  "language_info": {
   "codemirror_mode": {
    "name": "ipython",
    "version": 3
   },
   "file_extension": ".py",
   "mimetype": "text/x-python",
   "name": "python",
   "nbconvert_exporter": "python",
   "pygments_lexer": "ipython3",
   "version": "3.8.3"
  }
 },
 "nbformat": 4,
 "nbformat_minor": 4
}
