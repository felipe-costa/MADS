{
 "cells": [
  {
   "cell_type": "markdown",
   "metadata": {},
   "source": [
    "# Machine Learning - Project - Group MAA_202021_10\n",
    "## Group Members\n",
    "|Name|StudentID|\n",
    "|:-----------:|:--------:|\n",
    "|Fabio Lopes|20200597|\n",
    "|Filipe Costa|20201041|\n",
    "|Jorge Pereira||\n",
    "\n",
    "## Introduction \n",
    "Put some introduction here"
   ]
  },
  {
   "cell_type": "markdown",
   "metadata": {},
   "source": [
    "## Package Instalation and Importing"
   ]
  },
  {
   "cell_type": "code",
   "execution_count": 1,
   "metadata": {},
   "outputs": [],
   "source": [
    "#import sys\n",
    "#!{sys.executable} -m pip install -U xlrd\n",
    "#!{sys.executable} -m pip install -U xgboost\n",
    "#!{sys.executable} -m pip install -U hyperopt\n",
    "#!{sys.executable} -m pip install -U mlflow\n",
    "#!{sys.executable} -m pip install -U imbalanced-learn\n",
    "#!{sys.executable} -m pip install -f http://h2o-release.s3.amazonaws.com/h2o/latest_stable_Py.html h2o"
   ]
  },
  {
   "cell_type": "code",
   "execution_count": 55,
   "metadata": {},
   "outputs": [],
   "source": [
    "import pandas as pd\n",
    "import numpy as np\n",
    "import seaborn as sns\n",
    "from datetime import datetime\n",
    "import time\n",
    "\n",
    "from sklearn.model_selection import train_test_split, cross_val_score,cross_validate\n",
    "from sklearn.preprocessing import MinMaxScaler\n",
    "from sklearn.linear_model import LogisticRegression\n",
    "from sklearn.neighbors import KNeighborsClassifier\n",
    "from sklearn.naive_bayes import GaussianNB\n",
    "from sklearn.metrics import f1_score, roc_curve, roc_auc_score, auc, classification_report, confusion_matrix\n",
    "from sklearn.feature_selection import SelectFromModel\n",
    "from imblearn.over_sampling import SMOTE\n",
    "from xgboost import XGBClassifier\n"
   ]
  },
  {
   "cell_type": "code",
   "execution_count": 3,
   "metadata": {},
   "outputs": [],
   "source": [
    "data = pd.read_excel('Train.xlsx')\n",
    "data_test = pd.read_excel(\"Test.xlsx\")"
   ]
  },
  {
   "cell_type": "code",
   "execution_count": 4,
   "metadata": {},
   "outputs": [
    {
     "name": "stdout",
     "output_type": "stream",
     "text": [
      "Training data has 15 columns and 22400 rows.\n"
     ]
    }
   ],
   "source": [
    "print(f\"Training data has {data.shape[1]} columns and {data.shape[0]} rows.\")"
   ]
  },
  {
   "cell_type": "markdown",
   "metadata": {},
   "source": [
    "## Data Cleansing & Feature Engineering Functions\n",
    "In this section, we will define the Cleansing functions"
   ]
  },
  {
   "cell_type": "code",
   "execution_count": 5,
   "metadata": {},
   "outputs": [],
   "source": [
    "def strip_lower(df):\n",
    "    \"\"\"Detects the String columns and converts all the records to lowercase.\"\"\"\n",
    "    for column in df.columns:\n",
    "        if df[column].dtype == 'object':\n",
    "            df[column] = df[column].apply(str.strip).apply(str.lower)\n",
    "    return df"
   ]
  },
  {
   "cell_type": "code",
   "execution_count": 6,
   "metadata": {},
   "outputs": [],
   "source": [
    "def fill_missing_values(df,ColumnswithMissingValues):\n",
    "    for column in ColumnswithMissingValues:\n",
    "        ColumnMode = df[column].mode()[0]\n",
    "        df[column] = df[column].str.replace('?',ColumnMode, regex=False)\n",
    "    return df"
   ]
  },
  {
   "cell_type": "code",
   "execution_count": 7,
   "metadata": {},
   "outputs": [],
   "source": [
    "def ComputeAgeAt2048(Birthday):\n",
    "    CurrentYear=datetime(2048,1,1)\n",
    "    \n",
    "    s_YearOfBirth = Birthday.split(\",\")[1]\n",
    "    YearOfBirth = datetime(int(s_YearOfBirth),1,1)\n",
    "        \n",
    "    return CurrentYear.year - YearOfBirth.year"
   ]
  },
  {
   "cell_type": "code",
   "execution_count": 8,
   "metadata": {},
   "outputs": [],
   "source": [
    "def ClassifyCitizen(Difference):\n",
    "    if Difference == 0:\n",
    "        return 'A' # Chosen carefully from volunteers\n",
    "    elif Difference > 0:\n",
    "        return 'B' # Invited\n",
    "    elif Difference < 0:\n",
    "        return 'C' # Paid"
   ]
  },
  {
   "cell_type": "code",
   "execution_count": 9,
   "metadata": {},
   "outputs": [],
   "source": [
    "def encode_data(data, nominal_variables):\n",
    "    data_Encoded = data.copy()\n",
    "    dummies = pd.get_dummies(data_Encoded[nominal_variables], prefix=nominal_variables)\n",
    "    data_Encoded = pd.concat([data_Encoded,dummies],axis=1)\n",
    "    data_Encoded = data_Encoded.drop(nominal_variables, axis =1)\n",
    "    return data_Encoded"
   ]
  },
  {
   "cell_type": "code",
   "execution_count": 10,
   "metadata": {},
   "outputs": [],
   "source": [
    "def MinMaxScaler_df(df,features):\n",
    "    scaler = MinMaxScaler(feature_range=(-1, 1))\n",
    "    df_standard = df.copy()\n",
    "    scaled_feat = scaler.fit_transform(df_standard[features])\n",
    "    df_standard[features] = scaled_feat\n",
    "    return df_standard"
   ]
  },
  {
   "cell_type": "code",
   "execution_count": 11,
   "metadata": {},
   "outputs": [],
   "source": [
    "def AlignDataframe(ColumnsInModel,df):\n",
    "    dummy_df = pd.DataFrame(columns=ColumnsInModel)\n",
    "    dummy_df, aligned_df = dummy_df.align(df,fill_value=0,join='left',axis=1)\n",
    "    return aligned_df"
   ]
  },
  {
   "cell_type": "code",
   "execution_count": 12,
   "metadata": {},
   "outputs": [],
   "source": [
    "def MaritalStatusNormalization(Mstatus):\n",
    "    if Mstatus == 'married':\n",
    "        return 'married'\n",
    "    elif Mstatus == 'single':\n",
    "        return 'not_married'\n",
    "    elif Mstatus == 'divorced':\n",
    "        return 'not_married'\n",
    "    elif Mstatus == 'separated':\n",
    "        return 'not_married'\n",
    "    elif Mstatus == 'widow':\n",
    "        return 'not_married'\n",
    "    elif Mstatus == 'married - spouse missing':\n",
    "        return 'married'\n",
    "    elif Mstatus == 'married - spouse in the army':\n",
    "        return 'married'\n",
    "    else:\n",
    "        return 'NA'"
   ]
  },
  {
   "cell_type": "code",
   "execution_count": 13,
   "metadata": {},
   "outputs": [],
   "source": [
    "def LivesWithNormalization(Lwith):\n",
    "    if Lwith == 'wife':\n",
    "        return 'spouse'\n",
    "    elif Lwith == 'other family':\n",
    "        return 'other'\n",
    "    elif Lwith == 'children':\n",
    "        return 'children'\n",
    "    elif Lwith == 'alone':\n",
    "        return 'alone'\n",
    "    elif Lwith == 'husband':\n",
    "        return 'spouse'\n",
    "    elif Lwith == 'other relatives':\n",
    "        return 'other'\n",
    "    else:\n",
    "        return 'NA'"
   ]
  },
  {
   "cell_type": "code",
   "execution_count": 14,
   "metadata": {},
   "outputs": [],
   "source": [
    "def Sector(S):\n",
    "    if S == 'private sector - services':\n",
    "        return 'private'\n",
    "    elif S == 'self-employed (individual)':\n",
    "        return 'self'\n",
    "    elif S == 'public sector - others':\n",
    "        return 'public'\n",
    "    elif S == 'private sector - others':\n",
    "        return 'private'\n",
    "    elif S == 'self-employed (company)':\n",
    "        return 'self'\n",
    "    elif S == 'public sector - government':\n",
    "        return 'public'\n",
    "    elif S == 'unemployed':\n",
    "        return 'None'\n",
    "    elif S == 'never worked':\n",
    "        return 'None'\n",
    "    else:\n",
    "        return 'NA'"
   ]
  },
  {
   "cell_type": "code",
   "execution_count": 15,
   "metadata": {},
   "outputs": [],
   "source": [
    "def DataPreProcessing(data):\n",
    "    # Lowers all case in string variables\n",
    "    new_df = data.copy()\n",
    "\n",
    "    new_df = strip_lower(new_df)\n",
    "\n",
    "    # Deals with missing values\n",
    "    ColumnswithMissingValues = ['Role','Employment Sector','Base Area']\n",
    "    new_df = fill_missing_values(new_df,ColumnswithMissingValues)\n",
    "\n",
    "    # Computes Age\n",
    "    new_df['Age'] = new_df['Birthday'].apply(ComputeAgeAt2048)\n",
    "    new_df.drop('Birthday', axis=1, inplace=True)\n",
    "\n",
    "    # Classifies Citizen\n",
    "    new_df['Group'] = (new_df['Money Received'] - new_df['Ticket Price']).apply(ClassifyCitizen)\n",
    "\n",
    "    # Marital Status Normalization\n",
    "    new_df['MStatus'] = new_df['Marital Status'].apply(MaritalStatusNormalization)\n",
    "    new_df.drop('Marital Status', axis=1, inplace=True)\n",
    "\n",
    "    # Lives With Normalization\n",
    "    new_df['Lwith'] = new_df['Lives with'].apply(LivesWithNormalization)\n",
    "    new_df.drop('Lives with', axis=1, inplace=True)\n",
    "\n",
    "    # Employment Sector Normalization\n",
    "    new_df['Sector'] = new_df['Employment Sector'].apply(Sector)\n",
    "    new_df.drop('Employment Sector', axis=1, inplace=True)\n",
    "\n",
    "    # Creates Ordinal Variable from Education\n",
    "    EducationClassification = {\n",
    "                            \"phd\" : 16,\n",
    "                            \"masters + postgraduation\" : 15,\n",
    "                            \"masters\" : 14,\n",
    "                            \"bachelors + postgraduation\" : 13,\n",
    "                            \"bachelors\" : 12,\n",
    "                            \"professional school + postgraduation\" : 11,\n",
    "                            \"high school + postgraduation\" : 10,\n",
    "                            \"professional school\" : 9,\n",
    "                            \"high school complete\" : 8,\n",
    "                            \"high school - 2nd cycle\" : 7,\n",
    "                            \"high school - 1st cycle\" : 6,\n",
    "                            \"middle school complete\" : 5,\n",
    "                            \"middle school - 2nd cycle\" : 4,\n",
    "                            \"middle school - 1st cycle\" : 3,\n",
    "                            \"primary school\" : 2,\n",
    "                            \"preschool\" : 1\n",
    "                            }\n",
    "    new_df['Education_Class'] = new_df['Education Level'].map(EducationClassification)\n",
    "    new_df.drop('Education Level', axis=1, inplace=True)\n",
    "\n",
    "    # Performs one hot encoding in nominal variables\n",
    "    NominalVariables = ['Native Continent', \n",
    "                        'Role', \n",
    "                        'MStatus', \n",
    "                        'Lwith', \n",
    "                        'Sector', \n",
    "                        'Group']\n",
    "\n",
    "    new_df = encode_data(new_df, NominalVariables)\n",
    "\n",
    "    # Drops the Name column and selects Citizen ID as the index\n",
    "    new_df = new_df.drop(['Name'], axis =1)\n",
    "    new_df = new_df.drop(['Base Area'], axis =1)\n",
    "    new_df.set_index([\"CITIZEN_ID\"],inplace=True)\n",
    "\n",
    "    # Scale Data\n",
    "    if 'Income' in new_df.columns:\n",
    "        featuresToScale = new_df.columns.drop('Income')\n",
    "    else:\n",
    "        featuresToScale = new_df.columns\n",
    "    new_df = MinMaxScaler_df(new_df,featuresToScale)\n",
    "\n",
    "    return new_df.copy()"
   ]
  },
  {
   "cell_type": "code",
   "execution_count": 16,
   "metadata": {},
   "outputs": [],
   "source": [
    "processedTrainingData = DataPreProcessing(data)\n",
    "processedTestingData = DataPreProcessing(data_test)"
   ]
  },
  {
   "cell_type": "code",
   "execution_count": 17,
   "metadata": {},
   "outputs": [
    {
     "data": {
      "text/html": [
       "<div>\n",
       "<style scoped>\n",
       "    .dataframe tbody tr th:only-of-type {\n",
       "        vertical-align: middle;\n",
       "    }\n",
       "\n",
       "    .dataframe tbody tr th {\n",
       "        vertical-align: top;\n",
       "    }\n",
       "\n",
       "    .dataframe thead th {\n",
       "        text-align: right;\n",
       "    }\n",
       "</style>\n",
       "<table border=\"1\" class=\"dataframe\">\n",
       "  <thead>\n",
       "    <tr style=\"text-align: right;\">\n",
       "      <th></th>\n",
       "      <th>Years of Education</th>\n",
       "      <th>Working Hours per week</th>\n",
       "      <th>Money Received</th>\n",
       "      <th>Ticket Price</th>\n",
       "      <th>Income</th>\n",
       "      <th>Age</th>\n",
       "      <th>Education_Class</th>\n",
       "      <th>Native Continent_africa</th>\n",
       "      <th>Native Continent_america</th>\n",
       "      <th>Native Continent_asia</th>\n",
       "      <th>...</th>\n",
       "      <th>Lwith_children</th>\n",
       "      <th>Lwith_other</th>\n",
       "      <th>Lwith_spouse</th>\n",
       "      <th>Sector_None</th>\n",
       "      <th>Sector_private</th>\n",
       "      <th>Sector_public</th>\n",
       "      <th>Sector_self</th>\n",
       "      <th>Group_A</th>\n",
       "      <th>Group_B</th>\n",
       "      <th>Group_C</th>\n",
       "    </tr>\n",
       "    <tr>\n",
       "      <th>CITIZEN_ID</th>\n",
       "      <th></th>\n",
       "      <th></th>\n",
       "      <th></th>\n",
       "      <th></th>\n",
       "      <th></th>\n",
       "      <th></th>\n",
       "      <th></th>\n",
       "      <th></th>\n",
       "      <th></th>\n",
       "      <th></th>\n",
       "      <th></th>\n",
       "      <th></th>\n",
       "      <th></th>\n",
       "      <th></th>\n",
       "      <th></th>\n",
       "      <th></th>\n",
       "      <th></th>\n",
       "      <th></th>\n",
       "      <th></th>\n",
       "      <th></th>\n",
       "      <th></th>\n",
       "    </tr>\n",
       "  </thead>\n",
       "  <tbody>\n",
       "    <tr>\n",
       "      <th>12486</th>\n",
       "      <td>0.157895</td>\n",
       "      <td>-0.204082</td>\n",
       "      <td>-1.000000</td>\n",
       "      <td>-0.151549</td>\n",
       "      <td>1</td>\n",
       "      <td>-0.232877</td>\n",
       "      <td>0.200000</td>\n",
       "      <td>-1.0</td>\n",
       "      <td>-1.0</td>\n",
       "      <td>-1.0</td>\n",
       "      <td>...</td>\n",
       "      <td>-1.0</td>\n",
       "      <td>-1.0</td>\n",
       "      <td>1.0</td>\n",
       "      <td>-1.0</td>\n",
       "      <td>1.0</td>\n",
       "      <td>-1.0</td>\n",
       "      <td>-1.0</td>\n",
       "      <td>-1.0</td>\n",
       "      <td>-1.0</td>\n",
       "      <td>1.0</td>\n",
       "    </tr>\n",
       "    <tr>\n",
       "      <th>12487</th>\n",
       "      <td>0.052632</td>\n",
       "      <td>-0.204082</td>\n",
       "      <td>-1.000000</td>\n",
       "      <td>-1.000000</td>\n",
       "      <td>1</td>\n",
       "      <td>-0.315068</td>\n",
       "      <td>0.066667</td>\n",
       "      <td>-1.0</td>\n",
       "      <td>-1.0</td>\n",
       "      <td>-1.0</td>\n",
       "      <td>...</td>\n",
       "      <td>-1.0</td>\n",
       "      <td>-1.0</td>\n",
       "      <td>1.0</td>\n",
       "      <td>-1.0</td>\n",
       "      <td>-1.0</td>\n",
       "      <td>1.0</td>\n",
       "      <td>-1.0</td>\n",
       "      <td>1.0</td>\n",
       "      <td>-1.0</td>\n",
       "      <td>-1.0</td>\n",
       "    </tr>\n",
       "    <tr>\n",
       "      <th>12488</th>\n",
       "      <td>0.052632</td>\n",
       "      <td>-0.081633</td>\n",
       "      <td>-1.000000</td>\n",
       "      <td>-0.133632</td>\n",
       "      <td>1</td>\n",
       "      <td>-0.397260</td>\n",
       "      <td>0.066667</td>\n",
       "      <td>-1.0</td>\n",
       "      <td>-1.0</td>\n",
       "      <td>-1.0</td>\n",
       "      <td>...</td>\n",
       "      <td>-1.0</td>\n",
       "      <td>-1.0</td>\n",
       "      <td>1.0</td>\n",
       "      <td>-1.0</td>\n",
       "      <td>1.0</td>\n",
       "      <td>-1.0</td>\n",
       "      <td>-1.0</td>\n",
       "      <td>-1.0</td>\n",
       "      <td>-1.0</td>\n",
       "      <td>1.0</td>\n",
       "    </tr>\n",
       "    <tr>\n",
       "      <th>12489</th>\n",
       "      <td>-0.052632</td>\n",
       "      <td>-0.265306</td>\n",
       "      <td>-0.912276</td>\n",
       "      <td>-1.000000</td>\n",
       "      <td>1</td>\n",
       "      <td>0.260274</td>\n",
       "      <td>-0.200000</td>\n",
       "      <td>-1.0</td>\n",
       "      <td>-1.0</td>\n",
       "      <td>-1.0</td>\n",
       "      <td>...</td>\n",
       "      <td>-1.0</td>\n",
       "      <td>-1.0</td>\n",
       "      <td>1.0</td>\n",
       "      <td>-1.0</td>\n",
       "      <td>1.0</td>\n",
       "      <td>-1.0</td>\n",
       "      <td>-1.0</td>\n",
       "      <td>-1.0</td>\n",
       "      <td>1.0</td>\n",
       "      <td>-1.0</td>\n",
       "    </tr>\n",
       "    <tr>\n",
       "      <th>12490</th>\n",
       "      <td>1.000000</td>\n",
       "      <td>-0.102041</td>\n",
       "      <td>-1.000000</td>\n",
       "      <td>-1.000000</td>\n",
       "      <td>1</td>\n",
       "      <td>-0.561644</td>\n",
       "      <td>1.000000</td>\n",
       "      <td>-1.0</td>\n",
       "      <td>-1.0</td>\n",
       "      <td>-1.0</td>\n",
       "      <td>...</td>\n",
       "      <td>-1.0</td>\n",
       "      <td>1.0</td>\n",
       "      <td>-1.0</td>\n",
       "      <td>-1.0</td>\n",
       "      <td>-1.0</td>\n",
       "      <td>-1.0</td>\n",
       "      <td>1.0</td>\n",
       "      <td>1.0</td>\n",
       "      <td>-1.0</td>\n",
       "      <td>-1.0</td>\n",
       "    </tr>\n",
       "  </tbody>\n",
       "</table>\n",
       "<p>5 rows × 39 columns</p>\n",
       "</div>"
      ],
      "text/plain": [
       "            Years of Education  Working Hours per week  Money Received  \\\n",
       "CITIZEN_ID                                                               \n",
       "12486                 0.157895               -0.204082       -1.000000   \n",
       "12487                 0.052632               -0.204082       -1.000000   \n",
       "12488                 0.052632               -0.081633       -1.000000   \n",
       "12489                -0.052632               -0.265306       -0.912276   \n",
       "12490                 1.000000               -0.102041       -1.000000   \n",
       "\n",
       "            Ticket Price  Income       Age  Education_Class  \\\n",
       "CITIZEN_ID                                                    \n",
       "12486          -0.151549       1 -0.232877         0.200000   \n",
       "12487          -1.000000       1 -0.315068         0.066667   \n",
       "12488          -0.133632       1 -0.397260         0.066667   \n",
       "12489          -1.000000       1  0.260274        -0.200000   \n",
       "12490          -1.000000       1 -0.561644         1.000000   \n",
       "\n",
       "            Native Continent_africa  Native Continent_america  \\\n",
       "CITIZEN_ID                                                      \n",
       "12486                          -1.0                      -1.0   \n",
       "12487                          -1.0                      -1.0   \n",
       "12488                          -1.0                      -1.0   \n",
       "12489                          -1.0                      -1.0   \n",
       "12490                          -1.0                      -1.0   \n",
       "\n",
       "            Native Continent_asia  ...  Lwith_children  Lwith_other  \\\n",
       "CITIZEN_ID                         ...                                \n",
       "12486                        -1.0  ...            -1.0         -1.0   \n",
       "12487                        -1.0  ...            -1.0         -1.0   \n",
       "12488                        -1.0  ...            -1.0         -1.0   \n",
       "12489                        -1.0  ...            -1.0         -1.0   \n",
       "12490                        -1.0  ...            -1.0          1.0   \n",
       "\n",
       "            Lwith_spouse  Sector_None  Sector_private  Sector_public  \\\n",
       "CITIZEN_ID                                                             \n",
       "12486                1.0         -1.0             1.0           -1.0   \n",
       "12487                1.0         -1.0            -1.0            1.0   \n",
       "12488                1.0         -1.0             1.0           -1.0   \n",
       "12489                1.0         -1.0             1.0           -1.0   \n",
       "12490               -1.0         -1.0            -1.0           -1.0   \n",
       "\n",
       "            Sector_self  Group_A  Group_B  Group_C  \n",
       "CITIZEN_ID                                          \n",
       "12486              -1.0     -1.0     -1.0      1.0  \n",
       "12487              -1.0      1.0     -1.0     -1.0  \n",
       "12488              -1.0     -1.0     -1.0      1.0  \n",
       "12489              -1.0     -1.0      1.0     -1.0  \n",
       "12490               1.0      1.0     -1.0     -1.0  \n",
       "\n",
       "[5 rows x 39 columns]"
      ]
     },
     "execution_count": 17,
     "metadata": {},
     "output_type": "execute_result"
    }
   ],
   "source": [
    "processedTrainingData.head(5)"
   ]
  },
  {
   "cell_type": "markdown",
   "metadata": {},
   "source": [
    "## Model Creation\n",
    "In this section, we will create the models."
   ]
  },
  {
   "cell_type": "code",
   "execution_count": 18,
   "metadata": {},
   "outputs": [],
   "source": [
    "def plot_cf(y, y_pred):\n",
    "    cf_matrix = confusion_matrix(y, y_pred)\n",
    "    group_names = ['True Neg','False Pos','False Neg','True Pos']\n",
    "    group_counts = [\"{0:0.0f}\".format(value) for value in\n",
    "                cf_matrix.flatten()]\n",
    "    group_percentages = [\"{0:.2%}\".format(value) for value in\n",
    "                     cf_matrix.flatten()/np.sum(cf_matrix)]\n",
    "    labels = [f\"{v1}\\n{v2}\\n{v3}\" for v1, v2, v3 in\n",
    "          zip(group_names,group_counts,group_percentages)]\n",
    "    labels = np.asarray(labels).reshape(2,2)\n",
    "    sns.heatmap(cf_matrix, annot=labels, fmt='', cmap='Blues')"
   ]
  },
  {
   "cell_type": "code",
   "execution_count": 19,
   "metadata": {},
   "outputs": [],
   "source": [
    "def run_metrics(y_train, pred_train , y_val, pred_val):\n",
    "    print('___________________________________________________________________________________________________________')\n",
    "    print('                                                     TRAIN                                                 ')\n",
    "    print('-----------------------------------------------------------------------------------------------------------')\n",
    "    print(classification_report(y_train, pred_train))\n",
    "    cf_matrix = confusion_matrix(y_train, pred_train)\n",
    "    print(cf_matrix)\n",
    "    print(\"F1: {}\".format(f1_score(y_train, pred_train, average='macro')))\n",
    "    print(\"ROC_AUC: {}\".format(roc_auc_score(y_train, pred_train)))\n",
    "\n",
    "\n",
    "\n",
    "    print('___________________________________________________________________________________________________________')\n",
    "    print('                                                VALIDATION                                                 ')\n",
    "    print('-----------------------------------------------------------------------------------------------------------')\n",
    "    print(classification_report(y_val, pred_val))\n",
    "    cf_matrix = confusion_matrix(y_val, pred_val)\n",
    "    print(cf_matrix)\n",
    "    print(\"F1: {}\".format(f1_score(y_val, pred_val, average='macro')))\n",
    "    print(\"ROC_AUC: {}\".format(roc_auc_score(y_val, pred_val)))\n",
    "    \n",
    "    fpr, tpr, thresholds = roc_curve(y_val, pred_val)"
   ]
  },
  {
   "cell_type": "code",
   "execution_count": 50,
   "metadata": {},
   "outputs": [],
   "source": [
    "def run_model(model,X_train, X_test, y_train, y_test):\n",
    "\n",
    "    features = selectFeatures(model,X_train,y_train)\n",
    "    X_train =  X_train[X_train.columns[features]]\n",
    "    X_test =  X_test[X_test.columns[features]]\n",
    "\n",
    "    model.fit(X_train,y_train)\n",
    "    scores = cross_validate(model, X_train,y_train, cv=10,scoring=('f1_macro'))\n",
    "\n",
    "    labels_train = model.predict(X_train)\n",
    "    labels_val = model.predict(X_test)\n",
    "    run_metrics(y_train, labels_train, y_test, labels_val)\n",
    "    plot_cf(y_test,labels_val)"
   ]
  },
  {
   "cell_type": "code",
   "execution_count": 21,
   "metadata": {},
   "outputs": [],
   "source": [
    "def objective(space):\n",
    "    classifier = xgb.XGBClassifier(n_estimators = space['n_estimators']\n",
    "                                 , max_depth = int(space['max_depth'])\n",
    "                                 , learning_rate = space['learning_rate']\n",
    "                                 , gamma = space['gamma']\n",
    "                                 , min_child_weight = space['min_child_weight']\n",
    "                                 , subsample = space['subsample']\n",
    "                                 , colsample_bytree = space['colsample_bytree'])\n",
    "  \n",
    "    classifier.fit(optimizer_X_train, optimizer_y_train)\n",
    "    accuracies = cross_val_score(estimator = classifier, X = optimizer_X_train, y = optimizer_y_train, cv = 5, scoring = 'roc_auc')\n",
    "    CrossValMean = accuracies.mean()\n",
    "  \n",
    "    return{'loss':1-CrossValMean, 'status': STATUS_OK }"
   ]
  },
  {
   "cell_type": "code",
   "execution_count": 47,
   "metadata": {},
   "outputs": [],
   "source": [
    "def selectFeatures(model,X,y):\n",
    "    \n",
    "    model.fit(X,y)\n",
    "    featureModel = SelectFromModel(model, prefit=True, threshold='mean')\n",
    "    return featureModel.get_support()"
   ]
  },
  {
   "cell_type": "code",
   "execution_count": null,
   "metadata": {},
   "outputs": [],
   "source": []
  },
  {
   "cell_type": "markdown",
   "metadata": {},
   "source": [
    "### Correlation"
   ]
  },
  {
   "cell_type": "code",
   "execution_count": 26,
   "metadata": {},
   "outputs": [
    {
     "data": {
      "text/html": [
       "<div>\n",
       "<style scoped>\n",
       "    .dataframe tbody tr th:only-of-type {\n",
       "        vertical-align: middle;\n",
       "    }\n",
       "\n",
       "    .dataframe tbody tr th {\n",
       "        vertical-align: top;\n",
       "    }\n",
       "\n",
       "    .dataframe thead th {\n",
       "        text-align: right;\n",
       "    }\n",
       "</style>\n",
       "<table border=\"1\" class=\"dataframe\">\n",
       "  <thead>\n",
       "    <tr style=\"text-align: right;\">\n",
       "      <th></th>\n",
       "      <th>Ticket Price</th>\n",
       "      <th>Working Hours per week</th>\n",
       "      <th>Money Received</th>\n",
       "      <th>Years of Education</th>\n",
       "      <th>Ticket Price</th>\n",
       "      <th>Income</th>\n",
       "      <th>Age</th>\n",
       "      <th>Education_Class</th>\n",
       "      <th>Group_A</th>\n",
       "      <th>Group_B</th>\n",
       "      <th>Group_C</th>\n",
       "    </tr>\n",
       "  </thead>\n",
       "  <tbody>\n",
       "    <tr>\n",
       "      <th>Ticket Price</th>\n",
       "      <td>1.000000</td>\n",
       "      <td>0.052959</td>\n",
       "      <td>-0.031330</td>\n",
       "      <td>0.084810</td>\n",
       "      <td>1.000000</td>\n",
       "      <td>0.155890</td>\n",
       "      <td>0.055774</td>\n",
       "      <td>0.081762</td>\n",
       "      <td>-0.567060</td>\n",
       "      <td>-0.065122</td>\n",
       "      <td>0.980514</td>\n",
       "    </tr>\n",
       "    <tr>\n",
       "      <th>Working Hours per week</th>\n",
       "      <td>0.052959</td>\n",
       "      <td>1.000000</td>\n",
       "      <td>0.075471</td>\n",
       "      <td>0.138516</td>\n",
       "      <td>0.052959</td>\n",
       "      <td>0.219890</td>\n",
       "      <td>0.064900</td>\n",
       "      <td>0.144922</td>\n",
       "      <td>-0.092201</td>\n",
       "      <td>0.074887</td>\n",
       "      <td>0.048958</td>\n",
       "    </tr>\n",
       "    <tr>\n",
       "      <th>Money Received</th>\n",
       "      <td>-0.031330</td>\n",
       "      <td>0.075471</td>\n",
       "      <td>1.000000</td>\n",
       "      <td>0.123015</td>\n",
       "      <td>-0.031330</td>\n",
       "      <td>0.221440</td>\n",
       "      <td>0.072693</td>\n",
       "      <td>0.118556</td>\n",
       "      <td>-0.373136</td>\n",
       "      <td>0.481099</td>\n",
       "      <td>-0.031953</td>\n",
       "    </tr>\n",
       "    <tr>\n",
       "      <th>Years of Education</th>\n",
       "      <td>0.084810</td>\n",
       "      <td>0.138516</td>\n",
       "      <td>0.123015</td>\n",
       "      <td>1.000000</td>\n",
       "      <td>0.084810</td>\n",
       "      <td>0.333089</td>\n",
       "      <td>0.035241</td>\n",
       "      <td>0.984065</td>\n",
       "      <td>-0.142698</td>\n",
       "      <td>0.111686</td>\n",
       "      <td>0.081220</td>\n",
       "    </tr>\n",
       "    <tr>\n",
       "      <th>Ticket Price</th>\n",
       "      <td>1.000000</td>\n",
       "      <td>0.052959</td>\n",
       "      <td>-0.031330</td>\n",
       "      <td>0.084810</td>\n",
       "      <td>1.000000</td>\n",
       "      <td>0.155890</td>\n",
       "      <td>0.055774</td>\n",
       "      <td>0.081762</td>\n",
       "      <td>-0.567060</td>\n",
       "      <td>-0.065122</td>\n",
       "      <td>0.980514</td>\n",
       "    </tr>\n",
       "    <tr>\n",
       "      <th>Income</th>\n",
       "      <td>0.155890</td>\n",
       "      <td>0.219890</td>\n",
       "      <td>0.221440</td>\n",
       "      <td>0.333089</td>\n",
       "      <td>0.155890</td>\n",
       "      <td>1.000000</td>\n",
       "      <td>0.233157</td>\n",
       "      <td>0.330227</td>\n",
       "      <td>-0.305667</td>\n",
       "      <td>0.263008</td>\n",
       "      <td>0.143257</td>\n",
       "    </tr>\n",
       "    <tr>\n",
       "      <th>Age</th>\n",
       "      <td>0.055774</td>\n",
       "      <td>0.064900</td>\n",
       "      <td>0.072693</td>\n",
       "      <td>0.035241</td>\n",
       "      <td>0.055774</td>\n",
       "      <td>0.233157</td>\n",
       "      <td>1.000000</td>\n",
       "      <td>0.031290</td>\n",
       "      <td>-0.125038</td>\n",
       "      <td>0.115570</td>\n",
       "      <td>0.048285</td>\n",
       "    </tr>\n",
       "    <tr>\n",
       "      <th>Education_Class</th>\n",
       "      <td>0.081762</td>\n",
       "      <td>0.144922</td>\n",
       "      <td>0.118556</td>\n",
       "      <td>0.984065</td>\n",
       "      <td>0.081762</td>\n",
       "      <td>0.330227</td>\n",
       "      <td>0.031290</td>\n",
       "      <td>1.000000</td>\n",
       "      <td>-0.139703</td>\n",
       "      <td>0.110063</td>\n",
       "      <td>0.078583</td>\n",
       "    </tr>\n",
       "    <tr>\n",
       "      <th>Group_A</th>\n",
       "      <td>-0.567060</td>\n",
       "      <td>-0.092201</td>\n",
       "      <td>-0.373136</td>\n",
       "      <td>-0.142698</td>\n",
       "      <td>-0.567060</td>\n",
       "      <td>-0.305667</td>\n",
       "      <td>-0.125038</td>\n",
       "      <td>-0.139703</td>\n",
       "      <td>1.000000</td>\n",
       "      <td>-0.775591</td>\n",
       "      <td>-0.578330</td>\n",
       "    </tr>\n",
       "    <tr>\n",
       "      <th>Group_B</th>\n",
       "      <td>-0.065122</td>\n",
       "      <td>0.074887</td>\n",
       "      <td>0.481099</td>\n",
       "      <td>0.111686</td>\n",
       "      <td>-0.065122</td>\n",
       "      <td>0.263008</td>\n",
       "      <td>0.115570</td>\n",
       "      <td>0.110063</td>\n",
       "      <td>-0.775591</td>\n",
       "      <td>1.000000</td>\n",
       "      <td>-0.066417</td>\n",
       "    </tr>\n",
       "    <tr>\n",
       "      <th>Group_C</th>\n",
       "      <td>0.980514</td>\n",
       "      <td>0.048958</td>\n",
       "      <td>-0.031953</td>\n",
       "      <td>0.081220</td>\n",
       "      <td>0.980514</td>\n",
       "      <td>0.143257</td>\n",
       "      <td>0.048285</td>\n",
       "      <td>0.078583</td>\n",
       "      <td>-0.578330</td>\n",
       "      <td>-0.066417</td>\n",
       "      <td>1.000000</td>\n",
       "    </tr>\n",
       "  </tbody>\n",
       "</table>\n",
       "</div>"
      ],
      "text/plain": [
       "                        Ticket Price  Working Hours per week  Money Received  \\\n",
       "Ticket Price                1.000000                0.052959       -0.031330   \n",
       "Working Hours per week      0.052959                1.000000        0.075471   \n",
       "Money Received             -0.031330                0.075471        1.000000   \n",
       "Years of Education          0.084810                0.138516        0.123015   \n",
       "Ticket Price                1.000000                0.052959       -0.031330   \n",
       "Income                      0.155890                0.219890        0.221440   \n",
       "Age                         0.055774                0.064900        0.072693   \n",
       "Education_Class             0.081762                0.144922        0.118556   \n",
       "Group_A                    -0.567060               -0.092201       -0.373136   \n",
       "Group_B                    -0.065122                0.074887        0.481099   \n",
       "Group_C                     0.980514                0.048958       -0.031953   \n",
       "\n",
       "                        Years of Education  Ticket Price    Income       Age  \\\n",
       "Ticket Price                      0.084810      1.000000  0.155890  0.055774   \n",
       "Working Hours per week            0.138516      0.052959  0.219890  0.064900   \n",
       "Money Received                    0.123015     -0.031330  0.221440  0.072693   \n",
       "Years of Education                1.000000      0.084810  0.333089  0.035241   \n",
       "Ticket Price                      0.084810      1.000000  0.155890  0.055774   \n",
       "Income                            0.333089      0.155890  1.000000  0.233157   \n",
       "Age                               0.035241      0.055774  0.233157  1.000000   \n",
       "Education_Class                   0.984065      0.081762  0.330227  0.031290   \n",
       "Group_A                          -0.142698     -0.567060 -0.305667 -0.125038   \n",
       "Group_B                           0.111686     -0.065122  0.263008  0.115570   \n",
       "Group_C                           0.081220      0.980514  0.143257  0.048285   \n",
       "\n",
       "                        Education_Class   Group_A   Group_B   Group_C  \n",
       "Ticket Price                   0.081762 -0.567060 -0.065122  0.980514  \n",
       "Working Hours per week         0.144922 -0.092201  0.074887  0.048958  \n",
       "Money Received                 0.118556 -0.373136  0.481099 -0.031953  \n",
       "Years of Education             0.984065 -0.142698  0.111686  0.081220  \n",
       "Ticket Price                   0.081762 -0.567060 -0.065122  0.980514  \n",
       "Income                         0.330227 -0.305667  0.263008  0.143257  \n",
       "Age                            0.031290 -0.125038  0.115570  0.048285  \n",
       "Education_Class                1.000000 -0.139703  0.110063  0.078583  \n",
       "Group_A                       -0.139703  1.000000 -0.775591 -0.578330  \n",
       "Group_B                        0.110063 -0.775591  1.000000 -0.066417  \n",
       "Group_C                        0.078583 -0.578330 -0.066417  1.000000  "
      ]
     },
     "execution_count": 26,
     "metadata": {},
     "output_type": "execute_result"
    }
   ],
   "source": [
    "corr_df = processedTrainingData[['Ticket Price','Working Hours per week', 'Money Received','Years of Education',\n",
    "       'Ticket Price', 'Income', 'Age', 'Education_Class','Group_A', 'Group_B', 'Group_C']].corr()\n",
    "corr_df"
   ]
  },
  {
   "cell_type": "code",
   "execution_count": 27,
   "metadata": {},
   "outputs": [],
   "source": [
    "corr_df = processedTrainingData[['Ticket Price','Working Hours per week', 'Money Received','Years of Education',\n",
    "       'Ticket Price', 'Income', 'Age', 'Education_Class','Group_A', 'Group_B', 'Group_C']].corr()\n",
    "corr_df\n",
    "#High correlation between Ticket Price and Group_C. We can remove one of then\n",
    "#Also high correlation between Years of Education and Education class\n",
    "processedTrainingData = processedTrainingData.drop(['Group_C','Education_Class'],axis=1)"
   ]
  },
  {
   "cell_type": "code",
   "execution_count": 28,
   "metadata": {},
   "outputs": [],
   "source": [
    "corr_df = processedTrainingData.corr()['Income']\n",
    "low_corr_cols =[]\n",
    "for col in list(corr_df.index):\n",
    "    if(np.abs(corr_df[col]) < 0.1):\n",
    "        low_corr_cols.append(col)"
   ]
  },
  {
   "cell_type": "code",
   "execution_count": 29,
   "metadata": {},
   "outputs": [],
   "source": [
    "processedTrainingData = processedTrainingData.drop(low_corr_cols,axis=1)"
   ]
  },
  {
   "cell_type": "markdown",
   "metadata": {},
   "source": [
    "### Outliers"
   ]
  },
  {
   "cell_type": "code",
   "execution_count": 30,
   "metadata": {},
   "outputs": [
    {
     "data": {
      "text/plain": [
       "Years of Education        0.315789\n",
       "Working Hours per week    0.102041\n",
       "Age                       0.547945\n",
       "MStatus_married           2.000000\n",
       "MStatus_not_married       2.000000\n",
       "Lwith_other               2.000000\n",
       "Lwith_spouse              2.000000\n",
       "dtype: float64"
      ]
     },
     "execution_count": 30,
     "metadata": {},
     "output_type": "execute_result"
    }
   ],
   "source": [
    "#Outliers\n",
    "Q1 = processedTrainingData.quantile(0.25)\n",
    "Q3 = processedTrainingData.quantile(0.75)\n",
    "IQR = Q3 - Q1\n",
    "IQR = IQR[IQR > 0]\n",
    "IQR"
   ]
  },
  {
   "cell_type": "code",
   "execution_count": 31,
   "metadata": {},
   "outputs": [],
   "source": [
    "IQR = IQR[['Years of Education','Working Hours per week','Age']]\n",
    "processedTrainingData = processedTrainingData[~((processedTrainingData < (Q1 - 1.5 * IQR)) |(processedTrainingData > (Q3 + 1.5 * IQR))).any(axis=1)]"
   ]
  },
  {
   "cell_type": "markdown",
   "metadata": {},
   "source": [
    "### Split Training Data"
   ]
  },
  {
   "cell_type": "code",
   "execution_count": 32,
   "metadata": {},
   "outputs": [],
   "source": [
    "target = 'Income'\n",
    "\n",
    "X = processedTrainingData[[x for x in processedTrainingData.columns if x != target]]\n",
    "y = processedTrainingData[[x for x in processedTrainingData.columns if x == target]]\n",
    "\n",
    "X_train, X_test, y_train, y_test = train_test_split(X,y, test_size=0.3, stratify=y)\n",
    "\n",
    "y_train = y_train.values.ravel()\n",
    "y_test = y_test.values.ravel()"
   ]
  },
  {
   "cell_type": "code",
   "execution_count": 52,
   "metadata": {},
   "outputs": [],
   "source": [
    "sampled_X_train =X_train\n",
    "sampled_y_train = y_train"
   ]
  },
  {
   "cell_type": "markdown",
   "metadata": {},
   "source": [
    "### Using SMOTE to rebalance dataset"
   ]
  },
  {
   "cell_type": "code",
   "execution_count": 34,
   "metadata": {},
   "outputs": [],
   "source": [
    "oversample = SMOTE()\n",
    "sampled_X_train, sampled_y_train = oversample.fit_resample(X_train, y_train)"
   ]
  },
  {
   "cell_type": "markdown",
   "metadata": {},
   "source": [
    "### Logistic Regression"
   ]
  },
  {
   "cell_type": "code",
   "execution_count": 53,
   "metadata": {},
   "outputs": [
    {
     "name": "stdout",
     "output_type": "stream",
     "text": [
      "___________________________________________________________________________________________________________\n",
      "                                                     TRAIN                                                 \n",
      "-----------------------------------------------------------------------------------------------------------\n",
      "              precision    recall  f1-score   support\n",
      "\n",
      "           0       0.80      0.98      0.88      8233\n",
      "           1       0.79      0.28      0.41      2734\n",
      "\n",
      "    accuracy                           0.80     10967\n",
      "   macro avg       0.80      0.63      0.64     10967\n",
      "weighted avg       0.80      0.80      0.76     10967\n",
      "\n",
      "[[8034  199]\n",
      " [1982  752]]\n",
      "F1: 0.644313857312157\n",
      "ROC_AUC: 0.6254419227987781\n",
      "___________________________________________________________________________________________________________\n",
      "                                                VALIDATION                                                 \n",
      "-----------------------------------------------------------------------------------------------------------\n",
      "              precision    recall  f1-score   support\n",
      "\n",
      "           0       0.80      0.98      0.88      3529\n",
      "           1       0.79      0.25      0.37      1172\n",
      "\n",
      "    accuracy                           0.80      4701\n",
      "   macro avg       0.79      0.61      0.63      4701\n",
      "weighted avg       0.79      0.80      0.75      4701\n",
      "\n",
      "[[3452   77]\n",
      " [ 884  288]]\n",
      "F1: 0.6262845571061103\n",
      "ROC_AUC: 0.6119572880772383\n"
     ]
    },
    {
     "data": {
      "image/png": "[encoded data removed]",
      "text/plain": [
       "<Figure size 432x288 with 2 Axes>"
      ]
     },
     "metadata": {
      "needs_background": "light"
     },
     "output_type": "display_data"
    }
   ],
   "source": [
    "log_model = LogisticRegression(max_iter=1000000)\n",
    "run_model(log_model,sampled_X_train, X_test, sampled_y_train, y_test)"
   ]
  },
  {
   "cell_type": "markdown",
   "metadata": {},
   "source": [
    "### K Nearest Neighbours"
   ]
  },
  {
   "cell_type": "code",
   "execution_count": 54,
   "metadata": {},
   "outputs": [
    {
     "ename": "ValueError",
     "evalue": "The underlying estimator KNeighborsClassifier has no `coef_` or `feature_importances_` attribute. Either pass a fitted estimator to SelectFromModel or call fit before calling transform.",
     "output_type": "error",
     "traceback": [
      "\u001b[1;31m---------------------------------------------------------------------------\u001b[0m",
      "\u001b[1;31mValueError\u001b[0m                                Traceback (most recent call last)",
      "\u001b[1;32m<ipython-input-54-86667752a196>\u001b[0m in \u001b[0;36m<module>\u001b[1;34m\u001b[0m\n\u001b[0;32m      1\u001b[0m \u001b[0mmodelKNN\u001b[0m \u001b[1;33m=\u001b[0m \u001b[0mKNeighborsClassifier\u001b[0m\u001b[1;33m(\u001b[0m\u001b[1;33m)\u001b[0m\u001b[1;33m\u001b[0m\u001b[1;33m\u001b[0m\u001b[0m\n\u001b[1;32m----> 2\u001b[1;33m \u001b[0mrun_model\u001b[0m\u001b[1;33m(\u001b[0m\u001b[0mmodelKNN\u001b[0m\u001b[1;33m,\u001b[0m\u001b[0msampled_X_train\u001b[0m\u001b[1;33m,\u001b[0m \u001b[0mX_test\u001b[0m\u001b[1;33m,\u001b[0m \u001b[0msampled_y_train\u001b[0m\u001b[1;33m,\u001b[0m \u001b[0my_test\u001b[0m\u001b[1;33m)\u001b[0m\u001b[1;33m\u001b[0m\u001b[1;33m\u001b[0m\u001b[0m\n\u001b[0m",
      "\u001b[1;32m<ipython-input-50-a18412dc20be>\u001b[0m in \u001b[0;36mrun_model\u001b[1;34m(model, X_train, X_test, y_train, y_test)\u001b[0m\n\u001b[0;32m      1\u001b[0m \u001b[1;32mdef\u001b[0m \u001b[0mrun_model\u001b[0m\u001b[1;33m(\u001b[0m\u001b[0mmodel\u001b[0m\u001b[1;33m,\u001b[0m\u001b[0mX_train\u001b[0m\u001b[1;33m,\u001b[0m \u001b[0mX_test\u001b[0m\u001b[1;33m,\u001b[0m \u001b[0my_train\u001b[0m\u001b[1;33m,\u001b[0m \u001b[0my_test\u001b[0m\u001b[1;33m)\u001b[0m\u001b[1;33m:\u001b[0m\u001b[1;33m\u001b[0m\u001b[1;33m\u001b[0m\u001b[0m\n\u001b[0;32m      2\u001b[0m \u001b[1;33m\u001b[0m\u001b[0m\n\u001b[1;32m----> 3\u001b[1;33m     \u001b[0mfeatures\u001b[0m \u001b[1;33m=\u001b[0m \u001b[0mselectFeatures\u001b[0m\u001b[1;33m(\u001b[0m\u001b[0mmodel\u001b[0m\u001b[1;33m,\u001b[0m\u001b[0mX_train\u001b[0m\u001b[1;33m,\u001b[0m\u001b[0my_train\u001b[0m\u001b[1;33m)\u001b[0m\u001b[1;33m\u001b[0m\u001b[1;33m\u001b[0m\u001b[0m\n\u001b[0m\u001b[0;32m      4\u001b[0m     \u001b[0mX_train\u001b[0m \u001b[1;33m=\u001b[0m  \u001b[0mX_train\u001b[0m\u001b[1;33m[\u001b[0m\u001b[0mX_train\u001b[0m\u001b[1;33m.\u001b[0m\u001b[0mcolumns\u001b[0m\u001b[1;33m[\u001b[0m\u001b[0mfeatures\u001b[0m\u001b[1;33m]\u001b[0m\u001b[1;33m]\u001b[0m\u001b[1;33m\u001b[0m\u001b[1;33m\u001b[0m\u001b[0m\n\u001b[0;32m      5\u001b[0m     \u001b[0mX_test\u001b[0m \u001b[1;33m=\u001b[0m  \u001b[0mX_test\u001b[0m\u001b[1;33m[\u001b[0m\u001b[0mX_test\u001b[0m\u001b[1;33m.\u001b[0m\u001b[0mcolumns\u001b[0m\u001b[1;33m[\u001b[0m\u001b[0mfeatures\u001b[0m\u001b[1;33m]\u001b[0m\u001b[1;33m]\u001b[0m\u001b[1;33m\u001b[0m\u001b[1;33m\u001b[0m\u001b[0m\n",
      "\u001b[1;32m<ipython-input-47-c2e6a299ba90>\u001b[0m in \u001b[0;36mselectFeatures\u001b[1;34m(model, X, y)\u001b[0m\n\u001b[0;32m      2\u001b[0m     \u001b[0mmodel\u001b[0m\u001b[1;33m.\u001b[0m\u001b[0mfit\u001b[0m\u001b[1;33m(\u001b[0m\u001b[0mX\u001b[0m\u001b[1;33m,\u001b[0m\u001b[0my\u001b[0m\u001b[1;33m)\u001b[0m\u001b[1;33m\u001b[0m\u001b[1;33m\u001b[0m\u001b[0m\n\u001b[0;32m      3\u001b[0m     \u001b[0mfeatureModel\u001b[0m \u001b[1;33m=\u001b[0m \u001b[0mSelectFromModel\u001b[0m\u001b[1;33m(\u001b[0m\u001b[0mmodel\u001b[0m\u001b[1;33m,\u001b[0m \u001b[0mprefit\u001b[0m\u001b[1;33m=\u001b[0m\u001b[1;32mTrue\u001b[0m\u001b[1;33m,\u001b[0m \u001b[0mthreshold\u001b[0m\u001b[1;33m=\u001b[0m\u001b[1;34m'mean'\u001b[0m\u001b[1;33m)\u001b[0m\u001b[1;33m\u001b[0m\u001b[1;33m\u001b[0m\u001b[0m\n\u001b[1;32m----> 4\u001b[1;33m     \u001b[1;32mreturn\u001b[0m \u001b[0mfeatureModel\u001b[0m\u001b[1;33m.\u001b[0m\u001b[0mget_support\u001b[0m\u001b[1;33m(\u001b[0m\u001b[1;33m)\u001b[0m\u001b[1;33m\u001b[0m\u001b[1;33m\u001b[0m\u001b[0m\n\u001b[0m",
      "\u001b[1;32mC:\\ProgramData\\Anaconda3\\lib\\site-packages\\sklearn\\feature_selection\\_base.py\u001b[0m in \u001b[0;36mget_support\u001b[1;34m(self, indices)\u001b[0m\n\u001b[0;32m     44\u001b[0m             \u001b[0mvalues\u001b[0m \u001b[0mare\u001b[0m \u001b[0mindices\u001b[0m \u001b[0minto\u001b[0m \u001b[0mthe\u001b[0m \u001b[0minput\u001b[0m \u001b[0mfeature\u001b[0m \u001b[0mvector\u001b[0m\u001b[1;33m.\u001b[0m\u001b[1;33m\u001b[0m\u001b[1;33m\u001b[0m\u001b[0m\n\u001b[0;32m     45\u001b[0m         \"\"\"\n\u001b[1;32m---> 46\u001b[1;33m         \u001b[0mmask\u001b[0m \u001b[1;33m=\u001b[0m \u001b[0mself\u001b[0m\u001b[1;33m.\u001b[0m\u001b[0m_get_support_mask\u001b[0m\u001b[1;33m(\u001b[0m\u001b[1;33m)\u001b[0m\u001b[1;33m\u001b[0m\u001b[1;33m\u001b[0m\u001b[0m\n\u001b[0m\u001b[0;32m     47\u001b[0m         \u001b[1;32mreturn\u001b[0m \u001b[0mmask\u001b[0m \u001b[1;32mif\u001b[0m \u001b[1;32mnot\u001b[0m \u001b[0mindices\u001b[0m \u001b[1;32melse\u001b[0m \u001b[0mnp\u001b[0m\u001b[1;33m.\u001b[0m\u001b[0mwhere\u001b[0m\u001b[1;33m(\u001b[0m\u001b[0mmask\u001b[0m\u001b[1;33m)\u001b[0m\u001b[1;33m[\u001b[0m\u001b[1;36m0\u001b[0m\u001b[1;33m]\u001b[0m\u001b[1;33m\u001b[0m\u001b[1;33m\u001b[0m\u001b[0m\n\u001b[0;32m     48\u001b[0m \u001b[1;33m\u001b[0m\u001b[0m\n",
      "\u001b[1;32mC:\\ProgramData\\Anaconda3\\lib\\site-packages\\sklearn\\feature_selection\\_from_model.py\u001b[0m in \u001b[0;36m_get_support_mask\u001b[1;34m(self)\u001b[0m\n\u001b[0;32m    178\u001b[0m                              \u001b[1;34m' \"prefit=True\" while passing the fitted'\u001b[0m\u001b[1;33m\u001b[0m\u001b[1;33m\u001b[0m\u001b[0m\n\u001b[0;32m    179\u001b[0m                              ' estimator to the constructor.')\n\u001b[1;32m--> 180\u001b[1;33m         \u001b[0mscores\u001b[0m \u001b[1;33m=\u001b[0m \u001b[0m_get_feature_importances\u001b[0m\u001b[1;33m(\u001b[0m\u001b[0mestimator\u001b[0m\u001b[1;33m,\u001b[0m \u001b[0mself\u001b[0m\u001b[1;33m.\u001b[0m\u001b[0mnorm_order\u001b[0m\u001b[1;33m)\u001b[0m\u001b[1;33m\u001b[0m\u001b[1;33m\u001b[0m\u001b[0m\n\u001b[0m\u001b[0;32m    181\u001b[0m         \u001b[0mthreshold\u001b[0m \u001b[1;33m=\u001b[0m \u001b[0m_calculate_threshold\u001b[0m\u001b[1;33m(\u001b[0m\u001b[0mestimator\u001b[0m\u001b[1;33m,\u001b[0m \u001b[0mscores\u001b[0m\u001b[1;33m,\u001b[0m \u001b[0mself\u001b[0m\u001b[1;33m.\u001b[0m\u001b[0mthreshold\u001b[0m\u001b[1;33m)\u001b[0m\u001b[1;33m\u001b[0m\u001b[1;33m\u001b[0m\u001b[0m\n\u001b[0;32m    182\u001b[0m         \u001b[1;32mif\u001b[0m \u001b[0mself\u001b[0m\u001b[1;33m.\u001b[0m\u001b[0mmax_features\u001b[0m \u001b[1;32mis\u001b[0m \u001b[1;32mnot\u001b[0m \u001b[1;32mNone\u001b[0m\u001b[1;33m:\u001b[0m\u001b[1;33m\u001b[0m\u001b[1;33m\u001b[0m\u001b[0m\n",
      "\u001b[1;32mC:\\ProgramData\\Anaconda3\\lib\\site-packages\\sklearn\\feature_selection\\_from_model.py\u001b[0m in \u001b[0;36m_get_feature_importances\u001b[1;34m(estimator, norm_order)\u001b[0m\n\u001b[0;32m     32\u001b[0m             \u001b[1;34m\"`feature_importances_` attribute. Either pass a fitted estimator\"\u001b[0m\u001b[1;33m\u001b[0m\u001b[1;33m\u001b[0m\u001b[0m\n\u001b[0;32m     33\u001b[0m             \u001b[1;34m\" to SelectFromModel or call fit before calling transform.\"\u001b[0m\u001b[1;33m\u001b[0m\u001b[1;33m\u001b[0m\u001b[0m\n\u001b[1;32m---> 34\u001b[1;33m             % estimator.__class__.__name__)\n\u001b[0m\u001b[0;32m     35\u001b[0m \u001b[1;33m\u001b[0m\u001b[0m\n\u001b[0;32m     36\u001b[0m     \u001b[1;32mreturn\u001b[0m \u001b[0mimportances\u001b[0m\u001b[1;33m\u001b[0m\u001b[1;33m\u001b[0m\u001b[0m\n",
      "\u001b[1;31mValueError\u001b[0m: The underlying estimator KNeighborsClassifier has no `coef_` or `feature_importances_` attribute. Either pass a fitted estimator to SelectFromModel or call fit before calling transform."
     ]
    }
   ],
   "source": [
    "modelKNN = KNeighborsClassifier()\n",
    "run_model(modelKNN,sampled_X_train, X_test, sampled_y_train, y_test)"
   ]
  },
  {
   "cell_type": "markdown",
   "metadata": {},
   "source": [
    "### DecisionTree "
   ]
  },
  {
   "cell_type": "code",
   "execution_count": 33,
   "metadata": {},
   "outputs": [
    {
     "name": "stdout",
     "output_type": "stream",
     "text": [
      "___________________________________________________________________________________________________________\n",
      "                                                     TRAIN                                                 \n",
      "-----------------------------------------------------------------------------------------------------------\n",
      "              precision    recall  f1-score   support\n",
      "\n",
      "           0       0.93      0.99      0.96      8233\n",
      "           1       0.96      0.79      0.86      2734\n",
      "\n",
      "    accuracy                           0.94     10967\n",
      "   macro avg       0.94      0.89      0.91     10967\n",
      "weighted avg       0.94      0.94      0.94     10967\n",
      "\n",
      "[[8133  100]\n",
      " [ 584 2150]]\n",
      "F1: 0.911203426185031\n",
      "ROC_AUC: 0.8871236609036146\n",
      "___________________________________________________________________________________________________________\n",
      "                                                VALIDATION                                                 \n",
      "-----------------------------------------------------------------------------------------------------------\n",
      "              precision    recall  f1-score   support\n",
      "\n",
      "           0       0.86      0.91      0.88      3529\n",
      "           1       0.66      0.54      0.59      1172\n",
      "\n",
      "    accuracy                           0.82      4701\n",
      "   macro avg       0.76      0.72      0.74      4701\n",
      "weighted avg       0.81      0.82      0.81      4701\n",
      "\n",
      "[[3200  329]\n",
      " [ 537  635]]\n",
      "F1: 0.7376920210183182\n",
      "ROC_AUC: 0.7242906652533808\n"
     ]
    },
    {
     "data": {
      "image/png": "[encoded data removed]",
      "text/plain": [
       "<Figure size 432x288 with 2 Axes>"
      ]
     },
     "metadata": {
      "needs_background": "light"
     },
     "output_type": "display_data"
    }
   ],
   "source": [
    "from sklearn.tree import DecisionTreeClassifier\n",
    "modelTree = DecisionTreeClassifier()\n",
    "run_model(modelTree,sampled_X_train, X_test, sampled_y_train, y_test)"
   ]
  },
  {
   "cell_type": "markdown",
   "metadata": {},
   "source": [
    "### Support Vector Classifier"
   ]
  },
  {
   "cell_type": "code",
   "execution_count": 34,
   "metadata": {},
   "outputs": [
    {
     "name": "stdout",
     "output_type": "stream",
     "text": [
      "___________________________________________________________________________________________________________\n",
      "                                                     TRAIN                                                 \n",
      "-----------------------------------------------------------------------------------------------------------\n",
      "              precision    recall  f1-score   support\n",
      "\n",
      "           0       0.85      0.92      0.89      8233\n",
      "           1       0.70      0.53      0.60      2734\n",
      "\n",
      "    accuracy                           0.82     10967\n",
      "   macro avg       0.78      0.73      0.74     10967\n",
      "weighted avg       0.82      0.82      0.82     10967\n",
      "\n",
      "[[7602  631]\n",
      " [1291 1443]]\n",
      "F1: 0.7440112803935517\n",
      "ROC_AUC: 0.7255776594824955\n",
      "___________________________________________________________________________________________________________\n",
      "                                                VALIDATION                                                 \n",
      "-----------------------------------------------------------------------------------------------------------\n",
      "              precision    recall  f1-score   support\n",
      "\n",
      "           0       0.85      0.92      0.89      3529\n",
      "           1       0.69      0.52      0.59      1172\n",
      "\n",
      "    accuracy                           0.82      4701\n",
      "   macro avg       0.77      0.72      0.74      4701\n",
      "weighted avg       0.81      0.82      0.81      4701\n",
      "\n",
      "[[3252  277]\n",
      " [ 566  606]]\n",
      "F1: 0.7375201557018656\n",
      "ROC_AUC: 0.7192861778128951\n"
     ]
    },
    {
     "data": {
      "image/png": "[encoded data removed]",
      "text/plain": [
       "<Figure size 432x288 with 2 Axes>"
      ]
     },
     "metadata": {
      "needs_background": "light"
     },
     "output_type": "display_data"
    }
   ],
   "source": [
    "from sklearn.svm import SVC\n",
    "modelSVC = SVC()\n",
    "run_model(modelSVC,sampled_X_train, X_test, sampled_y_train, y_test)"
   ]
  },
  {
   "cell_type": "markdown",
   "metadata": {},
   "source": [
    "### Naive Bayes"
   ]
  },
  {
   "cell_type": "code",
   "execution_count": 35,
   "metadata": {},
   "outputs": [
    {
     "name": "stdout",
     "output_type": "stream",
     "text": [
      "___________________________________________________________________________________________________________\n",
      "                                                     TRAIN                                                 \n",
      "-----------------------------------------------------------------------------------------------------------\n",
      "              precision    recall  f1-score   support\n",
      "\n",
      "           0       0.90      0.82      0.86      8233\n",
      "           1       0.57      0.74      0.65      2734\n",
      "\n",
      "    accuracy                           0.80     10967\n",
      "   macro avg       0.74      0.78      0.75     10967\n",
      "weighted avg       0.82      0.80      0.81     10967\n",
      "\n",
      "[[6721 1512]\n",
      " [ 707 2027]]\n",
      "F1: 0.7522861047260772\n",
      "ROC_AUC: 0.7788766877565805\n",
      "___________________________________________________________________________________________________________\n",
      "                                                VALIDATION                                                 \n",
      "-----------------------------------------------------------------------------------------------------------\n",
      "              precision    recall  f1-score   support\n",
      "\n",
      "           0       0.90      0.81      0.85      3529\n",
      "           1       0.56      0.72      0.63      1172\n",
      "\n",
      "    accuracy                           0.79      4701\n",
      "   macro avg       0.73      0.77      0.74      4701\n",
      "weighted avg       0.81      0.79      0.80      4701\n",
      "\n",
      "[[2863  666]\n",
      " [ 324  848]]\n",
      "F1: 0.7420065085012753\n",
      "ROC_AUC: 0.7674137352429456\n"
     ]
    },
    {
     "data": {
      "image/png": "[encoded data removed]",
      "text/plain": [
       "<Figure size 432x288 with 2 Axes>"
      ]
     },
     "metadata": {
      "needs_background": "light"
     },
     "output_type": "display_data"
    }
   ],
   "source": [
    "modelNAB = GaussianNB()\n",
    "run_model(modelNAB,sampled_X_train, X_test, sampled_y_train, y_test)"
   ]
  },
  {
   "cell_type": "markdown",
   "metadata": {},
   "source": [
    "### Random Forest (Ensemble)"
   ]
  },
  {
   "cell_type": "code",
   "execution_count": 36,
   "metadata": {},
   "outputs": [
    {
     "name": "stdout",
     "output_type": "stream",
     "text": [
      "___________________________________________________________________________________________________________\n",
      "                                                     TRAIN                                                 \n",
      "-----------------------------------------------------------------------------------------------------------\n",
      "              precision    recall  f1-score   support\n",
      "\n",
      "           0       0.94      0.98      0.96      8233\n",
      "           1       0.92      0.82      0.87      2734\n",
      "\n",
      "    accuracy                           0.94     10967\n",
      "   macro avg       0.93      0.90      0.91     10967\n",
      "weighted avg       0.94      0.94      0.94     10967\n",
      "\n",
      "[[8029  204]\n",
      " [ 481 2253]]\n",
      "F1: 0.9135641098578757\n",
      "ROC_AUC: 0.8996444847759266\n",
      "___________________________________________________________________________________________________________\n",
      "                                                VALIDATION                                                 \n",
      "-----------------------------------------------------------------------------------------------------------\n",
      "              precision    recall  f1-score   support\n",
      "\n",
      "           0       0.86      0.92      0.89      3529\n",
      "           1       0.70      0.57      0.63      1172\n",
      "\n",
      "    accuracy                           0.83      4701\n",
      "   macro avg       0.78      0.74      0.76      4701\n",
      "weighted avg       0.82      0.83      0.82      4701\n",
      "\n",
      "[[3240  289]\n",
      " [ 506  666]]\n",
      "F1: 0.7584778910328182\n",
      "ROC_AUC: 0.7431832490809935\n"
     ]
    },
    {
     "data": {
      "image/png": "[encoded data removed]",
      "text/plain": [
       "<Figure size 432x288 with 2 Axes>"
      ]
     },
     "metadata": {
      "needs_background": "light"
     },
     "output_type": "display_data"
    }
   ],
   "source": [
    "from sklearn.ensemble import RandomForestClassifier\n",
    "modelRF = RandomForestClassifier()\n",
    "run_model(modelRF,sampled_X_train, X_test, sampled_y_train, y_test)"
   ]
  },
  {
   "cell_type": "markdown",
   "metadata": {},
   "source": [
    "### Gradient Tree Boost (Ensemble)"
   ]
  },
  {
   "cell_type": "code",
   "execution_count": 37,
   "metadata": {},
   "outputs": [
    {
     "name": "stdout",
     "output_type": "stream",
     "text": [
      "___________________________________________________________________________________________________________\n",
      "                                                     TRAIN                                                 \n",
      "-----------------------------------------------------------------------------------------------------------\n",
      "              precision    recall  f1-score   support\n",
      "\n",
      "           0       0.88      0.94      0.91      8233\n",
      "           1       0.78      0.60      0.68      2734\n",
      "\n",
      "    accuracy                           0.86     10967\n",
      "   macro avg       0.83      0.77      0.79     10967\n",
      "weighted avg       0.85      0.86      0.85     10967\n",
      "\n",
      "[[7769  464]\n",
      " [1090 1644]]\n",
      "F1: 0.794069255934282\n",
      "ROC_AUC: 0.772479097492552\n",
      "___________________________________________________________________________________________________________\n",
      "                                                VALIDATION                                                 \n",
      "-----------------------------------------------------------------------------------------------------------\n",
      "              precision    recall  f1-score   support\n",
      "\n",
      "           0       0.87      0.94      0.91      3529\n",
      "           1       0.78      0.59      0.67      1172\n",
      "\n",
      "    accuracy                           0.86      4701\n",
      "   macro avg       0.82      0.77      0.79      4701\n",
      "weighted avg       0.85      0.86      0.85      4701\n",
      "\n",
      "[[3328  201]\n",
      " [ 478  694]]\n",
      "F1: 0.7894673627744585\n",
      "ROC_AUC: 0.7675967628532772\n"
     ]
    },
    {
     "data": {
      "image/png": "[encoded data removed]",
      "text/plain": [
       "<Figure size 432x288 with 2 Axes>"
      ]
     },
     "metadata": {
      "needs_background": "light"
     },
     "output_type": "display_data"
    }
   ],
   "source": [
    "from sklearn.ensemble import GradientBoostingClassifier\n",
    "modelGBC = GradientBoostingClassifier()\n",
    "run_model(modelGBC,sampled_X_train, X_test, sampled_y_train, y_test)"
   ]
  },
  {
   "cell_type": "markdown",
   "metadata": {},
   "source": [
    "### AdaBoost (Ensemble)"
   ]
  },
  {
   "cell_type": "code",
   "execution_count": 38,
   "metadata": {},
   "outputs": [
    {
     "name": "stdout",
     "output_type": "stream",
     "text": [
      "___________________________________________________________________________________________________________\n",
      "                                                     TRAIN                                                 \n",
      "-----------------------------------------------------------------------------------------------------------\n",
      "              precision    recall  f1-score   support\n",
      "\n",
      "           0       0.87      0.93      0.90      8233\n",
      "           1       0.74      0.59      0.66      2734\n",
      "\n",
      "    accuracy                           0.85     10967\n",
      "   macro avg       0.81      0.76      0.78     10967\n",
      "weighted avg       0.84      0.85      0.84     10967\n",
      "\n",
      "[[7667  566]\n",
      " [1125 1609]]\n",
      "F1: 0.7781030676072509\n",
      "ROC_AUC: 0.759883636881247\n",
      "___________________________________________________________________________________________________________\n",
      "                                                VALIDATION                                                 \n",
      "-----------------------------------------------------------------------------------------------------------\n",
      "              precision    recall  f1-score   support\n",
      "\n",
      "           0       0.87      0.94      0.90      3529\n",
      "           1       0.75      0.60      0.67      1172\n",
      "\n",
      "    accuracy                           0.85      4701\n",
      "   macro avg       0.81      0.77      0.78      4701\n",
      "weighted avg       0.84      0.85      0.84      4701\n",
      "\n",
      "[[3301  228]\n",
      " [ 474  698]]\n",
      "F1: 0.7846419476328053\n",
      "ROC_AUC: 0.7654778011928467\n"
     ]
    },
    {
     "data": {
      "image/png": "[encoded data removed]",
      "text/plain": [
       "<Figure size 432x288 with 2 Axes>"
      ]
     },
     "metadata": {
      "needs_background": "light"
     },
     "output_type": "display_data"
    }
   ],
   "source": [
    "from sklearn.ensemble import AdaBoostClassifier\n",
    "modelAda = AdaBoostClassifier()\n",
    "run_model(modelAda,sampled_X_train, X_test, sampled_y_train, y_test)"
   ]
  },
  {
   "cell_type": "markdown",
   "metadata": {},
   "source": [
    "### Neural Network"
   ]
  },
  {
   "cell_type": "code",
   "execution_count": 39,
   "metadata": {},
   "outputs": [
    {
     "name": "stderr",
     "output_type": "stream",
     "text": [
      "C:\\ProgramData\\Anaconda3\\lib\\site-packages\\sklearn\\neural_network\\_multilayer_perceptron.py:585: ConvergenceWarning: Stochastic Optimizer: Maximum iterations (200) reached and the optimization hasn't converged yet.\n",
      "  % self.max_iter, ConvergenceWarning)\n",
      "C:\\ProgramData\\Anaconda3\\lib\\site-packages\\sklearn\\neural_network\\_multilayer_perceptron.py:585: ConvergenceWarning: Stochastic Optimizer: Maximum iterations (200) reached and the optimization hasn't converged yet.\n",
      "  % self.max_iter, ConvergenceWarning)\n",
      "C:\\ProgramData\\Anaconda3\\lib\\site-packages\\sklearn\\neural_network\\_multilayer_perceptron.py:585: ConvergenceWarning: Stochastic Optimizer: Maximum iterations (200) reached and the optimization hasn't converged yet.\n",
      "  % self.max_iter, ConvergenceWarning)\n",
      "C:\\ProgramData\\Anaconda3\\lib\\site-packages\\sklearn\\neural_network\\_multilayer_perceptron.py:585: ConvergenceWarning: Stochastic Optimizer: Maximum iterations (200) reached and the optimization hasn't converged yet.\n",
      "  % self.max_iter, ConvergenceWarning)\n",
      "C:\\ProgramData\\Anaconda3\\lib\\site-packages\\sklearn\\neural_network\\_multilayer_perceptron.py:585: ConvergenceWarning: Stochastic Optimizer: Maximum iterations (200) reached and the optimization hasn't converged yet.\n",
      "  % self.max_iter, ConvergenceWarning)\n",
      "C:\\ProgramData\\Anaconda3\\lib\\site-packages\\sklearn\\neural_network\\_multilayer_perceptron.py:585: ConvergenceWarning: Stochastic Optimizer: Maximum iterations (200) reached and the optimization hasn't converged yet.\n",
      "  % self.max_iter, ConvergenceWarning)\n",
      "C:\\ProgramData\\Anaconda3\\lib\\site-packages\\sklearn\\neural_network\\_multilayer_perceptron.py:585: ConvergenceWarning: Stochastic Optimizer: Maximum iterations (200) reached and the optimization hasn't converged yet.\n",
      "  % self.max_iter, ConvergenceWarning)\n",
      "C:\\ProgramData\\Anaconda3\\lib\\site-packages\\sklearn\\neural_network\\_multilayer_perceptron.py:585: ConvergenceWarning: Stochastic Optimizer: Maximum iterations (200) reached and the optimization hasn't converged yet.\n",
      "  % self.max_iter, ConvergenceWarning)\n"
     ]
    },
    {
     "name": "stdout",
     "output_type": "stream",
     "text": [
      "___________________________________________________________________________________________________________\n",
      "                                                     TRAIN                                                 \n",
      "-----------------------------------------------------------------------------------------------------------\n",
      "              precision    recall  f1-score   support\n",
      "\n",
      "           0       0.87      0.93      0.90      8233\n",
      "           1       0.75      0.58      0.65      2734\n",
      "\n",
      "    accuracy                           0.85     10967\n",
      "   macro avg       0.81      0.76      0.78     10967\n",
      "weighted avg       0.84      0.85      0.84     10967\n",
      "\n",
      "[[7696  537]\n",
      " [1147 1587]]\n",
      "F1: 0.7773686734653236\n",
      "ROC_AUC: 0.7576214328636757\n",
      "___________________________________________________________________________________________________________\n",
      "                                                VALIDATION                                                 \n",
      "-----------------------------------------------------------------------------------------------------------\n",
      "              precision    recall  f1-score   support\n",
      "\n",
      "           0       0.86      0.93      0.89      3529\n",
      "           1       0.72      0.56      0.63      1172\n",
      "\n",
      "    accuracy                           0.84      4701\n",
      "   macro avg       0.79      0.74      0.76      4701\n",
      "weighted avg       0.83      0.84      0.83      4701\n",
      "\n",
      "[[3275  254]\n",
      " [ 520  652]]\n",
      "F1: 0.7609232557247154\n",
      "ROC_AUC: 0.7421694647083116\n"
     ]
    },
    {
     "data": {
      "image/png": "[encoded data removed]",
      "text/plain": [
       "<Figure size 432x288 with 2 Axes>"
      ]
     },
     "metadata": {
      "needs_background": "light"
     },
     "output_type": "display_data"
    }
   ],
   "source": [
    "from sklearn.neural_network import MLPClassifier\n",
    "modelMLP = MLPClassifier()\n",
    "run_model(modelMLP,sampled_X_train, X_test, sampled_y_train, y_test)"
   ]
  },
  {
   "cell_type": "markdown",
   "metadata": {},
   "source": [
    "## Feature Selection\n",
    "In this section, we will eliminate noise from the model."
   ]
  },
  {
   "cell_type": "markdown",
   "metadata": {},
   "source": [
    "### Hyperpatameterization"
   ]
  },
  {
   "cell_type": "markdown",
   "metadata": {},
   "source": [
    "## Produce File for Submission"
   ]
  },
  {
   "cell_type": "code",
   "execution_count": 109,
   "metadata": {},
   "outputs": [],
   "source": [
    "prepped_data_test = DataPreProcessing(data_test)\n",
    "prepped_data_test = AlignDataframe(optimizer_X_train.columns,prepped_data_test)"
   ]
  },
  {
   "cell_type": "code",
   "execution_count": 110,
   "metadata": {},
   "outputs": [],
   "source": [
    "predictions = model.predict(prepped_data_test)\n",
    "prepped_data_test['Income'] = predictions\n",
    "prepped_data_test[['Income']].to_csv('Group10_Version19.csv')"
   ]
  },
  {
   "cell_type": "code",
   "execution_count": 68,
   "metadata": {},
   "outputs": [
    {
     "name": "stdout",
     "output_type": "stream",
     "text": [
      "Parse progress: |█████████████████████████████████████████████████████████| 100%\n",
      "stackedensemble prediction progress: |████████████████████████████████████| 100%\n"
     ]
    }
   ],
   "source": [
    "# Predict Using H2O\n",
    "hf2 = h2o.H2OFrame(prepped_data_test)\n",
    "preds = aml.predict(hf2)\n",
    "predictions = preds.as_data_frame()\n",
    "prepped_data_test['Income'] = predictions[['predict']]\n",
    "final = prepped_data_test.copy()\n",
    "final.reset_index(inplace=True)\n",
    "final['Income'] = predictions[['predict']]\n",
    "final.head()\n",
    "final[['CITIZEN_ID','Income']].to_csv('Submission_2.csv', index=False)"
   ]
  }
 ],
 "metadata": {
  "kernelspec": {
   "display_name": "Python 3",
   "language": "python",
   "name": "python3"
  },
  "language_info": {
   "codemirror_mode": {
    "name": "ipython",
    "version": 3
   },
   "file_extension": ".py",
   "mimetype": "text/x-python",
   "name": "python",
   "nbconvert_exporter": "python",
   "pygments_lexer": "ipython3",
   "version": "3.7.6"
  }
 },
 "nbformat": 4,
 "nbformat_minor": 4
}
