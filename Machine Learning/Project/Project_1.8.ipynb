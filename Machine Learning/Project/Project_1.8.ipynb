{
 "cells": [
  {
   "cell_type": "markdown",
   "metadata": {},
   "source": [
    "# Machine Learning - Project - Group MAA_202021_10\n",
    "## Group Members\n",
    "|Name|StudentID|\n",
    "|:-----------:|:--------:|\n",
    "|Fabio Lopes|20200597|\n",
    "|Filipe Costa|20201041|\n",
    "|Jorge Pereira|20201085|\n",
    "\n",
    "## Introduction \n",
    "Put some introduction here"
   ]
  },
  {
   "cell_type": "markdown",
   "metadata": {},
   "source": [
    "## Package Instalation and Importing"
   ]
  },
  {
   "cell_type": "code",
   "execution_count": 353,
   "metadata": {},
   "outputs": [],
   "source": [
    "import sys\n",
    "#!{sys.executable} -m pip install -U xlrd\n",
    "#!{sys.executable} -m pip install -U xgboost\n",
    "#!{sys.executable} -m pip install -U hyperopt\n",
    "#!{sys.executable} -m pip install -U mlflow\n",
    "#!{sys.executable} -m pip install -U imbalanced-learn\n",
    "#!{sys.executable} -m pip install -f http://h2o-release.s3.amazonaws.com/h2o/latest_stable_Py.html h2o"
   ]
  },
  {
   "cell_type": "code",
   "execution_count": 354,
   "metadata": {},
   "outputs": [],
   "source": [
    "import pandas as pd\n",
    "import numpy as np\n",
    "import seaborn as sns\n",
    "from datetime import datetime\n",
    "import time\n",
    "\n",
    "from sklearn.model_selection import train_test_split, cross_val_score,cross_validate\n",
    "from sklearn.preprocessing import MinMaxScaler, StandardScaler, RobustScaler\n",
    "from sklearn.linear_model import LogisticRegression\n",
    "from sklearn.neighbors import KNeighborsClassifier\n",
    "from sklearn.tree import DecisionTreeClassifier\n",
    "from sklearn.ensemble import RandomForestClassifier,GradientBoostingClassifier,AdaBoostClassifier\n",
    "from sklearn.ensemble import BaggingClassifier\n",
    "from sklearn.neural_network import MLPClassifier\n",
    "from sklearn.svm import SVC\n",
    "from sklearn.naive_bayes import GaussianNB\n",
    "from sklearn.discriminant_analysis import LinearDiscriminantAnalysis\n",
    "from sklearn.metrics import f1_score, roc_curve, roc_auc_score, auc, classification_report, confusion_matrix\n",
    "from sklearn.feature_selection import SelectFromModel\n",
    "\n",
    "from imblearn.over_sampling import SMOTE, ADASYN\n",
    "from imblearn.under_sampling import CondensedNearestNeighbour, RandomUnderSampler\n",
    "\n",
    "from xgboost import XGBClassifier\n",
    "\n",
    "import matplotlib.pyplot as plt\n",
    "\n",
    "from collections import Counter\n",
    "\n",
    "from hyperopt import STATUS_OK, fmin, hp, tpe, Trials"
   ]
  },
  {
   "cell_type": "code",
   "execution_count": 355,
   "metadata": {},
   "outputs": [],
   "source": [
    "data = pd.read_excel('Train.xlsx')\n",
    "data_test = pd.read_excel(\"Test.xlsx\")"
   ]
  },
  {
   "cell_type": "code",
   "execution_count": 356,
   "metadata": {},
   "outputs": [
    {
     "name": "stdout",
     "output_type": "stream",
     "text": [
      "Training data has 15 columns and 22400 rows.\n"
     ]
    }
   ],
   "source": [
    "print(f\"Training data has {data.shape[1]} columns and {data.shape[0]} rows.\")"
   ]
  },
  {
   "cell_type": "markdown",
   "metadata": {},
   "source": [
    "## Data Cleansing & Feature Engineering Functions\n",
    "In this section, we will define the Cleansing functions"
   ]
  },
  {
   "cell_type": "code",
   "execution_count": 357,
   "metadata": {},
   "outputs": [],
   "source": [
    "def strip_lower(df):\n",
    "    \"\"\"Detects the String columns and converts all the records to lowercase.\"\"\"\n",
    "    for column in df.columns:\n",
    "        if df[column].dtype == 'object':\n",
    "            df[column] = df[column].apply(str.strip).apply(str.lower)\n",
    "    return df"
   ]
  },
  {
   "cell_type": "code",
   "execution_count": 358,
   "metadata": {},
   "outputs": [],
   "source": [
    "def fill_missing_values(df,ColumnswithMissingValues):\n",
    "    for column in ColumnswithMissingValues:\n",
    "        ColumnMode = df[column].mode()[0]\n",
    "        df[column] = df[column].str.replace('?',ColumnMode, regex=False)\n",
    "    return df"
   ]
  },
  {
   "cell_type": "code",
   "execution_count": 359,
   "metadata": {},
   "outputs": [],
   "source": [
    "def ComputeAgeAt2048(Birthday):\n",
    "    CurrentYear=datetime(2048,1,1)\n",
    "    \n",
    "    s_YearOfBirth = Birthday.split(\",\")[1]\n",
    "    YearOfBirth = datetime(int(s_YearOfBirth),1,1)\n",
    "        \n",
    "    return CurrentYear.year - YearOfBirth.year"
   ]
  },
  {
   "cell_type": "code",
   "execution_count": 360,
   "metadata": {},
   "outputs": [],
   "source": [
    "def ClassifyCitizen(Difference):\n",
    "    if Difference == 0:\n",
    "        return 'A' # Chosen carefully from volunteers\n",
    "    elif Difference > 0:\n",
    "        return 'B' # Invited\n",
    "    elif Difference < 0:\n",
    "        return 'C' # Paid"
   ]
  },
  {
   "cell_type": "code",
   "execution_count": 361,
   "metadata": {},
   "outputs": [],
   "source": [
    "def encode_data(data, nominal_variables):\n",
    "    data_Encoded = data.copy()\n",
    "    dummies = pd.get_dummies(data_Encoded[nominal_variables], prefix=nominal_variables)\n",
    "    data_Encoded = pd.concat([data_Encoded,dummies],axis=1)\n",
    "    data_Encoded = data_Encoded.drop(nominal_variables, axis =1)\n",
    "    return data_Encoded"
   ]
  },
  {
   "cell_type": "code",
   "execution_count": 362,
   "metadata": {},
   "outputs": [],
   "source": [
    "def AlignDataframe(ColumnsInModel,df):\n",
    "    dummy_df = pd.DataFrame(columns=ColumnsInModel)\n",
    "    dummy_df, aligned_df = dummy_df.align(df,fill_value=0,join='left',axis=1)\n",
    "    return aligned_df"
   ]
  },
  {
   "cell_type": "code",
   "execution_count": 363,
   "metadata": {},
   "outputs": [],
   "source": [
    "def MaritalStatusNormalization(Mstatus):\n",
    "    if Mstatus == 'married':\n",
    "        return 'married'\n",
    "    elif Mstatus == 'single':\n",
    "        return 'not_married'\n",
    "    elif Mstatus == 'divorced':\n",
    "        return 'not_married'\n",
    "    elif Mstatus == 'separated':\n",
    "        return 'not_married'\n",
    "    elif Mstatus == 'widow':\n",
    "        return 'not_married'\n",
    "    elif Mstatus == 'married - spouse missing':\n",
    "        return 'married'\n",
    "    elif Mstatus == 'married - spouse in the army':\n",
    "        return 'married'\n",
    "    else:\n",
    "        return 'NA'"
   ]
  },
  {
   "cell_type": "code",
   "execution_count": 364,
   "metadata": {},
   "outputs": [],
   "source": [
    "def LivesWithNormalization(Lwith):\n",
    "    if Lwith == 'wife':\n",
    "        return 'spouse'\n",
    "    elif Lwith == 'other family':\n",
    "        return 'other'\n",
    "    elif Lwith == 'children':\n",
    "        return 'children'\n",
    "    elif Lwith == 'alone':\n",
    "        return 'alone'\n",
    "    elif Lwith == 'husband':\n",
    "        return 'spouse'\n",
    "    elif Lwith == 'other relatives':\n",
    "        return 'other'\n",
    "    else:\n",
    "        return 'NA'"
   ]
  },
  {
   "cell_type": "code",
   "execution_count": 365,
   "metadata": {},
   "outputs": [],
   "source": [
    "def Sector(S):\n",
    "    if S == 'private sector - services':\n",
    "        return 'private'\n",
    "    elif S == 'self-employed (individual)':\n",
    "        return 'self'\n",
    "    elif S == 'public sector - others':\n",
    "        return 'public'\n",
    "    elif S == 'private sector - others':\n",
    "        return 'private'\n",
    "    elif S == 'self-employed (company)':\n",
    "        return 'self'\n",
    "    elif S == 'public sector - government':\n",
    "        return 'public'\n",
    "    elif S == 'unemployed':\n",
    "        return 'None'\n",
    "    elif S == 'never worked':\n",
    "        return 'None'\n",
    "    else:\n",
    "        return 'NA'"
   ]
  },
  {
   "cell_type": "code",
   "execution_count": 366,
   "metadata": {},
   "outputs": [],
   "source": [
    "def DataPreProcessing(data):\n",
    "    # Lowers all case in string variables\n",
    "    new_df = data.copy()\n",
    "\n",
    "    new_df = strip_lower(new_df)\n",
    "\n",
    "    # Deals with missing values\n",
    "    ColumnswithMissingValues = ['Role','Employment Sector','Base Area']\n",
    "    new_df = fill_missing_values(new_df,ColumnswithMissingValues)\n",
    "\n",
    "    # Computes Age\n",
    "    new_df['Age'] = new_df['Birthday'].apply(ComputeAgeAt2048)\n",
    "    new_df.drop('Birthday', axis=1, inplace=True)\n",
    "\n",
    "    # Classifies Citizen\n",
    "    new_df['Group'] = (new_df['Money Received'] - new_df['Ticket Price']).apply(ClassifyCitizen)\n",
    "\n",
    "    # Marital Status Normalization\n",
    "    new_df['MStatus'] = new_df['Marital Status'].apply(MaritalStatusNormalization)\n",
    "    new_df.drop('Marital Status', axis=1, inplace=True)\n",
    "\n",
    "    # Lives With Normalization\n",
    "    new_df['Lwith'] = new_df['Lives with'].apply(LivesWithNormalization)\n",
    "    new_df.drop('Lives with', axis=1, inplace=True)\n",
    "\n",
    "    # Employment Sector Normalization\n",
    "    new_df['Sector'] = new_df['Employment Sector'].apply(Sector)\n",
    "    new_df.drop('Employment Sector', axis=1, inplace=True)\n",
    "\n",
    "    # Creates Ordinal Variable from Education\n",
    "    EducationClassification = {\n",
    "                            \"phd\" : 16,\n",
    "                            \"masters + postgraduation\" : 15,\n",
    "                            \"masters\" : 14,\n",
    "                            \"bachelors + postgraduation\" : 13,\n",
    "                            \"bachelors\" : 12,\n",
    "                            \"professional school + postgraduation\" : 11,\n",
    "                            \"high school + postgraduation\" : 10,\n",
    "                            \"professional school\" : 9,\n",
    "                            \"high school complete\" : 8,\n",
    "                            \"high school - 2nd cycle\" : 7,\n",
    "                            \"high school - 1st cycle\" : 6,\n",
    "                            \"middle school complete\" : 5,\n",
    "                            \"middle school - 2nd cycle\" : 4,\n",
    "                            \"middle school - 1st cycle\" : 3,\n",
    "                            \"primary school\" : 2,\n",
    "                            \"preschool\" : 1\n",
    "                            }\n",
    "    new_df['Education_Class'] = new_df['Education Level'].map(EducationClassification)\n",
    "    new_df.drop('Education Level', axis=1, inplace=True)\n",
    "\n",
    "    # Performs one hot encoding in nominal variables\n",
    "    NominalVariables = ['Native Continent', \n",
    "                        'Role', \n",
    "                        'MStatus', \n",
    "                        'Lwith', \n",
    "                        'Sector', \n",
    "                        'Group']\n",
    "\n",
    "    new_df = encode_data(new_df, NominalVariables)\n",
    "\n",
    "    # Drops the Name column and selects Citizen ID as the index\n",
    "    new_df = new_df.drop(['Name'], axis =1)\n",
    "    new_df = new_df.drop(['Base Area'], axis =1)\n",
    "    new_df.set_index([\"CITIZEN_ID\"],inplace=True)\n",
    "\n",
    "    # Scale Data\n",
    "#     if 'Income' in new_df.columns:\n",
    "#         featuresToScale = new_df.columns.drop('Income')\n",
    "#     else:\n",
    "#         featuresToScale = new_df.columns\n",
    "#     new_df = MinMaxScaler_df(new_df,featuresToScale)\n",
    "\n",
    "    return new_df.copy()"
   ]
  },
  {
   "cell_type": "code",
   "execution_count": 367,
   "metadata": {},
   "outputs": [],
   "source": [
    "processedTrainingData = DataPreProcessing(data)\n",
    "processedTestingData = DataPreProcessing(data_test)"
   ]
  },
  {
   "cell_type": "code",
   "execution_count": 368,
   "metadata": {},
   "outputs": [
    {
     "data": {
      "text/html": [
       "<div>\n",
       "<style scoped>\n",
       "    .dataframe tbody tr th:only-of-type {\n",
       "        vertical-align: middle;\n",
       "    }\n",
       "\n",
       "    .dataframe tbody tr th {\n",
       "        vertical-align: top;\n",
       "    }\n",
       "\n",
       "    .dataframe thead th {\n",
       "        text-align: right;\n",
       "    }\n",
       "</style>\n",
       "<table border=\"1\" class=\"dataframe\">\n",
       "  <thead>\n",
       "    <tr style=\"text-align: right;\">\n",
       "      <th></th>\n",
       "      <th>Years of Education</th>\n",
       "      <th>Working Hours per week</th>\n",
       "      <th>Money Received</th>\n",
       "      <th>Ticket Price</th>\n",
       "      <th>Income</th>\n",
       "      <th>Age</th>\n",
       "      <th>Education_Class</th>\n",
       "      <th>Native Continent_africa</th>\n",
       "      <th>Native Continent_america</th>\n",
       "      <th>Native Continent_asia</th>\n",
       "      <th>...</th>\n",
       "      <th>Lwith_children</th>\n",
       "      <th>Lwith_other</th>\n",
       "      <th>Lwith_spouse</th>\n",
       "      <th>Sector_None</th>\n",
       "      <th>Sector_private</th>\n",
       "      <th>Sector_public</th>\n",
       "      <th>Sector_self</th>\n",
       "      <th>Group_A</th>\n",
       "      <th>Group_B</th>\n",
       "      <th>Group_C</th>\n",
       "    </tr>\n",
       "    <tr>\n",
       "      <th>CITIZEN_ID</th>\n",
       "      <th></th>\n",
       "      <th></th>\n",
       "      <th></th>\n",
       "      <th></th>\n",
       "      <th></th>\n",
       "      <th></th>\n",
       "      <th></th>\n",
       "      <th></th>\n",
       "      <th></th>\n",
       "      <th></th>\n",
       "      <th></th>\n",
       "      <th></th>\n",
       "      <th></th>\n",
       "      <th></th>\n",
       "      <th></th>\n",
       "      <th></th>\n",
       "      <th></th>\n",
       "      <th></th>\n",
       "      <th></th>\n",
       "      <th></th>\n",
       "      <th></th>\n",
       "    </tr>\n",
       "  </thead>\n",
       "  <tbody>\n",
       "    <tr>\n",
       "      <th>12486</th>\n",
       "      <td>13</td>\n",
       "      <td>40</td>\n",
       "      <td>0</td>\n",
       "      <td>2273</td>\n",
       "      <td>1</td>\n",
       "      <td>45</td>\n",
       "      <td>10</td>\n",
       "      <td>0</td>\n",
       "      <td>0</td>\n",
       "      <td>0</td>\n",
       "      <td>...</td>\n",
       "      <td>0</td>\n",
       "      <td>0</td>\n",
       "      <td>1</td>\n",
       "      <td>0</td>\n",
       "      <td>1</td>\n",
       "      <td>0</td>\n",
       "      <td>0</td>\n",
       "      <td>0</td>\n",
       "      <td>0</td>\n",
       "      <td>1</td>\n",
       "    </tr>\n",
       "    <tr>\n",
       "      <th>12487</th>\n",
       "      <td>12</td>\n",
       "      <td>40</td>\n",
       "      <td>0</td>\n",
       "      <td>0</td>\n",
       "      <td>1</td>\n",
       "      <td>42</td>\n",
       "      <td>9</td>\n",
       "      <td>0</td>\n",
       "      <td>0</td>\n",
       "      <td>0</td>\n",
       "      <td>...</td>\n",
       "      <td>0</td>\n",
       "      <td>0</td>\n",
       "      <td>1</td>\n",
       "      <td>0</td>\n",
       "      <td>0</td>\n",
       "      <td>1</td>\n",
       "      <td>0</td>\n",
       "      <td>1</td>\n",
       "      <td>0</td>\n",
       "      <td>0</td>\n",
       "    </tr>\n",
       "    <tr>\n",
       "      <th>12488</th>\n",
       "      <td>12</td>\n",
       "      <td>46</td>\n",
       "      <td>0</td>\n",
       "      <td>2321</td>\n",
       "      <td>1</td>\n",
       "      <td>39</td>\n",
       "      <td>9</td>\n",
       "      <td>0</td>\n",
       "      <td>0</td>\n",
       "      <td>0</td>\n",
       "      <td>...</td>\n",
       "      <td>0</td>\n",
       "      <td>0</td>\n",
       "      <td>1</td>\n",
       "      <td>0</td>\n",
       "      <td>1</td>\n",
       "      <td>0</td>\n",
       "      <td>0</td>\n",
       "      <td>0</td>\n",
       "      <td>0</td>\n",
       "      <td>1</td>\n",
       "    </tr>\n",
       "    <tr>\n",
       "      <th>12489</th>\n",
       "      <td>11</td>\n",
       "      <td>37</td>\n",
       "      <td>5395</td>\n",
       "      <td>0</td>\n",
       "      <td>1</td>\n",
       "      <td>63</td>\n",
       "      <td>7</td>\n",
       "      <td>0</td>\n",
       "      <td>0</td>\n",
       "      <td>0</td>\n",
       "      <td>...</td>\n",
       "      <td>0</td>\n",
       "      <td>0</td>\n",
       "      <td>1</td>\n",
       "      <td>0</td>\n",
       "      <td>1</td>\n",
       "      <td>0</td>\n",
       "      <td>0</td>\n",
       "      <td>0</td>\n",
       "      <td>1</td>\n",
       "      <td>0</td>\n",
       "    </tr>\n",
       "    <tr>\n",
       "      <th>12490</th>\n",
       "      <td>21</td>\n",
       "      <td>45</td>\n",
       "      <td>0</td>\n",
       "      <td>0</td>\n",
       "      <td>1</td>\n",
       "      <td>33</td>\n",
       "      <td>16</td>\n",
       "      <td>0</td>\n",
       "      <td>0</td>\n",
       "      <td>0</td>\n",
       "      <td>...</td>\n",
       "      <td>0</td>\n",
       "      <td>1</td>\n",
       "      <td>0</td>\n",
       "      <td>0</td>\n",
       "      <td>0</td>\n",
       "      <td>0</td>\n",
       "      <td>1</td>\n",
       "      <td>1</td>\n",
       "      <td>0</td>\n",
       "      <td>0</td>\n",
       "    </tr>\n",
       "  </tbody>\n",
       "</table>\n",
       "<p>5 rows × 39 columns</p>\n",
       "</div>"
      ],
      "text/plain": [
       "            Years of Education  Working Hours per week  Money Received  \\\n",
       "CITIZEN_ID                                                               \n",
       "12486                       13                      40               0   \n",
       "12487                       12                      40               0   \n",
       "12488                       12                      46               0   \n",
       "12489                       11                      37            5395   \n",
       "12490                       21                      45               0   \n",
       "\n",
       "            Ticket Price  Income  Age  Education_Class  \\\n",
       "CITIZEN_ID                                               \n",
       "12486               2273       1   45               10   \n",
       "12487                  0       1   42                9   \n",
       "12488               2321       1   39                9   \n",
       "12489                  0       1   63                7   \n",
       "12490                  0       1   33               16   \n",
       "\n",
       "            Native Continent_africa  Native Continent_america  \\\n",
       "CITIZEN_ID                                                      \n",
       "12486                             0                         0   \n",
       "12487                             0                         0   \n",
       "12488                             0                         0   \n",
       "12489                             0                         0   \n",
       "12490                             0                         0   \n",
       "\n",
       "            Native Continent_asia  ...  Lwith_children  Lwith_other  \\\n",
       "CITIZEN_ID                         ...                                \n",
       "12486                           0  ...               0            0   \n",
       "12487                           0  ...               0            0   \n",
       "12488                           0  ...               0            0   \n",
       "12489                           0  ...               0            0   \n",
       "12490                           0  ...               0            1   \n",
       "\n",
       "            Lwith_spouse  Sector_None  Sector_private  Sector_public  \\\n",
       "CITIZEN_ID                                                             \n",
       "12486                  1            0               1              0   \n",
       "12487                  1            0               0              1   \n",
       "12488                  1            0               1              0   \n",
       "12489                  1            0               1              0   \n",
       "12490                  0            0               0              0   \n",
       "\n",
       "            Sector_self  Group_A  Group_B  Group_C  \n",
       "CITIZEN_ID                                          \n",
       "12486                 0        0        0        1  \n",
       "12487                 0        1        0        0  \n",
       "12488                 0        0        0        1  \n",
       "12489                 0        0        1        0  \n",
       "12490                 1        1        0        0  \n",
       "\n",
       "[5 rows x 39 columns]"
      ]
     },
     "execution_count": 368,
     "metadata": {},
     "output_type": "execute_result"
    }
   ],
   "source": [
    "processedTrainingData.head(5)"
   ]
  },
  {
   "cell_type": "markdown",
   "metadata": {},
   "source": [
    "## Model Creation\n",
    "In this section, we will create the models."
   ]
  },
  {
   "cell_type": "code",
   "execution_count": 438,
   "metadata": {},
   "outputs": [],
   "source": [
    "def runModels(models,X,y,X_test,y_test):\n",
    "\n",
    "    GlobalTimerStart = time.time()\n",
    "    ModelPerf = []\n",
    "    for model in models:\n",
    "        print(f\"Running Model: {type(model).__name__}\")\n",
    "        LocalTimerStart = time.time()\n",
    "        model.fit(X,y)\n",
    "        scoresf1w = cross_validate(model, X,y, cv=10,scoring=('f1_micro'))\n",
    "        labels_val = model.predict(X_test)\n",
    "        ModelPerf.append((type(model).__name__,\n",
    "                          'Train',\n",
    "                          scoresf1w['test_score'].mean()\n",
    "        ))\n",
    "        ModelPerf.append((type(model).__name__,\n",
    "          'Test',\n",
    "          f1_score(y_test, labels_val, average='micro')\n",
    "        ))\n",
    "        \n",
    "        LocalTimerEnd = time.time()\n",
    "        print(f\"-- Done. Duration: {LocalTimerEnd-LocalTimerStart} s\")\n",
    "    GlobalTimerEnd = time.time()\n",
    "    print(f\"GLOBAL DURATION: {GlobalTimerEnd-GlobalTimerStart} s\")\n",
    "    \n",
    "    res = pd.DataFrame(ModelPerf,columns=['model','Stage','f1_micro'])\n",
    "    \n",
    "    fig = plt.figure(figsize=(20, 10))\n",
    "    graph = sns.barplot(x=\"model\", y=\"f1_micro\", hue=\"Stage\", data=res)\n",
    "    graph.legend(loc='lower left')\n",
    "    for bar in graph.patches:\n",
    "        graph.annotate(format(bar.get_height(), '.4f'), \n",
    "                       (bar.get_x() + bar.get_width() / 2., bar.get_height()), \n",
    "                       ha = 'center', va = 'center', \n",
    "                       xytext = (0, -12),\n",
    "                       color=\"white\",\n",
    "                       textcoords = 'offset points')\n",
    "\n",
    "    graph.set_xticklabels(graph.get_xticklabels(),\n",
    "                          rotation=45,\n",
    "                          horizontalalignment='center',\n",
    "                          fontweight='light')\n",
    "    \n",
    "    return res"
   ]
  },
  {
   "cell_type": "markdown",
   "metadata": {},
   "source": [
    "### Correlation"
   ]
  },
  {
   "cell_type": "code",
   "execution_count": 370,
   "metadata": {},
   "outputs": [
    {
     "data": {
      "text/html": [
       "<div>\n",
       "<style scoped>\n",
       "    .dataframe tbody tr th:only-of-type {\n",
       "        vertical-align: middle;\n",
       "    }\n",
       "\n",
       "    .dataframe tbody tr th {\n",
       "        vertical-align: top;\n",
       "    }\n",
       "\n",
       "    .dataframe thead th {\n",
       "        text-align: right;\n",
       "    }\n",
       "</style>\n",
       "<table border=\"1\" class=\"dataframe\">\n",
       "  <thead>\n",
       "    <tr style=\"text-align: right;\">\n",
       "      <th></th>\n",
       "      <th>Ticket Price</th>\n",
       "      <th>Working Hours per week</th>\n",
       "      <th>Money Received</th>\n",
       "      <th>Years of Education</th>\n",
       "      <th>Ticket Price</th>\n",
       "      <th>Income</th>\n",
       "      <th>Age</th>\n",
       "      <th>Education_Class</th>\n",
       "      <th>Group_A</th>\n",
       "      <th>Group_B</th>\n",
       "      <th>Group_C</th>\n",
       "    </tr>\n",
       "  </thead>\n",
       "  <tbody>\n",
       "    <tr>\n",
       "      <th>Ticket Price</th>\n",
       "      <td>1.000000</td>\n",
       "      <td>0.052959</td>\n",
       "      <td>-0.031330</td>\n",
       "      <td>0.084810</td>\n",
       "      <td>1.000000</td>\n",
       "      <td>0.155890</td>\n",
       "      <td>0.055774</td>\n",
       "      <td>0.081762</td>\n",
       "      <td>-0.567060</td>\n",
       "      <td>-0.065122</td>\n",
       "      <td>0.980514</td>\n",
       "    </tr>\n",
       "    <tr>\n",
       "      <th>Working Hours per week</th>\n",
       "      <td>0.052959</td>\n",
       "      <td>1.000000</td>\n",
       "      <td>0.075471</td>\n",
       "      <td>0.138516</td>\n",
       "      <td>0.052959</td>\n",
       "      <td>0.219890</td>\n",
       "      <td>0.064900</td>\n",
       "      <td>0.144922</td>\n",
       "      <td>-0.092201</td>\n",
       "      <td>0.074887</td>\n",
       "      <td>0.048958</td>\n",
       "    </tr>\n",
       "    <tr>\n",
       "      <th>Money Received</th>\n",
       "      <td>-0.031330</td>\n",
       "      <td>0.075471</td>\n",
       "      <td>1.000000</td>\n",
       "      <td>0.123015</td>\n",
       "      <td>-0.031330</td>\n",
       "      <td>0.221440</td>\n",
       "      <td>0.072693</td>\n",
       "      <td>0.118556</td>\n",
       "      <td>-0.373136</td>\n",
       "      <td>0.481099</td>\n",
       "      <td>-0.031953</td>\n",
       "    </tr>\n",
       "    <tr>\n",
       "      <th>Years of Education</th>\n",
       "      <td>0.084810</td>\n",
       "      <td>0.138516</td>\n",
       "      <td>0.123015</td>\n",
       "      <td>1.000000</td>\n",
       "      <td>0.084810</td>\n",
       "      <td>0.333089</td>\n",
       "      <td>0.035241</td>\n",
       "      <td>0.984065</td>\n",
       "      <td>-0.142698</td>\n",
       "      <td>0.111686</td>\n",
       "      <td>0.081220</td>\n",
       "    </tr>\n",
       "    <tr>\n",
       "      <th>Ticket Price</th>\n",
       "      <td>1.000000</td>\n",
       "      <td>0.052959</td>\n",
       "      <td>-0.031330</td>\n",
       "      <td>0.084810</td>\n",
       "      <td>1.000000</td>\n",
       "      <td>0.155890</td>\n",
       "      <td>0.055774</td>\n",
       "      <td>0.081762</td>\n",
       "      <td>-0.567060</td>\n",
       "      <td>-0.065122</td>\n",
       "      <td>0.980514</td>\n",
       "    </tr>\n",
       "    <tr>\n",
       "      <th>Income</th>\n",
       "      <td>0.155890</td>\n",
       "      <td>0.219890</td>\n",
       "      <td>0.221440</td>\n",
       "      <td>0.333089</td>\n",
       "      <td>0.155890</td>\n",
       "      <td>1.000000</td>\n",
       "      <td>0.233157</td>\n",
       "      <td>0.330227</td>\n",
       "      <td>-0.305667</td>\n",
       "      <td>0.263008</td>\n",
       "      <td>0.143257</td>\n",
       "    </tr>\n",
       "    <tr>\n",
       "      <th>Age</th>\n",
       "      <td>0.055774</td>\n",
       "      <td>0.064900</td>\n",
       "      <td>0.072693</td>\n",
       "      <td>0.035241</td>\n",
       "      <td>0.055774</td>\n",
       "      <td>0.233157</td>\n",
       "      <td>1.000000</td>\n",
       "      <td>0.031290</td>\n",
       "      <td>-0.125038</td>\n",
       "      <td>0.115570</td>\n",
       "      <td>0.048285</td>\n",
       "    </tr>\n",
       "    <tr>\n",
       "      <th>Education_Class</th>\n",
       "      <td>0.081762</td>\n",
       "      <td>0.144922</td>\n",
       "      <td>0.118556</td>\n",
       "      <td>0.984065</td>\n",
       "      <td>0.081762</td>\n",
       "      <td>0.330227</td>\n",
       "      <td>0.031290</td>\n",
       "      <td>1.000000</td>\n",
       "      <td>-0.139703</td>\n",
       "      <td>0.110063</td>\n",
       "      <td>0.078583</td>\n",
       "    </tr>\n",
       "    <tr>\n",
       "      <th>Group_A</th>\n",
       "      <td>-0.567060</td>\n",
       "      <td>-0.092201</td>\n",
       "      <td>-0.373136</td>\n",
       "      <td>-0.142698</td>\n",
       "      <td>-0.567060</td>\n",
       "      <td>-0.305667</td>\n",
       "      <td>-0.125038</td>\n",
       "      <td>-0.139703</td>\n",
       "      <td>1.000000</td>\n",
       "      <td>-0.775591</td>\n",
       "      <td>-0.578330</td>\n",
       "    </tr>\n",
       "    <tr>\n",
       "      <th>Group_B</th>\n",
       "      <td>-0.065122</td>\n",
       "      <td>0.074887</td>\n",
       "      <td>0.481099</td>\n",
       "      <td>0.111686</td>\n",
       "      <td>-0.065122</td>\n",
       "      <td>0.263008</td>\n",
       "      <td>0.115570</td>\n",
       "      <td>0.110063</td>\n",
       "      <td>-0.775591</td>\n",
       "      <td>1.000000</td>\n",
       "      <td>-0.066417</td>\n",
       "    </tr>\n",
       "    <tr>\n",
       "      <th>Group_C</th>\n",
       "      <td>0.980514</td>\n",
       "      <td>0.048958</td>\n",
       "      <td>-0.031953</td>\n",
       "      <td>0.081220</td>\n",
       "      <td>0.980514</td>\n",
       "      <td>0.143257</td>\n",
       "      <td>0.048285</td>\n",
       "      <td>0.078583</td>\n",
       "      <td>-0.578330</td>\n",
       "      <td>-0.066417</td>\n",
       "      <td>1.000000</td>\n",
       "    </tr>\n",
       "  </tbody>\n",
       "</table>\n",
       "</div>"
      ],
      "text/plain": [
       "                        Ticket Price  Working Hours per week  Money Received  \\\n",
       "Ticket Price                1.000000                0.052959       -0.031330   \n",
       "Working Hours per week      0.052959                1.000000        0.075471   \n",
       "Money Received             -0.031330                0.075471        1.000000   \n",
       "Years of Education          0.084810                0.138516        0.123015   \n",
       "Ticket Price                1.000000                0.052959       -0.031330   \n",
       "Income                      0.155890                0.219890        0.221440   \n",
       "Age                         0.055774                0.064900        0.072693   \n",
       "Education_Class             0.081762                0.144922        0.118556   \n",
       "Group_A                    -0.567060               -0.092201       -0.373136   \n",
       "Group_B                    -0.065122                0.074887        0.481099   \n",
       "Group_C                     0.980514                0.048958       -0.031953   \n",
       "\n",
       "                        Years of Education  Ticket Price    Income       Age  \\\n",
       "Ticket Price                      0.084810      1.000000  0.155890  0.055774   \n",
       "Working Hours per week            0.138516      0.052959  0.219890  0.064900   \n",
       "Money Received                    0.123015     -0.031330  0.221440  0.072693   \n",
       "Years of Education                1.000000      0.084810  0.333089  0.035241   \n",
       "Ticket Price                      0.084810      1.000000  0.155890  0.055774   \n",
       "Income                            0.333089      0.155890  1.000000  0.233157   \n",
       "Age                               0.035241      0.055774  0.233157  1.000000   \n",
       "Education_Class                   0.984065      0.081762  0.330227  0.031290   \n",
       "Group_A                          -0.142698     -0.567060 -0.305667 -0.125038   \n",
       "Group_B                           0.111686     -0.065122  0.263008  0.115570   \n",
       "Group_C                           0.081220      0.980514  0.143257  0.048285   \n",
       "\n",
       "                        Education_Class   Group_A   Group_B   Group_C  \n",
       "Ticket Price                   0.081762 -0.567060 -0.065122  0.980514  \n",
       "Working Hours per week         0.144922 -0.092201  0.074887  0.048958  \n",
       "Money Received                 0.118556 -0.373136  0.481099 -0.031953  \n",
       "Years of Education             0.984065 -0.142698  0.111686  0.081220  \n",
       "Ticket Price                   0.081762 -0.567060 -0.065122  0.980514  \n",
       "Income                         0.330227 -0.305667  0.263008  0.143257  \n",
       "Age                            0.031290 -0.125038  0.115570  0.048285  \n",
       "Education_Class                1.000000 -0.139703  0.110063  0.078583  \n",
       "Group_A                       -0.139703  1.000000 -0.775591 -0.578330  \n",
       "Group_B                        0.110063 -0.775591  1.000000 -0.066417  \n",
       "Group_C                        0.078583 -0.578330 -0.066417  1.000000  "
      ]
     },
     "execution_count": 370,
     "metadata": {},
     "output_type": "execute_result"
    }
   ],
   "source": [
    "corr_df = processedTrainingData[['Ticket Price','Working Hours per week', 'Money Received','Years of Education',\n",
    "       'Ticket Price', 'Income', 'Age', 'Education_Class','Group_A', 'Group_B', 'Group_C']].corr()\n",
    "corr_df"
   ]
  },
  {
   "cell_type": "code",
   "execution_count": 371,
   "metadata": {},
   "outputs": [],
   "source": [
    "corr_df = processedTrainingData[['Ticket Price','Working Hours per week', 'Money Received','Years of Education',\n",
    "       'Ticket Price', 'Income', 'Age', 'Education_Class','Group_A', 'Group_B', 'Group_C']].corr()\n",
    "corr_df\n",
    "#High correlation between Ticket Price and Group_C. We can remove one of then\n",
    "#Also high correlation between Years of Education and Education class\n",
    "processedTrainingData = processedTrainingData.drop(['Group_C','Education_Class'],axis=1)"
   ]
  },
  {
   "cell_type": "code",
   "execution_count": 372,
   "metadata": {},
   "outputs": [],
   "source": [
    "corr_df = processedTrainingData.corr()['Income']\n",
    "low_corr_cols =[]\n",
    "for col in list(corr_df.index):\n",
    "    if(np.abs(corr_df[col]) < 0.1):\n",
    "        low_corr_cols.append(col)"
   ]
  },
  {
   "cell_type": "code",
   "execution_count": 373,
   "metadata": {},
   "outputs": [],
   "source": [
    "processedTrainingData = processedTrainingData.drop(low_corr_cols,axis=1)"
   ]
  },
  {
   "cell_type": "markdown",
   "metadata": {},
   "source": [
    "### Outliers"
   ]
  },
  {
   "cell_type": "code",
   "execution_count": 374,
   "metadata": {},
   "outputs": [
    {
     "data": {
      "text/plain": [
       "Years of Education         3.0\n",
       "Working Hours per week     5.0\n",
       "Age                       20.0\n",
       "MStatus_married            1.0\n",
       "MStatus_not_married        1.0\n",
       "Lwith_other                1.0\n",
       "Lwith_spouse               1.0\n",
       "dtype: float64"
      ]
     },
     "execution_count": 374,
     "metadata": {},
     "output_type": "execute_result"
    }
   ],
   "source": [
    "#Outliers\n",
    "Q1 = processedTrainingData.quantile(0.25)\n",
    "Q3 = processedTrainingData.quantile(0.75)\n",
    "IQR = Q3 - Q1\n",
    "IQR = IQR[IQR > 0]\n",
    "IQR"
   ]
  },
  {
   "cell_type": "code",
   "execution_count": 375,
   "metadata": {},
   "outputs": [],
   "source": [
    "IQR = IQR[['Years of Education','Working Hours per week','Age']]\n",
    "processedTrainingData = processedTrainingData[~((processedTrainingData < (Q1 - 1.5 * IQR)) |(processedTrainingData > (Q3 + 1.5 * IQR))).any(axis=1)]"
   ]
  },
  {
   "cell_type": "markdown",
   "metadata": {},
   "source": [
    "### Split Training Data"
   ]
  },
  {
   "cell_type": "code",
   "execution_count": 376,
   "metadata": {},
   "outputs": [],
   "source": [
    "target = 'Income'\n",
    "\n",
    "X = processedTrainingData[[x for x in processedTrainingData.columns if x != target]]\n",
    "y = processedTrainingData[[x for x in processedTrainingData.columns if x == target]]\n",
    "\n",
    "X_train, X_test, y_train, y_test = train_test_split(X,y, test_size=0.3, stratify=y)\n",
    "\n",
    "y_train = y_train.values.ravel()\n",
    "y_test = y_test.values.ravel()"
   ]
  },
  {
   "cell_type": "code",
   "execution_count": 377,
   "metadata": {},
   "outputs": [],
   "source": [
    "# Backup the Source datasets\n",
    "X_train_source = X_train.copy()\n",
    "X_test_source = X_test.copy()\n",
    "y_train_source = y_train.copy()\n",
    "y_test_source = y_test.copy()"
   ]
  },
  {
   "cell_type": "markdown",
   "metadata": {},
   "source": [
    "# MODEL DEFINITION"
   ]
  },
  {
   "cell_type": "code",
   "execution_count": 378,
   "metadata": {},
   "outputs": [],
   "source": [
    "modellog = LogisticRegression(max_iter=1000000)\n",
    "modelKNN = KNeighborsClassifier()\n",
    "modelTree = DecisionTreeClassifier()\n",
    "modelSVC = SVC()\n",
    "modelNAB = GaussianNB()\n",
    "modelRF = RandomForestClassifier()\n",
    "modelGBC = GradientBoostingClassifier()\n",
    "modelAda = AdaBoostClassifier()\n",
    "modelMLP = MLPClassifier(max_iter=500)\n",
    "modelLDA = LinearDiscriminantAnalysis()\n",
    "modelBagging = BaggingClassifier()"
   ]
  },
  {
   "cell_type": "markdown",
   "metadata": {},
   "source": [
    "# Run All Models, without over/under sampling and without scaling"
   ]
  },
  {
   "cell_type": "code",
   "execution_count": 379,
   "metadata": {},
   "outputs": [
    {
     "name": "stdout",
     "output_type": "stream",
     "text": [
      "Running Model: LogisticRegression\n",
      "-- Done. Duration: 54.106624364852905 s\n",
      "Running Model: KNeighborsClassifier\n",
      "-- Done. Duration: 7.940873861312866 s\n",
      "Running Model: DecisionTreeClassifier\n",
      "-- Done. Duration: 0.809551477432251 s\n",
      "Running Model: SVC\n",
      "-- Done. Duration: 50.26394462585449 s\n",
      "Running Model: GaussianNB\n",
      "-- Done. Duration: 0.30767107009887695 s\n",
      "Running Model: RandomForestClassifier\n",
      "-- Done. Duration: 21.18921422958374 s\n",
      "Running Model: GradientBoostingClassifier\n",
      "-- Done. Duration: 20.432403087615967 s\n",
      "Running Model: AdaBoostClassifier\n",
      "-- Done. Duration: 8.874149084091187 s\n",
      "Running Model: LinearDiscriminantAnalysis\n",
      "-- Done. Duration: 0.8451666831970215 s\n",
      "Running Model: BaggingClassifier\n",
      "-- Done. Duration: 4.994716644287109 s\n",
      "GLOBAL DURATION: 169.7688376903534 s\n"
     ]
    },
    {
     "data": {
      "image/png": "[encoded data removed]",
      "text/plain": [
       "<Figure size 1440x720 with 1 Axes>"
      ]
     },
     "metadata": {
      "needs_background": "light"
     },
     "output_type": "display_data"
    }
   ],
   "source": [
    "models = [  modellog,\n",
    "            modelKNN,\n",
    "            modelTree,\n",
    "            modelSVC,\n",
    "            modelNAB,\n",
    "            modelRF,\n",
    "            modelGBC,\n",
    "            modelAda,\n",
    "            #modelMLP, Too slow, will only put it there in the final version\n",
    "            modelLDA,\n",
    "            modelBagging]\n",
    "\n",
    "DEFAULT_res = runModels(models,X_train,y_train,X_test,y_test)"
   ]
  },
  {
   "cell_type": "markdown",
   "metadata": {},
   "source": [
    "## Rebalance Dataset"
   ]
  },
  {
   "cell_type": "code",
   "execution_count": 380,
   "metadata": {},
   "outputs": [
    {
     "name": "stdout",
     "output_type": "stream",
     "text": [
      "Counter({0: 8233, 1: 2734})\n"
     ]
    }
   ],
   "source": [
    "counter = Counter(y_train)\n",
    "print(counter)"
   ]
  },
  {
   "cell_type": "markdown",
   "metadata": {},
   "source": [
    "### Using SMOTE to rebalance dataset"
   ]
  },
  {
   "cell_type": "code",
   "execution_count": 381,
   "metadata": {},
   "outputs": [
    {
     "name": "stdout",
     "output_type": "stream",
     "text": [
      "Counter({0: 8233, 1: 8233})\n"
     ]
    }
   ],
   "source": [
    "oversample = SMOTE()\n",
    "SMOTE_X_train, SMOTE_y_train = oversample.fit_resample(X_train, y_train)\n",
    "counter = Counter(SMOTE_y_train)\n",
    "print(counter)"
   ]
  },
  {
   "cell_type": "code",
   "execution_count": 382,
   "metadata": {},
   "outputs": [
    {
     "name": "stdout",
     "output_type": "stream",
     "text": [
      "Running Model: DecisionTreeClassifier\n",
      "-- Done. Duration: 1.1397109031677246 s\n",
      "Running Model: RandomForestClassifier\n",
      "-- Done. Duration: 28.574435710906982 s\n",
      "Running Model: GradientBoostingClassifier\n",
      "-- Done. Duration: 30.385019063949585 s\n",
      "Running Model: AdaBoostClassifier\n",
      "-- Done. Duration: 12.882578372955322 s\n",
      "GLOBAL DURATION: 72.98174405097961 s\n"
     ]
    },
    {
     "data": {
      "image/png": "[encoded data removed]",
      "text/plain": [
       "<Figure size 1440x720 with 1 Axes>"
      ]
     },
     "metadata": {
      "needs_background": "light"
     },
     "output_type": "display_data"
    }
   ],
   "source": [
    "models = [modelTree,\n",
    "          modelRF,\n",
    "          modelGBC,\n",
    "          modelAda\n",
    "         ]\n",
    "\n",
    "SMOTE_res = runModels(models,SMOTE_X_train,SMOTE_y_train,X_test,y_test)"
   ]
  },
  {
   "cell_type": "markdown",
   "metadata": {},
   "source": [
    "### Using ADASYN to rebalance dataset"
   ]
  },
  {
   "cell_type": "code",
   "execution_count": 383,
   "metadata": {},
   "outputs": [
    {
     "name": "stdout",
     "output_type": "stream",
     "text": [
      "Counter({0: 8233, 1: 7864})\n"
     ]
    }
   ],
   "source": [
    "oversample = ADASYN()\n",
    "ADASYN_X_train, ADASYN_y_train = oversample.fit_resample(X_train, y_train)\n",
    "counter = Counter(ADASYN_y_train)\n",
    "print(counter)"
   ]
  },
  {
   "cell_type": "code",
   "execution_count": 384,
   "metadata": {},
   "outputs": [
    {
     "name": "stdout",
     "output_type": "stream",
     "text": [
      "Running Model: DecisionTreeClassifier\n",
      "-- Done. Duration: 1.2239737510681152 s\n",
      "Running Model: RandomForestClassifier\n",
      "-- Done. Duration: 29.870440244674683 s\n",
      "Running Model: GradientBoostingClassifier\n",
      "-- Done. Duration: 28.34213423728943 s\n",
      "Running Model: AdaBoostClassifier\n",
      "-- Done. Duration: 11.557993650436401 s\n",
      "GLOBAL DURATION: 71.00011444091797 s\n"
     ]
    },
    {
     "data": {
      "image/png": "[encoded data removed]",
      "text/plain": [
       "<Figure size 1440x720 with 1 Axes>"
      ]
     },
     "metadata": {
      "needs_background": "light"
     },
     "output_type": "display_data"
    }
   ],
   "source": [
    "models = [modelTree,\n",
    "          modelRF,\n",
    "          modelGBC,\n",
    "          modelAda\n",
    "         ]\n",
    "\n",
    "ADASYN_res = runModels(models,ADASYN_X_train,ADASYN_y_train,X_test,y_test)"
   ]
  },
  {
   "cell_type": "markdown",
   "metadata": {},
   "source": [
    "### Using Random Under Sampler"
   ]
  },
  {
   "cell_type": "code",
   "execution_count": 385,
   "metadata": {},
   "outputs": [
    {
     "name": "stdout",
     "output_type": "stream",
     "text": [
      "Counter({0: 2734, 1: 2734})\n"
     ]
    }
   ],
   "source": [
    "RUS = RandomUnderSampler()\n",
    "RUS_X_train, RUS_y_train = RUS.fit_resample(X_train, y_train)\n",
    "\n",
    "counter = Counter(RUS_y_train)\n",
    "print(counter)"
   ]
  },
  {
   "cell_type": "code",
   "execution_count": 386,
   "metadata": {},
   "outputs": [
    {
     "name": "stdout",
     "output_type": "stream",
     "text": [
      "Running Model: DecisionTreeClassifier\n",
      "-- Done. Duration: 0.47680020332336426 s\n",
      "Running Model: RandomForestClassifier\n",
      "-- Done. Duration: 12.830326080322266 s\n",
      "Running Model: GradientBoostingClassifier\n",
      "-- Done. Duration: 11.1399827003479 s\n",
      "Running Model: AdaBoostClassifier\n",
      "-- Done. Duration: 5.644926071166992 s\n",
      "GLOBAL DURATION: 30.092035055160522 s\n"
     ]
    },
    {
     "data": {
      "image/png": "[encoded data removed]",
      "text/plain": [
       "<Figure size 1440x720 with 1 Axes>"
      ]
     },
     "metadata": {
      "needs_background": "light"
     },
     "output_type": "display_data"
    }
   ],
   "source": [
    "models = [modelTree,\n",
    "          modelRF,\n",
    "          modelGBC,\n",
    "          modelAda\n",
    "         ]\n",
    "\n",
    "RUS_res = runModels(models,RUS_X_train,RUS_y_train,X_test,y_test)"
   ]
  },
  {
   "cell_type": "markdown",
   "metadata": {},
   "source": [
    "### Using Tomek Links to undersample data"
   ]
  },
  {
   "cell_type": "code",
   "execution_count": 387,
   "metadata": {},
   "outputs": [
    {
     "name": "stdout",
     "output_type": "stream",
     "text": [
      "Counter({0: 8078, 1: 2734})\n"
     ]
    }
   ],
   "source": [
    "from imblearn.under_sampling import TomekLinks\n",
    "\n",
    "TKL = TomekLinks()\n",
    "TKL_X_train, TKL_y_train = TKL.fit_resample(X_train, y_train)\n",
    "\n",
    "counter = Counter(TKL_y_train)\n",
    "print(counter)"
   ]
  },
  {
   "cell_type": "code",
   "execution_count": 388,
   "metadata": {},
   "outputs": [
    {
     "name": "stdout",
     "output_type": "stream",
     "text": [
      "Running Model: DecisionTreeClassifier\n",
      "-- Done. Duration: 0.7868330478668213 s\n",
      "Running Model: RandomForestClassifier\n",
      "-- Done. Duration: 21.043501138687134 s\n",
      "Running Model: GradientBoostingClassifier\n",
      "-- Done. Duration: 20.286914587020874 s\n",
      "Running Model: AdaBoostClassifier\n",
      "-- Done. Duration: 8.676424264907837 s\n",
      "GLOBAL DURATION: 50.793673038482666 s\n"
     ]
    },
    {
     "data": {
      "image/png": "[encoded data removed]",
      "text/plain": [
       "<Figure size 1440x720 with 1 Axes>"
      ]
     },
     "metadata": {
      "needs_background": "light"
     },
     "output_type": "display_data"
    }
   ],
   "source": [
    "models = [modelTree,\n",
    "          modelRF,\n",
    "          modelGBC,\n",
    "          modelAda\n",
    "         ]\n",
    "\n",
    "TKL_res = runModels(models,TKL_X_train,TKL_y_train,X_test,y_test)"
   ]
  },
  {
   "cell_type": "markdown",
   "metadata": {},
   "source": [
    "### Using NearMiss to undersample data"
   ]
  },
  {
   "cell_type": "code",
   "execution_count": 389,
   "metadata": {},
   "outputs": [
    {
     "name": "stdout",
     "output_type": "stream",
     "text": [
      "Counter({0: 6602, 1: 2734})\n"
     ]
    }
   ],
   "source": [
    "from imblearn.under_sampling import AllKNN\n",
    "\n",
    "NM = AllKNN()\n",
    "NM_X_train, NM_y_train = NM.fit_resample(X_train, y_train)\n",
    "\n",
    "counter = Counter(NM_y_train)\n",
    "print(counter)"
   ]
  },
  {
   "cell_type": "code",
   "execution_count": 390,
   "metadata": {},
   "outputs": [
    {
     "name": "stdout",
     "output_type": "stream",
     "text": [
      "Running Model: DecisionTreeClassifier\n",
      "-- Done. Duration: 0.6979143619537354 s\n",
      "Running Model: RandomForestClassifier\n",
      "-- Done. Duration: 16.760032176971436 s\n",
      "Running Model: GradientBoostingClassifier\n",
      "-- Done. Duration: 17.53488826751709 s\n",
      "Running Model: AdaBoostClassifier\n",
      "-- Done. Duration: 7.535423278808594 s\n",
      "GLOBAL DURATION: 42.528258085250854 s\n"
     ]
    },
    {
     "data": {
      "image/png": "[encoded data removed]",
      "text/plain": [
       "<Figure size 1440x720 with 1 Axes>"
      ]
     },
     "metadata": {
      "needs_background": "light"
     },
     "output_type": "display_data"
    }
   ],
   "source": [
    "models = [modelTree,\n",
    "          modelRF,\n",
    "          modelGBC,\n",
    "          modelAda\n",
    "         ]\n",
    "\n",
    "NM_res = runModels(models,NM_X_train,NM_y_train,X_test,y_test)"
   ]
  },
  {
   "cell_type": "markdown",
   "metadata": {},
   "source": [
    "### Choose 1 method"
   ]
  },
  {
   "cell_type": "code",
   "execution_count": 391,
   "metadata": {},
   "outputs": [],
   "source": [
    "X_train = TKL_X_train\n",
    "y_train = TKL_y_train"
   ]
  },
  {
   "cell_type": "markdown",
   "metadata": {},
   "source": [
    "## Data Scaling"
   ]
  },
  {
   "cell_type": "markdown",
   "metadata": {},
   "source": [
    "### StandardScaler"
   ]
  },
  {
   "cell_type": "code",
   "execution_count": 392,
   "metadata": {},
   "outputs": [],
   "source": [
    "scaler = StandardScaler()\n",
    "SScale_X_train = scaler.fit_transform(X_train)\n",
    "SScale_X_test = scaler.fit_transform(X_test)\n",
    "SScale_y_train = y_train\n",
    "SScale_y_test = y_test"
   ]
  },
  {
   "cell_type": "code",
   "execution_count": 393,
   "metadata": {},
   "outputs": [
    {
     "name": "stdout",
     "output_type": "stream",
     "text": [
      "Running Model: DecisionTreeClassifier\n",
      "-- Done. Duration: 0.7134733200073242 s\n",
      "Running Model: RandomForestClassifier\n",
      "-- Done. Duration: 20.877394437789917 s\n",
      "Running Model: GradientBoostingClassifier\n",
      "-- Done. Duration: 21.043076276779175 s\n",
      "Running Model: AdaBoostClassifier\n",
      "-- Done. Duration: 8.770240068435669 s\n",
      "GLOBAL DURATION: 51.404184103012085 s\n"
     ]
    },
    {
     "data": {
      "image/png": "[encoded data removed]",
      "text/plain": [
       "<Figure size 1440x720 with 1 Axes>"
      ]
     },
     "metadata": {
      "needs_background": "light"
     },
     "output_type": "display_data"
    }
   ],
   "source": [
    "models = [modelTree,\n",
    "          modelRF,\n",
    "          modelGBC,\n",
    "          modelAda\n",
    "         ]\n",
    "\n",
    "SScaler_res = runModels(models,SScale_X_train,SScale_y_train,SScale_X_test,SScale_y_test)"
   ]
  },
  {
   "cell_type": "markdown",
   "metadata": {},
   "source": [
    "### MinMax 0:1"
   ]
  },
  {
   "cell_type": "code",
   "execution_count": 394,
   "metadata": {},
   "outputs": [],
   "source": [
    "min_max_0_1 = MinMaxScaler(feature_range=(0, 1))\n",
    "MinMaxScaler_01_X_train = min_max_0_1.fit_transform(X_train)\n",
    "MinMaxScaler_01_X_test = min_max_0_1.fit_transform(X_test)\n",
    "MinMaxScaler_01_y_train = y_train\n",
    "MinMaxScaler_01_y_test = y_test"
   ]
  },
  {
   "cell_type": "code",
   "execution_count": 395,
   "metadata": {},
   "outputs": [
    {
     "name": "stdout",
     "output_type": "stream",
     "text": [
      "Running Model: DecisionTreeClassifier\n",
      "-- Done. Duration: 0.7367198467254639 s\n",
      "Running Model: RandomForestClassifier\n",
      "-- Done. Duration: 20.83992862701416 s\n",
      "Running Model: GradientBoostingClassifier\n",
      "-- Done. Duration: 20.78034281730652 s\n",
      "Running Model: AdaBoostClassifier\n",
      "-- Done. Duration: 8.628770589828491 s\n",
      "GLOBAL DURATION: 50.99408769607544 s\n"
     ]
    },
    {
     "data": {
      "image/png": "[encoded data removed]",
      "text/plain": [
       "<Figure size 1440x720 with 1 Axes>"
      ]
     },
     "metadata": {
      "needs_background": "light"
     },
     "output_type": "display_data"
    }
   ],
   "source": [
    "models = [modelTree,\n",
    "          modelRF,\n",
    "          modelGBC,\n",
    "          modelAda\n",
    "         ]\n",
    "\n",
    "MinMaxScaler_01_res = runModels(models,MinMaxScaler_01_X_train,MinMaxScaler_01_y_train,MinMaxScaler_01_X_test,MinMaxScaler_01_y_test)"
   ]
  },
  {
   "cell_type": "markdown",
   "metadata": {},
   "source": [
    "### MinMax -1:1"
   ]
  },
  {
   "cell_type": "code",
   "execution_count": 396,
   "metadata": {},
   "outputs": [],
   "source": [
    "min_max_1_1 = MinMaxScaler(feature_range=(-1, 1))\n",
    "MinMaxScaler_11_X_train = min_max_1_1.fit_transform(X_train)\n",
    "MinMaxScaler_11_X_test = min_max_1_1.fit_transform(X_test)\n",
    "MinMaxScaler_11_y_train = y_train\n",
    "MinMaxScaler_11_y_test = y_test"
   ]
  },
  {
   "cell_type": "code",
   "execution_count": 397,
   "metadata": {},
   "outputs": [
    {
     "name": "stdout",
     "output_type": "stream",
     "text": [
      "Running Model: DecisionTreeClassifier\n",
      "-- Done. Duration: 0.7651853561401367 s\n",
      "Running Model: RandomForestClassifier\n",
      "-- Done. Duration: 20.416604042053223 s\n",
      "Running Model: GradientBoostingClassifier\n",
      "-- Done. Duration: 20.800224781036377 s\n",
      "Running Model: AdaBoostClassifier\n",
      "-- Done. Duration: 8.719773530960083 s\n",
      "GLOBAL DURATION: 50.70487451553345 s\n"
     ]
    },
    {
     "data": {
      "image/png": "[encoded data removed]",
      "text/plain": [
       "<Figure size 1440x720 with 1 Axes>"
      ]
     },
     "metadata": {
      "needs_background": "light"
     },
     "output_type": "display_data"
    }
   ],
   "source": [
    "models = [modelTree,\n",
    "          modelRF,\n",
    "          modelGBC,\n",
    "          modelAda\n",
    "         ]\n",
    "\n",
    "MinMaxScaler_11_res = runModels(models,MinMaxScaler_11_X_train,MinMaxScaler_11_y_train,MinMaxScaler_11_X_test,MinMaxScaler_11_y_test)"
   ]
  },
  {
   "cell_type": "markdown",
   "metadata": {},
   "source": [
    "### RobustScaler"
   ]
  },
  {
   "cell_type": "code",
   "execution_count": 398,
   "metadata": {},
   "outputs": [],
   "source": [
    "robust_scaler = RobustScaler()\n",
    "RobScaler_X_train = robust_scaler.fit_transform(X_train)\n",
    "RobScaler_X_test = robust_scaler.fit_transform(X_test)\n",
    "RobScaler_y_train = y_train\n",
    "RobScaler_y_test = y_test"
   ]
  },
  {
   "cell_type": "code",
   "execution_count": 399,
   "metadata": {},
   "outputs": [
    {
     "name": "stdout",
     "output_type": "stream",
     "text": [
      "Running Model: DecisionTreeClassifier\n",
      "-- Done. Duration: 0.7203896045684814 s\n",
      "Running Model: RandomForestClassifier\n",
      "-- Done. Duration: 22.507737398147583 s\n",
      "Running Model: GradientBoostingClassifier\n",
      "-- Done. Duration: 22.57798433303833 s\n",
      "Running Model: AdaBoostClassifier\n",
      "-- Done. Duration: 9.519072532653809 s\n",
      "GLOBAL DURATION: 55.33199143409729 s\n"
     ]
    },
    {
     "data": {
      "image/png": "[encoded data removed]",
      "text/plain": [
       "<Figure size 1440x720 with 1 Axes>"
      ]
     },
     "metadata": {
      "needs_background": "light"
     },
     "output_type": "display_data"
    }
   ],
   "source": [
    "models = [modelTree,\n",
    "          modelRF,\n",
    "          modelGBC,\n",
    "          modelAda\n",
    "         ]\n",
    "\n",
    "RobScaler_res = runModels(models,RobScaler_X_train,RobScaler_y_train,RobScaler_X_test,RobScaler_y_test)"
   ]
  },
  {
   "cell_type": "code",
   "execution_count": 400,
   "metadata": {},
   "outputs": [],
   "source": [
    "# Choosing one:\n",
    "X_train = MinMaxScaler_11_X_train\n",
    "y_train = MinMaxScaler_11_y_train\n",
    "X_test = MinMaxScaler_11_X_test\n",
    "y_test = MinMaxScaler_11_y_test"
   ]
  },
  {
   "cell_type": "markdown",
   "metadata": {},
   "source": [
    "## Feature Selection\n",
    "In this section, we will eliminate noise from the model."
   ]
  },
  {
   "cell_type": "code",
   "execution_count": 401,
   "metadata": {},
   "outputs": [
    {
     "data": {
      "text/plain": [
       "[0, 1, 2, 3, 4, 13]"
      ]
     },
     "execution_count": 401,
     "metadata": {},
     "output_type": "execute_result"
    }
   ],
   "source": [
    "from itertools import compress\n",
    "select = SelectFromModel(modelTree, threshold='mean',prefit=True)\n",
    "feature_index = [i for i in range(MinMaxScaler_11_X_train.shape[1])]\n",
    "features = list(compress(feature_index, select.get_support())) \n",
    "features"
   ]
  },
  {
   "cell_type": "code",
   "execution_count": 402,
   "metadata": {},
   "outputs": [
    {
     "data": {
      "text/plain": [
       "19"
      ]
     },
     "execution_count": 402,
     "metadata": {},
     "output_type": "execute_result"
    }
   ],
   "source": [
    "len(processedTrainingData.columns)"
   ]
  },
  {
   "cell_type": "code",
   "execution_count": 403,
   "metadata": {},
   "outputs": [
    {
     "data": {
      "text/plain": [
       "<matplotlib.axes._subplots.AxesSubplot at 0x1f65c246f70>"
      ]
     },
     "execution_count": 403,
     "metadata": {},
     "output_type": "execute_result"
    },
    {
     "data": {
      "image/png": "[encoded data removed]",
      "text/plain": [
       "<Figure size 1080x576 with 1 Axes>"
      ]
     },
     "metadata": {
      "needs_background": "light"
     },
     "output_type": "display_data"
    }
   ],
   "source": [
    "import seaborn as sns\n",
    "columns = processedTrainingData.columns\n",
    "zippy = pd.DataFrame(modelTree.feature_importances_, columns = ['gini'])\n",
    "zippy['col'] = X.columns\n",
    "tidy = zippy.melt(id_vars='col').rename(columns=str.title)\n",
    "tidy.sort_values(['Value'], ascending = False, inplace = True)\n",
    "\n",
    "plt.figure(figsize=(15,8))\n",
    "sns.barplot(y='Col', x='Value', hue='Variable', data=tidy)"
   ]
  },
  {
   "cell_type": "code",
   "execution_count": 410,
   "metadata": {},
   "outputs": [
    {
     "name": "stdout",
     "output_type": "stream",
     "text": [
      "Running Model: DecisionTreeClassifier\n",
      "-- Done. Duration: 0.45949673652648926 s\n",
      "Running Model: RandomForestClassifier\n",
      "-- Done. Duration: 19.838000297546387 s\n",
      "Running Model: GradientBoostingClassifier\n",
      "-- Done. Duration: 15.274571895599365 s\n",
      "Running Model: AdaBoostClassifier\n",
      "-- Done. Duration: 7.7294464111328125 s\n",
      "GLOBAL DURATION: 43.304691791534424 s\n"
     ]
    },
    {
     "data": {
      "image/png": "[encoded data removed]",
      "text/plain": [
       "<Figure size 1440x720 with 1 Axes>"
      ]
     },
     "metadata": {
      "needs_background": "light"
     },
     "output_type": "display_data"
    }
   ],
   "source": [
    "Selected_X_train = MinMaxScaler_11_X_train[:,features]\n",
    "Selected_X_test = MinMaxScaler_11_X_test[:,features]\n",
    "Selected_y_train = MinMaxScaler_11_y_train\n",
    "Selected_y_Test = MinMaxScaler_11_y_test\n",
    "\n",
    "\n",
    "MinMaxScaler_11_res = runModels(models,Selected_X_train,Selected_y_train,Selected_X_test,Selected_y_Test)"
   ]
  },
  {
   "cell_type": "code",
   "execution_count": 405,
   "metadata": {},
   "outputs": [],
   "source": [
    "X_train = Selected_X_train\n",
    "X_test = Selected_X_test\n",
    "y_train = Selected_y_train\n",
    "y_test = Selected_y_Test"
   ]
  },
  {
   "cell_type": "markdown",
   "metadata": {},
   "source": [
    "### Hyperpatameterization"
   ]
  },
  {
   "cell_type": "code",
   "execution_count": 406,
   "metadata": {},
   "outputs": [],
   "source": [
    "hyperopt_X_train = X_train\n",
    "hyperopt_y_train = y_train\n",
    "hyperopt_X_test = X_test\n",
    "hyperopt_y_test = y_test"
   ]
  },
  {
   "cell_type": "code",
   "execution_count": 407,
   "metadata": {},
   "outputs": [
    {
     "data": {
      "text/plain": [
       "GridSearchCV(cv=5, estimator=RandomForestClassifier(),\n",
       "             param_grid={'criterion': ['gini', 'entropy'],\n",
       "                         'max_depth': [4, 5, 6, 7, 8],\n",
       "                         'max_features': ['auto', 'sqrt', 'log2'],\n",
       "                         'n_estimators': [10, 20, 30, 100]})"
      ]
     },
     "execution_count": 407,
     "metadata": {},
     "output_type": "execute_result"
    }
   ],
   "source": [
    "from sklearn.model_selection import GridSearchCV\n",
    "from sklearn.pipeline import Pipeline\n",
    "# Create a pipeline\n",
    "param_grid =  {   'n_estimators': [10, 20,30,100],\n",
    "                 'max_depth' : [4,5,6,7,8],\n",
    "                  'criterion' :['gini', 'entropy'],\n",
    "                 'max_features': ['auto', 'sqrt', 'log2']}\n",
    "CV_rfc = GridSearchCV(estimator=modelRF, param_grid=param_grid, cv= 5)\n",
    "\n",
    "CV_rfc.fit(hyperopt_X_train, hyperopt_y_train)\n"
   ]
  },
  {
   "cell_type": "code",
   "execution_count": 352,
   "metadata": {},
   "outputs": [
    {
     "data": {
      "text/plain": [
       "{'criterion': 'gini',\n",
       " 'max_depth': 8,\n",
       " 'max_features': 'sqrt',\n",
       " 'n_estimators': 100}"
      ]
     },
     "execution_count": 352,
     "metadata": {},
     "output_type": "execute_result"
    }
   ],
   "source": [
    "CV_rfc.best_params_"
   ]
  },
  {
   "cell_type": "code",
   "execution_count": 427,
   "metadata": {},
   "outputs": [
    {
     "data": {
      "text/plain": [
       "RandomForestClassifier(max_depth=8, max_features='sqrt')"
      ]
     },
     "execution_count": 427,
     "metadata": {},
     "output_type": "execute_result"
    }
   ],
   "source": [
    "modelRF = RandomForestClassifier(criterion='gini', max_depth=8, max_features='sqrt', n_estimators=100)\n",
    "modelRF.fit(hyperopt_X_train, hyperopt_y_train)"
   ]
  },
  {
   "cell_type": "code",
   "execution_count": 408,
   "metadata": {},
   "outputs": [
    {
     "name": "stderr",
     "output_type": "stream",
     "text": [
      "C:\\ProgramData\\Anaconda3\\lib\\site-packages\\sklearn\\model_selection\\_search.py:847: FutureWarning: The parameter 'iid' is deprecated in 0.22 and will be removed in 0.24.\n",
      "  warnings.warn(\n"
     ]
    },
    {
     "data": {
      "text/plain": [
       "GridSearchCV(cv=5,\n",
       "             estimator=GradientBoostingClassifier(max_depth=8,\n",
       "                                                  max_features='sqrt',\n",
       "                                                  min_samples_leaf=50,\n",
       "                                                  min_samples_split=500,\n",
       "                                                  random_state=10,\n",
       "                                                  subsample=0.8),\n",
       "             iid=False, n_jobs=4,\n",
       "             param_grid={'n_estimators': range(20, 81, 10)},\n",
       "             scoring='f1_micro')"
      ]
     },
     "execution_count": 408,
     "metadata": {},
     "output_type": "execute_result"
    }
   ],
   "source": [
    "param_test1 = {'n_estimators':range(20,81,10)}\n",
    "gsearch1 = GridSearchCV(estimator = GradientBoostingClassifier(learning_rate=0.1, min_samples_split=500,min_samples_leaf=50,max_depth=8,max_features='sqrt',subsample=0.8,random_state=10), \n",
    "param_grid = param_test1, scoring='f1_micro',n_jobs=4,iid=False, cv=5)\n",
    "gsearch1.fit(hyperopt_X_train, hyperopt_y_train)"
   ]
  },
  {
   "cell_type": "code",
   "execution_count": 412,
   "metadata": {},
   "outputs": [
    {
     "data": {
      "text/plain": [
       "({'n_estimators': 80}, 0.849148127857162)"
      ]
     },
     "execution_count": 412,
     "metadata": {},
     "output_type": "execute_result"
    }
   ],
   "source": [
    " gsearch1.best_params_, gsearch1.best_score_"
   ]
  },
  {
   "cell_type": "code",
   "execution_count": 415,
   "metadata": {},
   "outputs": [
    {
     "name": "stderr",
     "output_type": "stream",
     "text": [
      "C:\\ProgramData\\Anaconda3\\lib\\site-packages\\sklearn\\model_selection\\_search.py:847: FutureWarning: The parameter 'iid' is deprecated in 0.22 and will be removed in 0.24.\n",
      "  warnings.warn(\n"
     ]
    },
    {
     "data": {
      "text/plain": [
       "GridSearchCV(cv=5,\n",
       "             estimator=GradientBoostingClassifier(max_features='sqrt',\n",
       "                                                  n_estimators=80,\n",
       "                                                  random_state=10,\n",
       "                                                  subsample=0.8),\n",
       "             iid=False, n_jobs=4,\n",
       "             param_grid={'max_depth': range(5, 16, 2),\n",
       "                         'min_samples_split': range(200, 1001, 200)},\n",
       "             scoring='f1_micro')"
      ]
     },
     "execution_count": 415,
     "metadata": {},
     "output_type": "execute_result"
    }
   ],
   "source": [
    "param_test2 = {'max_depth':range(5,16,2), 'min_samples_split':range(200,1001,200)}\n",
    "gsearch2 = GridSearchCV(estimator = GradientBoostingClassifier(learning_rate=0.1, n_estimators=80, max_features='sqrt', subsample=0.8, random_state=10), \n",
    "param_grid = param_test2, scoring='f1_micro',n_jobs=4,iid=False, cv=5)\n",
    "gsearch2.fit(hyperopt_X_train, hyperopt_y_train)"
   ]
  },
  {
   "cell_type": "code",
   "execution_count": 416,
   "metadata": {},
   "outputs": [
    {
     "data": {
      "text/plain": [
       "({'max_depth': 13, 'min_samples_split': 800}, 0.8562698790481408)"
      ]
     },
     "execution_count": 416,
     "metadata": {},
     "output_type": "execute_result"
    }
   ],
   "source": [
    " gsearch2.best_params_, gsearch2.best_score_"
   ]
  },
  {
   "cell_type": "code",
   "execution_count": 418,
   "metadata": {},
   "outputs": [
    {
     "name": "stderr",
     "output_type": "stream",
     "text": [
      "C:\\ProgramData\\Anaconda3\\lib\\site-packages\\sklearn\\model_selection\\_search.py:847: FutureWarning: The parameter 'iid' is deprecated in 0.22 and will be removed in 0.24.\n",
      "  warnings.warn(\n"
     ]
    },
    {
     "data": {
      "text/plain": [
       "({'min_samples_leaf': 30, 'min_samples_split': 1000}, 0.9059391419985555)"
      ]
     },
     "execution_count": 418,
     "metadata": {},
     "output_type": "execute_result"
    }
   ],
   "source": [
    "param_test3 = {'min_samples_split':range(1000,2100,200), 'min_samples_leaf':range(30,71,10)}\n",
    "gsearch3 = GridSearchCV(estimator = GradientBoostingClassifier(learning_rate=0.1, n_estimators=80,max_depth=13,max_features='sqrt', subsample=0.8, random_state=10), \n",
    "param_grid = param_test3, scoring='f1_micro',n_jobs=4, cv=5)\n",
    "gsearch3.fit(hyperopt_X_train, hyperopt_y_train)\n",
    "gsearch3.best_params_, gsearch3.best_score_"
   ]
  },
  {
   "cell_type": "code",
   "execution_count": 423,
   "metadata": {},
   "outputs": [
    {
     "data": {
      "text/plain": [
       "({'subsample': 0.9}, 0.8543277893322351)"
      ]
     },
     "execution_count": 423,
     "metadata": {},
     "output_type": "execute_result"
    }
   ],
   "source": [
    "param_test5 = {'subsample':[0.6,0.7,0.75,0.8,0.85,0.9]}\n",
    "gsearch5 = GridSearchCV(estimator = GradientBoostingClassifier(learning_rate=0.1,max_features='sqrt', n_estimators=80,max_depth=13, min_samples_split=1000, min_samples_leaf=30, random_state=10),\n",
    "param_grid = param_test5, scoring='f1_micro',n_jobs=4, cv=5)\n",
    "gsearch5.fit(hyperopt_X_train, hyperopt_y_train)\n",
    "gsearch5.best_params_, gsearch5.best_score_"
   ]
  },
  {
   "cell_type": "code",
   "execution_count": 425,
   "metadata": {},
   "outputs": [
    {
     "data": {
      "text/plain": [
       "GradientBoostingClassifier(max_depth=13, max_features='sqrt',\n",
       "                           min_samples_leaf=30, min_samples_split=1000,\n",
       "                           n_estimators=80, random_state=10, subsample=0.9)"
      ]
     },
     "execution_count": 425,
     "metadata": {},
     "output_type": "execute_result"
    }
   ],
   "source": [
    "modelGB =  GradientBoostingClassifier(learning_rate=0.1,subsample=0.9,max_features='sqrt', n_estimators=80,max_depth=13, min_samples_split=1000, min_samples_leaf=30, random_state=10)\n",
    "modelGB.fit(hyperopt_X_train, hyperopt_y_train)"
   ]
  },
  {
   "cell_type": "code",
   "execution_count": 443,
   "metadata": {},
   "outputs": [],
   "source": [
    "modelGB = GradientBoostingClassifier(min_samples_leaf= 30, min_samples_split= 1000,learning_rate=0.1, n_estimators=80,max_depth=13,max_features='sqrt', subsample=0.8, random_state=10) \n"
   ]
  },
  {
   "cell_type": "code",
   "execution_count": 444,
   "metadata": {},
   "outputs": [
    {
     "name": "stdout",
     "output_type": "stream",
     "text": [
      "Running Model: GradientBoostingClassifier\n",
      "-- Done. Duration: 13.726586103439331 s\n",
      "Running Model: RandomForestClassifier\n",
      "-- Done. Duration: 13.655587911605835 s\n",
      "GLOBAL DURATION: 27.384777069091797 s\n"
     ]
    },
    {
     "data": {
      "image/png": "[encoded data removed]",
      "text/plain": [
       "<Figure size 1440x720 with 1 Axes>"
      ]
     },
     "metadata": {
      "needs_background": "light"
     },
     "output_type": "display_data"
    }
   ],
   "source": [
    "models = [modelGB,modelRF]\n",
    "hyper_res = runModels(models,hyperopt_X_train,hyperopt_y_train,hyperopt_X_test,hyperopt_y_test)"
   ]
  },
  {
   "cell_type": "code",
   "execution_count": 106,
   "metadata": {},
   "outputs": [],
   "source": [
    "def f1w_GBC(space):\n",
    "    \n",
    "    classifier = GradientBoostingClassifier(\n",
    "        min_samples_split = space['min_samples_split'],\n",
    "        min_samples_leaf = space['min_samples_leaf'],\n",
    "        max_depth = space['max_depth'],\n",
    "        learning_rate = space['learning_rate'],\n",
    "        n_estimators = space['n_estimators'],\n",
    "        subsample = space['subsample']\n",
    "    )\n",
    "\n",
    "    classifier.fit(hyperopt_X_train, hyperopt_y_train)\n",
    "    scores = cross_val_score(estimator = classifier, \n",
    "                             X = hyperopt_X_train, \n",
    "                             y = hyperopt_y_train, \n",
    "                             cv = 10, \n",
    "                             scoring = ('f1_weighted'))\n",
    "    \n",
    "    CrossValMean = scores.mean()\n",
    "  \n",
    "    return{'loss':1-CrossValMean, 'status': STATUS_OK }"
   ]
  },
  {
   "cell_type": "code",
   "execution_count": 107,
   "metadata": {},
   "outputs": [],
   "source": [
    "def f1w_RFC(space):\n",
    "    print(\"To be done.\")"
   ]
  },
  {
   "cell_type": "code",
   "execution_count": 108,
   "metadata": {},
   "outputs": [],
   "source": [
    "spaceGBC = {        \n",
    "            'min_samples_split' : hp.uniform('min_samples_split', 0.1, 1),\n",
    "            'min_samples_leaf' : hp.uniform('min_samples_leaf', 0.1, 0.5),\n",
    "            'max_depth' : hp.choice('max_depth', np.arange(2, 50, 1)),\n",
    "            'learning_rate' : hp.uniform('learning_rate', 0.01, 0.5),\n",
    "            'n_estimators' : hp.choice('n_estimators', np.arange(1, 200, 5)),\n",
    "            'subsample' : hp.uniform('subsample', 0.1, 1)\n",
    "        }"
   ]
  },
  {
   "cell_type": "code",
   "execution_count": 112,
   "metadata": {},
   "outputs": [
    {
     "name": "stdout",
     "output_type": "stream",
     "text": [
      "100%|█████████████████████████████████████████████| 200/200 [11:43<00:00,  3.52s/trial, best loss: 0.17167618842550492]\n",
      "Best:  {'learning_rate': 0.17866169892213574, 'max_depth': 13, 'min_samples_leaf': 0.10073732835867602, 'min_samples_split': 0.2715494087089211, 'n_estimators': 7, 'subsample': 0.8022170062139031}\n",
      "--- 703.9024379253387 seconds ---\n"
     ]
    }
   ],
   "source": [
    "start_time = time.time()\n",
    "\n",
    "best = fmin(fn=f1w_GBC\n",
    "          , space=spaceGBC\n",
    "          , algo=tpe.suggest\n",
    "          , max_evals=200 # we need to increase this further\n",
    "          , trials=Trials()\n",
    "          , verbose = True)\n",
    "print(\"Best: \", best)\n",
    "print(\"--- %s seconds ---\" % (time.time() - start_time))"
   ]
  },
  {
   "cell_type": "code",
   "execution_count": 113,
   "metadata": {},
   "outputs": [],
   "source": [
    "model_GBC_hyperopt = GradientBoostingClassifier(\n",
    "                        min_samples_split = best['min_samples_split'],\n",
    "                        min_samples_leaf = best['min_samples_leaf'],\n",
    "                        max_depth = best['max_depth'],\n",
    "                        learning_rate = best['learning_rate'],\n",
    "                        n_estimators = best['n_estimators'],\n",
    "                        subsample = best['subsample']\n",
    "                    )"
   ]
  },
  {
   "cell_type": "code",
   "execution_count": 428,
   "metadata": {},
   "outputs": [
    {
     "ename": "NameError",
     "evalue": "name 'model_GBC_hyperopt' is not defined",
     "output_type": "error",
     "traceback": [
      "\u001b[1;31m---------------------------------------------------------------------------\u001b[0m",
      "\u001b[1;31mNameError\u001b[0m                                 Traceback (most recent call last)",
      "\u001b[1;32m<ipython-input-428-fc70a267dd8a>\u001b[0m in \u001b[0;36m<module>\u001b[1;34m\u001b[0m\n\u001b[1;32m----> 1\u001b[1;33m \u001b[0mmodels\u001b[0m \u001b[1;33m=\u001b[0m \u001b[1;33m[\u001b[0m\u001b[0mmodel_GBC_hyperopt\u001b[0m\u001b[1;33m,\u001b[0m\u001b[0mmodelRF\u001b[0m\u001b[1;33m]\u001b[0m\u001b[1;33m\u001b[0m\u001b[1;33m\u001b[0m\u001b[0m\n\u001b[0m\u001b[0;32m      2\u001b[0m \u001b[1;33m\u001b[0m\u001b[0m\n\u001b[0;32m      3\u001b[0m \u001b[0mRobScaler_res\u001b[0m \u001b[1;33m=\u001b[0m \u001b[0mrunModels\u001b[0m\u001b[1;33m(\u001b[0m\u001b[0mmodels\u001b[0m\u001b[1;33m,\u001b[0m\u001b[0mhyperopt_X_train\u001b[0m\u001b[1;33m,\u001b[0m\u001b[0mhyperopt_y_train\u001b[0m\u001b[1;33m,\u001b[0m\u001b[0mhyperopt_X_test\u001b[0m\u001b[1;33m,\u001b[0m\u001b[0mhyperopt_y_test\u001b[0m\u001b[1;33m)\u001b[0m\u001b[1;33m\u001b[0m\u001b[1;33m\u001b[0m\u001b[0m\n",
      "\u001b[1;31mNameError\u001b[0m: name 'model_GBC_hyperopt' is not defined"
     ]
    }
   ],
   "source": [
    "models = [model_GBC_hyperopt,modelRF]\n",
    "\n",
    "RobScaler_res = runModels(models,hyperopt_X_train,hyperopt_y_train,hyperopt_X_test,hyperopt_y_test)"
   ]
  },
  {
   "cell_type": "code",
   "execution_count": 432,
   "metadata": {},
   "outputs": [],
   "source": [
    "# Choose a model here, so that the next step is always consistent\n",
    "MODEL_CHOSEN = modelGB"
   ]
  },
  {
   "cell_type": "markdown",
   "metadata": {},
   "source": [
    "## Produce File for Submission"
   ]
  },
  {
   "cell_type": "code",
   "execution_count": 430,
   "metadata": {},
   "outputs": [],
   "source": [
    "prepped_data_submission = DataPreProcessing(data_test)\n",
    "prepped_data_submission = AlignDataframe(X_train_source.columns,prepped_data_submission)\n",
    "\n",
    "Scaled_Submission_Data = pd.DataFrame(min_max_1_1.transform(prepped_data_submission), \n",
    "                                      index=prepped_data_submission.index, \n",
    "                                      columns=prepped_data_submission.columns)"
   ]
  },
  {
   "cell_type": "code",
   "execution_count": 431,
   "metadata": {},
   "outputs": [
    {
     "data": {
      "text/html": [
       "<div>\n",
       "<style scoped>\n",
       "    .dataframe tbody tr th:only-of-type {\n",
       "        vertical-align: middle;\n",
       "    }\n",
       "\n",
       "    .dataframe tbody tr th {\n",
       "        vertical-align: top;\n",
       "    }\n",
       "\n",
       "    .dataframe thead th {\n",
       "        text-align: right;\n",
       "    }\n",
       "</style>\n",
       "<table border=\"1\" class=\"dataframe\">\n",
       "  <thead>\n",
       "    <tr style=\"text-align: right;\">\n",
       "      <th></th>\n",
       "      <th>Years of Education</th>\n",
       "      <th>Working Hours per week</th>\n",
       "      <th>Money Received</th>\n",
       "      <th>Ticket Price</th>\n",
       "      <th>Age</th>\n",
       "      <th>Role_management</th>\n",
       "      <th>Role_other services</th>\n",
       "      <th>Role_professor</th>\n",
       "      <th>MStatus_married</th>\n",
       "      <th>MStatus_not_married</th>\n",
       "      <th>Lwith_alone</th>\n",
       "      <th>Lwith_children</th>\n",
       "      <th>Lwith_other</th>\n",
       "      <th>Lwith_spouse</th>\n",
       "      <th>Sector_private</th>\n",
       "      <th>Sector_self</th>\n",
       "      <th>Group_A</th>\n",
       "      <th>Group_B</th>\n",
       "    </tr>\n",
       "    <tr>\n",
       "      <th>CITIZEN_ID</th>\n",
       "      <th></th>\n",
       "      <th></th>\n",
       "      <th></th>\n",
       "      <th></th>\n",
       "      <th></th>\n",
       "      <th></th>\n",
       "      <th></th>\n",
       "      <th></th>\n",
       "      <th></th>\n",
       "      <th></th>\n",
       "      <th></th>\n",
       "      <th></th>\n",
       "      <th></th>\n",
       "      <th></th>\n",
       "      <th></th>\n",
       "      <th></th>\n",
       "      <th></th>\n",
       "      <th></th>\n",
       "    </tr>\n",
       "  </thead>\n",
       "  <tbody>\n",
       "    <tr>\n",
       "      <th>34886</th>\n",
       "      <td>0.6</td>\n",
       "      <td>-0.263158</td>\n",
       "      <td>-1.000000</td>\n",
       "      <td>-1.000000</td>\n",
       "      <td>-0.377049</td>\n",
       "      <td>-1.0</td>\n",
       "      <td>-1.0</td>\n",
       "      <td>-1.0</td>\n",
       "      <td>1.0</td>\n",
       "      <td>-1.0</td>\n",
       "      <td>-1.0</td>\n",
       "      <td>-1.0</td>\n",
       "      <td>-1.0</td>\n",
       "      <td>1.0</td>\n",
       "      <td>1.0</td>\n",
       "      <td>-1.0</td>\n",
       "      <td>1.0</td>\n",
       "      <td>-1.0</td>\n",
       "    </tr>\n",
       "    <tr>\n",
       "      <th>34887</th>\n",
       "      <td>0.6</td>\n",
       "      <td>-0.684211</td>\n",
       "      <td>-1.000000</td>\n",
       "      <td>-1.000000</td>\n",
       "      <td>-0.442623</td>\n",
       "      <td>-1.0</td>\n",
       "      <td>-1.0</td>\n",
       "      <td>1.0</td>\n",
       "      <td>-1.0</td>\n",
       "      <td>1.0</td>\n",
       "      <td>-1.0</td>\n",
       "      <td>-1.0</td>\n",
       "      <td>1.0</td>\n",
       "      <td>-1.0</td>\n",
       "      <td>1.0</td>\n",
       "      <td>-1.0</td>\n",
       "      <td>1.0</td>\n",
       "      <td>-1.0</td>\n",
       "    </tr>\n",
       "    <tr>\n",
       "      <th>34888</th>\n",
       "      <td>0.0</td>\n",
       "      <td>0.789474</td>\n",
       "      <td>-0.789592</td>\n",
       "      <td>-1.000000</td>\n",
       "      <td>-0.639344</td>\n",
       "      <td>1.0</td>\n",
       "      <td>-1.0</td>\n",
       "      <td>-1.0</td>\n",
       "      <td>-1.0</td>\n",
       "      <td>1.0</td>\n",
       "      <td>-1.0</td>\n",
       "      <td>-1.0</td>\n",
       "      <td>1.0</td>\n",
       "      <td>-1.0</td>\n",
       "      <td>1.0</td>\n",
       "      <td>-1.0</td>\n",
       "      <td>-1.0</td>\n",
       "      <td>1.0</td>\n",
       "    </tr>\n",
       "    <tr>\n",
       "      <th>34889</th>\n",
       "      <td>-0.2</td>\n",
       "      <td>0.578947</td>\n",
       "      <td>-1.000000</td>\n",
       "      <td>-0.211991</td>\n",
       "      <td>-0.508197</td>\n",
       "      <td>-1.0</td>\n",
       "      <td>-1.0</td>\n",
       "      <td>1.0</td>\n",
       "      <td>1.0</td>\n",
       "      <td>-1.0</td>\n",
       "      <td>-1.0</td>\n",
       "      <td>-1.0</td>\n",
       "      <td>-1.0</td>\n",
       "      <td>1.0</td>\n",
       "      <td>1.0</td>\n",
       "      <td>-1.0</td>\n",
       "      <td>-1.0</td>\n",
       "      <td>-1.0</td>\n",
       "    </tr>\n",
       "    <tr>\n",
       "      <th>34890</th>\n",
       "      <td>0.4</td>\n",
       "      <td>0.263158</td>\n",
       "      <td>-1.000000</td>\n",
       "      <td>-1.000000</td>\n",
       "      <td>-0.344262</td>\n",
       "      <td>-1.0</td>\n",
       "      <td>-1.0</td>\n",
       "      <td>1.0</td>\n",
       "      <td>1.0</td>\n",
       "      <td>-1.0</td>\n",
       "      <td>-1.0</td>\n",
       "      <td>-1.0</td>\n",
       "      <td>-1.0</td>\n",
       "      <td>1.0</td>\n",
       "      <td>-1.0</td>\n",
       "      <td>-1.0</td>\n",
       "      <td>1.0</td>\n",
       "      <td>-1.0</td>\n",
       "    </tr>\n",
       "    <tr>\n",
       "      <th>...</th>\n",
       "      <td>...</td>\n",
       "      <td>...</td>\n",
       "      <td>...</td>\n",
       "      <td>...</td>\n",
       "      <td>...</td>\n",
       "      <td>...</td>\n",
       "      <td>...</td>\n",
       "      <td>...</td>\n",
       "      <td>...</td>\n",
       "      <td>...</td>\n",
       "      <td>...</td>\n",
       "      <td>...</td>\n",
       "      <td>...</td>\n",
       "      <td>...</td>\n",
       "      <td>...</td>\n",
       "      <td>...</td>\n",
       "      <td>...</td>\n",
       "      <td>...</td>\n",
       "    </tr>\n",
       "    <tr>\n",
       "      <th>44981</th>\n",
       "      <td>0.8</td>\n",
       "      <td>1.842105</td>\n",
       "      <td>-1.000000</td>\n",
       "      <td>0.048954</td>\n",
       "      <td>-0.377049</td>\n",
       "      <td>-1.0</td>\n",
       "      <td>-1.0</td>\n",
       "      <td>1.0</td>\n",
       "      <td>1.0</td>\n",
       "      <td>-1.0</td>\n",
       "      <td>-1.0</td>\n",
       "      <td>-1.0</td>\n",
       "      <td>-1.0</td>\n",
       "      <td>1.0</td>\n",
       "      <td>1.0</td>\n",
       "      <td>-1.0</td>\n",
       "      <td>-1.0</td>\n",
       "      <td>-1.0</td>\n",
       "    </tr>\n",
       "    <tr>\n",
       "      <th>44982</th>\n",
       "      <td>0.8</td>\n",
       "      <td>0.789474</td>\n",
       "      <td>1.000000</td>\n",
       "      <td>-1.000000</td>\n",
       "      <td>0.016393</td>\n",
       "      <td>1.0</td>\n",
       "      <td>-1.0</td>\n",
       "      <td>-1.0</td>\n",
       "      <td>-1.0</td>\n",
       "      <td>1.0</td>\n",
       "      <td>-1.0</td>\n",
       "      <td>-1.0</td>\n",
       "      <td>1.0</td>\n",
       "      <td>-1.0</td>\n",
       "      <td>1.0</td>\n",
       "      <td>-1.0</td>\n",
       "      <td>-1.0</td>\n",
       "      <td>1.0</td>\n",
       "    </tr>\n",
       "    <tr>\n",
       "      <th>44983</th>\n",
       "      <td>0.0</td>\n",
       "      <td>-2.894737</td>\n",
       "      <td>-1.000000</td>\n",
       "      <td>-1.000000</td>\n",
       "      <td>-0.704918</td>\n",
       "      <td>-1.0</td>\n",
       "      <td>-1.0</td>\n",
       "      <td>-1.0</td>\n",
       "      <td>-1.0</td>\n",
       "      <td>1.0</td>\n",
       "      <td>1.0</td>\n",
       "      <td>-1.0</td>\n",
       "      <td>-1.0</td>\n",
       "      <td>-1.0</td>\n",
       "      <td>-1.0</td>\n",
       "      <td>-1.0</td>\n",
       "      <td>1.0</td>\n",
       "      <td>-1.0</td>\n",
       "    </tr>\n",
       "    <tr>\n",
       "      <th>44984</th>\n",
       "      <td>0.6</td>\n",
       "      <td>-0.263158</td>\n",
       "      <td>-1.000000</td>\n",
       "      <td>-1.000000</td>\n",
       "      <td>-0.770492</td>\n",
       "      <td>-1.0</td>\n",
       "      <td>-1.0</td>\n",
       "      <td>-1.0</td>\n",
       "      <td>-1.0</td>\n",
       "      <td>1.0</td>\n",
       "      <td>-1.0</td>\n",
       "      <td>1.0</td>\n",
       "      <td>-1.0</td>\n",
       "      <td>-1.0</td>\n",
       "      <td>1.0</td>\n",
       "      <td>-1.0</td>\n",
       "      <td>1.0</td>\n",
       "      <td>-1.0</td>\n",
       "    </tr>\n",
       "    <tr>\n",
       "      <th>44985</th>\n",
       "      <td>-1.0</td>\n",
       "      <td>0.789474</td>\n",
       "      <td>-1.000000</td>\n",
       "      <td>-1.000000</td>\n",
       "      <td>0.245902</td>\n",
       "      <td>-1.0</td>\n",
       "      <td>-1.0</td>\n",
       "      <td>-1.0</td>\n",
       "      <td>1.0</td>\n",
       "      <td>-1.0</td>\n",
       "      <td>-1.0</td>\n",
       "      <td>-1.0</td>\n",
       "      <td>-1.0</td>\n",
       "      <td>1.0</td>\n",
       "      <td>1.0</td>\n",
       "      <td>-1.0</td>\n",
       "      <td>1.0</td>\n",
       "      <td>-1.0</td>\n",
       "    </tr>\n",
       "  </tbody>\n",
       "</table>\n",
       "<p>10100 rows × 18 columns</p>\n",
       "</div>"
      ],
      "text/plain": [
       "            Years of Education  Working Hours per week  Money Received  \\\n",
       "CITIZEN_ID                                                               \n",
       "34886                      0.6               -0.263158       -1.000000   \n",
       "34887                      0.6               -0.684211       -1.000000   \n",
       "34888                      0.0                0.789474       -0.789592   \n",
       "34889                     -0.2                0.578947       -1.000000   \n",
       "34890                      0.4                0.263158       -1.000000   \n",
       "...                        ...                     ...             ...   \n",
       "44981                      0.8                1.842105       -1.000000   \n",
       "44982                      0.8                0.789474        1.000000   \n",
       "44983                      0.0               -2.894737       -1.000000   \n",
       "44984                      0.6               -0.263158       -1.000000   \n",
       "44985                     -1.0                0.789474       -1.000000   \n",
       "\n",
       "            Ticket Price       Age  Role_management  Role_other services  \\\n",
       "CITIZEN_ID                                                                 \n",
       "34886          -1.000000 -0.377049             -1.0                 -1.0   \n",
       "34887          -1.000000 -0.442623             -1.0                 -1.0   \n",
       "34888          -1.000000 -0.639344              1.0                 -1.0   \n",
       "34889          -0.211991 -0.508197             -1.0                 -1.0   \n",
       "34890          -1.000000 -0.344262             -1.0                 -1.0   \n",
       "...                  ...       ...              ...                  ...   \n",
       "44981           0.048954 -0.377049             -1.0                 -1.0   \n",
       "44982          -1.000000  0.016393              1.0                 -1.0   \n",
       "44983          -1.000000 -0.704918             -1.0                 -1.0   \n",
       "44984          -1.000000 -0.770492             -1.0                 -1.0   \n",
       "44985          -1.000000  0.245902             -1.0                 -1.0   \n",
       "\n",
       "            Role_professor  MStatus_married  MStatus_not_married  Lwith_alone  \\\n",
       "CITIZEN_ID                                                                      \n",
       "34886                 -1.0              1.0                 -1.0         -1.0   \n",
       "34887                  1.0             -1.0                  1.0         -1.0   \n",
       "34888                 -1.0             -1.0                  1.0         -1.0   \n",
       "34889                  1.0              1.0                 -1.0         -1.0   \n",
       "34890                  1.0              1.0                 -1.0         -1.0   \n",
       "...                    ...              ...                  ...          ...   \n",
       "44981                  1.0              1.0                 -1.0         -1.0   \n",
       "44982                 -1.0             -1.0                  1.0         -1.0   \n",
       "44983                 -1.0             -1.0                  1.0          1.0   \n",
       "44984                 -1.0             -1.0                  1.0         -1.0   \n",
       "44985                 -1.0              1.0                 -1.0         -1.0   \n",
       "\n",
       "            Lwith_children  Lwith_other  Lwith_spouse  Sector_private  \\\n",
       "CITIZEN_ID                                                              \n",
       "34886                 -1.0         -1.0           1.0             1.0   \n",
       "34887                 -1.0          1.0          -1.0             1.0   \n",
       "34888                 -1.0          1.0          -1.0             1.0   \n",
       "34889                 -1.0         -1.0           1.0             1.0   \n",
       "34890                 -1.0         -1.0           1.0            -1.0   \n",
       "...                    ...          ...           ...             ...   \n",
       "44981                 -1.0         -1.0           1.0             1.0   \n",
       "44982                 -1.0          1.0          -1.0             1.0   \n",
       "44983                 -1.0         -1.0          -1.0            -1.0   \n",
       "44984                  1.0         -1.0          -1.0             1.0   \n",
       "44985                 -1.0         -1.0           1.0             1.0   \n",
       "\n",
       "            Sector_self  Group_A  Group_B  \n",
       "CITIZEN_ID                                 \n",
       "34886              -1.0      1.0     -1.0  \n",
       "34887              -1.0      1.0     -1.0  \n",
       "34888              -1.0     -1.0      1.0  \n",
       "34889              -1.0     -1.0     -1.0  \n",
       "34890              -1.0      1.0     -1.0  \n",
       "...                 ...      ...      ...  \n",
       "44981              -1.0     -1.0     -1.0  \n",
       "44982              -1.0     -1.0      1.0  \n",
       "44983              -1.0      1.0     -1.0  \n",
       "44984              -1.0      1.0     -1.0  \n",
       "44985              -1.0      1.0     -1.0  \n",
       "\n",
       "[10100 rows x 18 columns]"
      ]
     },
     "execution_count": 431,
     "metadata": {},
     "output_type": "execute_result"
    }
   ],
   "source": [
    "Scaled_Submission_Data"
   ]
  },
  {
   "cell_type": "code",
   "execution_count": 436,
   "metadata": {},
   "outputs": [
    {
     "name": "stderr",
     "output_type": "stream",
     "text": [
      "<ipython-input-436-c59c545d22e0>:4: SettingWithCopyWarning: \n",
      "A value is trying to be set on a copy of a slice from a DataFrame.\n",
      "Try using .loc[row_indexer,col_indexer] = value instead\n",
      "\n",
      "See the caveats in the documentation: https://pandas.pydata.org/pandas-docs/stable/user_guide/indexing.html#returning-a-view-versus-a-copy\n",
      "  Scaled_Submission_Data['Income'] = predictions\n"
     ]
    }
   ],
   "source": [
    "columns_indexes = Scaled_Submission_Data.columns[features]\n",
    "Scaled_Submission_Data = Scaled_Submission_Data[columns_indexes]\n",
    "predictions = MODEL_CHOSEN.predict(Scaled_Submission_Data)\n",
    "Scaled_Submission_Data['Income'] = predictions\n",
    "Scaled_Submission_Data[['Income']].to_csv('Group10_Version20.csv')"
   ]
  },
  {
   "cell_type": "code",
   "execution_count": 437,
   "metadata": {},
   "outputs": [
    {
     "data": {
      "text/html": [
       "<div>\n",
       "<style scoped>\n",
       "    .dataframe tbody tr th:only-of-type {\n",
       "        vertical-align: middle;\n",
       "    }\n",
       "\n",
       "    .dataframe tbody tr th {\n",
       "        vertical-align: top;\n",
       "    }\n",
       "\n",
       "    .dataframe thead th {\n",
       "        text-align: right;\n",
       "    }\n",
       "</style>\n",
       "<table border=\"1\" class=\"dataframe\">\n",
       "  <thead>\n",
       "    <tr style=\"text-align: right;\">\n",
       "      <th></th>\n",
       "      <th>Years of Education</th>\n",
       "      <th>Working Hours per week</th>\n",
       "      <th>Money Received</th>\n",
       "      <th>Ticket Price</th>\n",
       "      <th>Age</th>\n",
       "      <th>Lwith_spouse</th>\n",
       "      <th>Income</th>\n",
       "    </tr>\n",
       "    <tr>\n",
       "      <th>CITIZEN_ID</th>\n",
       "      <th></th>\n",
       "      <th></th>\n",
       "      <th></th>\n",
       "      <th></th>\n",
       "      <th></th>\n",
       "      <th></th>\n",
       "      <th></th>\n",
       "    </tr>\n",
       "  </thead>\n",
       "  <tbody>\n",
       "    <tr>\n",
       "      <th>34886</th>\n",
       "      <td>0.6</td>\n",
       "      <td>-0.263158</td>\n",
       "      <td>-1.000000</td>\n",
       "      <td>-1.000000</td>\n",
       "      <td>-0.377049</td>\n",
       "      <td>1.0</td>\n",
       "      <td>1</td>\n",
       "    </tr>\n",
       "    <tr>\n",
       "      <th>34887</th>\n",
       "      <td>0.6</td>\n",
       "      <td>-0.684211</td>\n",
       "      <td>-1.000000</td>\n",
       "      <td>-1.000000</td>\n",
       "      <td>-0.442623</td>\n",
       "      <td>-1.0</td>\n",
       "      <td>0</td>\n",
       "    </tr>\n",
       "    <tr>\n",
       "      <th>34888</th>\n",
       "      <td>0.0</td>\n",
       "      <td>0.789474</td>\n",
       "      <td>-0.789592</td>\n",
       "      <td>-1.000000</td>\n",
       "      <td>-0.639344</td>\n",
       "      <td>-1.0</td>\n",
       "      <td>1</td>\n",
       "    </tr>\n",
       "    <tr>\n",
       "      <th>34889</th>\n",
       "      <td>-0.2</td>\n",
       "      <td>0.578947</td>\n",
       "      <td>-1.000000</td>\n",
       "      <td>-0.211991</td>\n",
       "      <td>-0.508197</td>\n",
       "      <td>1.0</td>\n",
       "      <td>0</td>\n",
       "    </tr>\n",
       "    <tr>\n",
       "      <th>34890</th>\n",
       "      <td>0.4</td>\n",
       "      <td>0.263158</td>\n",
       "      <td>-1.000000</td>\n",
       "      <td>-1.000000</td>\n",
       "      <td>-0.344262</td>\n",
       "      <td>1.0</td>\n",
       "      <td>0</td>\n",
       "    </tr>\n",
       "    <tr>\n",
       "      <th>...</th>\n",
       "      <td>...</td>\n",
       "      <td>...</td>\n",
       "      <td>...</td>\n",
       "      <td>...</td>\n",
       "      <td>...</td>\n",
       "      <td>...</td>\n",
       "      <td>...</td>\n",
       "    </tr>\n",
       "    <tr>\n",
       "      <th>44981</th>\n",
       "      <td>0.8</td>\n",
       "      <td>1.842105</td>\n",
       "      <td>-1.000000</td>\n",
       "      <td>0.048954</td>\n",
       "      <td>-0.377049</td>\n",
       "      <td>1.0</td>\n",
       "      <td>1</td>\n",
       "    </tr>\n",
       "    <tr>\n",
       "      <th>44982</th>\n",
       "      <td>0.8</td>\n",
       "      <td>0.789474</td>\n",
       "      <td>1.000000</td>\n",
       "      <td>-1.000000</td>\n",
       "      <td>0.016393</td>\n",
       "      <td>-1.0</td>\n",
       "      <td>1</td>\n",
       "    </tr>\n",
       "    <tr>\n",
       "      <th>44983</th>\n",
       "      <td>0.0</td>\n",
       "      <td>-2.894737</td>\n",
       "      <td>-1.000000</td>\n",
       "      <td>-1.000000</td>\n",
       "      <td>-0.704918</td>\n",
       "      <td>-1.0</td>\n",
       "      <td>0</td>\n",
       "    </tr>\n",
       "    <tr>\n",
       "      <th>44984</th>\n",
       "      <td>0.6</td>\n",
       "      <td>-0.263158</td>\n",
       "      <td>-1.000000</td>\n",
       "      <td>-1.000000</td>\n",
       "      <td>-0.770492</td>\n",
       "      <td>-1.0</td>\n",
       "      <td>0</td>\n",
       "    </tr>\n",
       "    <tr>\n",
       "      <th>44985</th>\n",
       "      <td>-1.0</td>\n",
       "      <td>0.789474</td>\n",
       "      <td>-1.000000</td>\n",
       "      <td>-1.000000</td>\n",
       "      <td>0.245902</td>\n",
       "      <td>1.0</td>\n",
       "      <td>0</td>\n",
       "    </tr>\n",
       "  </tbody>\n",
       "</table>\n",
       "<p>10100 rows × 7 columns</p>\n",
       "</div>"
      ],
      "text/plain": [
       "            Years of Education  Working Hours per week  Money Received  \\\n",
       "CITIZEN_ID                                                               \n",
       "34886                      0.6               -0.263158       -1.000000   \n",
       "34887                      0.6               -0.684211       -1.000000   \n",
       "34888                      0.0                0.789474       -0.789592   \n",
       "34889                     -0.2                0.578947       -1.000000   \n",
       "34890                      0.4                0.263158       -1.000000   \n",
       "...                        ...                     ...             ...   \n",
       "44981                      0.8                1.842105       -1.000000   \n",
       "44982                      0.8                0.789474        1.000000   \n",
       "44983                      0.0               -2.894737       -1.000000   \n",
       "44984                      0.6               -0.263158       -1.000000   \n",
       "44985                     -1.0                0.789474       -1.000000   \n",
       "\n",
       "            Ticket Price       Age  Lwith_spouse  Income  \n",
       "CITIZEN_ID                                                \n",
       "34886          -1.000000 -0.377049           1.0       1  \n",
       "34887          -1.000000 -0.442623          -1.0       0  \n",
       "34888          -1.000000 -0.639344          -1.0       1  \n",
       "34889          -0.211991 -0.508197           1.0       0  \n",
       "34890          -1.000000 -0.344262           1.0       0  \n",
       "...                  ...       ...           ...     ...  \n",
       "44981           0.048954 -0.377049           1.0       1  \n",
       "44982          -1.000000  0.016393          -1.0       1  \n",
       "44983          -1.000000 -0.704918          -1.0       0  \n",
       "44984          -1.000000 -0.770492          -1.0       0  \n",
       "44985          -1.000000  0.245902           1.0       0  \n",
       "\n",
       "[10100 rows x 7 columns]"
      ]
     },
     "execution_count": 437,
     "metadata": {},
     "output_type": "execute_result"
    }
   ],
   "source": [
    "Scaled_Submission_Data"
   ]
  },
  {
   "cell_type": "code",
   "execution_count": null,
   "metadata": {},
   "outputs": [],
   "source": []
  }
 ],
 "metadata": {
  "kernelspec": {
   "display_name": "Python 3",
   "language": "python",
   "name": "python3"
  },
  "language_info": {
   "codemirror_mode": {
    "name": "ipython",
    "version": 3
   },
   "file_extension": ".py",
   "mimetype": "text/x-python",
   "name": "python",
   "nbconvert_exporter": "python",
   "pygments_lexer": "ipython3",
   "version": "3.8.3"
  }
 },
 "nbformat": 4,
 "nbformat_minor": 4
}
