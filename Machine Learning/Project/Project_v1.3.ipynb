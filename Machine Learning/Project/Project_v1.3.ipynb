{
 "cells": [
  {
   "cell_type": "markdown",
   "metadata": {},
   "source": [
    "# Machine Learning - Project - Group XXXXX\n",
    "## Group Members\n",
    "|Name|StudentID|\n",
    "|:-----------:|:--------:|\n",
    "|Fabio Lopes|20200597|\n",
    "|Filipe Costa||\n",
    "|Jorge Pereira||\n",
    "## Introduction \n",
    "Put some introduction here"
   ]
  },
  {
   "cell_type": "markdown",
   "metadata": {},
   "source": [
    "## Package Instalation and Importing"
   ]
  },
  {
   "cell_type": "code",
   "execution_count": 1,
   "metadata": {},
   "outputs": [],
   "source": [
    "#!{sys.executable} -m pip install -U xlrd\n",
    "#!{sys.executable} -m pip install -U xgboost\n",
    "#!{sys.executable} -m pip install -U hyperopt\n",
    "#!{sys.executable} -m pip install -U mlflow"
   ]
  },
  {
   "cell_type": "code",
   "execution_count": 2,
   "metadata": {},
   "outputs": [],
   "source": [
    "import pandas as pd\n",
    "from datetime import datetime\n",
    "from sklearn.model_selection import train_test_split, cross_val_score\n",
    "from sklearn.utils import resample\n",
    "from sklearn.preprocessing import StandardScaler\n",
    "import xgboost as xgb\n",
    "from hyperopt import STATUS_OK, fmin, hp, tpe, Trials\n",
    "import mlflow\n",
    "from sklearn.metrics import classification_report, confusion_matrix\n",
    "import numpy as np\n",
    "import seaborn as sns\n",
    "from sklearn.linear_model import LogisticRegression\n",
    "from sklearn.neighbors import KNeighborsClassifier\n",
    "from sklearn.naive_bayes import GaussianNB\n",
    "from sklearn.metrics import f1_score\n",
    "from sklearn.feature_selection import SelectFromModel\n",
    "import time"
   ]
  },
  {
   "cell_type": "markdown",
   "metadata": {},
   "source": [
    "## Import Train and Test Data"
   ]
  },
  {
   "cell_type": "code",
   "execution_count": 3,
   "metadata": {},
   "outputs": [
    {
     "name": "stderr",
     "output_type": "stream",
     "text": [
      "C:\\anaconda3\\lib\\site-packages\\xlrd\\xlsx.py:266: DeprecationWarning: This method will be removed in future versions.  Use 'tree.iter()' or 'list(tree.iter())' instead.\n",
      "  for elem in self.tree.iter() if Element_has_iter else self.tree.getiterator():\n"
     ]
    }
   ],
   "source": [
    "data = pd.read_excel('Train.xlsx')\n",
    "data_test = pd.read_excel(\"Test.xlsx\")"
   ]
  },
  {
   "cell_type": "code",
   "execution_count": 4,
   "metadata": {},
   "outputs": [
    {
     "name": "stdout",
     "output_type": "stream",
     "text": [
      "Training data has 15 columns and 22400 rows.\n"
     ]
    }
   ],
   "source": [
    "print(f\"Training data has {data.shape[1]} columns and {data.shape[0]} rows.\")"
   ]
  },
  {
   "cell_type": "code",
   "execution_count": 5,
   "metadata": {},
   "outputs": [
    {
     "data": {
      "text/html": [
       "<div>\n",
       "<style scoped>\n",
       "    .dataframe tbody tr th:only-of-type {\n",
       "        vertical-align: middle;\n",
       "    }\n",
       "\n",
       "    .dataframe tbody tr th {\n",
       "        vertical-align: top;\n",
       "    }\n",
       "\n",
       "    .dataframe thead th {\n",
       "        text-align: right;\n",
       "    }\n",
       "</style>\n",
       "<table border=\"1\" class=\"dataframe\">\n",
       "  <thead>\n",
       "    <tr style=\"text-align: right;\">\n",
       "      <th></th>\n",
       "      <th>CITIZEN_ID</th>\n",
       "      <th>Name</th>\n",
       "      <th>Birthday</th>\n",
       "      <th>Native Continent</th>\n",
       "      <th>Marital Status</th>\n",
       "      <th>Lives with</th>\n",
       "      <th>Base Area</th>\n",
       "      <th>Education Level</th>\n",
       "      <th>Years of Education</th>\n",
       "      <th>Employment Sector</th>\n",
       "      <th>Role</th>\n",
       "      <th>Working Hours per week</th>\n",
       "      <th>Money Received</th>\n",
       "      <th>Ticket Price</th>\n",
       "      <th>Income</th>\n",
       "    </tr>\n",
       "  </thead>\n",
       "  <tbody>\n",
       "    <tr>\n",
       "      <th>0</th>\n",
       "      <td>12486</td>\n",
       "      <td>Mr. Adam Glover</td>\n",
       "      <td>July 1,2003</td>\n",
       "      <td>Europe</td>\n",
       "      <td>Married</td>\n",
       "      <td>Wife</td>\n",
       "      <td>Northbury</td>\n",
       "      <td>High School + PostGraduation</td>\n",
       "      <td>13</td>\n",
       "      <td>Private Sector - Services</td>\n",
       "      <td>Repair &amp; constructions</td>\n",
       "      <td>40</td>\n",
       "      <td>0</td>\n",
       "      <td>2273</td>\n",
       "      <td>1</td>\n",
       "    </tr>\n",
       "    <tr>\n",
       "      <th>1</th>\n",
       "      <td>12487</td>\n",
       "      <td>Mr. Cameron McDonald</td>\n",
       "      <td>January 25,2006</td>\n",
       "      <td>Europe</td>\n",
       "      <td>Married</td>\n",
       "      <td>Wife</td>\n",
       "      <td>Northbury</td>\n",
       "      <td>Professional School</td>\n",
       "      <td>12</td>\n",
       "      <td>Public Sector - Others</td>\n",
       "      <td>Repair &amp; constructions</td>\n",
       "      <td>40</td>\n",
       "      <td>0</td>\n",
       "      <td>0</td>\n",
       "      <td>1</td>\n",
       "    </tr>\n",
       "    <tr>\n",
       "      <th>2</th>\n",
       "      <td>12488</td>\n",
       "      <td>Mr. Keith Davidson</td>\n",
       "      <td>May 10,2009</td>\n",
       "      <td>Europe</td>\n",
       "      <td>Married</td>\n",
       "      <td>Wife</td>\n",
       "      <td>Northbury</td>\n",
       "      <td>Professional School</td>\n",
       "      <td>12</td>\n",
       "      <td>Private Sector - Services</td>\n",
       "      <td>Sales</td>\n",
       "      <td>46</td>\n",
       "      <td>0</td>\n",
       "      <td>2321</td>\n",
       "      <td>1</td>\n",
       "    </tr>\n",
       "    <tr>\n",
       "      <th>3</th>\n",
       "      <td>12489</td>\n",
       "      <td>Mr. Alexander Gill</td>\n",
       "      <td>March 25,1985</td>\n",
       "      <td>Europe</td>\n",
       "      <td>Married</td>\n",
       "      <td>Wife</td>\n",
       "      <td>Northbury</td>\n",
       "      <td>High School - 2nd Cycle</td>\n",
       "      <td>11</td>\n",
       "      <td>Private Sector - Services</td>\n",
       "      <td>Security</td>\n",
       "      <td>37</td>\n",
       "      <td>5395</td>\n",
       "      <td>0</td>\n",
       "      <td>1</td>\n",
       "    </tr>\n",
       "    <tr>\n",
       "      <th>4</th>\n",
       "      <td>12490</td>\n",
       "      <td>Mr. Neil Piper</td>\n",
       "      <td>May 29,2015</td>\n",
       "      <td>Europe</td>\n",
       "      <td>Single</td>\n",
       "      <td>Other Family</td>\n",
       "      <td>Northbury</td>\n",
       "      <td>PhD</td>\n",
       "      <td>21</td>\n",
       "      <td>Self-Employed (Individual)</td>\n",
       "      <td>Professor</td>\n",
       "      <td>45</td>\n",
       "      <td>0</td>\n",
       "      <td>0</td>\n",
       "      <td>1</td>\n",
       "    </tr>\n",
       "  </tbody>\n",
       "</table>\n",
       "</div>"
      ],
      "text/plain": [
       "   CITIZEN_ID                  Name          Birthday Native Continent  \\\n",
       "0       12486       Mr. Adam Glover       July 1,2003           Europe   \n",
       "1       12487  Mr. Cameron McDonald   January 25,2006           Europe   \n",
       "2       12488    Mr. Keith Davidson       May 10,2009           Europe   \n",
       "3       12489    Mr. Alexander Gill     March 25,1985           Europe   \n",
       "4       12490        Mr. Neil Piper       May 29,2015           Europe   \n",
       "\n",
       "  Marital Status    Lives with  Base Area               Education Level  \\\n",
       "0        Married          Wife  Northbury  High School + PostGraduation   \n",
       "1        Married          Wife  Northbury           Professional School   \n",
       "2        Married          Wife  Northbury           Professional School   \n",
       "3        Married          Wife  Northbury       High School - 2nd Cycle   \n",
       "4         Single  Other Family  Northbury                           PhD   \n",
       "\n",
       "   Years of Education           Employment Sector                    Role  \\\n",
       "0                  13  Private Sector - Services   Repair & constructions   \n",
       "1                  12      Public Sector - Others  Repair & constructions   \n",
       "2                  12  Private Sector - Services                    Sales   \n",
       "3                  11  Private Sector - Services                 Security   \n",
       "4                  21  Self-Employed (Individual)               Professor   \n",
       "\n",
       "   Working Hours per week  Money Received  Ticket Price  Income  \n",
       "0                      40               0          2273       1  \n",
       "1                      40               0             0       1  \n",
       "2                      46               0          2321       1  \n",
       "3                      37            5395             0       1  \n",
       "4                      45               0             0       1  "
      ]
     },
     "execution_count": 5,
     "metadata": {},
     "output_type": "execute_result"
    }
   ],
   "source": [
    "data.head(5)"
   ]
  },
  {
   "cell_type": "markdown",
   "metadata": {},
   "source": [
    "## Data Cleansing & Feature Engineering Functions\n",
    "In this section, we will define the Cleansing functions"
   ]
  },
  {
   "cell_type": "code",
   "execution_count": 6,
   "metadata": {},
   "outputs": [],
   "source": [
    "def strip_lower(df):\n",
    "    \"\"\"Detects the String columns and converts all the records to lowercase.\"\"\"\n",
    "    for column in df.columns:\n",
    "        if df[column].dtype == 'object':\n",
    "            df[column] = df[column].apply(str.strip).apply(str.lower)\n",
    "    return df"
   ]
  },
  {
   "cell_type": "code",
   "execution_count": 7,
   "metadata": {},
   "outputs": [],
   "source": [
    "def fill_missing_values(df,ColumnswithMissingValues):\n",
    "    for column in ColumnswithMissingValues:\n",
    "        ColumnMode = df[column].mode()[0]\n",
    "        df[column] = df[column].str.replace('?',ColumnMode, regex=False)\n",
    "    return df"
   ]
  },
  {
   "cell_type": "code",
   "execution_count": 8,
   "metadata": {},
   "outputs": [],
   "source": [
    "def ComputeAgeAt2048(Birthday):\n",
    "    CurrentYear=datetime(2048,1,1)\n",
    "    \n",
    "    s_YearOfBirth = Birthday.split(\",\")[1]\n",
    "    YearOfBirth = datetime(int(s_YearOfBirth),1,1)\n",
    "        \n",
    "    return CurrentYear.year - YearOfBirth.year"
   ]
  },
  {
   "cell_type": "code",
   "execution_count": 9,
   "metadata": {},
   "outputs": [],
   "source": [
    "def ClassifyCitizen(Difference):\n",
    "    if Difference == 0:\n",
    "        return 'A' # Chosen carefully from volunteers\n",
    "    elif Difference > 0:\n",
    "        return 'B' # Invited\n",
    "    elif Difference < 0:\n",
    "        return 'C' # Paid"
   ]
  },
  {
   "cell_type": "code",
   "execution_count": 10,
   "metadata": {},
   "outputs": [],
   "source": [
    "def encode_data(data, nominal_variables):\n",
    "    data_Encoded = data.copy()\n",
    "    dummies = pd.get_dummies(data_Encoded[nominal_variables], prefix=nominal_variables)\n",
    "    data_Encoded = pd.concat([data_Encoded,dummies],axis=1)\n",
    "    data_Encoded = data_Encoded.drop(nominal_variables, axis =1)\n",
    "    return data_Encoded"
   ]
  },
  {
   "cell_type": "code",
   "execution_count": 11,
   "metadata": {},
   "outputs": [],
   "source": [
    "def normalize_df(df,features):\n",
    "    scaler = StandardScaler()\n",
    "    df_standard = df.copy()\n",
    "    scaled_feat = scaler.fit_transform(df_standard[features])\n",
    "    df_standard[features] = scaled_feat\n",
    "    return df_standard"
   ]
  },
  {
   "cell_type": "code",
   "execution_count": 12,
   "metadata": {},
   "outputs": [],
   "source": [
    "def resample_df(df):\n",
    "    class0 = df[df['Income'] == 0]\n",
    "    class1 = df[df['Income'] == 1]\n",
    "    \n",
    "    oversample = resample(class1, \n",
    "                       replace=True, \n",
    "                       n_samples=len(class0), #set the number of samples to equal the number of the majority class\n",
    "                       random_state=42)\n",
    "    \n",
    "    oversample_data = pd.concat([oversample, class0])\n",
    "    return oversample_data"
   ]
  },
  {
   "cell_type": "code",
   "execution_count": 13,
   "metadata": {},
   "outputs": [],
   "source": [
    "def AlignDataframe(ColumnsInModel,df):\n",
    "    dummy_df = pd.DataFrame(columns=ColumnsInModel)\n",
    "    dummy_df, aligned_df = dummy_df.align(df,fill_value=0,join='left',axis=1)\n",
    "    return aligned_df"
   ]
  },
  {
   "cell_type": "code",
   "execution_count": 14,
   "metadata": {},
   "outputs": [],
   "source": [
    "def DataPreparation(df):\n",
    "    # Lowers all case in string variables\n",
    "    new_df = df.copy()\n",
    "    \n",
    "    new_df = strip_lower(new_df)\n",
    "    \n",
    "    # Deals with missing values\n",
    "    ColumnswithMissingValues = ['Role','Employment Sector','Base Area']\n",
    "    new_df = fill_missing_values(new_df,ColumnswithMissingValues)\n",
    "    \n",
    "    # Computes Age\n",
    "    new_df['Age'] = new_df['Birthday'].apply(ComputeAgeAt2048)\n",
    "    new_df.drop('Birthday', axis=1, inplace=True)\n",
    "    \n",
    "    # Classifies Citizen\n",
    "    new_df['Group'] = (new_df['Money Received'] - new_df['Ticket Price']).apply(ClassifyCitizen)\n",
    "    \n",
    "    # Creates Ordinal Variable from Education\n",
    "    EducationClassification = {\n",
    "                            \"phd\" : 16,\n",
    "                            \"masters + postgraduation\" : 15,\n",
    "                            \"masters\" : 14,\n",
    "                            \"bachelors + postgraduation\" : 13,\n",
    "                            \"bachelors\" : 12,\n",
    "                            \"professional school + postgraduation\" : 11,\n",
    "                            \"high school + postgraduation\" : 10,\n",
    "                            \"professional school\" : 9,\n",
    "                            \"high school complete\" : 8,\n",
    "                            \"high school - 2nd cycle\" : 7,\n",
    "                            \"high school - 1st cycle\" : 6,\n",
    "                            \"middle school complete\" : 5,\n",
    "                            \"middle school - 2nd cycle\" : 4,\n",
    "                            \"middle school - 1st cycle\" : 3,\n",
    "                            \"primary school\" : 2,\n",
    "                            \"preschool\" : 1\n",
    "                            }\n",
    "    new_df['Education_Class'] = new_df['Education Level'].map(EducationClassification)\n",
    "    new_df.drop('Education Level', axis=1, inplace=True)\n",
    "    \n",
    "    # Performs one hot encoding in nominal variables\n",
    "    NominalVariables = ['Native Continent', \n",
    "                        'Marital Status', \n",
    "                        'Lives with', \n",
    "                        'Base Area', \n",
    "                        'Employment Sector', \n",
    "                        'Role', \n",
    "                        'Group']\n",
    "    \n",
    "    new_df = encode_data(new_df, NominalVariables)\n",
    "    \n",
    "    # Normalize numerical variables\n",
    "    metric_features = ['Years of Education',\n",
    "                       'Working Hours per week',\n",
    "                       'Money Received',\n",
    "                       'Ticket Price',\n",
    "                       'Age']\n",
    "    \n",
    "    new_df = normalize_df(new_df,metric_features)\n",
    "    \n",
    "    # Drops the Name column and selects Citizen ID as the index\n",
    "    new_df = new_df.drop(['Name'], axis =1)\n",
    "    new_df.set_index([\"CITIZEN_ID\"],inplace=True)\n",
    "    \n",
    "    return new_df"
   ]
  },
  {
   "cell_type": "code",
   "execution_count": 15,
   "metadata": {},
   "outputs": [
    {
     "data": {
      "text/html": [
       "<div>\n",
       "<style scoped>\n",
       "    .dataframe tbody tr th:only-of-type {\n",
       "        vertical-align: middle;\n",
       "    }\n",
       "\n",
       "    .dataframe tbody tr th {\n",
       "        vertical-align: top;\n",
       "    }\n",
       "\n",
       "    .dataframe thead th {\n",
       "        text-align: right;\n",
       "    }\n",
       "</style>\n",
       "<table border=\"1\" class=\"dataframe\">\n",
       "  <thead>\n",
       "    <tr style=\"text-align: right;\">\n",
       "      <th></th>\n",
       "      <th>Years of Education</th>\n",
       "      <th>Working Hours per week</th>\n",
       "      <th>Money Received</th>\n",
       "      <th>Ticket Price</th>\n",
       "      <th>Income</th>\n",
       "      <th>Age</th>\n",
       "      <th>Education_Class</th>\n",
       "      <th>Native Continent_africa</th>\n",
       "      <th>Native Continent_america</th>\n",
       "      <th>Native Continent_asia</th>\n",
       "      <th>...</th>\n",
       "      <th>Role_management</th>\n",
       "      <th>Role_other services</th>\n",
       "      <th>Role_professor</th>\n",
       "      <th>Role_repair &amp; constructions</th>\n",
       "      <th>Role_sales</th>\n",
       "      <th>Role_security</th>\n",
       "      <th>Role_transports</th>\n",
       "      <th>Group_A</th>\n",
       "      <th>Group_B</th>\n",
       "      <th>Group_C</th>\n",
       "    </tr>\n",
       "    <tr>\n",
       "      <th>CITIZEN_ID</th>\n",
       "      <th></th>\n",
       "      <th></th>\n",
       "      <th></th>\n",
       "      <th></th>\n",
       "      <th></th>\n",
       "      <th></th>\n",
       "      <th></th>\n",
       "      <th></th>\n",
       "      <th></th>\n",
       "      <th></th>\n",
       "      <th></th>\n",
       "      <th></th>\n",
       "      <th></th>\n",
       "      <th></th>\n",
       "      <th></th>\n",
       "      <th></th>\n",
       "      <th></th>\n",
       "      <th></th>\n",
       "      <th></th>\n",
       "      <th></th>\n",
       "      <th></th>\n",
       "    </tr>\n",
       "  </thead>\n",
       "  <tbody>\n",
       "    <tr>\n",
       "      <th>12486</th>\n",
       "      <td>-0.069210</td>\n",
       "      <td>-0.039108</td>\n",
       "      <td>-0.143582</td>\n",
       "      <td>4.325999</td>\n",
       "      <td>1</td>\n",
       "      <td>0.469929</td>\n",
       "      <td>10</td>\n",
       "      <td>0</td>\n",
       "      <td>0</td>\n",
       "      <td>0</td>\n",
       "      <td>...</td>\n",
       "      <td>0</td>\n",
       "      <td>0</td>\n",
       "      <td>0</td>\n",
       "      <td>1</td>\n",
       "      <td>0</td>\n",
       "      <td>0</td>\n",
       "      <td>0</td>\n",
       "      <td>0</td>\n",
       "      <td>0</td>\n",
       "      <td>1</td>\n",
       "    </tr>\n",
       "    <tr>\n",
       "      <th>12487</th>\n",
       "      <td>-0.467237</td>\n",
       "      <td>-0.039108</td>\n",
       "      <td>-0.143582</td>\n",
       "      <td>-0.218204</td>\n",
       "      <td>1</td>\n",
       "      <td>0.250170</td>\n",
       "      <td>9</td>\n",
       "      <td>0</td>\n",
       "      <td>0</td>\n",
       "      <td>0</td>\n",
       "      <td>...</td>\n",
       "      <td>0</td>\n",
       "      <td>0</td>\n",
       "      <td>0</td>\n",
       "      <td>1</td>\n",
       "      <td>0</td>\n",
       "      <td>0</td>\n",
       "      <td>0</td>\n",
       "      <td>1</td>\n",
       "      <td>0</td>\n",
       "      <td>0</td>\n",
       "    </tr>\n",
       "    <tr>\n",
       "      <th>12488</th>\n",
       "      <td>-0.467237</td>\n",
       "      <td>0.445911</td>\n",
       "      <td>-0.143582</td>\n",
       "      <td>4.421961</td>\n",
       "      <td>1</td>\n",
       "      <td>0.030410</td>\n",
       "      <td>9</td>\n",
       "      <td>0</td>\n",
       "      <td>0</td>\n",
       "      <td>0</td>\n",
       "      <td>...</td>\n",
       "      <td>0</td>\n",
       "      <td>0</td>\n",
       "      <td>0</td>\n",
       "      <td>0</td>\n",
       "      <td>1</td>\n",
       "      <td>0</td>\n",
       "      <td>0</td>\n",
       "      <td>0</td>\n",
       "      <td>0</td>\n",
       "      <td>1</td>\n",
       "    </tr>\n",
       "    <tr>\n",
       "      <th>12489</th>\n",
       "      <td>-0.865263</td>\n",
       "      <td>-0.281618</td>\n",
       "      <td>0.441079</td>\n",
       "      <td>-0.218204</td>\n",
       "      <td>1</td>\n",
       "      <td>1.788488</td>\n",
       "      <td>7</td>\n",
       "      <td>0</td>\n",
       "      <td>0</td>\n",
       "      <td>0</td>\n",
       "      <td>...</td>\n",
       "      <td>0</td>\n",
       "      <td>0</td>\n",
       "      <td>0</td>\n",
       "      <td>0</td>\n",
       "      <td>0</td>\n",
       "      <td>1</td>\n",
       "      <td>0</td>\n",
       "      <td>0</td>\n",
       "      <td>1</td>\n",
       "      <td>0</td>\n",
       "    </tr>\n",
       "    <tr>\n",
       "      <th>12490</th>\n",
       "      <td>3.115002</td>\n",
       "      <td>0.365074</td>\n",
       "      <td>-0.143582</td>\n",
       "      <td>-0.218204</td>\n",
       "      <td>1</td>\n",
       "      <td>-0.409110</td>\n",
       "      <td>16</td>\n",
       "      <td>0</td>\n",
       "      <td>0</td>\n",
       "      <td>0</td>\n",
       "      <td>...</td>\n",
       "      <td>0</td>\n",
       "      <td>0</td>\n",
       "      <td>1</td>\n",
       "      <td>0</td>\n",
       "      <td>0</td>\n",
       "      <td>0</td>\n",
       "      <td>0</td>\n",
       "      <td>1</td>\n",
       "      <td>0</td>\n",
       "      <td>0</td>\n",
       "    </tr>\n",
       "  </tbody>\n",
       "</table>\n",
       "<p>5 rows × 89 columns</p>\n",
       "</div>"
      ],
      "text/plain": [
       "            Years of Education  Working Hours per week  Money Received  \\\n",
       "CITIZEN_ID                                                               \n",
       "12486                -0.069210               -0.039108       -0.143582   \n",
       "12487                -0.467237               -0.039108       -0.143582   \n",
       "12488                -0.467237                0.445911       -0.143582   \n",
       "12489                -0.865263               -0.281618        0.441079   \n",
       "12490                 3.115002                0.365074       -0.143582   \n",
       "\n",
       "            Ticket Price  Income       Age  Education_Class  \\\n",
       "CITIZEN_ID                                                    \n",
       "12486           4.325999       1  0.469929               10   \n",
       "12487          -0.218204       1  0.250170                9   \n",
       "12488           4.421961       1  0.030410                9   \n",
       "12489          -0.218204       1  1.788488                7   \n",
       "12490          -0.218204       1 -0.409110               16   \n",
       "\n",
       "            Native Continent_africa  Native Continent_america  \\\n",
       "CITIZEN_ID                                                      \n",
       "12486                             0                         0   \n",
       "12487                             0                         0   \n",
       "12488                             0                         0   \n",
       "12489                             0                         0   \n",
       "12490                             0                         0   \n",
       "\n",
       "            Native Continent_asia  ...  Role_management  Role_other services  \\\n",
       "CITIZEN_ID                         ...                                         \n",
       "12486                           0  ...                0                    0   \n",
       "12487                           0  ...                0                    0   \n",
       "12488                           0  ...                0                    0   \n",
       "12489                           0  ...                0                    0   \n",
       "12490                           0  ...                0                    0   \n",
       "\n",
       "            Role_professor  Role_repair & constructions  Role_sales  \\\n",
       "CITIZEN_ID                                                            \n",
       "12486                    0                            1           0   \n",
       "12487                    0                            1           0   \n",
       "12488                    0                            0           1   \n",
       "12489                    0                            0           0   \n",
       "12490                    1                            0           0   \n",
       "\n",
       "            Role_security  Role_transports  Group_A  Group_B  Group_C  \n",
       "CITIZEN_ID                                                             \n",
       "12486                   0                0        0        0        1  \n",
       "12487                   0                0        1        0        0  \n",
       "12488                   0                0        0        0        1  \n",
       "12489                   1                0        0        1        0  \n",
       "12490                   0                0        1        0        0  \n",
       "\n",
       "[5 rows x 89 columns]"
      ]
     },
     "execution_count": 15,
     "metadata": {},
     "output_type": "execute_result"
    }
   ],
   "source": [
    "prepped_data = DataPreparation(data)\n",
    "prepped_data.head(5)"
   ]
  },
  {
   "cell_type": "markdown",
   "metadata": {},
   "source": [
    "## Model Creation\n",
    "In this section, we will create the models."
   ]
  },
  {
   "cell_type": "markdown",
   "metadata": {},
   "source": [
    "### Helper Functions"
   ]
  },
  {
   "cell_type": "code",
   "execution_count": 16,
   "metadata": {},
   "outputs": [],
   "source": [
    "def plot_cf(y, y_pred):\n",
    "    cf_matrix = confusion_matrix(y_test, y_pred)\n",
    "    group_names = ['True Neg','False Pos','False Neg','True Pos']\n",
    "    group_counts = [\"{0:0.0f}\".format(value) for value in\n",
    "                cf_matrix.flatten()]\n",
    "    group_percentages = [\"{0:.2%}\".format(value) for value in\n",
    "                     cf_matrix.flatten()/np.sum(cf_matrix)]\n",
    "    labels = [f\"{v1}\\n{v2}\\n{v3}\" for v1, v2, v3 in\n",
    "          zip(group_names,group_counts,group_percentages)]\n",
    "    labels = np.asarray(labels).reshape(2,2)\n",
    "    sns.heatmap(cf_matrix, annot=labels, fmt='', cmap='Blues')"
   ]
  },
  {
   "cell_type": "code",
   "execution_count": 17,
   "metadata": {},
   "outputs": [],
   "source": [
    "def metrics(y_train, pred_train , y_val, pred_val):\n",
    "    print('___________________________________________________________________________________________________________')\n",
    "    print('                                                     TRAIN                                                 ')\n",
    "    print('-----------------------------------------------------------------------------------------------------------')\n",
    "    print(classification_report(y_train, pred_train))\n",
    "    cf_matrix = confusion_matrix(y_train, pred_train)\n",
    "    print(cf_matrix)\n",
    "    print(\"F1: {}\".format(f1_score(y_train, pred_train, average='macro')))\n",
    "\n",
    "\n",
    "\n",
    "    print('___________________________________________________________________________________________________________')\n",
    "    print('                                                VALIDATION                                                 ')\n",
    "    print('-----------------------------------------------------------------------------------------------------------')\n",
    "    print(classification_report(y_val, pred_val))\n",
    "    cf_matrix = confusion_matrix(y_val, pred_val)\n",
    "    print(cf_matrix)\n",
    "    print(\"F1: {}\".format(f1_score(y_val, pred_val, average='macro')))"
   ]
  },
  {
   "cell_type": "code",
   "execution_count": 18,
   "metadata": {},
   "outputs": [],
   "source": [
    "def run_model(model,X_train, X_test, y_train, y_test):\n",
    "    model.fit(X_train,y_train)\n",
    "    labels_train = model.predict(X_train)\n",
    "    labels_val = model.predict(X_test)\n",
    "    metrics(y_train, labels_train, y_test, labels_val)\n",
    "    plot_cf(y_test,labels_val)"
   ]
  },
  {
   "cell_type": "code",
   "execution_count": 19,
   "metadata": {},
   "outputs": [],
   "source": [
    "def objective(space):\n",
    "    classifier = xgb.XGBClassifier(n_estimators = space['n_estimators']\n",
    "                                 , max_depth = int(space['max_depth'])\n",
    "                                 , learning_rate = space['learning_rate']\n",
    "                                 , gamma = space['gamma']\n",
    "                                 , min_child_weight = space['min_child_weight']\n",
    "                                 , subsample = space['subsample']\n",
    "                                 , colsample_bytree = space['colsample_bytree'])\n",
    "  \n",
    "    classifier.fit(optimizer_X_train, optimizer_y_train)\n",
    "    accuracies = cross_val_score(estimator = classifier, X = optimizer_X_train, y = optimizer_y_train, cv = 5, scoring = 'f1_macro')\n",
    "    CrossValMean = accuracies.mean()\n",
    "  \n",
    "    return{'loss':1-CrossValMean, 'status': STATUS_OK }"
   ]
  },
  {
   "cell_type": "markdown",
   "metadata": {},
   "source": [
    "### Split Training Data"
   ]
  },
  {
   "cell_type": "code",
   "execution_count": 20,
   "metadata": {},
   "outputs": [],
   "source": [
    "target = 'Income'\n",
    "\n",
    "X = prepped_data[[x for x in prepped_data.columns if x != target]]\n",
    "y = prepped_data[[x for x in prepped_data.columns if x == target]]\n",
    "\n",
    "X_train, X_test, y_train, y_test = train_test_split(X,y, test_size=0.2, random_state=0, stratify=y)\n",
    "\n",
    "y_train = y_train.values.ravel()\n",
    "y_test = y_test.values.ravel()"
   ]
  },
  {
   "cell_type": "markdown",
   "metadata": {},
   "source": [
    "### Logistic Regression"
   ]
  },
  {
   "cell_type": "code",
   "execution_count": 21,
   "metadata": {},
   "outputs": [
    {
     "name": "stdout",
     "output_type": "stream",
     "text": [
      "___________________________________________________________________________________________________________\n",
      "                                                     TRAIN                                                 \n",
      "-----------------------------------------------------------------------------------------------------------\n",
      "              precision    recall  f1-score   support\n",
      "\n",
      "           0       0.88      0.94      0.91     13671\n",
      "           1       0.75      0.60      0.66      4249\n",
      "\n",
      "    accuracy                           0.86     17920\n",
      "   macro avg       0.82      0.77      0.79     17920\n",
      "weighted avg       0.85      0.86      0.85     17920\n",
      "\n",
      "[[12821   850]\n",
      " [ 1714  2535]]\n",
      "F1: 0.7866157459646367\n",
      "___________________________________________________________________________________________________________\n",
      "                                                VALIDATION                                                 \n",
      "-----------------------------------------------------------------------------------------------------------\n",
      "              precision    recall  f1-score   support\n",
      "\n",
      "           0       0.87      0.93      0.90      3418\n",
      "           1       0.73      0.57      0.64      1062\n",
      "\n",
      "    accuracy                           0.85      4480\n",
      "   macro avg       0.80      0.75      0.77      4480\n",
      "weighted avg       0.84      0.85      0.84      4480\n",
      "\n",
      "[[3193  225]\n",
      " [ 457  605]]\n",
      "F1: 0.7715218278253774\n"
     ]
    },
    {
     "data": {
      "image/png": "[encoded data removed]",
      "text/plain": [
       "<Figure size 432x288 with 2 Axes>"
      ]
     },
     "metadata": {
      "needs_background": "light"
     },
     "output_type": "display_data"
    }
   ],
   "source": [
    "log_model = LogisticRegression(max_iter=1000000)\n",
    "run_model(log_model,X_train, X_test, y_train, y_test)"
   ]
  },
  {
   "cell_type": "markdown",
   "metadata": {},
   "source": [
    "### K Nearest Neighbours"
   ]
  },
  {
   "cell_type": "code",
   "execution_count": 22,
   "metadata": {},
   "outputs": [
    {
     "name": "stdout",
     "output_type": "stream",
     "text": [
      "___________________________________________________________________________________________________________\n",
      "                                                     TRAIN                                                 \n",
      "-----------------------------------------------------------------------------------------------------------\n",
      "              precision    recall  f1-score   support\n",
      "\n",
      "           0       0.92      0.94      0.93     13671\n",
      "           1       0.78      0.73      0.75      4249\n",
      "\n",
      "    accuracy                           0.89     17920\n",
      "   macro avg       0.85      0.83      0.84     17920\n",
      "weighted avg       0.88      0.89      0.89     17920\n",
      "\n",
      "[[12803   868]\n",
      " [ 1166  3083]]\n",
      "F1: 0.8391811090325085\n",
      "___________________________________________________________________________________________________________\n",
      "                                                VALIDATION                                                 \n",
      "-----------------------------------------------------------------------------------------------------------\n",
      "              precision    recall  f1-score   support\n",
      "\n",
      "           0       0.88      0.90      0.89      3418\n",
      "           1       0.66      0.61      0.63      1062\n",
      "\n",
      "    accuracy                           0.83      4480\n",
      "   macro avg       0.77      0.75      0.76      4480\n",
      "weighted avg       0.83      0.83      0.83      4480\n",
      "\n",
      "[[3080  338]\n",
      " [ 416  646]]\n",
      "F1: 0.7612109788432724\n"
     ]
    },
    {
     "data": {
      "image/png": "[encoded data removed]",
      "text/plain": [
       "<Figure size 432x288 with 2 Axes>"
      ]
     },
     "metadata": {
      "needs_background": "light"
     },
     "output_type": "display_data"
    }
   ],
   "source": [
    "modelKNN = KNeighborsClassifier()\n",
    "run_model(modelKNN,X_train, X_test, y_train, y_test)"
   ]
  },
  {
   "cell_type": "markdown",
   "metadata": {},
   "source": [
    "### Naive Bayes"
   ]
  },
  {
   "cell_type": "code",
   "execution_count": 23,
   "metadata": {},
   "outputs": [
    {
     "name": "stdout",
     "output_type": "stream",
     "text": [
      "___________________________________________________________________________________________________________\n",
      "                                                     TRAIN                                                 \n",
      "-----------------------------------------------------------------------------------------------------------\n",
      "              precision    recall  f1-score   support\n",
      "\n",
      "           0       0.97      0.34      0.50     13671\n",
      "           1       0.31      0.97      0.47      4249\n",
      "\n",
      "    accuracy                           0.49     17920\n",
      "   macro avg       0.64      0.65      0.49     17920\n",
      "weighted avg       0.82      0.49      0.49     17920\n",
      "\n",
      "[[4586 9085]\n",
      " [ 124 4125]]\n",
      "F1: 0.48576459044328213\n",
      "___________________________________________________________________________________________________________\n",
      "                                                VALIDATION                                                 \n",
      "-----------------------------------------------------------------------------------------------------------\n",
      "              precision    recall  f1-score   support\n",
      "\n",
      "           0       0.97      0.34      0.50      3418\n",
      "           1       0.31      0.97      0.47      1062\n",
      "\n",
      "    accuracy                           0.49      4480\n",
      "   macro avg       0.64      0.65      0.49      4480\n",
      "weighted avg       0.81      0.49      0.49      4480\n",
      "\n",
      "[[1156 2262]\n",
      " [  35 1027]]\n",
      "F1: 0.4868513179997825\n"
     ]
    },
    {
     "data": {
      "image/png": "[encoded data removed]",
      "text/plain": [
       "<Figure size 432x288 with 2 Axes>"
      ]
     },
     "metadata": {
      "needs_background": "light"
     },
     "output_type": "display_data"
    }
   ],
   "source": [
    "modelNAB = GaussianNB()\n",
    "run_model(modelNAB,X_train, X_test, y_train, y_test)"
   ]
  },
  {
   "cell_type": "markdown",
   "metadata": {},
   "source": [
    "### XGBoost"
   ]
  },
  {
   "cell_type": "code",
   "execution_count": 24,
   "metadata": {},
   "outputs": [
    {
     "name": "stdout",
     "output_type": "stream",
     "text": [
      "___________________________________________________________________________________________________________\n",
      "                                                     TRAIN                                                 \n",
      "-----------------------------------------------------------------------------------------------------------\n",
      "              precision    recall  f1-score   support\n",
      "\n",
      "           0       0.91      0.96      0.94     13671\n",
      "           1       0.84      0.71      0.77      4249\n",
      "\n",
      "    accuracy                           0.90     17920\n",
      "   macro avg       0.88      0.83      0.85     17920\n",
      "weighted avg       0.90      0.90      0.90     17920\n",
      "\n",
      "[[13095   576]\n",
      " [ 1236  3013]]\n",
      "F1: 0.852054456285966\n",
      "___________________________________________________________________________________________________________\n",
      "                                                VALIDATION                                                 \n",
      "-----------------------------------------------------------------------------------------------------------\n",
      "              precision    recall  f1-score   support\n",
      "\n",
      "           0       0.89      0.94      0.91      3418\n",
      "           1       0.75      0.63      0.68      1062\n",
      "\n",
      "    accuracy                           0.86      4480\n",
      "   macro avg       0.82      0.78      0.80      4480\n",
      "weighted avg       0.86      0.86      0.86      4480\n",
      "\n",
      "[[3201  217]\n",
      " [ 397  665]]\n",
      "F1: 0.7983210627325665\n"
     ]
    },
    {
     "data": {
      "image/png": "[encoded data removed]",
      "text/plain": [
       "<Figure size 432x288 with 2 Axes>"
      ]
     },
     "metadata": {
      "needs_background": "light"
     },
     "output_type": "display_data"
    }
   ],
   "source": [
    "modelXGB = xgb.XGBClassifier()\n",
    "run_model(modelXGB,X_train, X_test, y_train, y_test)"
   ]
  },
  {
   "cell_type": "markdown",
   "metadata": {},
   "source": [
    "## Feature Selection\n",
    "In this section, we will eliminate noise from the model."
   ]
  },
  {
   "cell_type": "code",
   "execution_count": 25,
   "metadata": {},
   "outputs": [
    {
     "data": {
      "text/plain": [
       "<matplotlib.axes._subplots.AxesSubplot at 0x29f7d8b7520>"
      ]
     },
     "execution_count": 25,
     "metadata": {},
     "output_type": "execute_result"
    },
    {
     "data": {
      "image/png": "[encoded data removed]",
      "text/plain": [
       "<Figure size 432x288 with 1 Axes>"
      ]
     },
     "metadata": {
      "needs_background": "light"
     },
     "output_type": "display_data"
    }
   ],
   "source": [
    "xgb.plot_importance(modelXGB)"
   ]
  },
  {
   "cell_type": "code",
   "execution_count": 26,
   "metadata": {},
   "outputs": [
    {
     "name": "stdout",
     "output_type": "stream",
     "text": [
      "Thresh=0.000000000, nFeatures=88, F1: 79.83%\n",
      "Thresh=0.000000000, nFeatures=88, F1: 79.83%\n",
      "Thresh=0.000000000, nFeatures=88, F1: 79.83%\n",
      "Thresh=0.000000000, nFeatures=88, F1: 79.83%\n",
      "Thresh=0.000000000, nFeatures=88, F1: 79.83%\n",
      "Thresh=0.000000000, nFeatures=88, F1: 79.83%\n",
      "Thresh=0.000000000, nFeatures=88, F1: 79.83%\n",
      "Thresh=0.000000000, nFeatures=88, F1: 79.83%\n",
      "Thresh=0.000000000, nFeatures=88, F1: 79.83%\n",
      "Thresh=0.000000000, nFeatures=88, F1: 79.83%\n",
      "Thresh=0.000000000, nFeatures=88, F1: 79.83%\n",
      "Thresh=0.000000000, nFeatures=88, F1: 79.83%\n",
      "Thresh=0.000000000, nFeatures=88, F1: 79.83%\n",
      "Thresh=0.000000000, nFeatures=88, F1: 79.83%\n",
      "Thresh=0.000000000, nFeatures=88, F1: 79.83%\n",
      "Thresh=0.000000000, nFeatures=88, F1: 79.83%\n",
      "Thresh=0.000000000, nFeatures=88, F1: 79.83%\n",
      "Thresh=0.000000000, nFeatures=88, F1: 79.83%\n",
      "Thresh=0.000000000, nFeatures=88, F1: 79.83%\n",
      "Thresh=0.000615356, nFeatures=69, F1: 79.83%\n",
      "Thresh=0.000673374, nFeatures=68, F1: 79.56%\n",
      "Thresh=0.000864094, nFeatures=67, F1: 79.91%\n",
      "Thresh=0.000892224, nFeatures=66, F1: 79.94%\n",
      "Thresh=0.001057572, nFeatures=65, F1: 79.94%\n",
      "Thresh=0.001278121, nFeatures=64, F1: 79.61%\n",
      "Thresh=0.001396981, nFeatures=63, F1: 79.77%\n",
      "Thresh=0.001463229, nFeatures=62, F1: 79.70%\n",
      "Thresh=0.001500385, nFeatures=61, F1: 79.70%\n",
      "Thresh=0.001685547, nFeatures=60, F1: 79.85%\n",
      "Thresh=0.001961022, nFeatures=59, F1: 79.66%\n",
      "Thresh=0.002024650, nFeatures=58, F1: 79.60%\n",
      "Thresh=0.002062786, nFeatures=57, F1: 79.71%\n",
      "Thresh=0.002132727, nFeatures=56, F1: 79.59%\n",
      "Thresh=0.002466225, nFeatures=55, F1: 79.77%\n",
      "Thresh=0.002543660, nFeatures=54, F1: 79.68%\n",
      "Thresh=0.002981608, nFeatures=53, F1: 79.74%\n",
      "Thresh=0.003036542, nFeatures=52, F1: 79.66%\n",
      "Thresh=0.003148352, nFeatures=51, F1: 79.63%\n",
      "Thresh=0.003249580, nFeatures=50, F1: 79.91%\n",
      "Thresh=0.003371106, nFeatures=49, F1: 79.67%\n",
      "Thresh=0.003560839, nFeatures=48, F1: 79.72%\n",
      "Thresh=0.003561025, nFeatures=47, F1: 79.92%\n",
      "Thresh=0.003588161, nFeatures=46, F1: 79.66%\n",
      "Thresh=0.003694382, nFeatures=45, F1: 79.69%\n",
      "Thresh=0.003735909, nFeatures=44, F1: 79.81%\n",
      "Thresh=0.003767520, nFeatures=43, F1: 79.45%\n",
      "Thresh=0.003988789, nFeatures=42, F1: 79.64%\n",
      "Thresh=0.004082371, nFeatures=41, F1: 79.53%\n",
      "Thresh=0.004086419, nFeatures=40, F1: 79.76%\n",
      "Thresh=0.004107728, nFeatures=39, F1: 79.53%\n",
      "Thresh=0.004191370, nFeatures=38, F1: 79.50%\n",
      "Thresh=0.004215086, nFeatures=37, F1: 80.20%\n",
      "Thresh=0.004242747, nFeatures=36, F1: 79.70%\n",
      "Thresh=0.004358324, nFeatures=35, F1: 79.45%\n",
      "Thresh=0.004597025, nFeatures=34, F1: 79.50%\n",
      "Thresh=0.004641580, nFeatures=33, F1: 79.62%\n",
      "Thresh=0.004734792, nFeatures=32, F1: 80.01%\n",
      "Thresh=0.004780445, nFeatures=31, F1: 79.71%\n",
      "Thresh=0.004978997, nFeatures=30, F1: 79.93%\n",
      "Thresh=0.005024026, nFeatures=29, F1: 79.39%\n",
      "Thresh=0.005149053, nFeatures=28, F1: 80.29%\n",
      "Thresh=0.005186631, nFeatures=27, F1: 79.86%\n",
      "Thresh=0.005504404, nFeatures=26, F1: 79.30%\n",
      "Thresh=0.006187341, nFeatures=25, F1: 79.94%\n",
      "Thresh=0.006397001, nFeatures=24, F1: 79.48%\n",
      "Thresh=0.006714751, nFeatures=23, F1: 79.78%\n",
      "Thresh=0.007367586, nFeatures=22, F1: 78.99%\n",
      "Thresh=0.007478705, nFeatures=21, F1: 79.37%\n",
      "Thresh=0.007776021, nFeatures=20, F1: 79.35%\n",
      "Thresh=0.007825638, nFeatures=19, F1: 78.47%\n",
      "Thresh=0.007913894, nFeatures=18, F1: 78.53%\n",
      "Thresh=0.008322735, nFeatures=17, F1: 78.68%\n",
      "Thresh=0.009174931, nFeatures=16, F1: 78.58%\n",
      "Thresh=0.010397974, nFeatures=15, F1: 77.85%\n",
      "Thresh=0.011328443, nFeatures=14, F1: 77.87%\n",
      "Thresh=0.011555712, nFeatures=13, F1: 77.56%\n",
      "Thresh=0.012201636, nFeatures=12, F1: 77.69%\n",
      "Thresh=0.013725851, nFeatures=11, F1: 77.53%\n",
      "Thresh=0.014592964, nFeatures=10, F1: 77.55%\n",
      "Thresh=0.015940195, nFeatures=9, F1: 77.28%\n",
      "Thresh=0.020037746, nFeatures=8, F1: 77.25%\n",
      "Thresh=0.022391003, nFeatures=7, F1: 77.33%\n",
      "Thresh=0.023692831, nFeatures=6, F1: 76.47%\n",
      "Thresh=0.035630237, nFeatures=5, F1: 76.41%\n",
      "Thresh=0.037320957, nFeatures=4, F1: 66.06%\n",
      "Thresh=0.040885560, nFeatures=3, F1: 66.06%\n",
      "Thresh=0.058687225, nFeatures=2, F1: 62.22%\n",
      "Thresh=0.456270278, nFeatures=1, F1: 43.28%\n"
     ]
    }
   ],
   "source": [
    "# Fit model using each importance as a threshold\n",
    "thresholds = np.sort(modelXGB.feature_importances_)\n",
    "\n",
    "for thresh in thresholds:\n",
    "    # select features using threshold\n",
    "    selection = SelectFromModel(modelXGB, threshold=thresh, prefit=True)\n",
    "    select_X_train = selection.transform(X_train)\n",
    "    # train model\n",
    "    selection_model = xgb.XGBClassifier()\n",
    "    selection_model.fit(select_X_train, y_train)\n",
    "    # eval model\n",
    "    select_X_test = selection.transform(X_test)\n",
    "    y_pred = selection_model.predict(select_X_test)\n",
    "    f1 = f1_score(y_test, y_pred, average='macro')\n",
    "    print(\"Thresh=%.9f, nFeatures=%d, F1: %.2f%%\" % (thresh, select_X_train.shape[1], f1*100.0))"
   ]
  },
  {
   "cell_type": "code",
   "execution_count": 27,
   "metadata": {},
   "outputs": [
    {
     "name": "stdout",
     "output_type": "stream",
     "text": [
      "___________________________________________________________________________________________________________\n",
      "                                                     TRAIN                                                 \n",
      "-----------------------------------------------------------------------------------------------------------\n",
      "              precision    recall  f1-score   support\n",
      "\n",
      "           0       0.91      0.95      0.93     13671\n",
      "           1       0.82      0.69      0.75      4249\n",
      "\n",
      "    accuracy                           0.89     17920\n",
      "   macro avg       0.87      0.82      0.84     17920\n",
      "weighted avg       0.89      0.89      0.89     17920\n",
      "\n",
      "[[13046   625]\n",
      " [ 1308  2941]]\n",
      "F1: 0.8418405100555155\n",
      "___________________________________________________________________________________________________________\n",
      "                                                VALIDATION                                                 \n",
      "-----------------------------------------------------------------------------------------------------------\n",
      "              precision    recall  f1-score   support\n",
      "\n",
      "           0       0.89      0.93      0.91      3418\n",
      "           1       0.75      0.62      0.68      1062\n",
      "\n",
      "    accuracy                           0.86      4480\n",
      "   macro avg       0.82      0.78      0.79      4480\n",
      "weighted avg       0.85      0.86      0.85      4480\n",
      "\n",
      "[[3193  225]\n",
      " [ 404  658]]\n",
      "F1: 0.7934708401204178\n"
     ]
    },
    {
     "data": {
      "image/png": "[encoded data removed]",
      "text/plain": [
       "<Figure size 432x288 with 2 Axes>"
      ]
     },
     "metadata": {
      "needs_background": "light"
     },
     "output_type": "display_data"
    }
   ],
   "source": [
    "# I choose Threshold 0.007776021\n",
    "VariableSelector = SelectFromModel(modelXGB, threshold=0.007776021, prefit=True)\n",
    "selected_X_train = VariableSelector.transform(X_train)\n",
    "selected_X_test = VariableSelector.transform(X_test)\n",
    "modelXGB = xgb.XGBClassifier()\n",
    "run_model(modelXGB,selected_X_train, selected_X_test, y_train, y_test)"
   ]
  },
  {
   "cell_type": "code",
   "execution_count": 28,
   "metadata": {},
   "outputs": [
    {
     "data": {
      "text/plain": [
       "<matplotlib.axes._subplots.AxesSubplot at 0x29f7ececc70>"
      ]
     },
     "execution_count": 28,
     "metadata": {},
     "output_type": "execute_result"
    },
    {
     "data": {
      "image/png": "[encoded data removed]",
      "text/plain": [
       "<Figure size 432x288 with 1 Axes>"
      ]
     },
     "metadata": {
      "needs_background": "light"
     },
     "output_type": "display_data"
    }
   ],
   "source": [
    "xgb.plot_importance(modelXGB)"
   ]
  },
  {
   "cell_type": "markdown",
   "metadata": {},
   "source": [
    "### Hyperpatameterization of XGBoost"
   ]
  },
  {
   "cell_type": "code",
   "execution_count": 29,
   "metadata": {},
   "outputs": [],
   "source": [
    "space = {'max_depth' : hp.choice('max_depth', range(2, 20, 1))\n",
    "         , 'learning_rate' : hp.quniform('learning_rate', 0.01, 0.5, 0.01)\n",
    "         , 'n_estimators' : hp.choice('n_estimators', range(10, 50, 5))\n",
    "         , 'gamma' : hp.quniform('gamma', 0, 0.50, 0.01)\n",
    "         , 'min_child_weight' : hp.quniform('min_child_weight', 1, 10, 1)\n",
    "         , 'subsample' : hp.quniform('subsample', 0.1, 1, 0.01)\n",
    "         , 'colsample_bytree' : hp.quniform('colsample_bytree', 0.1, 1, 0.01)}"
   ]
  },
  {
   "cell_type": "code",
   "execution_count": 30,
   "metadata": {},
   "outputs": [
    {
     "name": "stdout",
     "output_type": "stream",
     "text": [
      "100%|████████████████████████████████████████████| 1000/1000 [18:24<00:00,  1.10s/trial, best loss: 0.1900894376923905]\n",
      "Best:  {'colsample_bytree': 0.9500000000000001, 'gamma': 0.23, 'learning_rate': 0.35000000000000003, 'max_depth': 4, 'min_child_weight': 2.0, 'n_estimators': 7, 'subsample': 0.89}\n",
      "--- 1104.1325254440308 seconds ---\n"
     ]
    }
   ],
   "source": [
    "optimizer_X_train = selected_X_train\n",
    "optimizer_y_train = y_train\n",
    "\n",
    "start_time = time.time()\n",
    "\n",
    "best = fmin(fn=objective\n",
    "          , space=space\n",
    "          , algo=tpe.suggest\n",
    "          , max_evals=1000\n",
    "          , trials=Trials()\n",
    "          , verbose = True)\n",
    "print(\"Best: \", best)\n",
    "print(\"--- %s seconds ---\" % (time.time() - start_time))"
   ]
  },
  {
   "cell_type": "code",
   "execution_count": 34,
   "metadata": {},
   "outputs": [
    {
     "name": "stdout",
     "output_type": "stream",
     "text": [
      "___________________________________________________________________________________________________________\n",
      "                                                     TRAIN                                                 \n",
      "-----------------------------------------------------------------------------------------------------------\n",
      "              precision    recall  f1-score   support\n",
      "\n",
      "           0       0.87      0.95      0.91     13671\n",
      "           1       0.79      0.56      0.65      4249\n",
      "\n",
      "    accuracy                           0.86     17920\n",
      "   macro avg       0.83      0.75      0.78     17920\n",
      "weighted avg       0.85      0.86      0.85     17920\n",
      "\n",
      "[[13025   646]\n",
      " [ 1890  2359]]\n",
      "F1: 0.7808425119786648\n",
      "___________________________________________________________________________________________________________\n",
      "                                                VALIDATION                                                 \n",
      "-----------------------------------------------------------------------------------------------------------\n",
      "              precision    recall  f1-score   support\n",
      "\n",
      "           0       0.86      0.94      0.90      3418\n",
      "           1       0.74      0.52      0.61      1062\n",
      "\n",
      "    accuracy                           0.84      4480\n",
      "   macro avg       0.80      0.73      0.76      4480\n",
      "weighted avg       0.84      0.84      0.83      4480\n",
      "\n",
      "[[3227  191]\n",
      " [ 507  555]]\n",
      "F1: 0.7581714873987845\n"
     ]
    },
    {
     "data": {
      "image/png": "[encoded data removed]",
      "text/plain": [
       "<Figure size 432x288 with 2 Axes>"
      ]
     },
     "metadata": {
      "needs_background": "light"
     },
     "output_type": "display_data"
    }
   ],
   "source": [
    "modelXGB = xgb.XGBClassifier(n_estimators = best['n_estimators']\n",
    "                                 , max_depth = int(best['max_depth'])\n",
    "                                 , learning_rate = best['learning_rate']\n",
    "                                 , gamma = best['gamma']\n",
    "                                 , min_child_weight = best['min_child_weight']\n",
    "                                 , subsample = best['subsample']\n",
    "                                 , colsample_bytree = best['colsample_bytree'])\n",
    "\n",
    "run_model(modelXGB,selected_X_train, selected_X_test, y_train, y_test)"
   ]
  },
  {
   "cell_type": "markdown",
   "metadata": {},
   "source": [
    "## Produce File for Submission"
   ]
  },
  {
   "cell_type": "code",
   "execution_count": 41,
   "metadata": {},
   "outputs": [],
   "source": [
    "prepped_data_test = DataPreparation(data_test)\n",
    "prepped_data_test = AlignDataframe(X_train.columns,prepped_data_test)"
   ]
  },
  {
   "cell_type": "code",
   "execution_count": 42,
   "metadata": {},
   "outputs": [],
   "source": [
    "selected_prepped_data_test = VariableSelector.transform(prepped_data_test)"
   ]
  },
  {
   "cell_type": "code",
   "execution_count": 43,
   "metadata": {},
   "outputs": [
    {
     "data": {
      "text/plain": [
       "array([1, 0, 1, ..., 0, 0, 0], dtype=int64)"
      ]
     },
     "execution_count": 43,
     "metadata": {},
     "output_type": "execute_result"
    }
   ],
   "source": [
    "predictions = modelXGB.predict(selected_prepped_data_test)\n",
    "predictions"
   ]
  },
  {
   "cell_type": "code",
   "execution_count": 44,
   "metadata": {},
   "outputs": [],
   "source": [
    "prepped_data_test['Income'] = predictions"
   ]
  },
  {
   "cell_type": "code",
   "execution_count": 45,
   "metadata": {},
   "outputs": [],
   "source": [
    "prepped_data_test[['Income']].to_csv('Submission.csv')"
   ]
  }
 ],
 "metadata": {
  "kernelspec": {
   "display_name": "Python 3",
   "language": "python",
   "name": "python3"
  },
  "language_info": {
   "codemirror_mode": {
    "name": "ipython",
    "version": 3
   },
   "file_extension": ".py",
   "mimetype": "text/x-python",
   "name": "python",
   "nbconvert_exporter": "python",
   "pygments_lexer": "ipython3",
   "version": "3.8.3"
  }
 },
 "nbformat": 4,
 "nbformat_minor": 4
}
